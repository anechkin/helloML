{
 "cells": [
  {
   "cell_type": "code",
   "execution_count": 1,
   "metadata": {},
   "outputs": [],
   "source": [
    "#meta 1/25/2021 Poker my Model Knn \n",
    "#Previously in example 1, the author compared Keras NN with LogR, CART and SVM. Here, I try kNN modeling.\n",
    "#setup like Example 1 with with transformed dataset from Kaggle (800K records x 54 features)\n",
    "#src https://medium.com/@virgoady7/poker-hand-prediction-7a801e254acd\n",
    "#based on tryPoker_example1.ipynb\n",
    "\n",
    "#history\n",
    "#based on tryPoker_example1.ipynb\n",
    "#      Trainset 25,010 records, testset 1mil records\n",
    "\n",
    "#here 1/27/202 TRY KNN MODELING - SWITCH TO TRANSFORMED KAGGLE DS\n",
    "#      Kaggle ds, transformed into numpy matrix 800K x 54\n",
    "#      Try diff values of k = [3,7]\n"
   ]
  },
  {
   "cell_type": "code",
   "execution_count": 2,
   "metadata": {},
   "outputs": [],
   "source": [
    "import pandas as pd \n",
    "import numpy as np\n",
    "import matplotlib.pyplot as plt\n",
    "import os\n",
    "from os import path\n",
    "import time #to track performance time\n",
    "import warnings\n",
    "warnings.filterwarnings('ignore')\n",
    "\n",
    "#modeling\n",
    "#from sklearn.linear_model import LogisticRegression\n",
    "#from sklearn.tree import DecisionTreeClassifier\n",
    "#from sklearn import svm\n",
    "from sklearn.neighbors import KNeighborsClassifier\n",
    "\n",
    "#modeling help\n",
    "from sklearn.model_selection import train_test_split\n",
    "from sklearn.metrics import accuracy_score\n",
    "from sklearn.metrics import confusion_matrix\n",
    "\n",
    "from joblib import load, dump"
   ]
  },
  {
   "cell_type": "markdown",
   "metadata": {},
   "source": [
    "# Poker Example with Keras\n",
    "Previously in example 1, the author compared Keras NN with LogR, CART and SVM.  Here, I try kNN modeling.\n",
    "\n",
    "## 0. Load Data"
   ]
  },
  {
   "cell_type": "code",
   "execution_count": 3,
   "metadata": {},
   "outputs": [
    {
     "data": {
      "text/plain": [
       "(800000, 53)"
      ]
     },
     "execution_count": 3,
     "metadata": {},
     "output_type": "execute_result"
    }
   ],
   "source": [
    "poker = load('data/my_poker_tidy.pkl')\n",
    "poker.shape"
   ]
  },
  {
   "cell_type": "code",
   "execution_count": 4,
   "metadata": {},
   "outputs": [
    {
     "data": {
      "text/plain": [
       "Index(['Nothing', 'One pair', 'Two pairs', 'Three of a kind', 'Straight',\n",
       "       'Flush', 'Full house', 'Four of a kind', 'Straight flush',\n",
       "       'Royal flush'],\n",
       "      dtype='object')"
      ]
     },
     "execution_count": 4,
     "metadata": {},
     "output_type": "execute_result"
    }
   ],
   "source": [
    "poker['class'].cat.categories"
   ]
  },
  {
   "cell_type": "markdown",
   "metadata": {},
   "source": [
    "## 1. Prep Data\n",
    "X & y"
   ]
  },
  {
   "cell_type": "code",
   "execution_count": 5,
   "metadata": {},
   "outputs": [],
   "source": [
    "X = poker.iloc[:,:-1]\n",
    "y = poker['class'].cat.codes"
   ]
  },
  {
   "cell_type": "code",
   "execution_count": 6,
   "metadata": {
    "scrolled": true
   },
   "outputs": [
    {
     "name": "stdout",
     "output_type": "stream",
     "text": [
      "\n",
      "Total records in learning set: 800000\n",
      "Total records in training set: 720000\n",
      "Total records in test set: 80000\n"
     ]
    },
    {
     "data": {
      "text/html": [
       "<div>\n",
       "<style scoped>\n",
       "    .dataframe tbody tr th:only-of-type {\n",
       "        vertical-align: middle;\n",
       "    }\n",
       "\n",
       "    .dataframe tbody tr th {\n",
       "        vertical-align: top;\n",
       "    }\n",
       "\n",
       "    .dataframe thead th {\n",
       "        text-align: right;\n",
       "    }\n",
       "</style>\n",
       "<table border=\"1\" class=\"dataframe\">\n",
       "  <thead>\n",
       "    <tr style=\"text-align: right;\">\n",
       "      <th></th>\n",
       "      <th>ace_clubs</th>\n",
       "      <th>ace_diamonds</th>\n",
       "      <th>ace_hearts</th>\n",
       "      <th>ace_spades</th>\n",
       "      <th>eight_clubs</th>\n",
       "      <th>eight_diamonds</th>\n",
       "      <th>eight_hearts</th>\n",
       "      <th>eight_spades</th>\n",
       "      <th>five_clubs</th>\n",
       "      <th>five_diamonds</th>\n",
       "      <th>...</th>\n",
       "      <th>ten_hearts</th>\n",
       "      <th>ten_spades</th>\n",
       "      <th>three_clubs</th>\n",
       "      <th>three_diamonds</th>\n",
       "      <th>three_hearts</th>\n",
       "      <th>three_spades</th>\n",
       "      <th>two_clubs</th>\n",
       "      <th>two_diamonds</th>\n",
       "      <th>two_hearts</th>\n",
       "      <th>two_spades</th>\n",
       "    </tr>\n",
       "  </thead>\n",
       "  <tbody>\n",
       "    <tr>\n",
       "      <th>478609</th>\n",
       "      <td>0</td>\n",
       "      <td>0</td>\n",
       "      <td>0</td>\n",
       "      <td>0</td>\n",
       "      <td>0</td>\n",
       "      <td>0</td>\n",
       "      <td>0</td>\n",
       "      <td>1</td>\n",
       "      <td>0</td>\n",
       "      <td>0</td>\n",
       "      <td>...</td>\n",
       "      <td>0</td>\n",
       "      <td>0</td>\n",
       "      <td>0</td>\n",
       "      <td>0</td>\n",
       "      <td>0</td>\n",
       "      <td>1</td>\n",
       "      <td>0</td>\n",
       "      <td>0</td>\n",
       "      <td>0</td>\n",
       "      <td>0</td>\n",
       "    </tr>\n",
       "    <tr>\n",
       "      <th>516439</th>\n",
       "      <td>0</td>\n",
       "      <td>0</td>\n",
       "      <td>0</td>\n",
       "      <td>0</td>\n",
       "      <td>0</td>\n",
       "      <td>0</td>\n",
       "      <td>0</td>\n",
       "      <td>1</td>\n",
       "      <td>0</td>\n",
       "      <td>0</td>\n",
       "      <td>...</td>\n",
       "      <td>0</td>\n",
       "      <td>0</td>\n",
       "      <td>0</td>\n",
       "      <td>0</td>\n",
       "      <td>0</td>\n",
       "      <td>0</td>\n",
       "      <td>0</td>\n",
       "      <td>0</td>\n",
       "      <td>1</td>\n",
       "      <td>0</td>\n",
       "    </tr>\n",
       "    <tr>\n",
       "      <th>211136</th>\n",
       "      <td>0</td>\n",
       "      <td>0</td>\n",
       "      <td>1</td>\n",
       "      <td>0</td>\n",
       "      <td>0</td>\n",
       "      <td>0</td>\n",
       "      <td>0</td>\n",
       "      <td>0</td>\n",
       "      <td>0</td>\n",
       "      <td>1</td>\n",
       "      <td>...</td>\n",
       "      <td>0</td>\n",
       "      <td>0</td>\n",
       "      <td>0</td>\n",
       "      <td>0</td>\n",
       "      <td>0</td>\n",
       "      <td>0</td>\n",
       "      <td>0</td>\n",
       "      <td>0</td>\n",
       "      <td>0</td>\n",
       "      <td>0</td>\n",
       "    </tr>\n",
       "    <tr>\n",
       "      <th>899</th>\n",
       "      <td>0</td>\n",
       "      <td>0</td>\n",
       "      <td>0</td>\n",
       "      <td>0</td>\n",
       "      <td>0</td>\n",
       "      <td>0</td>\n",
       "      <td>0</td>\n",
       "      <td>0</td>\n",
       "      <td>0</td>\n",
       "      <td>0</td>\n",
       "      <td>...</td>\n",
       "      <td>0</td>\n",
       "      <td>1</td>\n",
       "      <td>0</td>\n",
       "      <td>0</td>\n",
       "      <td>0</td>\n",
       "      <td>0</td>\n",
       "      <td>0</td>\n",
       "      <td>0</td>\n",
       "      <td>0</td>\n",
       "      <td>0</td>\n",
       "    </tr>\n",
       "    <tr>\n",
       "      <th>242082</th>\n",
       "      <td>0</td>\n",
       "      <td>0</td>\n",
       "      <td>0</td>\n",
       "      <td>0</td>\n",
       "      <td>0</td>\n",
       "      <td>0</td>\n",
       "      <td>0</td>\n",
       "      <td>0</td>\n",
       "      <td>0</td>\n",
       "      <td>0</td>\n",
       "      <td>...</td>\n",
       "      <td>0</td>\n",
       "      <td>0</td>\n",
       "      <td>0</td>\n",
       "      <td>1</td>\n",
       "      <td>0</td>\n",
       "      <td>0</td>\n",
       "      <td>0</td>\n",
       "      <td>1</td>\n",
       "      <td>0</td>\n",
       "      <td>0</td>\n",
       "    </tr>\n",
       "  </tbody>\n",
       "</table>\n",
       "<p>5 rows × 52 columns</p>\n",
       "</div>"
      ],
      "text/plain": [
       "        ace_clubs  ace_diamonds  ace_hearts  ace_spades  eight_clubs  \\\n",
       "478609          0             0           0           0            0   \n",
       "516439          0             0           0           0            0   \n",
       "211136          0             0           1           0            0   \n",
       "899             0             0           0           0            0   \n",
       "242082          0             0           0           0            0   \n",
       "\n",
       "        eight_diamonds  eight_hearts  eight_spades  five_clubs  five_diamonds  \\\n",
       "478609               0             0             1           0              0   \n",
       "516439               0             0             1           0              0   \n",
       "211136               0             0             0           0              1   \n",
       "899                  0             0             0           0              0   \n",
       "242082               0             0             0           0              0   \n",
       "\n",
       "        ...  ten_hearts  ten_spades  three_clubs  three_diamonds  \\\n",
       "478609  ...           0           0            0               0   \n",
       "516439  ...           0           0            0               0   \n",
       "211136  ...           0           0            0               0   \n",
       "899     ...           0           1            0               0   \n",
       "242082  ...           0           0            0               1   \n",
       "\n",
       "        three_hearts  three_spades  two_clubs  two_diamonds  two_hearts  \\\n",
       "478609             0             1          0             0           0   \n",
       "516439             0             0          0             0           1   \n",
       "211136             0             0          0             0           0   \n",
       "899                0             0          0             0           0   \n",
       "242082             0             0          0             1           0   \n",
       "\n",
       "        two_spades  \n",
       "478609           0  \n",
       "516439           0  \n",
       "211136           0  \n",
       "899              0  \n",
       "242082           0  \n",
       "\n",
       "[5 rows x 52 columns]"
      ]
     },
     "execution_count": 6,
     "metadata": {},
     "output_type": "execute_result"
    }
   ],
   "source": [
    "# Randomly split data into two groups: a training set and a test set\n",
    "X_train, X_test, y_train, y_test = train_test_split(X, y, test_size = .10, random_state=24)\n",
    "\n",
    "print (\"\\nTotal records in learning set: {}\".format(poker.shape[0]))\n",
    "print (\"Total records in training set: {}\".format(len(X_train)))\n",
    "print (\"Total records in test set: {}\".format(len(X_test)))\n",
    "    \n",
    "#notice index after reshuffling\n",
    "X_train.tail()"
   ]
  },
  {
   "cell_type": "code",
   "execution_count": 7,
   "metadata": {},
   "outputs": [
    {
     "data": {
      "text/plain": [
       "((720000,), (80000,))"
      ]
     },
     "execution_count": 7,
     "metadata": {},
     "output_type": "execute_result"
    }
   ],
   "source": [
    "y_train.shape, y_test.shape"
   ]
  },
  {
   "cell_type": "code",
   "execution_count": 8,
   "metadata": {},
   "outputs": [
    {
     "name": "stdout",
     "output_type": "stream",
     "text": [
      "0    360320\n",
      "1    304522\n",
      "2     34374\n",
      "3     15325\n",
      "4      2798\n",
      "5      1456\n",
      "6      1034\n",
      "7       160\n",
      "8         9\n",
      "9         2\n",
      "dtype: int64\n"
     ]
    },
    {
     "data": {
      "image/png": "[encoded data removed]",
      "text/plain": [
       "<Figure size 432x288 with 1 Axes>"
      ]
     },
     "metadata": {
      "needs_background": "light"
     },
     "output_type": "display_data"
    }
   ],
   "source": [
    "#visualize distribution trainset vs testset\n",
    "print(y_train.value_counts().sort_index())\n",
    "y_train.value_counts().sort_index().plot(kind='bar');"
   ]
  },
  {
   "cell_type": "code",
   "execution_count": 10,
   "metadata": {},
   "outputs": [
    {
     "name": "stdout",
     "output_type": "stream",
     "text": [
      "0    40253\n",
      "1    33647\n",
      "2     3799\n",
      "3     1663\n",
      "4      328\n",
      "5      164\n",
      "6      116\n",
      "7       29\n",
      "8        1\n",
      "dtype: int64\n"
     ]
    },
    {
     "data": {
      "image/png": "[encoded data removed]",
      "text/plain": [
       "<Figure size 432x288 with 1 Axes>"
      ]
     },
     "metadata": {
      "needs_background": "light"
     },
     "output_type": "display_data"
    }
   ],
   "source": [
    "#visualize distribution trainset vs testset -> only 9 classes out of 10\n",
    "print(y_test.value_counts().sort_index())\n",
    "y_test.value_counts().sort_index().plot(kind='bar');"
   ]
  },
  {
   "cell_type": "markdown",
   "metadata": {},
   "source": [
    "##### ## 2. Model  \n",
    "\n",
    "### kNN\n",
    "try diff values of k = [3,5]"
   ]
  },
  {
   "cell_type": "code",
   "execution_count": null,
   "metadata": {},
   "outputs": [],
   "source": [
    "#track time\n",
    "t0 = time.time()\n",
    "\n",
    "clf = KNeighborsClassifier(n_neighbors=3)\n",
    "clf.fit(X_train, y_train)\n",
    "\n",
    "print (\"Training time (in min)\", (time.time() - t0)/60)\n",
    "\n",
    "#predict\n",
    "y_hat=clf.predict(X_test)\n",
    "print (\"+ Testing time (in min)\", (time.time() - t0)/60)\n",
    "\n",
    "accuracy_score(y_hat,y_test)"
   ]
  },
  {
   "cell_type": "code",
   "execution_count": null,
   "metadata": {},
   "outputs": [],
   "source": [
    "unique, counts = np.unique(y_hat, return_counts=True)\n",
    "print (np.asarray((unique, counts)).T)"
   ]
  },
  {
   "cell_type": "code",
   "execution_count": null,
   "metadata": {},
   "outputs": [],
   "source": [
    "cm = confusion_matrix(y_test, y_hat)\n",
    "print(\"Confusion matrix:\\n{}\".format(cm))"
   ]
  },
  {
   "cell_type": "code",
   "execution_count": null,
   "metadata": {},
   "outputs": [],
   "source": [
    "#track time\n",
    "t0 = time.time()\n",
    "\n",
    "clf = KNeighborsClassifier(n_neighbors=5)\n",
    "clf.fit(X_train, y_train)\n",
    "\n",
    "print (\"Training time (in min)\", (time.time() - t0)/60)\n",
    "\n",
    "#predict\n",
    "y_hat=clf.predict(X_test)\n",
    "print (\"+ Testing time (in min)\", (time.time() - t0)/60)\n",
    "\n",
    "accuracy_score(y_hat,y_test)"
   ]
  },
  {
   "cell_type": "code",
   "execution_count": null,
   "metadata": {},
   "outputs": [],
   "source": [
    "unique, counts = np.unique(y_hat, return_counts=True)\n",
    "print (np.asarray((unique, counts)).T)"
   ]
  },
  {
   "cell_type": "code",
   "execution_count": null,
   "metadata": {},
   "outputs": [],
   "source": [
    "cm = confusion_matrix(y_test, y_hat)\n",
    "print(\"Confusion matrix:\\n{}\".format(cm))"
   ]
  },
  {
   "cell_type": "markdown",
   "metadata": {},
   "source": [
    "kNN models trained on transformed Kaggle dataset (800K records in learning set) perform at 74%+ accuracy, which is a great improvement over models trained on non-transformed data.\n",
    "\n",
    "##### Summary\n",
    "Same data represented differently made a simple algorithm way more accurate than a DL model with non-transformed data.  So it really matters how you feed the data to ML. "
   ]
  },
  {
   "cell_type": "code",
   "execution_count": null,
   "metadata": {},
   "outputs": [],
   "source": [
    "mystop"
   ]
  },
  {
   "cell_type": "code",
   "execution_count": null,
   "metadata": {},
   "outputs": [],
   "source": [
    "#track time\n",
    "t0 = time.time()\n",
    "\n",
    "clf = KNeighborsClassifier(n_neighbors=7)\n",
    "clf.fit(x_train, y_train)\n",
    "\n",
    "print (\"Training time (in min)\", (time.time() - t0)/60)\n",
    "\n",
    "#predict\n",
    "y_hat=clf.predict(x_test)\n",
    "print (\"+ Testing time (in min)\", (time.time() - t0)/60)\n",
    "\n",
    "accuracy_score(y_hat,y_test)"
   ]
  },
  {
   "cell_type": "code",
   "execution_count": null,
   "metadata": {},
   "outputs": [],
   "source": [
    "unique, counts = np.unique(y_hat, return_counts=True)\n",
    "print (np.asarray((unique, counts)).T)"
   ]
  },
  {
   "cell_type": "code",
   "execution_count": null,
   "metadata": {},
   "outputs": [],
   "source": [
    "cm = confusion_matrix(y_test, y_hat)\n",
    "print(\"Confusion matrix:\\n{}\".format(cm))"
   ]
  },
  {
   "cell_type": "code",
   "execution_count": null,
   "metadata": {},
   "outputs": [],
   "source": [
    "mystop"
   ]
  },
  {
   "cell_type": "markdown",
   "metadata": {},
   "source": [
    "Slightly better results with higher value of k -> finetune hyperparam k.  Test time increases slightly with k."
   ]
  },
  {
   "cell_type": "code",
   "execution_count": null,
   "metadata": {},
   "outputs": [],
   "source": [
    "mystop"
   ]
  },
  {
   "cell_type": "markdown",
   "metadata": {},
   "source": [
    "## Xtra"
   ]
  },
  {
   "cell_type": "code",
   "execution_count": null,
   "metadata": {},
   "outputs": [],
   "source": [
    "import scipy.sparse\n",
    "mat = scipy.sparse.eye(3)\n",
    "pd.DataFrame.sparse.from_spmatrix(mat)\n"
   ]
  },
  {
   "cell_type": "code",
   "execution_count": null,
   "metadata": {},
   "outputs": [],
   "source": []
  }
 ],
 "metadata": {
  "hide_input": false,
  "kernelspec": {
   "display_name": "Python 3",
   "language": "python",
   "name": "python3"
  },
  "language_info": {
   "codemirror_mode": {
    "name": "ipython",
    "version": 3
   },
   "file_extension": ".py",
   "mimetype": "text/x-python",
   "name": "python",
   "nbconvert_exporter": "python",
   "pygments_lexer": "ipython3",
   "version": "3.7.6"
  },
  "toc": {
   "base_numbering": 1,
   "nav_menu": {},
   "number_sections": true,
   "sideBar": true,
   "skip_h1_title": false,
   "title_cell": "Table of Contents",
   "title_sidebar": "Contents",
   "toc_cell": false,
   "toc_position": {},
   "toc_section_display": true,
   "toc_window_display": false
  }
 },
 "nbformat": 4,
 "nbformat_minor": 4
}
