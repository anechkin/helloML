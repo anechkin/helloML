{
 "cells": [
  {
   "cell_type": "code",
   "execution_count": 1,
   "metadata": {},
   "outputs": [],
   "source": [
    "#meta 1/25/2021 Poker my Model Knn \n",
    "#setup and data from Example 1\n",
    "#src https://medium.com/@virgoady7/poker-hand-prediction-7a801e254acd\n",
    "#based on tryPoker_example1.ipynb\n",
    "\n",
    "#history\n",
    "#here 1/26/202 TRY KNN MODELING (DATA FROM EXAMPLE 1)\n",
    "#      Reusing Example 1 setup and datasets\n",
    "#      Try diff values of k = [3,7,9]"
   ]
  },
  {
   "cell_type": "code",
   "execution_count": 2,
   "metadata": {},
   "outputs": [],
   "source": [
    "import pandas as pd \n",
    "import numpy as np\n",
    "import matplotlib.pyplot as plt\n",
    "import os\n",
    "from os import path\n",
    "import time #to track performance time\n",
    "import warnings\n",
    "warnings.filterwarnings('ignore')\n",
    "\n",
    "#modeling\n",
    "#from sklearn.linear_model import LogisticRegression\n",
    "#from sklearn.tree import DecisionTreeClassifier\n",
    "#from sklearn import svm\n",
    "from sklearn.neighbors import KNeighborsClassifier\n",
    "\n",
    "from sklearn.metrics import accuracy_score\n",
    "from sklearn.metrics import confusion_matrix\n",
    "\n",
    "#from joblib import load, dump"
   ]
  },
  {
   "cell_type": "markdown",
   "metadata": {},
   "source": [
    "# Poker Example with Keras\n",
    "\n",
    "## 0. Load Data"
   ]
  },
  {
   "cell_type": "code",
   "execution_count": 3,
   "metadata": {},
   "outputs": [],
   "source": [
    "#$mycodedelta #was\n",
    "#!wget http://archive.ics.uci.edu/ml/machine-learning-databases/poker/poker-hand-testing.data\n",
    "#!wget http://archive.ics.uci.edu/ml/machine-learning-databases/poker/poker-hand-training-true.data\n",
    "#!wget http://archive.ics.uci.edu/ml/machine-learning-databases/poker/poker-hand.names"
   ]
  },
  {
   "cell_type": "code",
   "execution_count": 4,
   "metadata": {},
   "outputs": [
    {
     "name": "stdout",
     "output_type": "stream",
     "text": [
      "Poker data already exists\n"
     ]
    }
   ],
   "source": [
    "#$mycodedelta\n",
    "#check if data already downloaded\n",
    "if path.exists('data/poker-hand.names'):\n",
    "    print('Poker data already exists')\n",
    "else:\n",
    "    !wget http://archive.ics.uci.edu/ml/machine-learning-databases/poker/poker-hand-testing.data -O 'data/poker-hand-testing.data'\n",
    "    !wget http://archive.ics.uci.edu/ml/machine-learning-databases/poker/poker-hand-training-true.data -O 'data/poker-hand-training-true.data'\n",
    "    !wget http://archive.ics.uci.edu/ml/machine-learning-databases/poker/poker-hand.names -O 'data/poker-hand.names'"
   ]
  },
  {
   "cell_type": "markdown",
   "metadata": {},
   "source": [
    "## 1. Prep Data\n",
    "note: When switch between train and test.  SVM runs way longer.  NN results are slightly better.  \n",
    "In reality need `train`, `valid` and `test` datsets."
   ]
  },
  {
   "cell_type": "code",
   "execution_count": 5,
   "metadata": {},
   "outputs": [
    {
     "data": {
      "text/plain": [
       "['Suit of card #1',\n",
       " 'Rank of card #1',\n",
       " 'Suit of card #2',\n",
       " 'Rank of card #2',\n",
       " 'Suit of card #3',\n",
       " 'Rank of card #3',\n",
       " 'Suit of card #4',\n",
       " 'Rank of card #4',\n",
       " 'Suit of card #5',\n",
       " 'Rank of card 5',\n",
       " 'Poker Hand']"
      ]
     },
     "execution_count": 5,
     "metadata": {},
     "output_type": "execute_result"
    }
   ],
   "source": [
    "#data_train=pd.read_csv(\"data/poker-hand-training-true.data\",header=None)\n",
    "#data_test = pd.read_csv(\"data/poker-hand-testing.data\",header=None)\n",
    "data_test=pd.read_csv(\"data/poker-hand-training-true.data\",header=None)\n",
    "data_train = pd.read_csv(\"data/poker-hand-testing.data\",header=None)\n",
    "col=['Suit of card #1','Rank of card #1','Suit of card #2','Rank of card #2','Suit of card #3','Rank of card #3','Suit of card #4','Rank of card #4','Suit of card #5','Rank of card 5','Poker Hand']\n",
    "col"
   ]
  },
  {
   "cell_type": "code",
   "execution_count": 6,
   "metadata": {},
   "outputs": [],
   "source": [
    "data_train.columns=col\n",
    "data_test.columns=col"
   ]
  },
  {
   "cell_type": "code",
   "execution_count": 7,
   "metadata": {},
   "outputs": [],
   "source": [
    "y_train=data_train['Poker Hand']\n",
    "y_test=data_test['Poker Hand']\n",
    "y_train=pd.get_dummies(y_train)\n",
    "y_test=pd.get_dummies(y_test)"
   ]
  },
  {
   "cell_type": "code",
   "execution_count": 8,
   "metadata": {},
   "outputs": [],
   "source": [
    "x_train=data_train.drop('Poker Hand',axis=1)\n",
    "x_test=data_test.drop('Poker Hand',axis=1)"
   ]
  },
  {
   "cell_type": "code",
   "execution_count": 9,
   "metadata": {},
   "outputs": [
    {
     "name": "stdout",
     "output_type": "stream",
     "text": [
      "Shape of Training Set: (1000000, 10)\n",
      "Shape of Testing Set: (25010, 10)\n"
     ]
    }
   ],
   "source": [
    "print('Shape of Training Set:',x_train.shape)\n",
    "print('Shape of Testing Set:',x_test.shape)"
   ]
  },
  {
   "cell_type": "code",
   "execution_count": 10,
   "metadata": {},
   "outputs": [
    {
     "data": {
      "text/html": [
       "<div>\n",
       "<style scoped>\n",
       "    .dataframe tbody tr th:only-of-type {\n",
       "        vertical-align: middle;\n",
       "    }\n",
       "\n",
       "    .dataframe tbody tr th {\n",
       "        vertical-align: top;\n",
       "    }\n",
       "\n",
       "    .dataframe thead th {\n",
       "        text-align: right;\n",
       "    }\n",
       "</style>\n",
       "<table border=\"1\" class=\"dataframe\">\n",
       "  <thead>\n",
       "    <tr style=\"text-align: right;\">\n",
       "      <th></th>\n",
       "      <th>Suit of card #1</th>\n",
       "      <th>Rank of card #1</th>\n",
       "      <th>Suit of card #2</th>\n",
       "      <th>Rank of card #2</th>\n",
       "      <th>Suit of card #3</th>\n",
       "      <th>Rank of card #3</th>\n",
       "      <th>Suit of card #4</th>\n",
       "      <th>Rank of card #4</th>\n",
       "      <th>Suit of card #5</th>\n",
       "      <th>Rank of card 5</th>\n",
       "    </tr>\n",
       "  </thead>\n",
       "  <tbody>\n",
       "    <tr>\n",
       "      <th>0</th>\n",
       "      <td>1</td>\n",
       "      <td>1</td>\n",
       "      <td>1</td>\n",
       "      <td>13</td>\n",
       "      <td>2</td>\n",
       "      <td>4</td>\n",
       "      <td>2</td>\n",
       "      <td>3</td>\n",
       "      <td>1</td>\n",
       "      <td>12</td>\n",
       "    </tr>\n",
       "    <tr>\n",
       "      <th>1</th>\n",
       "      <td>3</td>\n",
       "      <td>12</td>\n",
       "      <td>3</td>\n",
       "      <td>2</td>\n",
       "      <td>3</td>\n",
       "      <td>11</td>\n",
       "      <td>4</td>\n",
       "      <td>5</td>\n",
       "      <td>2</td>\n",
       "      <td>5</td>\n",
       "    </tr>\n",
       "    <tr>\n",
       "      <th>2</th>\n",
       "      <td>1</td>\n",
       "      <td>9</td>\n",
       "      <td>4</td>\n",
       "      <td>6</td>\n",
       "      <td>1</td>\n",
       "      <td>4</td>\n",
       "      <td>3</td>\n",
       "      <td>2</td>\n",
       "      <td>3</td>\n",
       "      <td>9</td>\n",
       "    </tr>\n",
       "    <tr>\n",
       "      <th>3</th>\n",
       "      <td>1</td>\n",
       "      <td>4</td>\n",
       "      <td>3</td>\n",
       "      <td>13</td>\n",
       "      <td>2</td>\n",
       "      <td>13</td>\n",
       "      <td>2</td>\n",
       "      <td>1</td>\n",
       "      <td>3</td>\n",
       "      <td>6</td>\n",
       "    </tr>\n",
       "    <tr>\n",
       "      <th>4</th>\n",
       "      <td>3</td>\n",
       "      <td>10</td>\n",
       "      <td>2</td>\n",
       "      <td>7</td>\n",
       "      <td>1</td>\n",
       "      <td>2</td>\n",
       "      <td>2</td>\n",
       "      <td>11</td>\n",
       "      <td>4</td>\n",
       "      <td>9</td>\n",
       "    </tr>\n",
       "  </tbody>\n",
       "</table>\n",
       "</div>"
      ],
      "text/plain": [
       "   Suit of card #1  Rank of card #1  Suit of card #2  Rank of card #2  \\\n",
       "0                1                1                1               13   \n",
       "1                3               12                3                2   \n",
       "2                1                9                4                6   \n",
       "3                1                4                3               13   \n",
       "4                3               10                2                7   \n",
       "\n",
       "   Suit of card #3  Rank of card #3  Suit of card #4  Rank of card #4  \\\n",
       "0                2                4                2                3   \n",
       "1                3               11                4                5   \n",
       "2                1                4                3                2   \n",
       "3                2               13                2                1   \n",
       "4                1                2                2               11   \n",
       "\n",
       "   Suit of card #5  Rank of card 5  \n",
       "0                1              12  \n",
       "1                2               5  \n",
       "2                3               9  \n",
       "3                3               6  \n",
       "4                4               9  "
      ]
     },
     "execution_count": 10,
     "metadata": {},
     "output_type": "execute_result"
    }
   ],
   "source": [
    "x_train.head()"
   ]
  },
  {
   "cell_type": "code",
   "execution_count": 11,
   "metadata": {},
   "outputs": [],
   "source": [
    "from sklearn import preprocessing\n",
    "le = preprocessing.LabelEncoder()\n",
    "y_train=le.fit_transform(data_train['Poker Hand'])\n",
    "y_test=le.transform(data_test['Poker Hand'])"
   ]
  },
  {
   "cell_type": "code",
   "execution_count": 12,
   "metadata": {},
   "outputs": [
    {
     "data": {
      "text/plain": [
       "((1000000,), (25010,))"
      ]
     },
     "execution_count": 12,
     "metadata": {},
     "output_type": "execute_result"
    }
   ],
   "source": [
    "y_train.shape, y_test.shape"
   ]
  },
  {
   "cell_type": "markdown",
   "metadata": {},
   "source": [
    "\n",
    "## 2. Model \n",
    "Previously in example 1, the author compared Keras NN with LogR, CART and SVM.  Here, I try kNN modeling. \n",
    "\n",
    "### kNN\n",
    "try diff values of k"
   ]
  },
  {
   "cell_type": "code",
   "execution_count": 13,
   "metadata": {},
   "outputs": [
    {
     "name": "stdout",
     "output_type": "stream",
     "text": [
      "Training time (in min) 0.48160584767659503\n",
      "+ Testing time (in min) 0.68642072280248\n"
     ]
    },
    {
     "data": {
      "text/plain": [
       "0.6141543382646941"
      ]
     },
     "execution_count": 13,
     "metadata": {},
     "output_type": "execute_result"
    }
   ],
   "source": [
    "#track time\n",
    "t0 = time.time()\n",
    "\n",
    "clf = KNeighborsClassifier(n_neighbors=3)\n",
    "clf.fit(x_train, y_train)\n",
    "\n",
    "print (\"Training time (in min)\", (time.time() - t0)/60)\n",
    "\n",
    "#predict\n",
    "y_hat=clf.predict(x_test)\n",
    "print (\"+ Testing time (in min)\", (time.time() - t0)/60)\n",
    "\n",
    "accuracy_score(y_hat,y_test)"
   ]
  },
  {
   "cell_type": "code",
   "execution_count": 14,
   "metadata": {},
   "outputs": [
    {
     "name": "stdout",
     "output_type": "stream",
     "text": [
      "[[    0 14196]\n",
      " [    1 10192]\n",
      " [    2   437]\n",
      " [    3   155]\n",
      " [    4    22]\n",
      " [    5     3]\n",
      " [    6     5]]\n"
     ]
    }
   ],
   "source": [
    "unique, counts = np.unique(y_hat, return_counts=True)\n",
    "print (np.asarray((unique, counts)).T)"
   ]
  },
  {
   "cell_type": "code",
   "execution_count": 15,
   "metadata": {},
   "outputs": [
    {
     "name": "stdout",
     "output_type": "stream",
     "text": [
      "Confusion matrix:\n",
      "[[9290 3156   44    2    0    1    0    0    0    0]\n",
      " [4441 5872  193   76   14    2    1    0    0    0]\n",
      " [ 353  682  143   23    4    0    1    0    0    0]\n",
      " [  44  381   37   50    0    0    1    0    0    0]\n",
      " [  24   61    5    0    3    0    0    0    0    0]\n",
      " [  41   13    0    0    0    0    0    0    0    0]\n",
      " [   1   18   14    0    1    0    2    0    0    0]\n",
      " [   0    1    1    4    0    0    0    0    0    0]\n",
      " [   0    5    0    0    0    0    0    0    0    0]\n",
      " [   2    3    0    0    0    0    0    0    0    0]]\n"
     ]
    }
   ],
   "source": [
    "cm = confusion_matrix(y_test, y_hat)\n",
    "print(\"Confusion matrix:\\n{}\".format(cm))"
   ]
  },
  {
   "cell_type": "code",
   "execution_count": 16,
   "metadata": {},
   "outputs": [
    {
     "name": "stdout",
     "output_type": "stream",
     "text": [
      "Training time (in min) 0.4776416540145874\n",
      "+ Testing time (in min) 0.7241820176442464\n"
     ]
    },
    {
     "data": {
      "text/plain": [
       "0.6227908836465413"
      ]
     },
     "execution_count": 16,
     "metadata": {},
     "output_type": "execute_result"
    }
   ],
   "source": [
    "#track time\n",
    "t0 = time.time()\n",
    "\n",
    "clf = KNeighborsClassifier(n_neighbors=5)\n",
    "clf.fit(x_train, y_train)\n",
    "\n",
    "print (\"Training time (in min)\", (time.time() - t0)/60)\n",
    "\n",
    "#predict\n",
    "y_hat=clf.predict(x_test)\n",
    "print (\"+ Testing time (in min)\", (time.time() - t0)/60)\n",
    "\n",
    "accuracy_score(y_hat,y_test)"
   ]
  },
  {
   "cell_type": "code",
   "execution_count": 17,
   "metadata": {},
   "outputs": [
    {
     "name": "stdout",
     "output_type": "stream",
     "text": [
      "[[    0 14445]\n",
      " [    1 10222]\n",
      " [    2   251]\n",
      " [    3    74]\n",
      " [    4    15]\n",
      " [    6     3]]\n"
     ]
    }
   ],
   "source": [
    "unique, counts = np.unique(y_hat, return_counts=True)\n",
    "print (np.asarray((unique, counts)).T)"
   ]
  },
  {
   "cell_type": "code",
   "execution_count": 18,
   "metadata": {},
   "outputs": [
    {
     "name": "stdout",
     "output_type": "stream",
     "text": [
      "Confusion matrix:\n",
      "[[9515 2960   17    0    1    0    0    0    0    0]\n",
      " [4525 5938   91   37    8    0    0    0    0    0]\n",
      " [ 324  773   95   10    3    0    1    0    0    0]\n",
      " [  26  431   30   25    0    0    1    0    0    0]\n",
      " [  13   70    7    1    2    0    0    0    0    0]\n",
      " [  41   13    0    0    0    0    0    0    0    0]\n",
      " [   1   24    9    0    1    0    1    0    0    0]\n",
      " [   0    3    2    1    0    0    0    0    0    0]\n",
      " [   0    5    0    0    0    0    0    0    0    0]\n",
      " [   0    5    0    0    0    0    0    0    0    0]]\n"
     ]
    }
   ],
   "source": [
    "cm = confusion_matrix(y_test, y_hat)\n",
    "print(\"Confusion matrix:\\n{}\".format(cm))"
   ]
  },
  {
   "cell_type": "code",
   "execution_count": 19,
   "metadata": {},
   "outputs": [
    {
     "name": "stdout",
     "output_type": "stream",
     "text": [
      "Training time (in min) 0.4773810545603434\n",
      "+ Testing time (in min) 0.7532381931940715\n"
     ]
    },
    {
     "data": {
      "text/plain": [
       "0.6248300679728108"
      ]
     },
     "execution_count": 19,
     "metadata": {},
     "output_type": "execute_result"
    }
   ],
   "source": [
    "#track time\n",
    "t0 = time.time()\n",
    "\n",
    "clf = KNeighborsClassifier(n_neighbors=7)\n",
    "clf.fit(x_train, y_train)\n",
    "\n",
    "print (\"Training time (in min)\", (time.time() - t0)/60)\n",
    "\n",
    "#predict\n",
    "y_hat=clf.predict(x_test)\n",
    "print (\"+ Testing time (in min)\", (time.time() - t0)/60)\n",
    "\n",
    "accuracy_score(y_hat,y_test)"
   ]
  },
  {
   "cell_type": "code",
   "execution_count": 20,
   "metadata": {},
   "outputs": [
    {
     "name": "stdout",
     "output_type": "stream",
     "text": [
      "[[    0 14617]\n",
      " [    1 10096]\n",
      " [    2   227]\n",
      " [    3    59]\n",
      " [    4     7]\n",
      " [    5     3]\n",
      " [    6     1]]\n"
     ]
    }
   ],
   "source": [
    "unique, counts = np.unique(y_hat, return_counts=True)\n",
    "print (np.asarray((unique, counts)).T)"
   ]
  },
  {
   "cell_type": "code",
   "execution_count": 21,
   "metadata": {},
   "outputs": [
    {
     "name": "stdout",
     "output_type": "stream",
     "text": [
      "Confusion matrix:\n",
      "[[9630 2844   16    1    0    2    0    0    0    0]\n",
      " [4594 5889   87   26    3    0    0    0    0    0]\n",
      " [ 318  790   86   11    1    0    0    0    0    0]\n",
      " [  23  446   25   19    0    0    0    0    0    0]\n",
      " [   9   80    2    1    1    0    0    0    0    0]\n",
      " [  42   11    0    0    0    1    0    0    0    0]\n",
      " [   1   24    9    0    1    0    1    0    0    0]\n",
      " [   0    3    2    1    0    0    0    0    0    0]\n",
      " [   0    5    0    0    0    0    0    0    0    0]\n",
      " [   0    4    0    0    1    0    0    0    0    0]]\n"
     ]
    }
   ],
   "source": [
    "cm = confusion_matrix(y_test, y_hat)\n",
    "print(\"Confusion matrix:\\n{}\".format(cm))"
   ]
  },
  {
   "cell_type": "code",
   "execution_count": 22,
   "metadata": {},
   "outputs": [
    {
     "ename": "NameError",
     "evalue": "name 'mystop' is not defined",
     "output_type": "error",
     "traceback": [
      "\u001b[1;31m---------------------------------------------------------------------------\u001b[0m",
      "\u001b[1;31mNameError\u001b[0m                                 Traceback (most recent call last)",
      "\u001b[1;32m<ipython-input-22-255d8eb4da7e>\u001b[0m in \u001b[0;36m<module>\u001b[1;34m\u001b[0m\n\u001b[1;32m----> 1\u001b[1;33m \u001b[0mmystop\u001b[0m\u001b[1;33m\u001b[0m\u001b[1;33m\u001b[0m\u001b[0m\n\u001b[0m",
      "\u001b[1;31mNameError\u001b[0m: name 'mystop' is not defined"
     ]
    }
   ],
   "source": [
    "mystop"
   ]
  },
  {
   "cell_type": "markdown",
   "metadata": {},
   "source": [
    "Slightly better results with higher value of k -> finetune hyperparam k.  Test time increases slightly with k."
   ]
  },
  {
   "cell_type": "markdown",
   "metadata": {},
   "source": [
    "##### Summary\n",
    "kNN models showed similar accuracy as Keras NN models ~ 60%. kNN models are the bravest so far, tried to take on and predict more classes (7-10) than LogR(1), CART(1), SVM(2) or NN(4ish).\n",
    "\n",
    "Still an issue: In ML, using the same `test` ds for validation and testing is not a valid technique.  Next step should be to truly have `train`, `validation` and `test` sets and see how all the models fair with a holdout dataset.\n",
    "\n",
    "Src: https://keras.io/guides/training_with_built_in_methods/\n",
    "Here's what the typical end-to-end workflow looks like, consisting of:\n",
    "\n",
    "- Training\n",
    "- Validation on a holdout set generated from the original training data\n",
    "- Evaluation on the test data"
   ]
  },
  {
   "cell_type": "code",
   "execution_count": null,
   "metadata": {},
   "outputs": [],
   "source": [
    "mystop"
   ]
  },
  {
   "cell_type": "markdown",
   "metadata": {},
   "source": [
    "## Xtra"
   ]
  },
  {
   "cell_type": "code",
   "execution_count": null,
   "metadata": {},
   "outputs": [],
   "source": [
    "#$xtra my export data for reuse\n",
    "dump(data_train, 'data/poker_ex1_data_train.pkl')\n",
    "dump(data_test, 'data/poker_ex1_data_test.pkl')"
   ]
  }
 ],
 "metadata": {
  "hide_input": false,
  "kernelspec": {
   "display_name": "hack-keras",
   "language": "python",
   "name": "hack-keras"
  },
  "language_info": {
   "codemirror_mode": {
    "name": "ipython",
    "version": 3
   },
   "file_extension": ".py",
   "mimetype": "text/x-python",
   "name": "python",
   "nbconvert_exporter": "python",
   "pygments_lexer": "ipython3",
   "version": "3.7.6"
  },
  "toc": {
   "base_numbering": 1,
   "nav_menu": {},
   "number_sections": true,
   "sideBar": true,
   "skip_h1_title": false,
   "title_cell": "Table of Contents",
   "title_sidebar": "Contents",
   "toc_cell": false,
   "toc_position": {},
   "toc_section_display": true,
   "toc_window_display": false
  }
 },
 "nbformat": 4,
 "nbformat_minor": 4
}
