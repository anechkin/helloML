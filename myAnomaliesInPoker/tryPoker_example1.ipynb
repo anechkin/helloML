{
 "cells": [
  {
   "cell_type": "code",
   "execution_count": 1,
   "metadata": {},
   "outputs": [],
   "source": [
    "#meta 1/25/2021 Poker Example 1\n",
    "#src https://medium.com/@virgoady7/poker-hand-prediction-7a801e254acd\n",
    "#Claim: Keras nn models predicts much higher than LogR, CART or SVM\n",
    "\n",
    "#history\n",
    "#1/25/202 ORIGINAL EXAMPLE + MY CODE DELTA\n",
    "#      Original code errored out in Keras NN section: problem is with your label-data shape\n",
    "#      Fixed with $mycodedelta\n",
    "\n",
    "#here 1/25/202 MANAGE DATA DOWNLOAD\n",
    "#      Check if data already exists and downloaded if it doesn't\n"
   ]
  },
  {
   "cell_type": "code",
   "execution_count": 2,
   "metadata": {},
   "outputs": [],
   "source": [
    "import pandas as pd \n",
    "import numpy as np\n",
    "import matplotlib.pyplot as plt\n",
    "import os\n",
    "from os import path\n",
    "import warnings\n",
    "warnings.filterwarnings('ignore')\n",
    "\n",
    "#from joblib import load, dump"
   ]
  },
  {
   "cell_type": "markdown",
   "metadata": {},
   "source": [
    "# Poker Example with Keras\n",
    "\n",
    "## 0. Load Data"
   ]
  },
  {
   "cell_type": "code",
   "execution_count": 3,
   "metadata": {},
   "outputs": [],
   "source": [
    "#$mycodedelta #was\n",
    "#!wget http://archive.ics.uci.edu/ml/machine-learning-databases/poker/poker-hand-testing.data\n",
    "#!wget http://archive.ics.uci.edu/ml/machine-learning-databases/poker/poker-hand-training-true.data\n",
    "#!wget http://archive.ics.uci.edu/ml/machine-learning-databases/poker/poker-hand.names"
   ]
  },
  {
   "cell_type": "code",
   "execution_count": 4,
   "metadata": {},
   "outputs": [
    {
     "name": "stdout",
     "output_type": "stream",
     "text": [
      "Poker data already exists\n"
     ]
    }
   ],
   "source": [
    "#$mycodedelta\n",
    "#check if data already downloaded\n",
    "if path.exists('data/poker-hand.names'):\n",
    "    print('Poker data already exists')\n",
    "else:\n",
    "    !wget http://archive.ics.uci.edu/ml/machine-learning-databases/poker/poker-hand-testing.data -O 'data/poker-hand-testing.data'\n",
    "    !wget http://archive.ics.uci.edu/ml/machine-learning-databases/poker/poker-hand-training-true.data -O 'data/poker-hand-training-true.data'\n",
    "    !wget http://archive.ics.uci.edu/ml/machine-learning-databases/poker/poker-hand.names -O 'data/poker-hand.names'"
   ]
  },
  {
   "cell_type": "markdown",
   "metadata": {},
   "source": [
    "## 1. Prep Data"
   ]
  },
  {
   "cell_type": "code",
   "execution_count": 5,
   "metadata": {},
   "outputs": [
    {
     "data": {
      "text/plain": [
       "['Suit of card #1',\n",
       " 'Rank of card #1',\n",
       " 'Suit of card #2',\n",
       " 'Rank of card #2',\n",
       " 'Suit of card #3',\n",
       " 'Rank of card #3',\n",
       " 'Suit of card #4',\n",
       " 'Rank of card #4',\n",
       " 'Suit of card #5',\n",
       " 'Rank of card 5',\n",
       " 'Poker Hand']"
      ]
     },
     "execution_count": 5,
     "metadata": {},
     "output_type": "execute_result"
    }
   ],
   "source": [
    "data_train=pd.read_csv(\"data/poker-hand-training-true.data\",header=None)\n",
    "data_test = pd.read_csv(\"data/poker-hand-testing.data\",header=None)\n",
    "col=['Suit of card #1','Rank of card #1','Suit of card #2','Rank of card #2','Suit of card #3','Rank of card #3','Suit of card #4','Rank of card #4','Suit of card #5','Rank of card 5','Poker Hand']\n",
    "col"
   ]
  },
  {
   "cell_type": "code",
   "execution_count": 6,
   "metadata": {},
   "outputs": [],
   "source": [
    "data_train.columns=col\n",
    "data_test.columns=col"
   ]
  },
  {
   "cell_type": "code",
   "execution_count": 7,
   "metadata": {},
   "outputs": [],
   "source": [
    "y_train=data_train['Poker Hand']\n",
    "y_test=data_test['Poker Hand']\n",
    "y_train=pd.get_dummies(y_train)\n",
    "y_test=pd.get_dummies(y_test)"
   ]
  },
  {
   "cell_type": "code",
   "execution_count": 8,
   "metadata": {},
   "outputs": [],
   "source": [
    "x_train=data_train.drop('Poker Hand',axis=1)\n",
    "x_test=data_test.drop('Poker Hand',axis=1)"
   ]
  },
  {
   "cell_type": "code",
   "execution_count": 9,
   "metadata": {},
   "outputs": [
    {
     "name": "stdout",
     "output_type": "stream",
     "text": [
      "Shape of Training Set: (25010, 10)\n",
      "Shape of Testing Set: (1000000, 10)\n"
     ]
    }
   ],
   "source": [
    "print('Shape of Training Set:',x_train.shape)\n",
    "print('Shape of Testing Set:',x_test.shape)"
   ]
  },
  {
   "cell_type": "code",
   "execution_count": 10,
   "metadata": {},
   "outputs": [
    {
     "data": {
      "text/html": [
       "<div>\n",
       "<style scoped>\n",
       "    .dataframe tbody tr th:only-of-type {\n",
       "        vertical-align: middle;\n",
       "    }\n",
       "\n",
       "    .dataframe tbody tr th {\n",
       "        vertical-align: top;\n",
       "    }\n",
       "\n",
       "    .dataframe thead th {\n",
       "        text-align: right;\n",
       "    }\n",
       "</style>\n",
       "<table border=\"1\" class=\"dataframe\">\n",
       "  <thead>\n",
       "    <tr style=\"text-align: right;\">\n",
       "      <th></th>\n",
       "      <th>Suit of card #1</th>\n",
       "      <th>Rank of card #1</th>\n",
       "      <th>Suit of card #2</th>\n",
       "      <th>Rank of card #2</th>\n",
       "      <th>Suit of card #3</th>\n",
       "      <th>Rank of card #3</th>\n",
       "      <th>Suit of card #4</th>\n",
       "      <th>Rank of card #4</th>\n",
       "      <th>Suit of card #5</th>\n",
       "      <th>Rank of card 5</th>\n",
       "    </tr>\n",
       "  </thead>\n",
       "  <tbody>\n",
       "    <tr>\n",
       "      <th>0</th>\n",
       "      <td>1</td>\n",
       "      <td>10</td>\n",
       "      <td>1</td>\n",
       "      <td>11</td>\n",
       "      <td>1</td>\n",
       "      <td>13</td>\n",
       "      <td>1</td>\n",
       "      <td>12</td>\n",
       "      <td>1</td>\n",
       "      <td>1</td>\n",
       "    </tr>\n",
       "    <tr>\n",
       "      <th>1</th>\n",
       "      <td>2</td>\n",
       "      <td>11</td>\n",
       "      <td>2</td>\n",
       "      <td>13</td>\n",
       "      <td>2</td>\n",
       "      <td>10</td>\n",
       "      <td>2</td>\n",
       "      <td>12</td>\n",
       "      <td>2</td>\n",
       "      <td>1</td>\n",
       "    </tr>\n",
       "    <tr>\n",
       "      <th>2</th>\n",
       "      <td>3</td>\n",
       "      <td>12</td>\n",
       "      <td>3</td>\n",
       "      <td>11</td>\n",
       "      <td>3</td>\n",
       "      <td>13</td>\n",
       "      <td>3</td>\n",
       "      <td>10</td>\n",
       "      <td>3</td>\n",
       "      <td>1</td>\n",
       "    </tr>\n",
       "    <tr>\n",
       "      <th>3</th>\n",
       "      <td>4</td>\n",
       "      <td>10</td>\n",
       "      <td>4</td>\n",
       "      <td>11</td>\n",
       "      <td>4</td>\n",
       "      <td>1</td>\n",
       "      <td>4</td>\n",
       "      <td>13</td>\n",
       "      <td>4</td>\n",
       "      <td>12</td>\n",
       "    </tr>\n",
       "    <tr>\n",
       "      <th>4</th>\n",
       "      <td>4</td>\n",
       "      <td>1</td>\n",
       "      <td>4</td>\n",
       "      <td>13</td>\n",
       "      <td>4</td>\n",
       "      <td>12</td>\n",
       "      <td>4</td>\n",
       "      <td>11</td>\n",
       "      <td>4</td>\n",
       "      <td>10</td>\n",
       "    </tr>\n",
       "  </tbody>\n",
       "</table>\n",
       "</div>"
      ],
      "text/plain": [
       "   Suit of card #1  Rank of card #1  Suit of card #2  Rank of card #2  \\\n",
       "0                1               10                1               11   \n",
       "1                2               11                2               13   \n",
       "2                3               12                3               11   \n",
       "3                4               10                4               11   \n",
       "4                4                1                4               13   \n",
       "\n",
       "   Suit of card #3  Rank of card #3  Suit of card #4  Rank of card #4  \\\n",
       "0                1               13                1               12   \n",
       "1                2               10                2               12   \n",
       "2                3               13                3               10   \n",
       "3                4                1                4               13   \n",
       "4                4               12                4               11   \n",
       "\n",
       "   Suit of card #5  Rank of card 5  \n",
       "0                1               1  \n",
       "1                2               1  \n",
       "2                3               1  \n",
       "3                4              12  \n",
       "4                4              10  "
      ]
     },
     "execution_count": 10,
     "metadata": {},
     "output_type": "execute_result"
    }
   ],
   "source": [
    "x_train.head()"
   ]
  },
  {
   "cell_type": "code",
   "execution_count": 11,
   "metadata": {},
   "outputs": [],
   "source": [
    "from sklearn import preprocessing\n",
    "le = preprocessing.LabelEncoder()\n",
    "y_train=le.fit_transform(data_train['Poker Hand'])\n",
    "y_test=le.transform(data_test['Poker Hand'])"
   ]
  },
  {
   "cell_type": "code",
   "execution_count": 12,
   "metadata": {},
   "outputs": [
    {
     "data": {
      "text/plain": [
       "((25010,), (1000000,))"
      ]
     },
     "execution_count": 12,
     "metadata": {},
     "output_type": "execute_result"
    }
   ],
   "source": [
    "y_train.shape, y_test.shape"
   ]
  },
  {
   "cell_type": "markdown",
   "metadata": {},
   "source": [
    "\n",
    "## 2. Model \n",
    "### Logistic Regression"
   ]
  },
  {
   "cell_type": "code",
   "execution_count": 13,
   "metadata": {},
   "outputs": [
    {
     "data": {
      "text/plain": [
       "0.501209"
      ]
     },
     "execution_count": 13,
     "metadata": {},
     "output_type": "execute_result"
    }
   ],
   "source": [
    "from sklearn.linear_model import LogisticRegression\n",
    "from sklearn.metrics import accuracy_score\n",
    "clf = LogisticRegression(random_state=0, solver='lbfgs',max_iter=100,multi_class='ovr').fit(x_train, y_train)\n",
    "y_pred=clf.predict(x_test)\n",
    "accuracy_score(y_pred,y_test)"
   ]
  },
  {
   "cell_type": "markdown",
   "metadata": {},
   "source": [
    "### CART\n",
    "Classification and Regression Trees or CART for short"
   ]
  },
  {
   "cell_type": "code",
   "execution_count": 14,
   "metadata": {},
   "outputs": [
    {
     "data": {
      "text/plain": [
       "0.501209"
      ]
     },
     "execution_count": 14,
     "metadata": {},
     "output_type": "execute_result"
    }
   ],
   "source": [
    "from sklearn.tree import DecisionTreeClassifier\n",
    "decision_tree = DecisionTreeClassifier(random_state=0,max_depth = 2)\n",
    "decision_tree = decision_tree.fit(x_train,y_train)\n",
    "y_pred = decision_tree.predict(x_test)\n",
    "accuracy_score(y_pred,y_test)"
   ]
  },
  {
   "cell_type": "markdown",
   "metadata": {},
   "source": [
    "### SVM\n",
    "We plot each data item as a point in n-dimensional space (where n is number of features you have) with the value of each feature being the value of a particular coordinate"
   ]
  },
  {
   "cell_type": "code",
   "execution_count": 15,
   "metadata": {},
   "outputs": [
    {
     "data": {
      "text/plain": [
       "0.428005"
      ]
     },
     "execution_count": 15,
     "metadata": {},
     "output_type": "execute_result"
    }
   ],
   "source": [
    "from sklearn import svm\n",
    "clf = svm.LinearSVC()\n",
    "clf.fit(x_train,y_train) \n",
    "y_pred = clf.predict(x_test)\n",
    "accuracy_score(y_pred,y_test)"
   ]
  },
  {
   "cell_type": "markdown",
   "metadata": {},
   "source": [
    "### Neural Net with Keras\n",
    "A neural network is a progression of algorithms that attempts to perceive fundamental connections in a lot of information through a procedure that copies the manner in which the human brain works. Neural network can adjust to changing input; so the network produces the most ideal outcome without expecting to redesign the output criteria.\n",
    "To create NN we used Keras library which is a high-level API wrapper for the low-level API, capable of running on top of TensorFlow, CNTK, or Theano.\n",
    "My neural network architecture comprised of 3 dense layers with respectively 15,10 and 10 nodes in each layer."
   ]
  },
  {
   "cell_type": "code",
   "execution_count": 16,
   "metadata": {},
   "outputs": [
    {
     "name": "stderr",
     "output_type": "stream",
     "text": [
      "Using TensorFlow backend.\n"
     ]
    },
    {
     "data": {
      "text/plain": [
       "((25010, 10), (1000000, 10))"
      ]
     },
     "execution_count": 16,
     "metadata": {},
     "output_type": "execute_result"
    }
   ],
   "source": [
    "#$mycodedelta\n",
    "#code below errors out: ValueError: Error when checking target: expected dense_3 to have shape (10,) but got array with shape (1,)\n",
    "#src https://stackoverflow.com/questions/49392972/error-when-checking-target-expected-dense-3-to-have-shape-3-but-got-array-wi/55992428\n",
    "#issue: problem is with label-data shape\n",
    "#      Keras expects y-data in (N, 10) shape, not (N,) \n",
    "#      was: y_train.shape, y_test.shape\n",
    "#      was: ((25010,), (1000000,))\n",
    "#fix: Recode labels using to_categorical to get the correct shape of inputs\n",
    "from keras.utils import to_categorical\n",
    "y_train_nn = to_categorical(y_train)\n",
    "y_test_nn = to_categorical(y_test)\n",
    "\n",
    "y_train_nn.shape, y_test_nn.shape"
   ]
  },
  {
   "cell_type": "code",
   "execution_count": 17,
   "metadata": {},
   "outputs": [
    {
     "name": "stdout",
     "output_type": "stream",
     "text": [
      "WARNING:tensorflow:From D:\\Anaconda3\\envs\\hack-keras\\lib\\site-packages\\tensorflow\\python\\ops\\math_grad.py:1250: add_dispatch_support.<locals>.wrapper (from tensorflow.python.ops.array_ops) is deprecated and will be removed in a future version.\n",
      "Instructions for updating:\n",
      "Use tf.where in 2.0, which has the same broadcast rule as np.where\n",
      "WARNING:tensorflow:From D:\\Anaconda3\\envs\\hack-keras\\lib\\site-packages\\keras\\backend\\tensorflow_backend.py:422: The name tf.global_variables is deprecated. Please use tf.compat.v1.global_variables instead.\n",
      "\n",
      "Train on 25010 samples, validate on 1000000 samples\n",
      "Epoch 1/10\n",
      "25010/25010 [==============================] - 4s 156us/step - loss: 0.2680 - accuracy: 0.8955 - val_loss: 0.1970 - val_accuracy: 0.8977\n",
      "Epoch 2/10\n",
      "25010/25010 [==============================] - 4s 148us/step - loss: 0.1857 - accuracy: 0.8985 - val_loss: 0.1791 - val_accuracy: 0.8996\n",
      "Epoch 3/10\n",
      "25010/25010 [==============================] - 4s 151us/step - loss: 0.1769 - accuracy: 0.9001 - val_loss: 0.1749 - val_accuracy: 0.9008\n",
      "Epoch 4/10\n",
      "25010/25010 [==============================] - 4s 153us/step - loss: 0.1743 - accuracy: 0.9014 - val_loss: 0.1734 - val_accuracy: 0.9023\n",
      "Epoch 5/10\n",
      "25010/25010 [==============================] - 4s 153us/step - loss: 0.1734 - accuracy: 0.9021 - val_loss: 0.1729 - val_accuracy: 0.9026\n",
      "Epoch 6/10\n",
      "25010/25010 [==============================] - 4s 148us/step - loss: 0.1730 - accuracy: 0.9025 - val_loss: 0.1725 - val_accuracy: 0.9028\n",
      "Epoch 7/10\n",
      "25010/25010 [==============================] - 4s 150us/step - loss: 0.1726 - accuracy: 0.9028 - val_loss: 0.1723 - val_accuracy: 0.9031\n",
      "Epoch 8/10\n",
      "25010/25010 [==============================] - 4s 146us/step - loss: 0.1724 - accuracy: 0.9028 - val_loss: 0.1720 - val_accuracy: 0.9034\n",
      "Epoch 9/10\n",
      "25010/25010 [==============================] - 4s 145us/step - loss: 0.1720 - accuracy: 0.9035 - val_loss: 0.1717 - val_accuracy: 0.9038\n",
      "Epoch 10/10\n",
      "25010/25010 [==============================] - 4s 144us/step - loss: 0.1717 - accuracy: 0.9041 - val_loss: 0.1714 - val_accuracy: 0.9046\n",
      "1000000/1000000 [==============================] - 2s 2us/step\n"
     ]
    }
   ],
   "source": [
    "import keras\n",
    "from keras.models import Sequential\n",
    "from keras.layers import Dense, Dropout, Activation\n",
    "from keras.optimizers import SGD\n",
    "from keras import regularizers\n",
    "\n",
    "\n",
    "model = Sequential()\n",
    "model.add(Dense(15, activation='relu', input_dim=10))\n",
    "model.add(Dense(10, activation='relu'))\n",
    "model.add(Dense(10, activation='softmax'))\n",
    "model.compile(loss='binary_crossentropy',\n",
    "              optimizer='adam',\n",
    "              metrics=['accuracy'])\n",
    "\n",
    "history = model.fit(x_train, y_train_nn, epochs = 10, batch_size = 256, verbose=1,validation_data=(x_test,y_test_nn),shuffle=True) #$mycodedelta\n",
    "\n",
    "\n",
    "score = model.evaluate(x_test, y_test_nn, batch_size=256) #$mycodedelta"
   ]
  },
  {
   "cell_type": "code",
   "execution_count": 18,
   "metadata": {},
   "outputs": [
    {
     "data": {
      "text/plain": [
       "<matplotlib.legend.Legend at 0x1bb5350d7c8>"
      ]
     },
     "execution_count": 18,
     "metadata": {},
     "output_type": "execute_result"
    },
    {
     "data": {
      "image/png": "[encoded data removed]",
      "text/plain": [
       "<Figure size 1080x360 with 2 Axes>"
      ]
     },
     "metadata": {
      "needs_background": "light"
     },
     "output_type": "display_data"
    }
   ],
   "source": [
    "plt.figure(figsize=(15, 5))\n",
    "plt.subplot(1,2,1)\n",
    "plt.plot(history.history['accuracy']) #$mycodedelta\n",
    "plt.plot(history.history['val_accuracy'])#$mycodedelta\n",
    "plt.title('Model accuracy')\n",
    "plt.ylabel('Accuracy')\n",
    "plt.xlabel('Epoch')\n",
    "plt.legend(['Train', 'Test'], loc='upper left')\n",
    "plt.subplot(1,2,2)\n",
    "plt.plot(history.history['loss'])\n",
    "plt.plot(history.history['val_loss'])\n",
    "plt.title('Model loss')\n",
    "plt.ylabel('Loss')\n",
    "plt.xlabel('Epoch')\n",
    "plt.legend(['Train', 'Test'], loc='lower left')"
   ]
  },
  {
   "cell_type": "markdown",
   "metadata": {},
   "source": [
    "##### Summary\n",
    "In the end, the Neural Network using Keras Library enables us to produce the most accurate results above all!"
   ]
  },
  {
   "cell_type": "code",
   "execution_count": 19,
   "metadata": {},
   "outputs": [
    {
     "ename": "NameError",
     "evalue": "name 'mystop' is not defined",
     "output_type": "error",
     "traceback": [
      "\u001b[1;31m---------------------------------------------------------------------------\u001b[0m",
      "\u001b[1;31mNameError\u001b[0m                                 Traceback (most recent call last)",
      "\u001b[1;32m<ipython-input-19-255d8eb4da7e>\u001b[0m in \u001b[0;36m<module>\u001b[1;34m\u001b[0m\n\u001b[1;32m----> 1\u001b[1;33m \u001b[0mmystop\u001b[0m\u001b[1;33m\u001b[0m\u001b[1;33m\u001b[0m\u001b[0m\n\u001b[0m",
      "\u001b[1;31mNameError\u001b[0m: name 'mystop' is not defined"
     ]
    }
   ],
   "source": [
    "mystop"
   ]
  },
  {
   "cell_type": "markdown",
   "metadata": {},
   "source": [
    "## Xtra"
   ]
  },
  {
   "cell_type": "code",
   "execution_count": null,
   "metadata": {},
   "outputs": [],
   "source": [
    "#$xtra my export data for reuse\n",
    "dump(data_train, 'data/poker_ex1_data_train.pkl')\n",
    "dump(data_test, 'data/poker_ex1_data_test.pkl')"
   ]
  }
 ],
 "metadata": {
  "hide_input": false,
  "kernelspec": {
   "display_name": "hack-keras",
   "language": "python",
   "name": "hack-keras"
  },
  "language_info": {
   "codemirror_mode": {
    "name": "ipython",
    "version": 3
   },
   "file_extension": ".py",
   "mimetype": "text/x-python",
   "name": "python",
   "nbconvert_exporter": "python",
   "pygments_lexer": "ipython3",
   "version": "3.7.6"
  },
  "toc": {
   "base_numbering": 1,
   "nav_menu": {},
   "number_sections": true,
   "sideBar": true,
   "skip_h1_title": false,
   "title_cell": "Table of Contents",
   "title_sidebar": "Contents",
   "toc_cell": false,
   "toc_position": {},
   "toc_section_display": true,
   "toc_window_display": false
  }
 },
 "nbformat": 4,
 "nbformat_minor": 4
}
