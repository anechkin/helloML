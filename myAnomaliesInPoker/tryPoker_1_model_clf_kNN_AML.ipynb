{
  "cells": [
    {
      "cell_type": "code",
      "source": [
        "#meta 1/25/2021 Poker my Model Knn \n",
        "#Previously in example 1, the author compared Keras NN with LogR, CART and SVM. Here, I try kNN modeling.\n",
        "#setup like Example 1 with with transformed dataset from Kaggle (800K records x 54 features)\n",
        "#src https://medium.com/@virgoady7/poker-hand-prediction-7a801e254acd\n",
        "#based on tryPoker_example1.ipynb\n",
        "\n",
        "#history\n",
        "#based on tryPoker_example1.ipynb\n",
        "#      Trainset 25,010 records, testset 1mil records\n",
        "\n",
        "#here 1/27/202 TRY KNN MODELING - SWITCH TO TRANSFORMED KAGGLE DS\n",
        "#      Kaggle ds, transformed into numpy matrix 800K x 54\n",
        "#      Try diff values of k = [3,7]\n"
      ],
      "outputs": [],
      "execution_count": 1,
      "metadata": {
        "gather": {
          "logged": 1612227080586
        }
      }
    },
    {
      "cell_type": "code",
      "source": [
        "#!pip freeze"
      ],
      "outputs": [],
      "execution_count": 2,
      "metadata": {
        "collapsed": true,
        "jupyter": {
          "source_hidden": false,
          "outputs_hidden": false
        },
        "nteract": {
          "transient": {
            "deleting": false
          }
        },
        "gather": {
          "logged": 1612227081001
        }
      }
    },
    {
      "cell_type": "code",
      "source": [
        "import pandas as pd \n",
        "import numpy as np\n",
        "import matplotlib.pyplot as plt\n",
        "import os\n",
        "from os import path\n",
        "import time #to track performance time\n",
        "import warnings\n",
        "warnings.filterwarnings('ignore')\n",
        "\n",
        "#modeling\n",
        "#from sklearn.linear_model import LogisticRegression\n",
        "#from sklearn.tree import DecisionTreeClassifier\n",
        "#from sklearn import svm\n",
        "from sklearn.neighbors import KNeighborsClassifier\n",
        "\n",
        "#modeling help\n",
        "from sklearn.model_selection import train_test_split\n",
        "from sklearn.metrics import accuracy_score\n",
        "from sklearn.metrics import confusion_matrix\n",
        "\n",
        "from joblib import load, dump"
      ],
      "outputs": [],
      "execution_count": 3,
      "metadata": {
        "gather": {
          "logged": 1612227082005
        }
      }
    },
    {
      "cell_type": "markdown",
      "source": [
        "# Poker Example with Keras\n",
        "Previously in example 1, the author compared Keras NN with LogR, CART and SVM.  Here, I try kNN modeling.\n",
        "\n",
        "## 0. Load Data"
      ],
      "metadata": {}
    },
    {
      "cell_type": "code",
      "source": [
        "poker = load('data/my_poker_tidy.pkl')\n",
        "poker.shape"
      ],
      "outputs": [
        {
          "output_type": "execute_result",
          "execution_count": 4,
          "data": {
            "text/plain": "(800000, 53)"
          },
          "metadata": {}
        }
      ],
      "execution_count": 4,
      "metadata": {
        "gather": {
          "logged": 1612227082525
        }
      }
    },
    {
      "cell_type": "code",
      "source": [
        "poker['class'].cat.categories"
      ],
      "outputs": [
        {
          "output_type": "execute_result",
          "execution_count": 5,
          "data": {
            "text/plain": "Index(['Nothing', 'One pair', 'Two pairs', 'Three of a kind', 'Straight',\n       'Flush', 'Full house', 'Four of a kind', 'Straight flush',\n       'Royal flush'],\n      dtype='object')"
          },
          "metadata": {}
        }
      ],
      "execution_count": 5,
      "metadata": {
        "gather": {
          "logged": 1612227082791
        }
      }
    },
    {
      "cell_type": "markdown",
      "source": [
        "## 1. Prep Data\n",
        "X & y"
      ],
      "metadata": {}
    },
    {
      "cell_type": "code",
      "source": [
        "X = poker.iloc[:,:-1]\n",
        "y = poker['class'].cat.codes"
      ],
      "outputs": [],
      "execution_count": 6,
      "metadata": {
        "gather": {
          "logged": 1612227083020
        }
      }
    },
    {
      "cell_type": "code",
      "source": [
        "# Randomly split data into two groups: a training set and a test set\n",
        "X_train, X_test, y_train, y_test = train_test_split(X, y, test_size = .10, random_state=24)\n",
        "\n",
        "print (\"\\nTotal records in learning set: {}\".format(poker.shape[0]))\n",
        "print (\"Total records in training set: {}\".format(len(X_train)))\n",
        "print (\"Total records in test set: {}\".format(len(X_test)))\n",
        "    \n",
        "#notice index after reshuffling\n",
        "X_train.tail()"
      ],
      "outputs": [
        {
          "output_type": "stream",
          "name": "stdout",
          "text": [
            "\n",
            "Total records in learning set: 800000\n",
            "Total records in training set: 720000\n",
            "Total records in test set: 80000\n"
          ]
        },
        {
          "output_type": "execute_result",
          "execution_count": 7,
          "data": {
            "text/plain": "        ace_clubs  ace_diamonds  ace_hearts  ace_spades  eight_clubs  \\\n478609          0             0           0           0            0   \n516439          0             0           0           0            0   \n211136          0             0           1           0            0   \n899             0             0           0           0            0   \n242082          0             0           0           0            0   \n\n        eight_diamonds  eight_hearts  eight_spades  five_clubs  five_diamonds  \\\n478609               0             0             1           0              0   \n516439               0             0             1           0              0   \n211136               0             0             0           0              1   \n899                  0             0             0           0              0   \n242082               0             0             0           0              0   \n\n        ...  ten_hearts  ten_spades  three_clubs  three_diamonds  \\\n478609  ...           0           0            0               0   \n516439  ...           0           0            0               0   \n211136  ...           0           0            0               0   \n899     ...           0           1            0               0   \n242082  ...           0           0            0               1   \n\n        three_hearts  three_spades  two_clubs  two_diamonds  two_hearts  \\\n478609             0             1          0             0           0   \n516439             0             0          0             0           1   \n211136             0             0          0             0           0   \n899                0             0          0             0           0   \n242082             0             0          0             1           0   \n\n        two_spades  \n478609           0  \n516439           0  \n211136           0  \n899              0  \n242082           0  \n\n[5 rows x 52 columns]",
            "text/html": "<div>\n<style scoped>\n    .dataframe tbody tr th:only-of-type {\n        vertical-align: middle;\n    }\n\n    .dataframe tbody tr th {\n        vertical-align: top;\n    }\n\n    .dataframe thead th {\n        text-align: right;\n    }\n</style>\n<table border=\"1\" class=\"dataframe\">\n  <thead>\n    <tr style=\"text-align: right;\">\n      <th></th>\n      <th>ace_clubs</th>\n      <th>ace_diamonds</th>\n      <th>ace_hearts</th>\n      <th>ace_spades</th>\n      <th>eight_clubs</th>\n      <th>eight_diamonds</th>\n      <th>eight_hearts</th>\n      <th>eight_spades</th>\n      <th>five_clubs</th>\n      <th>five_diamonds</th>\n      <th>...</th>\n      <th>ten_hearts</th>\n      <th>ten_spades</th>\n      <th>three_clubs</th>\n      <th>three_diamonds</th>\n      <th>three_hearts</th>\n      <th>three_spades</th>\n      <th>two_clubs</th>\n      <th>two_diamonds</th>\n      <th>two_hearts</th>\n      <th>two_spades</th>\n    </tr>\n  </thead>\n  <tbody>\n    <tr>\n      <th>478609</th>\n      <td>0</td>\n      <td>0</td>\n      <td>0</td>\n      <td>0</td>\n      <td>0</td>\n      <td>0</td>\n      <td>0</td>\n      <td>1</td>\n      <td>0</td>\n      <td>0</td>\n      <td>...</td>\n      <td>0</td>\n      <td>0</td>\n      <td>0</td>\n      <td>0</td>\n      <td>0</td>\n      <td>1</td>\n      <td>0</td>\n      <td>0</td>\n      <td>0</td>\n      <td>0</td>\n    </tr>\n    <tr>\n      <th>516439</th>\n      <td>0</td>\n      <td>0</td>\n      <td>0</td>\n      <td>0</td>\n      <td>0</td>\n      <td>0</td>\n      <td>0</td>\n      <td>1</td>\n      <td>0</td>\n      <td>0</td>\n      <td>...</td>\n      <td>0</td>\n      <td>0</td>\n      <td>0</td>\n      <td>0</td>\n      <td>0</td>\n      <td>0</td>\n      <td>0</td>\n      <td>0</td>\n      <td>1</td>\n      <td>0</td>\n    </tr>\n    <tr>\n      <th>211136</th>\n      <td>0</td>\n      <td>0</td>\n      <td>1</td>\n      <td>0</td>\n      <td>0</td>\n      <td>0</td>\n      <td>0</td>\n      <td>0</td>\n      <td>0</td>\n      <td>1</td>\n      <td>...</td>\n      <td>0</td>\n      <td>0</td>\n      <td>0</td>\n      <td>0</td>\n      <td>0</td>\n      <td>0</td>\n      <td>0</td>\n      <td>0</td>\n      <td>0</td>\n      <td>0</td>\n    </tr>\n    <tr>\n      <th>899</th>\n      <td>0</td>\n      <td>0</td>\n      <td>0</td>\n      <td>0</td>\n      <td>0</td>\n      <td>0</td>\n      <td>0</td>\n      <td>0</td>\n      <td>0</td>\n      <td>0</td>\n      <td>...</td>\n      <td>0</td>\n      <td>1</td>\n      <td>0</td>\n      <td>0</td>\n      <td>0</td>\n      <td>0</td>\n      <td>0</td>\n      <td>0</td>\n      <td>0</td>\n      <td>0</td>\n    </tr>\n    <tr>\n      <th>242082</th>\n      <td>0</td>\n      <td>0</td>\n      <td>0</td>\n      <td>0</td>\n      <td>0</td>\n      <td>0</td>\n      <td>0</td>\n      <td>0</td>\n      <td>0</td>\n      <td>0</td>\n      <td>...</td>\n      <td>0</td>\n      <td>0</td>\n      <td>0</td>\n      <td>1</td>\n      <td>0</td>\n      <td>0</td>\n      <td>0</td>\n      <td>1</td>\n      <td>0</td>\n      <td>0</td>\n    </tr>\n  </tbody>\n</table>\n<p>5 rows × 52 columns</p>\n</div>"
          },
          "metadata": {}
        }
      ],
      "execution_count": 7,
      "metadata": {
        "scrolled": true,
        "gather": {
          "logged": 1612227090052
        }
      }
    },
    {
      "cell_type": "code",
      "source": [
        "y_train.shape, y_test.shape"
      ],
      "outputs": [
        {
          "output_type": "execute_result",
          "execution_count": 8,
          "data": {
            "text/plain": "((720000,), (80000,))"
          },
          "metadata": {}
        }
      ],
      "execution_count": 8,
      "metadata": {
        "gather": {
          "logged": 1612227090359
        }
      }
    },
    {
      "cell_type": "markdown",
      "source": [
        "\n",
        "## 2. Model  \n",
        "\n",
        "### kNN\n",
        "try diff values of k = [3,7]"
      ],
      "metadata": {}
    },
    {
      "cell_type": "code",
      "source": [
        "#track time\n",
        "t0 = time.time()\n",
        "\n",
        "clf = KNeighborsClassifier(n_neighbors=3)\n",
        "clf.fit(X_train, y_train)\n",
        "\n",
        "print (\"Training time (in min)\", (time.time() - t0)/60)\n",
        "\n",
        "#predict\n",
        "y_hat=clf.predict(X_test)\n",
        "print (\"+ Testing time (in min)\", (time.time() - t0)/60)\n",
        "\n",
        "accuracy_score(y_hat,y_test)"
      ],
      "outputs": [
        {
          "output_type": "stream",
          "name": "stdout",
          "text": [
            "Training time (in min) 0.008503878116607666\n",
            "+ Testing time (in min) 23.600722944736482\n"
          ]
        },
        {
          "output_type": "execute_result",
          "execution_count": 9,
          "data": {
            "text/plain": "0.7499375"
          },
          "metadata": {}
        }
      ],
      "execution_count": 9,
      "metadata": {
        "gather": {
          "logged": 1612228506122
        }
      }
    },
    {
      "cell_type": "code",
      "source": [
        "unique, counts = np.unique(y_hat, return_counts=True)\n",
        "print (np.asarray((unique, counts)).T)"
      ],
      "outputs": [
        {
          "output_type": "stream",
          "name": "stdout",
          "text": [
            "[[    0 44757]\n",
            " [    1 32765]\n",
            " [    2  1551]\n",
            " [    3   802]\n",
            " [    4    48]\n",
            " [    5    52]\n",
            " [    6    20]\n",
            " [    7     5]]\n"
          ]
        }
      ],
      "execution_count": 10,
      "metadata": {
        "gather": {
          "logged": 1612228506253
        }
      }
    },
    {
      "cell_type": "code",
      "source": [
        "cm = confusion_matrix(y_test, y_hat)\n",
        "print(\"Confusion matrix:\\n{}\".format(cm))"
      ],
      "outputs": [
        {
          "output_type": "stream",
          "name": "stdout",
          "text": [
            "Confusion matrix:\n",
            "[[34746  5479     0     0    14    14     0     0     0]\n",
            " [ 9634 23499   453    43    12     6     0     0     0]\n",
            " [    0  2786   997    13     0     0     3     0     0]\n",
            " [    0   939    31   685     0     0     8     0     0]\n",
            " [  260    46     0     0    22     0     0     0     0]\n",
            " [  116    16     0     0     0    32     0     0     0]\n",
            " [    0     0    70    37     0     0     9     0     0]\n",
            " [    0     0     0    24     0     0     0     5     0]\n",
            " [    1     0     0     0     0     0     0     0     0]]\n"
          ]
        }
      ],
      "execution_count": 11,
      "metadata": {
        "gather": {
          "logged": 1612228506351
        }
      }
    },
    {
      "cell_type": "code",
      "source": [
        "#track time\n",
        "t0 = time.time()\n",
        "\n",
        "clf = KNeighborsClassifier(n_neighbors=5)\n",
        "clf.fit(X_train, y_train)\n",
        "\n",
        "print (\"Training time (in min)\", (time.time() - t0)/60)\n",
        "\n",
        "#predict\n",
        "y_hat=clf.predict(X_test)\n",
        "print (\"+ Testing time (in min)\", (time.time() - t0)/60)\n",
        "\n",
        "accuracy_score(y_hat,y_test)"
      ],
      "outputs": [
        {
          "output_type": "stream",
          "name": "stdout",
          "text": [
            "Training time (in min) 0.007603196303049723\n",
            "+ Testing time (in min) 27.85140189329783\n"
          ]
        },
        {
          "output_type": "execute_result",
          "execution_count": 12,
          "data": {
            "text/plain": "0.7847625"
          },
          "metadata": {}
        }
      ],
      "execution_count": 12,
      "metadata": {
        "gather": {
          "logged": 1612230177335
        }
      }
    },
    {
      "cell_type": "code",
      "source": [
        "unique, counts = np.unique(y_hat, return_counts=True)\n",
        "print (np.asarray((unique, counts)).T)"
      ],
      "outputs": [
        {
          "output_type": "stream",
          "name": "stdout",
          "text": [
            "[[    0 45327]\n",
            " [    1 32982]\n",
            " [    2   970]\n",
            " [    3   689]\n",
            " [    4    13]\n",
            " [    5    15]\n",
            " [    6     3]\n",
            " [    7     1]]\n"
          ]
        }
      ],
      "execution_count": 13,
      "metadata": {
        "gather": {
          "logged": 1612230177520
        }
      }
    },
    {
      "cell_type": "code",
      "source": [
        "cm = confusion_matrix(y_test, y_hat)\n",
        "print(\"Confusion matrix:\\n{}\".format(cm))"
      ],
      "outputs": [
        {
          "output_type": "stream",
          "name": "stdout",
          "text": [
            "Confusion matrix:\n",
            "[[36443  3806     0     0     2     2     0     0     0]\n",
            " [ 8468 25000   152    20     5     2     0     0     0]\n",
            " [    0  3087   710     2     0     0     0     0     0]\n",
            " [    0  1029    23   609     0     0     2     0     0]\n",
            " [  276    46     0     0     6     0     0     0     0]\n",
            " [  139    14     0     0     0    11     0     0     0]\n",
            " [    0     0    85    30     0     0     1     0     0]\n",
            " [    0     0     0    28     0     0     0     1     0]\n",
            " [    1     0     0     0     0     0     0     0     0]]\n"
          ]
        }
      ],
      "execution_count": 14,
      "metadata": {
        "gather": {
          "logged": 1612230177682
        }
      }
    },
    {
      "cell_type": "markdown",
      "source": [
        "kNN models trained on transformed Kaggle dataset (800K records in learning set) perform at 74%+ accuracy, which is a great improvement over models trained on non-transformed data.\n",
        "\n",
        "##### Summary\n",
        "Same data represented differently made a simple algorithm way more accurate than a DL model with non-transformed data.  So it really matters how you feed the data to ML. "
      ],
      "metadata": {}
    },
    {
      "cell_type": "code",
      "source": [
        "mystop"
      ],
      "outputs": [
        {
          "output_type": "error",
          "ename": "NameError",
          "evalue": "name 'mystop' is not defined",
          "traceback": [
            "\u001b[0;31m---------------------------------------------------------------------------\u001b[0m",
            "\u001b[0;31mNameError\u001b[0m                                 Traceback (most recent call last)",
            "\u001b[0;32m<ipython-input-15-255d8eb4da7e>\u001b[0m in \u001b[0;36m<module>\u001b[0;34m\u001b[0m\n\u001b[0;32m----> 1\u001b[0;31m \u001b[0mmystop\u001b[0m\u001b[0;34m\u001b[0m\u001b[0;34m\u001b[0m\u001b[0m\n\u001b[0m",
            "\u001b[0;31mNameError\u001b[0m: name 'mystop' is not defined"
          ]
        }
      ],
      "execution_count": 15,
      "metadata": {}
    },
    {
      "cell_type": "code",
      "source": [
        "#track time\n",
        "t0 = time.time()\n",
        "\n",
        "clf = KNeighborsClassifier(n_neighbors=7)\n",
        "clf.fit(x_train, y_train)\n",
        "\n",
        "print (\"Training time (in min)\", (time.time() - t0)/60)\n",
        "\n",
        "#predict\n",
        "y_hat=clf.predict(x_test)\n",
        "print (\"+ Testing time (in min)\", (time.time() - t0)/60)\n",
        "\n",
        "accuracy_score(y_hat,y_test)"
      ],
      "outputs": [],
      "execution_count": null,
      "metadata": {}
    },
    {
      "cell_type": "code",
      "source": [
        "unique, counts = np.unique(y_hat, return_counts=True)\n",
        "print (np.asarray((unique, counts)).T)"
      ],
      "outputs": [],
      "execution_count": null,
      "metadata": {}
    },
    {
      "cell_type": "code",
      "source": [
        "cm = confusion_matrix(y_test, y_hat)\n",
        "print(\"Confusion matrix:\\n{}\".format(cm))"
      ],
      "outputs": [],
      "execution_count": null,
      "metadata": {}
    },
    {
      "cell_type": "code",
      "source": [
        "mystop"
      ],
      "outputs": [],
      "execution_count": null,
      "metadata": {}
    },
    {
      "cell_type": "markdown",
      "source": [
        "Slightly better results with higher value of k -> finetune hyperparam k.  Test time increases slightly with k."
      ],
      "metadata": {}
    },
    {
      "cell_type": "code",
      "source": [
        "mystop"
      ],
      "outputs": [],
      "execution_count": null,
      "metadata": {}
    },
    {
      "cell_type": "markdown",
      "source": [
        "## Xtra"
      ],
      "metadata": {}
    },
    {
      "cell_type": "code",
      "source": [
        "import scipy.sparse\n",
        "mat = scipy.sparse.eye(3)\n",
        "pd.DataFrame.sparse.from_spmatrix(mat)\n"
      ],
      "outputs": [],
      "execution_count": null,
      "metadata": {}
    },
    {
      "cell_type": "code",
      "source": [],
      "outputs": [],
      "execution_count": null,
      "metadata": {}
    }
  ],
  "metadata": {
    "hide_input": false,
    "kernelspec": {
      "name": "fastai",
      "language": "python",
      "display_name": "Python (fastai)"
    },
    "language_info": {
      "name": "python",
      "version": "3.8.3",
      "mimetype": "text/x-python",
      "codemirror_mode": {
        "name": "ipython",
        "version": 3
      },
      "pygments_lexer": "ipython3",
      "nbconvert_exporter": "python",
      "file_extension": ".py"
    },
    "toc": {
      "toc_position": {},
      "skip_h1_title": false,
      "number_sections": true,
      "title_cell": "Table of Contents",
      "toc_window_display": false,
      "base_numbering": 1,
      "toc_section_display": true,
      "title_sidebar": "Contents",
      "toc_cell": false,
      "nav_menu": {},
      "sideBar": true
    },
    "kernel_info": {
      "name": "fastai"
    },
    "nteract": {
      "version": "nteract-front-end@1.0.0"
    }
  },
  "nbformat": 4,
  "nbformat_minor": 4
}