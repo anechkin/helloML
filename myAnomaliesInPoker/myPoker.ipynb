{
 "cells": [
  {
   "cell_type": "markdown",
   "metadata": {},
   "source": [
    "# Hackathon 2020\n",
    "## How to: Anomalies\n",
    "before we find a dataset here"
   ]
  },
  {
   "cell_type": "code",
   "execution_count": 1,
   "metadata": {},
   "outputs": [],
   "source": [
    "#meta 20190103\n",
    "# Explore anomalies with Poker dataset\n"
   ]
  },
  {
   "cell_type": "code",
   "execution_count": 2,
   "metadata": {},
   "outputs": [],
   "source": [
    "import time as time #to track performance time\n",
    "import numpy as np\n",
    "import pandas as pd #for data processing\n",
    "import matplotlib.pyplot as plt #for plotting\n",
    "%matplotlib inline\n",
    "\n",
    "#modeling help\n",
    "from sklearn.model_selection import train_test_split\n",
    "from sklearn.model_selection import cross_val_score  #to cross-validate training data\n",
    "from sklearn import preprocessing #for onehotencoder\n",
    "#import category_encoders as ce #transformers for encoding categorical variables into numeric with diff techniques\n",
    "from sklearn import metrics # to evaluate model\n",
    "\n",
    "\n",
    "#modeling algos\n",
    "from sklearn.linear_model import LogisticRegression\n",
    "#from sklearn import tree\n",
    "#from sklearn.tree import export_graphviz\n",
    "#from sklearn.ensemble import RandomForestClassifier\n",
    "from sklearn.linear_model import SGDClassifier\n",
    "from sklearn.ensemble import GradientBoostingClassifier \n",
    "from sklearn.pipeline import Pipeline #streamline Tokenizing + Classification model\n",
    "\n",
    "#grid search\n",
    "from sklearn.model_selection import GridSearchCV\n",
    "\n",
    "#state persistence\n",
    "from joblib import dump, load #to pickle the model and pipe it to API writing step\n",
    "\n",
    "#clustering\n",
    "from sklearn.metrics import jaccard_similarity_score\n",
    "from sklearn.metrics.pairwise import pairwise_distances\n",
    "from sklearn.metrics.pairwise import cosine_similarity\n"
   ]
  },
  {
   "cell_type": "code",
   "execution_count": 3,
   "metadata": {},
   "outputs": [],
   "source": [
    " #----------------------------------------------- set CONSTANTS and variables -----------------------------------------------\n",
    "input_verbose_flg = 1"
   ]
  },
  {
   "cell_type": "markdown",
   "metadata": {},
   "source": [
    "## 0. Load data\n",
    "from Kaggle\n",
    "\n",
    "Statistics\n",
    "\n",
    "      Poker Hand       # of hands\tProbability\t# of combinations\n",
    "      Royal Flush      4\t\t0.00000154\t480\n",
    "      Straight Flush   36\t\t0.00001385\t4320\n",
    "      Four of a kind   624\t\t0.0002401\t74880\n",
    "      Full house       3744\t\t0.00144058\t449280\n",
    "      Flush            5108\t\t0.0019654\t612960\n",
    "      Straight         10200\t\t0.00392464\t1224000\n",
    "      Three of a kind  54912\t\t0.02112845\t6589440\n",
    "      Two pairs        123552\t\t0.04753902\t14826240\n",
    "      One pair         1098240\t\t0.42256903\t131788800\n",
    "      Nothing          1302540\t\t0.50117739\t156304800\n",
    "\n",
    "      Total            2598960\t\t1.0\t\t311875200\n",
    "\n",
    "      The number of combinations represents the number of instances in the entire domain.\n",
    "\n",
    "CLASS “Poker Hand”\n",
    "      Ordinal (0-9)\n",
    "\n",
    "      0: Nothing in hand; not a recognized poker hand \n",
    "      1: One pair; one pair of equal ranks within five cards\n",
    "      2: Two pairs; two pairs of equal ranks within five cards\n",
    "      3: Three of a kind; three equal ranks within five cards\n",
    "      4: Straight; five cards, sequentially ranked with no gaps\n",
    "      5: Flush; five cards with the same suit\n",
    "      6: Full house; pair + different rank three of a kind\n",
    "      7: Four of a kind; four equal ranks within five cards\n",
    "      8: Straight flush; straight + flush\n",
    "      9: Royal flush; {Ace, King, Queen, Jack, Ten} + flush"
   ]
  },
  {
   "cell_type": "code",
   "execution_count": 4,
   "metadata": {},
   "outputs": [
    {
     "name": "stdout",
     "output_type": "stream",
     "text": [
      "(800000, 11)\n"
     ]
    },
    {
     "data": {
      "text/html": [
       "<div>\n",
       "<style scoped>\n",
       "    .dataframe tbody tr th:only-of-type {\n",
       "        vertical-align: middle;\n",
       "    }\n",
       "\n",
       "    .dataframe tbody tr th {\n",
       "        vertical-align: top;\n",
       "    }\n",
       "\n",
       "    .dataframe thead th {\n",
       "        text-align: right;\n",
       "    }\n",
       "</style>\n",
       "<table border=\"1\" class=\"dataframe\">\n",
       "  <thead>\n",
       "    <tr style=\"text-align: right;\">\n",
       "      <th></th>\n",
       "      <th>s1</th>\n",
       "      <th>c1</th>\n",
       "      <th>s2</th>\n",
       "      <th>c2</th>\n",
       "      <th>s3</th>\n",
       "      <th>c3</th>\n",
       "      <th>s4</th>\n",
       "      <th>c4</th>\n",
       "      <th>s5</th>\n",
       "      <th>c5</th>\n",
       "      <th>class</th>\n",
       "    </tr>\n",
       "  </thead>\n",
       "  <tbody>\n",
       "    <tr>\n",
       "      <th>0</th>\n",
       "      <td>4</td>\n",
       "      <td>7</td>\n",
       "      <td>3</td>\n",
       "      <td>5</td>\n",
       "      <td>3</td>\n",
       "      <td>3</td>\n",
       "      <td>1</td>\n",
       "      <td>13</td>\n",
       "      <td>4</td>\n",
       "      <td>8</td>\n",
       "      <td>0</td>\n",
       "    </tr>\n",
       "    <tr>\n",
       "      <th>1</th>\n",
       "      <td>2</td>\n",
       "      <td>8</td>\n",
       "      <td>4</td>\n",
       "      <td>9</td>\n",
       "      <td>4</td>\n",
       "      <td>6</td>\n",
       "      <td>4</td>\n",
       "      <td>1</td>\n",
       "      <td>3</td>\n",
       "      <td>7</td>\n",
       "      <td>0</td>\n",
       "    </tr>\n",
       "    <tr>\n",
       "      <th>2</th>\n",
       "      <td>3</td>\n",
       "      <td>6</td>\n",
       "      <td>1</td>\n",
       "      <td>3</td>\n",
       "      <td>2</td>\n",
       "      <td>11</td>\n",
       "      <td>3</td>\n",
       "      <td>9</td>\n",
       "      <td>2</td>\n",
       "      <td>3</td>\n",
       "      <td>1</td>\n",
       "    </tr>\n",
       "    <tr>\n",
       "      <th>3</th>\n",
       "      <td>2</td>\n",
       "      <td>10</td>\n",
       "      <td>2</td>\n",
       "      <td>5</td>\n",
       "      <td>4</td>\n",
       "      <td>13</td>\n",
       "      <td>3</td>\n",
       "      <td>9</td>\n",
       "      <td>1</td>\n",
       "      <td>6</td>\n",
       "      <td>0</td>\n",
       "    </tr>\n",
       "    <tr>\n",
       "      <th>4</th>\n",
       "      <td>3</td>\n",
       "      <td>2</td>\n",
       "      <td>1</td>\n",
       "      <td>3</td>\n",
       "      <td>4</td>\n",
       "      <td>7</td>\n",
       "      <td>3</td>\n",
       "      <td>5</td>\n",
       "      <td>1</td>\n",
       "      <td>11</td>\n",
       "      <td>0</td>\n",
       "    </tr>\n",
       "  </tbody>\n",
       "</table>\n",
       "</div>"
      ],
      "text/plain": [
       "   s1  c1  s2  c2  s3  c3  s4  c4  s5  c5  class\n",
       "0   4   7   3   5   3   3   1  13   4   8      0\n",
       "1   2   8   4   9   4   6   4   1   3   7      0\n",
       "2   3   6   1   3   2  11   3   9   2   3      1\n",
       "3   2  10   2   5   4  13   3   9   1   6      0\n",
       "4   3   2   1   3   4   7   3   5   1  11      0"
      ]
     },
     "execution_count": 4,
     "metadata": {},
     "output_type": "execute_result"
    }
   ],
   "source": [
    "df = pd.read_csv(\"data/train.csv\")\n",
    "print (df.shape)\n",
    "df.head()"
   ]
  },
  {
   "cell_type": "code",
   "execution_count": 5,
   "metadata": {},
   "outputs": [
    {
     "data": {
      "text/plain": [
       "s1       0\n",
       "c1       0\n",
       "s2       0\n",
       "c2       0\n",
       "s3       0\n",
       "c3       0\n",
       "s4       0\n",
       "c4       0\n",
       "s5       0\n",
       "c5       0\n",
       "class    0\n",
       "dtype: int64"
      ]
     },
     "execution_count": 5,
     "metadata": {},
     "output_type": "execute_result"
    }
   ],
   "source": [
    "#check for nulls\n",
    "df.isnull().sum()"
   ]
  },
  {
   "cell_type": "code",
   "execution_count": 6,
   "metadata": {},
   "outputs": [
    {
     "data": {
      "text/plain": [
       "s1       int64\n",
       "c1       int64\n",
       "s2       int64\n",
       "c2       int64\n",
       "s3       int64\n",
       "c3       int64\n",
       "s4       int64\n",
       "c4       int64\n",
       "s5       int64\n",
       "c5       int64\n",
       "class    int64\n",
       "dtype: object"
      ]
     },
     "execution_count": 6,
     "metadata": {},
     "output_type": "execute_result"
    }
   ],
   "source": [
    "#look at types\n",
    "df.dtypes"
   ]
  },
  {
   "cell_type": "markdown",
   "metadata": {},
   "source": [
    "## 1. Prep Data\n",
    "Only interested in anomalies  \n",
    "#### Anomaly definition: Four of a Kind  \n",
    "i.e. 4 Aces"
   ]
  },
  {
   "cell_type": "code",
   "execution_count": 7,
   "metadata": {},
   "outputs": [
    {
     "data": {
      "text/html": [
       "<div>\n",
       "<style scoped>\n",
       "    .dataframe tbody tr th:only-of-type {\n",
       "        vertical-align: middle;\n",
       "    }\n",
       "\n",
       "    .dataframe tbody tr th {\n",
       "        vertical-align: top;\n",
       "    }\n",
       "\n",
       "    .dataframe thead th {\n",
       "        text-align: right;\n",
       "    }\n",
       "</style>\n",
       "<table border=\"1\" class=\"dataframe\">\n",
       "  <thead>\n",
       "    <tr style=\"text-align: right;\">\n",
       "      <th></th>\n",
       "      <th>s1</th>\n",
       "      <th>c1</th>\n",
       "      <th>s2</th>\n",
       "      <th>c2</th>\n",
       "      <th>s3</th>\n",
       "      <th>c3</th>\n",
       "      <th>s4</th>\n",
       "      <th>c4</th>\n",
       "      <th>s5</th>\n",
       "      <th>c5</th>\n",
       "      <th>class</th>\n",
       "    </tr>\n",
       "  </thead>\n",
       "  <tbody>\n",
       "    <tr>\n",
       "      <th>784282</th>\n",
       "      <td>1</td>\n",
       "      <td>1</td>\n",
       "      <td>4</td>\n",
       "      <td>1</td>\n",
       "      <td>2</td>\n",
       "      <td>7</td>\n",
       "      <td>2</td>\n",
       "      <td>1</td>\n",
       "      <td>3</td>\n",
       "      <td>1</td>\n",
       "      <td>7</td>\n",
       "    </tr>\n",
       "    <tr>\n",
       "      <th>792087</th>\n",
       "      <td>1</td>\n",
       "      <td>11</td>\n",
       "      <td>4</td>\n",
       "      <td>9</td>\n",
       "      <td>1</td>\n",
       "      <td>9</td>\n",
       "      <td>2</td>\n",
       "      <td>9</td>\n",
       "      <td>3</td>\n",
       "      <td>9</td>\n",
       "      <td>7</td>\n",
       "    </tr>\n",
       "    <tr>\n",
       "      <th>794212</th>\n",
       "      <td>2</td>\n",
       "      <td>3</td>\n",
       "      <td>3</td>\n",
       "      <td>3</td>\n",
       "      <td>1</td>\n",
       "      <td>10</td>\n",
       "      <td>1</td>\n",
       "      <td>3</td>\n",
       "      <td>4</td>\n",
       "      <td>3</td>\n",
       "      <td>7</td>\n",
       "    </tr>\n",
       "    <tr>\n",
       "      <th>796455</th>\n",
       "      <td>1</td>\n",
       "      <td>3</td>\n",
       "      <td>1</td>\n",
       "      <td>4</td>\n",
       "      <td>4</td>\n",
       "      <td>3</td>\n",
       "      <td>3</td>\n",
       "      <td>3</td>\n",
       "      <td>2</td>\n",
       "      <td>3</td>\n",
       "      <td>7</td>\n",
       "    </tr>\n",
       "    <tr>\n",
       "      <th>799865</th>\n",
       "      <td>2</td>\n",
       "      <td>12</td>\n",
       "      <td>4</td>\n",
       "      <td>12</td>\n",
       "      <td>3</td>\n",
       "      <td>12</td>\n",
       "      <td>1</td>\n",
       "      <td>12</td>\n",
       "      <td>2</td>\n",
       "      <td>3</td>\n",
       "      <td>7</td>\n",
       "    </tr>\n",
       "  </tbody>\n",
       "</table>\n",
       "</div>"
      ],
      "text/plain": [
       "        s1  c1  s2  c2  s3  c3  s4  c4  s5  c5  class\n",
       "784282   1   1   4   1   2   7   2   1   3   1      7\n",
       "792087   1  11   4   9   1   9   2   9   3   9      7\n",
       "794212   2   3   3   3   1  10   1   3   4   3      7\n",
       "796455   1   3   1   4   4   3   3   3   2   3      7\n",
       "799865   2  12   4  12   3  12   1  12   2   3      7"
      ]
     },
     "execution_count": 7,
     "metadata": {},
     "output_type": "execute_result"
    }
   ],
   "source": [
    "idx_anomalies = df[df['class']==7].index\n",
    "df.loc[idx_anomalies].tail()"
   ]
  },
  {
   "cell_type": "code",
   "execution_count": 8,
   "metadata": {},
   "outputs": [
    {
     "data": {
      "text/html": [
       "<div>\n",
       "<style scoped>\n",
       "    .dataframe tbody tr th:only-of-type {\n",
       "        vertical-align: middle;\n",
       "    }\n",
       "\n",
       "    .dataframe tbody tr th {\n",
       "        vertical-align: top;\n",
       "    }\n",
       "\n",
       "    .dataframe thead th {\n",
       "        text-align: right;\n",
       "    }\n",
       "</style>\n",
       "<table border=\"1\" class=\"dataframe\">\n",
       "  <thead>\n",
       "    <tr style=\"text-align: right;\">\n",
       "      <th></th>\n",
       "      <th>s1</th>\n",
       "      <th>c1</th>\n",
       "      <th>s2</th>\n",
       "      <th>c2</th>\n",
       "      <th>s3</th>\n",
       "      <th>c3</th>\n",
       "      <th>s4</th>\n",
       "      <th>c4</th>\n",
       "      <th>s5</th>\n",
       "      <th>c5</th>\n",
       "      <th>class</th>\n",
       "      <th>class_4ofakind</th>\n",
       "    </tr>\n",
       "  </thead>\n",
       "  <tbody>\n",
       "    <tr>\n",
       "      <th>0</th>\n",
       "      <td>4</td>\n",
       "      <td>7</td>\n",
       "      <td>3</td>\n",
       "      <td>5</td>\n",
       "      <td>3</td>\n",
       "      <td>3</td>\n",
       "      <td>1</td>\n",
       "      <td>13</td>\n",
       "      <td>4</td>\n",
       "      <td>8</td>\n",
       "      <td>0</td>\n",
       "      <td>0</td>\n",
       "    </tr>\n",
       "    <tr>\n",
       "      <th>1</th>\n",
       "      <td>2</td>\n",
       "      <td>8</td>\n",
       "      <td>4</td>\n",
       "      <td>9</td>\n",
       "      <td>4</td>\n",
       "      <td>6</td>\n",
       "      <td>4</td>\n",
       "      <td>1</td>\n",
       "      <td>3</td>\n",
       "      <td>7</td>\n",
       "      <td>0</td>\n",
       "      <td>0</td>\n",
       "    </tr>\n",
       "    <tr>\n",
       "      <th>2</th>\n",
       "      <td>3</td>\n",
       "      <td>6</td>\n",
       "      <td>1</td>\n",
       "      <td>3</td>\n",
       "      <td>2</td>\n",
       "      <td>11</td>\n",
       "      <td>3</td>\n",
       "      <td>9</td>\n",
       "      <td>2</td>\n",
       "      <td>3</td>\n",
       "      <td>1</td>\n",
       "      <td>0</td>\n",
       "    </tr>\n",
       "    <tr>\n",
       "      <th>3</th>\n",
       "      <td>2</td>\n",
       "      <td>10</td>\n",
       "      <td>2</td>\n",
       "      <td>5</td>\n",
       "      <td>4</td>\n",
       "      <td>13</td>\n",
       "      <td>3</td>\n",
       "      <td>9</td>\n",
       "      <td>1</td>\n",
       "      <td>6</td>\n",
       "      <td>0</td>\n",
       "      <td>0</td>\n",
       "    </tr>\n",
       "    <tr>\n",
       "      <th>4</th>\n",
       "      <td>3</td>\n",
       "      <td>2</td>\n",
       "      <td>1</td>\n",
       "      <td>3</td>\n",
       "      <td>4</td>\n",
       "      <td>7</td>\n",
       "      <td>3</td>\n",
       "      <td>5</td>\n",
       "      <td>1</td>\n",
       "      <td>11</td>\n",
       "      <td>0</td>\n",
       "      <td>0</td>\n",
       "    </tr>\n",
       "  </tbody>\n",
       "</table>\n",
       "</div>"
      ],
      "text/plain": [
       "   s1  c1  s2  c2  s3  c3  s4  c4  s5  c5  class  class_4ofakind\n",
       "0   4   7   3   5   3   3   1  13   4   8      0               0\n",
       "1   2   8   4   9   4   6   4   1   3   7      0               0\n",
       "2   3   6   1   3   2  11   3   9   2   3      1               0\n",
       "3   2  10   2   5   4  13   3   9   1   6      0               0\n",
       "4   3   2   1   3   4   7   3   5   1  11      0               0"
      ]
     },
     "execution_count": 8,
     "metadata": {},
     "output_type": "execute_result"
    }
   ],
   "source": [
    "df_tidy = df.copy()\n",
    "df_tidy['class_4ofakind'] = 0\n",
    "df_tidy['class_4ofakind'].loc[idx_anomalies] = 1\n",
    "\n",
    "df_tidy.head()\n"
   ]
  },
  {
   "cell_type": "markdown",
   "metadata": {},
   "source": [
    "### 1.1 Vis \n",
    "Look at distributions"
   ]
  },
  {
   "cell_type": "code",
   "execution_count": 9,
   "metadata": {},
   "outputs": [
    {
     "name": "stdout",
     "output_type": "stream",
     "text": [
      "class\n",
      "0    400573\n",
      "1    338169\n",
      "2     38173\n",
      "3     16988\n",
      "4      3126\n",
      "5      1620\n",
      "6      1150\n",
      "7       189\n",
      "8        10\n",
      "9         2\n",
      "dtype: int64\n"
     ]
    },
    {
     "data": {
      "text/plain": [
       "<matplotlib.axes._subplots.AxesSubplot at 0x232d70a92b0>"
      ]
     },
     "execution_count": 9,
     "metadata": {},
     "output_type": "execute_result"
    },
    {
     "data": {
      "image/png": "[encoded data removed]",
      "text/plain": [
       "<Figure size 432x288 with 1 Axes>"
      ]
     },
     "metadata": {
      "needs_background": "light"
     },
     "output_type": "display_data"
    }
   ],
   "source": [
    "df_grp = df.groupby('class').size()\n",
    "print(df_grp)\n",
    "df_grp.plot.bar(title='Class Distribution: All Types of Poker Hands')"
   ]
  },
  {
   "cell_type": "code",
   "execution_count": 10,
   "metadata": {},
   "outputs": [
    {
     "name": "stdout",
     "output_type": "stream",
     "text": [
      "class_4ofakind\n",
      "0    799811\n",
      "1       189\n",
      "dtype: int64\n"
     ]
    },
    {
     "data": {
      "text/plain": [
       "<matplotlib.axes._subplots.AxesSubplot at 0x232d73d35f8>"
      ]
     },
     "execution_count": 10,
     "metadata": {},
     "output_type": "execute_result"
    },
    {
     "data": {
      "image/png": "[encoded data removed]",
      "text/plain": [
       "<Figure size 432x288 with 1 Axes>"
      ]
     },
     "metadata": {
      "needs_background": "light"
     },
     "output_type": "display_data"
    }
   ],
   "source": [
    "df_tidy_grp = df_tidy.groupby('class_4ofakind').size()\n",
    "print(df_tidy_grp)\n",
    "df_tidy_grp.plot.bar(title='Class Distribution: 0-Normal and 1-Anomalies')"
   ]
  },
  {
   "cell_type": "markdown",
   "metadata": {},
   "source": [
    "Looks like '4 of a kind' poker hands can be considered an anomaly!\n",
    "\n",
    "### 1.2 Prep data for ML\n",
    "- Categorical data\n"
   ]
  },
  {
   "cell_type": "code",
   "execution_count": 11,
   "metadata": {},
   "outputs": [
    {
     "data": {
      "text/plain": [
       "s1                category\n",
       "c1                category\n",
       "s2                category\n",
       "c2                category\n",
       "s3                category\n",
       "c3                category\n",
       "s4                category\n",
       "c4                category\n",
       "s5                category\n",
       "c5                category\n",
       "class             category\n",
       "class_4ofakind    category\n",
       "dtype: object"
      ]
     },
     "execution_count": 11,
     "metadata": {},
     "output_type": "execute_result"
    }
   ],
   "source": [
    "#handle data types - categories\n",
    "for col in df_tidy.columns: \n",
    "    df_tidy.loc[:,col]= df_tidy[col].fillna('UNK').astype('category')\n",
    "    \n",
    "#check new types\n",
    "df_tidy.dtypes"
   ]
  },
  {
   "cell_type": "markdown",
   "metadata": {},
   "source": [
    "### 1.2a Prep Smaller Data for ML\n",
    "to build POC models faster"
   ]
  },
  {
   "cell_type": "code",
   "execution_count": 12,
   "metadata": {},
   "outputs": [
    {
     "name": "stdout",
     "output_type": "stream",
     "text": [
      "(5000, 12)\n",
      "Smaller dataset for modeling: \n"
     ]
    },
    {
     "data": {
      "text/plain": [
       "(5189, 12)"
      ]
     },
     "execution_count": 12,
     "metadata": {},
     "output_type": "execute_result"
    }
   ],
   "source": [
    "#drop rows for faster performance during POC\n",
    "df_temp = df_tidy[~df_tidy.index.isin(idx_anomalies)].sample(n=5000, random_state=24).copy()\n",
    "print (df_temp.shape)\n",
    "\n",
    "df_tidy = pd.concat([df_temp, df_tidy.loc[idx_anomalies]] )\n",
    "print('Smaller dataset for modeling: ')\n",
    "df_tidy.shape"
   ]
  },
  {
   "cell_type": "code",
   "execution_count": 13,
   "metadata": {},
   "outputs": [
    {
     "name": "stdout",
     "output_type": "stream",
     "text": [
      "class_4ofakind\n",
      "0    5000\n",
      "1     189\n",
      "dtype: int64\n"
     ]
    },
    {
     "data": {
      "text/plain": [
       "<matplotlib.axes._subplots.AxesSubplot at 0x232d74588d0>"
      ]
     },
     "execution_count": 13,
     "metadata": {},
     "output_type": "execute_result"
    },
    {
     "data": {
      "image/png": "[encoded data removed]",
      "text/plain": [
       "<Figure size 432x288 with 1 Axes>"
      ]
     },
     "metadata": {
      "needs_background": "light"
     },
     "output_type": "display_data"
    }
   ],
   "source": [
    "df_tidy_grp = df_tidy.groupby('class_4ofakind').size()\n",
    "print(df_tidy_grp)\n",
    "\n",
    "df_tidy_grp.plot.bar(title='Class Distribution Smaller Dataset: 0-Normal and 1-Anomalies')"
   ]
  },
  {
   "cell_type": "markdown",
   "metadata": {},
   "source": [
    "#### Build X and y"
   ]
  },
  {
   "cell_type": "code",
   "execution_count": 14,
   "metadata": {},
   "outputs": [
    {
     "data": {
      "text/html": [
       "<div>\n",
       "<style scoped>\n",
       "    .dataframe tbody tr th:only-of-type {\n",
       "        vertical-align: middle;\n",
       "    }\n",
       "\n",
       "    .dataframe tbody tr th {\n",
       "        vertical-align: top;\n",
       "    }\n",
       "\n",
       "    .dataframe thead th {\n",
       "        text-align: right;\n",
       "    }\n",
       "</style>\n",
       "<table border=\"1\" class=\"dataframe\">\n",
       "  <thead>\n",
       "    <tr style=\"text-align: right;\">\n",
       "      <th></th>\n",
       "      <th>c1</th>\n",
       "      <th>c2</th>\n",
       "      <th>c3</th>\n",
       "      <th>c4</th>\n",
       "      <th>c5</th>\n",
       "    </tr>\n",
       "  </thead>\n",
       "  <tbody>\n",
       "    <tr>\n",
       "      <th>90895</th>\n",
       "      <td>12</td>\n",
       "      <td>11</td>\n",
       "      <td>2</td>\n",
       "      <td>4</td>\n",
       "      <td>1</td>\n",
       "    </tr>\n",
       "    <tr>\n",
       "      <th>326371</th>\n",
       "      <td>6</td>\n",
       "      <td>9</td>\n",
       "      <td>13</td>\n",
       "      <td>13</td>\n",
       "      <td>6</td>\n",
       "    </tr>\n",
       "    <tr>\n",
       "      <th>594585</th>\n",
       "      <td>4</td>\n",
       "      <td>9</td>\n",
       "      <td>3</td>\n",
       "      <td>11</td>\n",
       "      <td>12</td>\n",
       "    </tr>\n",
       "    <tr>\n",
       "      <th>238879</th>\n",
       "      <td>13</td>\n",
       "      <td>10</td>\n",
       "      <td>7</td>\n",
       "      <td>3</td>\n",
       "      <td>5</td>\n",
       "    </tr>\n",
       "    <tr>\n",
       "      <th>777970</th>\n",
       "      <td>4</td>\n",
       "      <td>10</td>\n",
       "      <td>6</td>\n",
       "      <td>7</td>\n",
       "      <td>3</td>\n",
       "    </tr>\n",
       "  </tbody>\n",
       "</table>\n",
       "</div>"
      ],
      "text/plain": [
       "        c1  c2  c3  c4  c5\n",
       "90895   12  11   2   4   1\n",
       "326371   6   9  13  13   6\n",
       "594585   4   9   3  11  12\n",
       "238879  13  10   7   3   5\n",
       "777970   4  10   6   7   3"
      ]
     },
     "execution_count": 14,
     "metadata": {},
     "output_type": "execute_result"
    }
   ],
   "source": [
    "#define columns in\n",
    "#X_cols = ['s1', 'c1', 's2', 'c2', 's3', 'c3', 's4', 'c4', 's5', 'c5']\n",
    "X_cols = ['c1', 'c2', 'c3', 'c4', 'c5']\n",
    "X = df_tidy[X_cols].copy()\n",
    "X.head()"
   ]
  },
  {
   "cell_type": "code",
   "execution_count": 15,
   "metadata": {},
   "outputs": [
    {
     "data": {
      "text/plain": [
       "90895     0\n",
       "326371    0\n",
       "594585    0\n",
       "238879    0\n",
       "777970    0\n",
       "Name: class_4ofakind, dtype: category\n",
       "Categories (2, int64): [0, 1]"
      ]
     },
     "execution_count": 15,
     "metadata": {},
     "output_type": "execute_result"
    }
   ],
   "source": [
    "y = df_tidy['class_4ofakind']\n",
    "y.head()"
   ]
  },
  {
   "cell_type": "markdown",
   "metadata": {},
   "source": [
    "- Split X into train and test portions (shared)\n"
   ]
  },
  {
   "cell_type": "code",
   "execution_count": 16,
   "metadata": {},
   "outputs": [
    {
     "name": "stdout",
     "output_type": "stream",
     "text": [
      "\n",
      "Total records in learning set: 5189\n",
      "Total records in training set: 3632\n",
      "Total records in test set: 1557\n"
     ]
    },
    {
     "data": {
      "text/html": [
       "<div>\n",
       "<style scoped>\n",
       "    .dataframe tbody tr th:only-of-type {\n",
       "        vertical-align: middle;\n",
       "    }\n",
       "\n",
       "    .dataframe tbody tr th {\n",
       "        vertical-align: top;\n",
       "    }\n",
       "\n",
       "    .dataframe thead th {\n",
       "        text-align: right;\n",
       "    }\n",
       "</style>\n",
       "<table border=\"1\" class=\"dataframe\">\n",
       "  <thead>\n",
       "    <tr style=\"text-align: right;\">\n",
       "      <th></th>\n",
       "      <th>c1</th>\n",
       "      <th>c2</th>\n",
       "      <th>c3</th>\n",
       "      <th>c4</th>\n",
       "      <th>c5</th>\n",
       "    </tr>\n",
       "  </thead>\n",
       "  <tbody>\n",
       "    <tr>\n",
       "      <th>293447</th>\n",
       "      <td>10</td>\n",
       "      <td>5</td>\n",
       "      <td>4</td>\n",
       "      <td>7</td>\n",
       "      <td>6</td>\n",
       "    </tr>\n",
       "    <tr>\n",
       "      <th>583730</th>\n",
       "      <td>12</td>\n",
       "      <td>11</td>\n",
       "      <td>12</td>\n",
       "      <td>1</td>\n",
       "      <td>5</td>\n",
       "    </tr>\n",
       "    <tr>\n",
       "      <th>748988</th>\n",
       "      <td>10</td>\n",
       "      <td>13</td>\n",
       "      <td>4</td>\n",
       "      <td>13</td>\n",
       "      <td>11</td>\n",
       "    </tr>\n",
       "    <tr>\n",
       "      <th>383404</th>\n",
       "      <td>3</td>\n",
       "      <td>10</td>\n",
       "      <td>6</td>\n",
       "      <td>2</td>\n",
       "      <td>2</td>\n",
       "    </tr>\n",
       "    <tr>\n",
       "      <th>256532</th>\n",
       "      <td>13</td>\n",
       "      <td>11</td>\n",
       "      <td>3</td>\n",
       "      <td>13</td>\n",
       "      <td>2</td>\n",
       "    </tr>\n",
       "  </tbody>\n",
       "</table>\n",
       "</div>"
      ],
      "text/plain": [
       "        c1  c2  c3  c4  c5\n",
       "293447  10   5   4   7   6\n",
       "583730  12  11  12   1   5\n",
       "748988  10  13   4  13  11\n",
       "383404   3  10   6   2   2\n",
       "256532  13  11   3  13   2"
      ]
     },
     "execution_count": 16,
     "metadata": {},
     "output_type": "execute_result"
    }
   ],
   "source": [
    "### Train/Test Split\n",
    "# Randomly split data into two groups: a training set and a validation set\n",
    "# It's important not to touch the test set when building a classifier. \n",
    "#Therefore, we separate X&y into two sets: for training the model and for testing the model accuracy. \n",
    "\n",
    "X_train, X_test, y_train, y_test = train_test_split(X, y, test_size = .30, random_state=24)\n",
    "\n",
    "#done - print summary \n",
    "print (\"\\nTotal records in learning set: {}\".format(df_tidy.shape[0]))\n",
    "print (\"Total records in training set: {}\".format(len(X_train)))\n",
    "print (\"Total records in test set: {}\".format(len(X_test)))\n",
    "    \n",
    "#notice index after reshuffling\n",
    "X_train.head()\n",
    "X_train.tail()"
   ]
  },
  {
   "cell_type": "code",
   "execution_count": 17,
   "metadata": {},
   "outputs": [
    {
     "name": "stdout",
     "output_type": "stream",
     "text": [
      "0\n",
      "0\n"
     ]
    }
   ],
   "source": [
    "#save tidy indices\n",
    "idx_X_train = X_train.index\n",
    "idx_y_train =y_train.index\n",
    "idx_X_test = X_test.index\n",
    "idx_y_test =y_test.index\n",
    "\n",
    "#confirm that indices match\n",
    "print((idx_X_test != idx_y_test).sum())\n",
    "print((idx_X_train != idx_y_train).sum())"
   ]
  },
  {
   "cell_type": "markdown",
   "metadata": {},
   "source": [
    "- Transform categorical features  \n",
    "Use sklearn encoders here, in other cases may require more sophisticated categorical_encoders."
   ]
  },
  {
   "cell_type": "code",
   "execution_count": 18,
   "metadata": {},
   "outputs": [
    {
     "data": {
      "text/plain": [
       "\"#Transform cols\\n# Instantiate encoder/scaler, for both models A&B\\nohe = ce.OneHotEncoder(handle_unknown='indicator', cols = X_cols, use_cat_names=True)\\n\\nX_train_ohe = ohe.fit_transform(X_tidy_train) #many features\\nX_train_ohe.head()\\n\""
      ]
     },
     "execution_count": 18,
     "metadata": {},
     "output_type": "execute_result"
    }
   ],
   "source": [
    "'''#Transform cols\n",
    "# Instantiate encoder/scaler, for both models A&B\n",
    "ohe = ce.OneHotEncoder(handle_unknown='indicator', cols = X_cols, use_cat_names=True)\n",
    "\n",
    "X_train_ohe = ohe.fit_transform(X_tidy_train) #many features\n",
    "X_train_ohe.head()\n",
    "'''"
   ]
  },
  {
   "cell_type": "code",
   "execution_count": 19,
   "metadata": {},
   "outputs": [
    {
     "name": "stdout",
     "output_type": "stream",
     "text": [
      "<class 'scipy.sparse.csr.csr_matrix'>\n",
      "OHE categories:  [array([ 1,  2,  3,  4,  5,  6,  7,  8,  9, 10, 11, 12, 13], dtype=int64), array([ 1,  2,  3,  4,  5,  6,  7,  8,  9, 10, 11, 12, 13], dtype=int64), array([ 1,  2,  3,  4,  5,  6,  7,  8,  9, 10, 11, 12, 13], dtype=int64), array([ 1,  2,  3,  4,  5,  6,  7,  8,  9, 10, 11, 12, 13], dtype=int64), array([ 1,  2,  3,  4,  5,  6,  7,  8,  9, 10, 11, 12, 13], dtype=int64)]\n"
     ]
    }
   ],
   "source": [
    "# binary encoder\n",
    "#ohe = None\n",
    "ohe = preprocessing.OneHotEncoder(handle_unknown='ignore',  dtype=np.int)\n",
    "\n",
    "X_train_ohe = ohe.fit_transform(X_train) \n",
    "print(X_train_ohe.__class__)\n",
    "print(\"OHE categories: \", ohe.categories_)\n",
    "\n"
   ]
  },
  {
   "cell_type": "markdown",
   "metadata": {},
   "source": [
    "- Preview X_train matrix"
   ]
  },
  {
   "cell_type": "code",
   "execution_count": 20,
   "metadata": {},
   "outputs": [
    {
     "data": {
      "text/plain": [
       "array([[0, 0, 0, ..., 0, 0, 0],\n",
       "       [0, 1, 0, ..., 0, 0, 0],\n",
       "       [0, 0, 0, ..., 0, 0, 0],\n",
       "       ...,\n",
       "       [0, 0, 0, ..., 1, 0, 0],\n",
       "       [0, 0, 1, ..., 0, 0, 0],\n",
       "       [0, 0, 0, ..., 0, 0, 0]])"
      ]
     },
     "execution_count": 20,
     "metadata": {},
     "output_type": "execute_result"
    }
   ],
   "source": [
    "#preview\n",
    "X_train_ohe.toarray()"
   ]
  },
  {
   "cell_type": "markdown",
   "metadata": {},
   "source": [
    "- Transform test dataset  \n",
    "Preview X_test matrix"
   ]
  },
  {
   "cell_type": "code",
   "execution_count": 21,
   "metadata": {},
   "outputs": [
    {
     "data": {
      "text/plain": [
       "array([[0, 0, 0, ..., 0, 0, 0],\n",
       "       [0, 0, 0, ..., 0, 0, 0],\n",
       "       [0, 0, 0, ..., 0, 0, 1],\n",
       "       ...,\n",
       "       [0, 0, 0, ..., 0, 0, 0],\n",
       "       [0, 0, 0, ..., 0, 0, 0],\n",
       "       [0, 0, 0, ..., 0, 1, 0]])"
      ]
     },
     "execution_count": 21,
     "metadata": {},
     "output_type": "execute_result"
    }
   ],
   "source": [
    "X_test_ohe = ohe.transform(X_test)\n",
    "X_test_ohe.toarray()"
   ]
  },
  {
   "cell_type": "markdown",
   "metadata": {},
   "source": [
    "#### Preview features and class labels"
   ]
  },
  {
   "cell_type": "code",
   "execution_count": 22,
   "metadata": {},
   "outputs": [
    {
     "name": "stdout",
     "output_type": "stream",
     "text": [
      "cols:  ['c1', 'c2', 'c3', 'c4', 'c5']\n",
      "Features: \n"
     ]
    },
    {
     "data": {
      "text/plain": [
       "array(['c1_1', 'c1_2', 'c1_3', 'c1_4', 'c1_5', 'c1_6', 'c1_7', 'c1_8',\n",
       "       'c1_9', 'c1_10', 'c1_11', 'c1_12', 'c1_13', 'c2_1', 'c2_2', 'c2_3',\n",
       "       'c2_4', 'c2_5', 'c2_6', 'c2_7', 'c2_8', 'c2_9', 'c2_10', 'c2_11',\n",
       "       'c2_12', 'c2_13', 'c3_1', 'c3_2', 'c3_3', 'c3_4', 'c3_5', 'c3_6',\n",
       "       'c3_7', 'c3_8', 'c3_9', 'c3_10', 'c3_11', 'c3_12', 'c3_13', 'c4_1',\n",
       "       'c4_2', 'c4_3', 'c4_4', 'c4_5', 'c4_6', 'c4_7', 'c4_8', 'c4_9',\n",
       "       'c4_10', 'c4_11', 'c4_12', 'c4_13', 'c5_1', 'c5_2', 'c5_3', 'c5_4',\n",
       "       'c5_5', 'c5_6', 'c5_7', 'c5_8', 'c5_9', 'c5_10', 'c5_11', 'c5_12',\n",
       "       'c5_13'], dtype=object)"
      ]
     },
     "execution_count": 22,
     "metadata": {},
     "output_type": "execute_result"
    }
   ],
   "source": [
    "#list of columns vs list features\n",
    "print (\"cols: \", X_cols)\n",
    "print(\"Features: \")\n",
    "ohe.get_feature_names(['c1','c2','c3','c4','c5'])"
   ]
  },
  {
   "cell_type": "code",
   "execution_count": 23,
   "metadata": {},
   "outputs": [
    {
     "data": {
      "text/plain": [
       "[0, 1]\n",
       "Categories (2, int64): [0, 1]"
      ]
     },
     "execution_count": 23,
     "metadata": {},
     "output_type": "execute_result"
    }
   ],
   "source": [
    "y.unique()"
   ]
  },
  {
   "cell_type": "code",
   "execution_count": 24,
   "metadata": {},
   "outputs": [
    {
     "ename": "NameError",
     "evalue": "name 'df100' is not defined",
     "output_type": "error",
     "traceback": [
      "\u001b[1;31m---------------------------------------------------------------------------\u001b[0m",
      "\u001b[1;31mNameError\u001b[0m                                 Traceback (most recent call last)",
      "\u001b[1;32m<ipython-input-24-f88aaa4055b1>\u001b[0m in \u001b[0;36m<module>\u001b[1;34m\u001b[0m\n\u001b[0;32m      1\u001b[0m \u001b[1;31m#interrupt\u001b[0m\u001b[1;33m\u001b[0m\u001b[1;33m\u001b[0m\u001b[1;33m\u001b[0m\u001b[0m\n\u001b[1;32m----> 2\u001b[1;33m \u001b[0mdf100\u001b[0m\u001b[1;33m\u001b[0m\u001b[1;33m\u001b[0m\u001b[0m\n\u001b[0m",
      "\u001b[1;31mNameError\u001b[0m: name 'df100' is not defined"
     ]
    }
   ],
   "source": [
    "#interrupt\n",
    "df100"
   ]
  },
  {
   "cell_type": "markdown",
   "metadata": {},
   "source": [
    "### 2. ML for Anomalies\n",
    "\n",
    "#### 2.1 Classifiers"
   ]
  },
  {
   "cell_type": "code",
   "execution_count": null,
   "metadata": {},
   "outputs": [],
   "source": [
    "# prepare hyper-parameters for grid search\n",
    "\n",
    "# The alpha is a \"smoothing parameter\" -- increasing the value decreases the sensitivity to any single feature, and tends to pull prediction probabilities closer to 50%.\n",
    "alphas = (1e-2, 1e-3) #(.001, .01, .1, 1) #actodo try smaller (0.00001, 0.000001) \n",
    "penalties = ('l1', 'l2', 'elasticnet')\n",
    "penalties_logr = ('l1', 'l2')\n",
    "tolerances = (0.01, 0.001) #( 1e-3, 1e-4)\n",
    "Cs = (1, 1e2, 1e3, 1e4, 1e5)\n",
    "##solvers = ('lbfgs', 'liblinear')\n",
    "max_iters = (100, 1000, 10000)\n",
    "criteria = ('gini','entropy')\n",
    "#oob_scores: [False, True]\n",
    "n_estimators =  (100, 150) #(150, 250)\n",
    "min_samples_splits = (20, 40) #(3, 5, 7)\n",
    "min_samples_leaves = (5, 10) #(10, 12, 14, 16)\n",
    "max_depth = ( 20, 25) #15\n",
    "#max_depth = (4, 5) #$note use if want a limited decision tree to demo/test prediction given the pickled model\n",
    "max_features = (0.75, 0.8, 0.85)\n",
    "max_leaf_nodes = ( 50, 100, 500, 800)\n",
    "i_random_state = [24]\n",
    "subsamples = [0.8, 1.0]"
   ]
  },
  {
   "cell_type": "code",
   "execution_count": null,
   "metadata": {},
   "outputs": [],
   "source": [
    "#input for model 20PCT\n",
    "print (\"\\nParameters for training a classifier model...\")\n",
    "\n",
    "# prompt to select a classifier\n",
    "while True:\n",
    "    inp = input(\"Select learning algorithm: (LogR)-Logistic Regression or (GBM)-Gradient Boosting or (SGD)-Stochastic Gradient Descent: \") \n",
    "    if inp.lower() not in ('logr','gbm','sgd'):\n",
    "         print (\"Please select a valid algorithm: (LogR)-Logistic Regression or (GBM)-Gradient Boosting or (SGD)-Stochastic Gradient Descent \")\n",
    "    else:\n",
    "        input_algorithm_model=inp.upper()\n",
    "        break"
   ]
  },
  {
   "cell_type": "code",
   "execution_count": null,
   "metadata": {},
   "outputs": [],
   "source": [
    "# choose an algo\n",
    "\n",
    "#--Logistic Regression\n",
    "if input_algorithm_model =='LOGR':\n",
    "    #the grid of parameters to search over\n",
    "    param_grid = [\n",
    "        {'penalty': penalties_logr,\n",
    "         'tol': tolerances,\n",
    "         'C': Cs,\n",
    "         'solver': ('liblinear',),\n",
    "         'max_iter': max_iters         \n",
    "        },\n",
    "        {'penalty': ('l2',),\n",
    "         'tol': tolerances,\n",
    "         'C': Cs,\n",
    "         'solver': ('lbfgs',),\n",
    "         'max_iter': max_iters         \n",
    "        },\n",
    "    ]\n",
    "    \n",
    "    # declare the classifier\n",
    "    clf = LogisticRegression()\n",
    "\n",
    "    \n",
    "#--Gradient Boosting Classifier\n",
    "elif input_algorithm_model == 'GBM':\n",
    "    #the grid of parameters to search over\n",
    "    \n",
    "    param_grid = [\n",
    "        {\n",
    "         'learning_rate': alphas,\n",
    "         'random_state': i_random_state,\n",
    "         'n_estimators': n_estimators, \n",
    "         'subsample': subsamples,\n",
    "         'tol': tolerances,\n",
    "         'min_samples_split': min_samples_splits,\n",
    "         'min_samples_leaf': min_samples_leaves,\n",
    "         'max_depth': max_depth,\n",
    "         'max_features': max_features\n",
    "         #'max_leaf_nodes': max_leaf_nodes                 \n",
    "        }\n",
    "    ]\n",
    "    \n",
    "    # declare the classifier, with early stopping\n",
    "    # refer https://scikit-learn.org/stable/auto_examples/ensemble/plot_gradient_boosting_early_stopping.html#sphx-glr-auto-examples-ensemble-plot-gradient-boosting-early-stopping-py\n",
    "    # # We specify that if the scores don't improve by atleast 0.01 for the last\n",
    "    # 10 stages, stop fitting additional stages\n",
    "    clf = GradientBoostingClassifier(validation_fraction=0.2, n_iter_no_change=5)\n",
    "    \n",
    "\n",
    "#--Stochastic Gradient Descent\n",
    "elif input_algorithm_model =='SGD':\n",
    "    #the grid of parameters to search over\n",
    "    param_grid = [\n",
    "        {'alpha': alphas,\n",
    "         'penalty': penalties,\n",
    "         'max_iter': max_iters,\n",
    "         'tol': tolerances\n",
    "        },\n",
    "    ]\n",
    "    \n",
    "    # declare the classifier\n",
    "    clf = SGDClassifier()\n",
    "    \n",
    "    \n",
    "# create the GridSearchCV object - find the best parameters for both the feature extraction and the classifier\n",
    "# n_jobs=-1 grid search will detect how many cores are installed and uses them all\n",
    "# cv defaults to 3 folds\n",
    "grid_search = GridSearchCV(clf, param_grid, n_jobs=-1, cv=5, verbose=input_verbose_flg) # scoring -> refer to https://scikit-learn.org/stable/modules/model_evaluation.html\n",
    "\n",
    "# fine-tune the hyperparameters\n",
    "if input_algorithm_model =='LOGR':\n",
    "    print (\"\\nStep2: Training a Logistic Regression model...\")\n",
    "elif input_algorithm_model =='GBM':\n",
    "    print (\"\\nStep2: Training a Gradient Boosting model...\")\n",
    "elif input_algorithm_model =='SGD':\n",
    "    print (\"\\nStep2: Training a Stochastic Gradient Descent model...\")\n",
    "    \n",
    "\n",
    "# ********************************   FIT MODEL   *****************************************************************\n",
    "t0 = time.time()\n",
    "print (\"Performing grid search... (this may take many minutes)\")\n",
    "print(\"parameters:\", param_grid)\n",
    "\n",
    "# fine-tune the hyperparameters\n",
    "grid_search.fit(X_train_ohe, y_train)\n",
    "\n",
    "#done - print summary \n",
    "t1 = time.time()\n",
    "print (\"Done in %0.3fs\" % (t1 - t0))\n",
    "\n",
    "best_score = grid_search.best_score_\n",
    "best_parameters = grid_search.best_estimator_.get_params()\n",
    "\n",
    "print (\"Best score: %0.3f\" % best_score)\n",
    "print (\"Best parameters set:\")\n",
    "for param_name in sorted(best_parameters.keys()):\n",
    "    print (\"\\t%s: %r\" % (param_name, best_parameters[param_name]))\n",
    "        \n",
    "print(\"\\nProcessing time to fit model (in min): \", (t1 - t0)/60)\n"
   ]
  },
  {
   "cell_type": "markdown",
   "metadata": {},
   "source": [
    "### 3. Evaluate Model Performance"
   ]
  },
  {
   "cell_type": "code",
   "execution_count": null,
   "metadata": {},
   "outputs": [],
   "source": [
    "# get the best model\n",
    "best_clf = grid_search.best_estimator_"
   ]
  },
  {
   "cell_type": "code",
   "execution_count": null,
   "metadata": {},
   "outputs": [],
   "source": [
    "# --------------------------------------------- 3. Evaluate Model Performance ---------------------------------------------\n",
    "### 3a. Evaluate High Level Accuracy\n",
    "# run on a test set  \n",
    "# Report the accuracy of this model on both the training and testing data.  Are results comparable?\n",
    "\n",
    "print (\"\\nStep3: Evaluating model performance...\")\n",
    "\n",
    "y_hat=best_clf.predict(X_test_ohe)\n",
    "\n",
    "#done - print summary \n",
    "end=time.time()\n",
    "\n",
    "accuracy_train=best_clf.score(X_train_ohe, y_train)\n",
    "accuracy_test=best_clf.score(X_test_ohe, y_test)\n",
    "\n",
    "print (\"Done in %0.3fs\" % (t1 - t0))\n",
    "print (\"\\nAccuracy on trainset: %0.4f \" % accuracy_train)\n",
    "print (\"Accuracy on cv set: %0.4f (aka best score from grid search)\" % best_score )\n",
    "print (\"Accuracy on testset: %0.4f \" %  accuracy_test)\n",
    "\n",
    "### 3c. More Analysis on the Model Accuracy:\n",
    "if input_verbose_flg == 1:\n",
    "    print (\"Total records in testset:\", len(X_test_ohe))\n",
    "    \n",
    "#confusion matrix\n",
    "#from sklearn import metrics\n",
    "    print (\"Classified categories: \", best_clf.classes_)\n",
    "    print (\"\\nConfusion Matrix\" )\n",
    "    print(metrics.confusion_matrix( y_test, y_hat))\n",
    "\n",
    "print (\"\\nClassification Report\")\n",
    "print (metrics.classification_report(y_test, y_hat))\n",
    "\n",
    "print (\"Model built.  Ready to predict.\")"
   ]
  },
  {
   "cell_type": "markdown",
   "metadata": {},
   "source": [
    " ### 4. Feature Importances"
   ]
  },
  {
   "cell_type": "code",
   "execution_count": null,
   "metadata": {},
   "outputs": [],
   "source": [
    "if input_algorithm_model in ['SGD', 'GBM']:\n",
    "    print('Feature importance count: ', len(best_clf.feature_importances_))"
   ]
  },
  {
   "cell_type": "code",
   "execution_count": null,
   "metadata": {},
   "outputs": [],
   "source": [
    "if input_algorithm_model in ['SGD', 'GBM']:\n",
    "    #display top N features\n",
    "    top_n = 50\n",
    "    # Plot the feature importances of the forest\n",
    "    plt.figure()\n",
    "    plt.figure(figsize=(20, 8))\n",
    "    plt.title(\"Feature importances - Best Estimator\")\n",
    "    plt.bar(np.arange(top_n), best_clf_importances[best_clf_indices[:top_n]], color=\"r\")\n",
    "    #plot with std\n",
    "    #plt.bar(np.arange(top_n), clf_rf_importances[clf_rf_indices[:top_n]], color=\"r\", yerr=clf_rf_std[clf_rf_indices[:top_n]], align=\"center\")\n",
    "    #custom ticker\n",
    "    #refer https://matplotlib.org/gallery/ticks_and_spines/custom_ticker1.html#sphx-glr-gallery-ticks-and-spines-custom-ticker1-py\n",
    "    plt.xticks(np.arange(top_n), np.asarray(X_features)[best_clf_indices[:top_n]], rotation='vertical')\n",
    "    #plt.xlim([-1, X_train_scaled.shape[1]])\n",
    "    plt.show()"
   ]
  },
  {
   "cell_type": "markdown",
   "metadata": {},
   "source": [
    " ### 5. Pickle the Model"
   ]
  },
  {
   "cell_type": "code",
   "execution_count": null,
   "metadata": {},
   "outputs": [],
   "source": [
    "dump(best_clf, \"models/model_logr.pkl\")\n",
    "dump(X_cols, \"models/dataprep_cols_in.pkl\")\n",
    "dump(ohe, \"models/datatransform_OneHotEncoder.pkl\")\n"
   ]
  },
  {
   "cell_type": "markdown",
   "metadata": {},
   "source": [
    "#### 2.1 Clustering approaches\n",
    "https://sdsawtelle.github.io/blog/output/week9-anomaly-andrew-ng-machine-learning-with-python.html\n",
    "\n",
    "Jaccard\n",
    "https://stackoverflow.com/questions/37003272/how-to-compute-jaccard-similarity-from-a-pandas-dataframe"
   ]
  },
  {
   "cell_type": "code",
   "execution_count": 31,
   "metadata": {},
   "outputs": [
    {
     "name": "stdout",
     "output_type": "stream",
     "text": [
      "0.08480176211453745\n"
     ]
    },
    {
     "name": "stderr",
     "output_type": "stream",
     "text": [
      "C:\\Anaconda3\\lib\\site-packages\\sklearn\\metrics\\classification.py:635: DeprecationWarning: jaccard_similarity_score has been deprecated and replaced with jaccard_score. It will be removed in version 0.23. This implementation has surprising behavior for binary and multiclass classification tasks.\n",
      "  'and multiclass classification tasks.', DeprecationWarning)\n"
     ]
    }
   ],
   "source": [
    "print(jaccard_similarity_score(X_train['c1'], X_train['c2']))"
   ]
  },
  {
   "cell_type": "code",
   "execution_count": 33,
   "metadata": {},
   "outputs": [
    {
     "name": "stdout",
     "output_type": "stream",
     "text": [
      "[[1.         0.08480176 0.07406388 0.08094714 0.08562775]\n",
      " [0.08480176 1.         0.07351322 0.0779185  0.08232379]\n",
      " [0.07406388 0.07351322 1.         0.07213656 0.07929515]\n",
      " [0.08094714 0.0779185  0.07213656 1.         0.07736784]\n",
      " [0.08562775 0.08232379 0.07929515 0.07736784 1.        ]]\n"
     ]
    }
   ],
   "source": [
    "jac_sim = 1 - pairwise_distances(X_train.T, metric = \"hamming\")\n",
    "print(jac_sim)"
   ]
  },
  {
   "cell_type": "code",
   "execution_count": 34,
   "metadata": {},
   "outputs": [],
   "source": [
    "# optionally convert it to a DataFrame\n",
    "jac_sim = pd.DataFrame(jac_sim, index=X_train.columns, columns=X_train.columns)\n",
    "jac_sim"
   ]
  },
  {
   "cell_type": "markdown",
   "metadata": {},
   "source": [
    "### for Hackathon\n",
    "limited work just to get numbers for Hackathon"
   ]
  },
  {
   "cell_type": "code",
   "execution_count": 50,
   "metadata": {},
   "outputs": [
    {
     "name": "stdout",
     "output_type": "stream",
     "text": [
      "(189, 5)\n"
     ]
    },
    {
     "data": {
      "text/html": [
       "<div>\n",
       "<style scoped>\n",
       "    .dataframe tbody tr th:only-of-type {\n",
       "        vertical-align: middle;\n",
       "    }\n",
       "\n",
       "    .dataframe tbody tr th {\n",
       "        vertical-align: top;\n",
       "    }\n",
       "\n",
       "    .dataframe thead th {\n",
       "        text-align: right;\n",
       "    }\n",
       "</style>\n",
       "<table border=\"1\" class=\"dataframe\">\n",
       "  <thead>\n",
       "    <tr style=\"text-align: right;\">\n",
       "      <th></th>\n",
       "      <th>c1</th>\n",
       "      <th>c2</th>\n",
       "      <th>c3</th>\n",
       "      <th>c4</th>\n",
       "      <th>c5</th>\n",
       "    </tr>\n",
       "  </thead>\n",
       "  <tbody>\n",
       "    <tr>\n",
       "      <th>312</th>\n",
       "      <td>12</td>\n",
       "      <td>10</td>\n",
       "      <td>10</td>\n",
       "      <td>10</td>\n",
       "      <td>10</td>\n",
       "    </tr>\n",
       "    <tr>\n",
       "      <th>6839</th>\n",
       "      <td>8</td>\n",
       "      <td>4</td>\n",
       "      <td>4</td>\n",
       "      <td>4</td>\n",
       "      <td>4</td>\n",
       "    </tr>\n",
       "    <tr>\n",
       "      <th>18114</th>\n",
       "      <td>3</td>\n",
       "      <td>3</td>\n",
       "      <td>12</td>\n",
       "      <td>3</td>\n",
       "      <td>3</td>\n",
       "    </tr>\n",
       "    <tr>\n",
       "      <th>18464</th>\n",
       "      <td>11</td>\n",
       "      <td>11</td>\n",
       "      <td>6</td>\n",
       "      <td>11</td>\n",
       "      <td>11</td>\n",
       "    </tr>\n",
       "    <tr>\n",
       "      <th>26212</th>\n",
       "      <td>12</td>\n",
       "      <td>13</td>\n",
       "      <td>13</td>\n",
       "      <td>13</td>\n",
       "      <td>13</td>\n",
       "    </tr>\n",
       "  </tbody>\n",
       "</table>\n",
       "</div>"
      ],
      "text/plain": [
       "       c1  c2  c3  c4  c5\n",
       "312    12  10  10  10  10\n",
       "6839    8   4   4   4   4\n",
       "18114   3   3  12   3   3\n",
       "18464  11  11   6  11  11\n",
       "26212  12  13  13  13  13"
      ]
     },
     "execution_count": 50,
     "metadata": {},
     "output_type": "execute_result"
    }
   ],
   "source": [
    "X_outliers = X.loc[idx_anomalies].copy()\n",
    "print(X_outliers.shape)\n",
    "X_outliers.head()"
   ]
  },
  {
   "cell_type": "code",
   "execution_count": 51,
   "metadata": {},
   "outputs": [
    {
     "name": "stdout",
     "output_type": "stream",
     "text": [
      "(8, 5)\n"
     ]
    },
    {
     "data": {
      "text/html": [
       "<div>\n",
       "<style scoped>\n",
       "    .dataframe tbody tr th:only-of-type {\n",
       "        vertical-align: middle;\n",
       "    }\n",
       "\n",
       "    .dataframe tbody tr th {\n",
       "        vertical-align: top;\n",
       "    }\n",
       "\n",
       "    .dataframe thead th {\n",
       "        text-align: right;\n",
       "    }\n",
       "</style>\n",
       "<table border=\"1\" class=\"dataframe\">\n",
       "  <thead>\n",
       "    <tr style=\"text-align: right;\">\n",
       "      <th></th>\n",
       "      <th>c1</th>\n",
       "      <th>c2</th>\n",
       "      <th>c3</th>\n",
       "      <th>c4</th>\n",
       "      <th>c5</th>\n",
       "    </tr>\n",
       "  </thead>\n",
       "  <tbody>\n",
       "    <tr>\n",
       "      <th>90895</th>\n",
       "      <td>12</td>\n",
       "      <td>11</td>\n",
       "      <td>2</td>\n",
       "      <td>4</td>\n",
       "      <td>1</td>\n",
       "    </tr>\n",
       "    <tr>\n",
       "      <th>326371</th>\n",
       "      <td>6</td>\n",
       "      <td>9</td>\n",
       "      <td>13</td>\n",
       "      <td>13</td>\n",
       "      <td>6</td>\n",
       "    </tr>\n",
       "    <tr>\n",
       "      <th>594585</th>\n",
       "      <td>4</td>\n",
       "      <td>9</td>\n",
       "      <td>3</td>\n",
       "      <td>11</td>\n",
       "      <td>12</td>\n",
       "    </tr>\n",
       "    <tr>\n",
       "      <th>238879</th>\n",
       "      <td>13</td>\n",
       "      <td>10</td>\n",
       "      <td>7</td>\n",
       "      <td>3</td>\n",
       "      <td>5</td>\n",
       "    </tr>\n",
       "    <tr>\n",
       "      <th>312</th>\n",
       "      <td>12</td>\n",
       "      <td>10</td>\n",
       "      <td>10</td>\n",
       "      <td>10</td>\n",
       "      <td>10</td>\n",
       "    </tr>\n",
       "    <tr>\n",
       "      <th>6839</th>\n",
       "      <td>8</td>\n",
       "      <td>4</td>\n",
       "      <td>4</td>\n",
       "      <td>4</td>\n",
       "      <td>4</td>\n",
       "    </tr>\n",
       "    <tr>\n",
       "      <th>18114</th>\n",
       "      <td>3</td>\n",
       "      <td>3</td>\n",
       "      <td>12</td>\n",
       "      <td>3</td>\n",
       "      <td>3</td>\n",
       "    </tr>\n",
       "    <tr>\n",
       "      <th>18464</th>\n",
       "      <td>11</td>\n",
       "      <td>11</td>\n",
       "      <td>6</td>\n",
       "      <td>11</td>\n",
       "      <td>11</td>\n",
       "    </tr>\n",
       "  </tbody>\n",
       "</table>\n",
       "</div>"
      ],
      "text/plain": [
       "        c1  c2  c3  c4  c5\n",
       "90895   12  11   2   4   1\n",
       "326371   6   9  13  13   6\n",
       "594585   4   9   3  11  12\n",
       "238879  13  10   7   3   5\n",
       "312     12  10  10  10  10\n",
       "6839     8   4   4   4   4\n",
       "18114    3   3  12   3   3\n",
       "18464   11  11   6  11  11"
      ]
     },
     "execution_count": 51,
     "metadata": {},
     "output_type": "execute_result"
    }
   ],
   "source": [
    "X_tiny = pd.concat([X[:4], X_outliers[:4]])\n",
    "print(X_tiny.shape)\n",
    "X_tiny"
   ]
  },
  {
   "cell_type": "code",
   "execution_count": 53,
   "metadata": {},
   "outputs": [
    {
     "data": {
      "text/plain": [
       "array([[ 1,  2,  4, 11, 12],\n",
       "       [ 6,  6,  9, 13, 13],\n",
       "       [ 3,  4,  9, 11, 12],\n",
       "       [ 3,  5,  7, 10, 13],\n",
       "       [10, 10, 10, 10, 12],\n",
       "       [ 4,  4,  4,  4,  8],\n",
       "       [ 3,  3,  3,  3, 12],\n",
       "       [ 6, 11, 11, 11, 11]])"
      ]
     },
     "execution_count": 53,
     "metadata": {},
     "output_type": "execute_result"
    }
   ],
   "source": [
    "arr_tiny = np.sort(np.array(X_tiny, dtype=int))\n",
    "arr_tiny"
   ]
  },
  {
   "cell_type": "code",
   "execution_count": 57,
   "metadata": {},
   "outputs": [
    {
     "name": "stdout",
     "output_type": "stream",
     "text": [
      "[[1.         0.94200009 0.95782159 0.96757364 0.82141484 0.87805411\n",
      "  0.87266171 0.84274983]\n",
      " [0.94200009 1.         0.98874602 0.9862154  0.95971323 0.95733847\n",
      "  0.86784608 0.96379916]\n",
      " [0.95782159 0.98874602 1.         0.99066026 0.92153946 0.93613445\n",
      "  0.87068149 0.94256588]\n",
      " [0.96757364 0.9862154  0.99066026 1.         0.92780189 0.96106741\n",
      "  0.91770774 0.94195909]\n",
      " [0.82141484 0.95971323 0.92153946 0.92780189 1.         0.9701425\n",
      "  0.84366149 0.98145272]\n",
      " [0.87805411 0.95733847 0.93613445 0.96106741 0.9701425  1.\n",
      "  0.9486833  0.94576485]\n",
      " [0.87266171 0.86784608 0.87068149 0.91770774 0.84366149 0.9486833\n",
      "  1.         0.81388196]\n",
      " [0.84274983 0.96379916 0.94256588 0.94195909 0.98145272 0.94576485\n",
      "  0.81388196 1.        ]]\n"
     ]
    }
   ],
   "source": [
    "print(cosine_similarity(arr_tiny, arr_tiny))"
   ]
  },
  {
   "cell_type": "code",
   "execution_count": 58,
   "metadata": {},
   "outputs": [
    {
     "name": "stdout",
     "output_type": "stream",
     "text": [
      "[[ 1  2  4 11]\n",
      " [ 6  6  9 13]\n",
      " [ 3  4  9 11]\n",
      " [ 3  5  7 10]\n",
      " [10 10 10 10]\n",
      " [ 4  4  4  4]\n",
      " [ 3  3  3  3]\n",
      " [ 6 11 11 11]]\n",
      "[[1.         0.92128525 0.93573351 0.93671447 0.75526322 0.75526322\n",
      "  0.75526322 0.81082418]\n",
      " [0.92128525 1.         0.98387692 0.9928041  0.94737296 0.94737296\n",
      "  0.94737296 0.95971893]\n",
      " [0.93573351 0.98387692 1.         0.99108955 0.89602647 0.89602647\n",
      "  0.89602647 0.93702188]\n",
      " [0.93671447 0.9928041  0.99108955 1.         0.92402659 0.92402659\n",
      "  0.92402659 0.96219114]\n",
      " [0.75526322 0.94737296 0.89602647 0.92402659 1.         1.\n",
      "  1.         0.97622104]\n",
      " [0.75526322 0.94737296 0.89602647 0.92402659 1.         1.\n",
      "  1.         0.97622104]\n",
      " [0.75526322 0.94737296 0.89602647 0.92402659 1.         1.\n",
      "  1.         0.97622104]\n",
      " [0.81082418 0.95971893 0.93702188 0.96219114 0.97622104 0.97622104\n",
      "  0.97622104 1.        ]]\n"
     ]
    }
   ],
   "source": [
    "#prove that when only 4 cards Cosine similarity works perfectly\n",
    "arr_4cards = arr_tiny[:,0:4]\n",
    "print(arr_4cards)\n",
    "print(cosine_similarity(arr_4cards, arr_4cards))"
   ]
  },
  {
   "cell_type": "code",
   "execution_count": null,
   "metadata": {},
   "outputs": [],
   "source": [
    "#$ac stopped here\n",
    "#next wanted to define an anomaly and loop over all others\n",
    "#no time to finish"
   ]
  },
  {
   "cell_type": "markdown",
   "metadata": {},
   "source": [
    "### Xtra.  Example \n",
    "https://stackoverflow.com/questions/37003272/how-to-compute-jaccard-similarity-from-a-pandas-dataframe"
   ]
  },
  {
   "cell_type": "code",
   "execution_count": 37,
   "metadata": {},
   "outputs": [
    {
     "name": "stdout",
     "output_type": "stream",
     "text": [
      "   A  B  C  D  E\n",
      "0  1  1  1  1  0\n",
      "1  1  0  1  1  0\n",
      "2  1  1  1  1  0\n",
      "3  0  0  1  1  1\n",
      "4  1  1  0  1  0\n",
      "5  1  0  1  1  0\n",
      "0.43\n"
     ]
    },
    {
     "name": "stderr",
     "output_type": "stream",
     "text": [
      "C:\\Anaconda3\\lib\\site-packages\\sklearn\\metrics\\classification.py:635: DeprecationWarning: jaccard_similarity_score has been deprecated and replaced with jaccard_score. It will be removed in version 0.23. This implementation has surprising behavior for binary and multiclass classification tasks.\n",
      "  'and multiclass classification tasks.', DeprecationWarning)\n"
     ]
    }
   ],
   "source": [
    "np.random.seed(0)\n",
    "df = pd.DataFrame(np.random.binomial(1, 0.5, size=(100, 5)), columns=list('ABCDE'))\n",
    "print(df.head(6))\n",
    "print(jaccard_similarity_score(df['A'], df['B']))"
   ]
  },
  {
   "cell_type": "code",
   "execution_count": 39,
   "metadata": {},
   "outputs": [
    {
     "data": {
      "text/html": [
       "<div>\n",
       "<style scoped>\n",
       "    .dataframe tbody tr th:only-of-type {\n",
       "        vertical-align: middle;\n",
       "    }\n",
       "\n",
       "    .dataframe tbody tr th {\n",
       "        vertical-align: top;\n",
       "    }\n",
       "\n",
       "    .dataframe thead th {\n",
       "        text-align: right;\n",
       "    }\n",
       "</style>\n",
       "<table border=\"1\" class=\"dataframe\">\n",
       "  <thead>\n",
       "    <tr style=\"text-align: right;\">\n",
       "      <th></th>\n",
       "      <th>A</th>\n",
       "      <th>B</th>\n",
       "      <th>C</th>\n",
       "      <th>D</th>\n",
       "      <th>E</th>\n",
       "    </tr>\n",
       "  </thead>\n",
       "  <tbody>\n",
       "    <tr>\n",
       "      <th>A</th>\n",
       "      <td>1.00</td>\n",
       "      <td>0.43</td>\n",
       "      <td>0.61</td>\n",
       "      <td>0.55</td>\n",
       "      <td>0.46</td>\n",
       "    </tr>\n",
       "    <tr>\n",
       "      <th>B</th>\n",
       "      <td>0.43</td>\n",
       "      <td>1.00</td>\n",
       "      <td>0.52</td>\n",
       "      <td>0.56</td>\n",
       "      <td>0.49</td>\n",
       "    </tr>\n",
       "    <tr>\n",
       "      <th>C</th>\n",
       "      <td>0.61</td>\n",
       "      <td>0.52</td>\n",
       "      <td>1.00</td>\n",
       "      <td>0.48</td>\n",
       "      <td>0.53</td>\n",
       "    </tr>\n",
       "    <tr>\n",
       "      <th>D</th>\n",
       "      <td>0.55</td>\n",
       "      <td>0.56</td>\n",
       "      <td>0.48</td>\n",
       "      <td>1.00</td>\n",
       "      <td>0.49</td>\n",
       "    </tr>\n",
       "    <tr>\n",
       "      <th>E</th>\n",
       "      <td>0.46</td>\n",
       "      <td>0.49</td>\n",
       "      <td>0.53</td>\n",
       "      <td>0.49</td>\n",
       "      <td>1.00</td>\n",
       "    </tr>\n",
       "  </tbody>\n",
       "</table>\n",
       "</div>"
      ],
      "text/plain": [
       "      A     B     C     D     E\n",
       "A  1.00  0.43  0.61  0.55  0.46\n",
       "B  0.43  1.00  0.52  0.56  0.49\n",
       "C  0.61  0.52  1.00  0.48  0.53\n",
       "D  0.55  0.56  0.48  1.00  0.49\n",
       "E  0.46  0.49  0.53  0.49  1.00"
      ]
     },
     "execution_count": 39,
     "metadata": {},
     "output_type": "execute_result"
    }
   ],
   "source": [
    "#print(1 - pairwise_distances(df.T, metric = \"hamming\"))\n",
    "jac_sim = 1 - pairwise_distances(df.T, metric = \"hamming\")\n",
    "jac_sim = pd.DataFrame(jac_sim, index=df.columns, columns=df.columns)\n",
    "jac_sim"
   ]
  },
  {
   "cell_type": "markdown",
   "metadata": {},
   "source": [
    "#### 2.2 Other Anomaly Detection Techniques\n",
    "https://medium.com/learningdatascience/anomaly-detection-techniques-in-python-50f650c75aaf"
   ]
  },
  {
   "cell_type": "code",
   "execution_count": 40,
   "metadata": {},
   "outputs": [
    {
     "data": {
      "text/plain": [
       "OneClassSVM(cache_size=200, coef0=0.0, degree=3, gamma=0.001, kernel='rbf',\n",
       "            max_iter=-1, nu=0.2, random_state=None, shrinking=True, tol=0.001,\n",
       "            verbose=False)"
      ]
     },
     "execution_count": 40,
     "metadata": {},
     "output_type": "execute_result"
    }
   ],
   "source": [
    "from sklearn import svm\n",
    "clf=svm.OneClassSVM(nu=.2,kernel='rbf',gamma=.001)\n",
    "clf.fit(X_train_ohe)"
   ]
  },
  {
   "cell_type": "code",
   "execution_count": 41,
   "metadata": {},
   "outputs": [
    {
     "data": {
      "text/plain": [
       "array([-1, -1,  1, ..., -1,  1, -1], dtype=int64)"
      ]
     },
     "execution_count": 41,
     "metadata": {},
     "output_type": "execute_result"
    }
   ],
   "source": [
    "#predict\n",
    "y_hat=clf.predict(X_test_ohe)\n",
    "y_hat"
   ]
  },
  {
   "cell_type": "code",
   "execution_count": 42,
   "metadata": {},
   "outputs": [
    {
     "data": {
      "text/plain": [
       "array([719.7261084 , 719.7260028 , 719.72626214, ..., 719.72596889,\n",
       "       719.72632422, 719.72598236])"
      ]
     },
     "execution_count": 42,
     "metadata": {},
     "output_type": "execute_result"
    }
   ],
   "source": [
    "clf.score_samples(X_test_ohe)"
   ]
  },
  {
   "cell_type": "code",
   "execution_count": 43,
   "metadata": {},
   "outputs": [
    {
     "data": {
      "text/plain": [
       "array([-2.47372634e-05, -1.30334894e-04,  1.29003203e-04, ...,\n",
       "       -1.64249030e-04,  1.91089210e-04, -1.50774836e-04])"
      ]
     },
     "execution_count": 43,
     "metadata": {},
     "output_type": "execute_result"
    }
   ],
   "source": [
    "clf.decision_function(X_test_ohe)"
   ]
  },
  {
   "cell_type": "code",
   "execution_count": 45,
   "metadata": {},
   "outputs": [
    {
     "data": {
      "text/plain": [
       "21"
      ]
     },
     "execution_count": 45,
     "metadata": {},
     "output_type": "execute_result"
    }
   ],
   "source": [
    "n_errors = (y_hat == y_test).sum()\n",
    "n_errors"
   ]
  },
  {
   "cell_type": "code",
   "execution_count": 47,
   "metadata": {},
   "outputs": [
    {
     "name": "stdout",
     "output_type": "stream",
     "text": [
      "[-1  1 -1  1 -1  1 -1 -1  1 -1]\n"
     ]
    },
    {
     "data": {
      "text/plain": [
       "342135    0\n",
       "187826    0\n",
       "481200    0\n",
       "47823     0\n",
       "46177     0\n",
       "107246    0\n",
       "646443    0\n",
       "299799    0\n",
       "134586    1\n",
       "188793    0\n",
       "Name: class_4ofakind, dtype: category\n",
       "Categories (2, int64): [0, 1]"
      ]
     },
     "execution_count": 47,
     "metadata": {},
     "output_type": "execute_result"
    }
   ],
   "source": [
    "print (y_hat[-10:])\n",
    "y_test[-10:]"
   ]
  },
  {
   "cell_type": "code",
   "execution_count": null,
   "metadata": {},
   "outputs": [],
   "source": []
  }
 ],
 "metadata": {
  "kernelspec": {
   "display_name": "Python 3",
   "language": "python",
   "name": "python3"
  },
  "language_info": {
   "codemirror_mode": {
    "name": "ipython",
    "version": 3
   },
   "file_extension": ".py",
   "mimetype": "text/x-python",
   "name": "python",
   "nbconvert_exporter": "python",
   "pygments_lexer": "ipython3",
   "version": "3.7.1"
  }
 },
 "nbformat": 4,
 "nbformat_minor": 2
}
