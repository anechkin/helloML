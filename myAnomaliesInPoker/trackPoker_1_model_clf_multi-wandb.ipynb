{
 "cells": [
  {
   "cell_type": "code",
   "execution_count": 1,
   "metadata": {},
   "outputs": [],
   "source": [
    "#meta 2/2/2021 Poker my Model multi algos - Track Experimetns with WandB\n",
    "#Previously with multiple models got results to compare and experiments to track, want a nice dashboard-like compare UI.\n",
    "#data: transformed dataset from Kaggle (800K records x 54 features)\n",
    "#input: data/my_poker_tidy.pkl\n",
    "#output: n/a\n",
    "#based on tryPoker_1_model_clf_multi.ipynb\n",
    "\n",
    "#previously in tryPoker_1_model_clf_multi.ipynb\n",
    "#2/2/202 MODELING WITH MULTI ALGOS, WITH TRANSFORMED KAGGLE DS\n",
    "#      Kaggle ds, transformed into numpy matrix 800K x 54\n",
    "#      note: train/test split is not stratified\n",
    "#      Try diff algos\n",
    "#      note: neither algo is fine-tuned\n",
    "#2/2/202 MODEL KERAS NN, DIFF LAYERS, WITH TRANSFORMED KAGGLE DS\n",
    "#      Great accuracy, over 99% but not good at detecting minority classes; \n",
    "#      note: still no proper train, valid and test ds\n",
    "\n",
    "#history\n",
    "#here 2/2/202 TRACK EXPERIMENTS WITH WANDB\n",
    "#      Part1. SciKit models (Excluding kNNs due to long run-time)\n",
    "#      Next. NN models\n"
   ]
  },
  {
   "cell_type": "code",
   "execution_count": 2,
   "metadata": {},
   "outputs": [],
   "source": [
    "import pandas as pd \n",
    "import numpy as np\n",
    "import matplotlib.pyplot as plt\n",
    "import os\n",
    "from os import path\n",
    "import time #to track performance time\n",
    "import warnings\n",
    "warnings.filterwarnings('ignore')\n",
    "\n",
    "#modeling\n",
    "from sklearn.linear_model import LogisticRegression\n",
    "from sklearn.tree import DecisionTreeClassifier\n",
    "from sklearn import svm\n",
    "from sklearn.neighbors import KNeighborsClassifier\n",
    "\n",
    "#modeling help\n",
    "from sklearn.model_selection import train_test_split\n",
    "from sklearn.metrics import accuracy_score\n",
    "from sklearn.metrics import confusion_matrix\n",
    "\n",
    "from joblib import load, dump\n",
    "\n",
    "#track experiments\n",
    "import wandb"
   ]
  },
  {
   "cell_type": "markdown",
   "metadata": {},
   "source": [
    "# Poker Example with Keras\n",
    "After transforming the raw data into nx53 representation, try different algos: LogR, CART, SVM, Keras NN and kNN modeling. Compare results.\n",
    "\n",
    "## 0. Load Data"
   ]
  },
  {
   "cell_type": "code",
   "execution_count": 3,
   "metadata": {},
   "outputs": [
    {
     "data": {
      "text/plain": [
       "(800000, 53)"
      ]
     },
     "execution_count": 3,
     "metadata": {},
     "output_type": "execute_result"
    }
   ],
   "source": [
    "poker = load('data/my_poker_tidy.pkl')\n",
    "poker.shape"
   ]
  },
  {
   "cell_type": "code",
   "execution_count": 4,
   "metadata": {},
   "outputs": [
    {
     "data": {
      "text/plain": [
       "Index(['Nothing', 'One pair', 'Two pairs', 'Three of a kind', 'Straight',\n",
       "       'Flush', 'Full house', 'Four of a kind', 'Straight flush',\n",
       "       'Royal flush'],\n",
       "      dtype='object')"
      ]
     },
     "execution_count": 4,
     "metadata": {},
     "output_type": "execute_result"
    }
   ],
   "source": [
    "#$todo order target\n",
    "poker['class'].cat.categories"
   ]
  },
  {
   "cell_type": "markdown",
   "metadata": {},
   "source": [
    "## 1. Prep Data\n",
    "X & y"
   ]
  },
  {
   "cell_type": "code",
   "execution_count": 5,
   "metadata": {},
   "outputs": [],
   "source": [
    "X = poker.iloc[:,:-1]\n",
    "y = poker['class'].cat.codes"
   ]
  },
  {
   "cell_type": "markdown",
   "metadata": {},
   "source": [
    "Here, random split for a quick comparison.  \n",
    "Todo: stratified split"
   ]
  },
  {
   "cell_type": "code",
   "execution_count": 6,
   "metadata": {
    "scrolled": true
   },
   "outputs": [
    {
     "name": "stdout",
     "output_type": "stream",
     "text": [
      "\n",
      "Total records in learning set: 800000\n",
      "Total records in training set: 720000\n",
      "Total records in test set: 80000\n"
     ]
    },
    {
     "data": {
      "text/html": [
       "<div>\n",
       "<style scoped>\n",
       "    .dataframe tbody tr th:only-of-type {\n",
       "        vertical-align: middle;\n",
       "    }\n",
       "\n",
       "    .dataframe tbody tr th {\n",
       "        vertical-align: top;\n",
       "    }\n",
       "\n",
       "    .dataframe thead th {\n",
       "        text-align: right;\n",
       "    }\n",
       "</style>\n",
       "<table border=\"1\" class=\"dataframe\">\n",
       "  <thead>\n",
       "    <tr style=\"text-align: right;\">\n",
       "      <th></th>\n",
       "      <th>ace_clubs</th>\n",
       "      <th>ace_diamonds</th>\n",
       "      <th>ace_hearts</th>\n",
       "      <th>ace_spades</th>\n",
       "      <th>eight_clubs</th>\n",
       "      <th>eight_diamonds</th>\n",
       "      <th>eight_hearts</th>\n",
       "      <th>eight_spades</th>\n",
       "      <th>five_clubs</th>\n",
       "      <th>five_diamonds</th>\n",
       "      <th>...</th>\n",
       "      <th>ten_hearts</th>\n",
       "      <th>ten_spades</th>\n",
       "      <th>three_clubs</th>\n",
       "      <th>three_diamonds</th>\n",
       "      <th>three_hearts</th>\n",
       "      <th>three_spades</th>\n",
       "      <th>two_clubs</th>\n",
       "      <th>two_diamonds</th>\n",
       "      <th>two_hearts</th>\n",
       "      <th>two_spades</th>\n",
       "    </tr>\n",
       "  </thead>\n",
       "  <tbody>\n",
       "    <tr>\n",
       "      <th>478609</th>\n",
       "      <td>0</td>\n",
       "      <td>0</td>\n",
       "      <td>0</td>\n",
       "      <td>0</td>\n",
       "      <td>0</td>\n",
       "      <td>0</td>\n",
       "      <td>0</td>\n",
       "      <td>1</td>\n",
       "      <td>0</td>\n",
       "      <td>0</td>\n",
       "      <td>...</td>\n",
       "      <td>0</td>\n",
       "      <td>0</td>\n",
       "      <td>0</td>\n",
       "      <td>0</td>\n",
       "      <td>0</td>\n",
       "      <td>1</td>\n",
       "      <td>0</td>\n",
       "      <td>0</td>\n",
       "      <td>0</td>\n",
       "      <td>0</td>\n",
       "    </tr>\n",
       "    <tr>\n",
       "      <th>516439</th>\n",
       "      <td>0</td>\n",
       "      <td>0</td>\n",
       "      <td>0</td>\n",
       "      <td>0</td>\n",
       "      <td>0</td>\n",
       "      <td>0</td>\n",
       "      <td>0</td>\n",
       "      <td>1</td>\n",
       "      <td>0</td>\n",
       "      <td>0</td>\n",
       "      <td>...</td>\n",
       "      <td>0</td>\n",
       "      <td>0</td>\n",
       "      <td>0</td>\n",
       "      <td>0</td>\n",
       "      <td>0</td>\n",
       "      <td>0</td>\n",
       "      <td>0</td>\n",
       "      <td>0</td>\n",
       "      <td>1</td>\n",
       "      <td>0</td>\n",
       "    </tr>\n",
       "    <tr>\n",
       "      <th>211136</th>\n",
       "      <td>0</td>\n",
       "      <td>0</td>\n",
       "      <td>1</td>\n",
       "      <td>0</td>\n",
       "      <td>0</td>\n",
       "      <td>0</td>\n",
       "      <td>0</td>\n",
       "      <td>0</td>\n",
       "      <td>0</td>\n",
       "      <td>1</td>\n",
       "      <td>...</td>\n",
       "      <td>0</td>\n",
       "      <td>0</td>\n",
       "      <td>0</td>\n",
       "      <td>0</td>\n",
       "      <td>0</td>\n",
       "      <td>0</td>\n",
       "      <td>0</td>\n",
       "      <td>0</td>\n",
       "      <td>0</td>\n",
       "      <td>0</td>\n",
       "    </tr>\n",
       "    <tr>\n",
       "      <th>899</th>\n",
       "      <td>0</td>\n",
       "      <td>0</td>\n",
       "      <td>0</td>\n",
       "      <td>0</td>\n",
       "      <td>0</td>\n",
       "      <td>0</td>\n",
       "      <td>0</td>\n",
       "      <td>0</td>\n",
       "      <td>0</td>\n",
       "      <td>0</td>\n",
       "      <td>...</td>\n",
       "      <td>0</td>\n",
       "      <td>1</td>\n",
       "      <td>0</td>\n",
       "      <td>0</td>\n",
       "      <td>0</td>\n",
       "      <td>0</td>\n",
       "      <td>0</td>\n",
       "      <td>0</td>\n",
       "      <td>0</td>\n",
       "      <td>0</td>\n",
       "    </tr>\n",
       "    <tr>\n",
       "      <th>242082</th>\n",
       "      <td>0</td>\n",
       "      <td>0</td>\n",
       "      <td>0</td>\n",
       "      <td>0</td>\n",
       "      <td>0</td>\n",
       "      <td>0</td>\n",
       "      <td>0</td>\n",
       "      <td>0</td>\n",
       "      <td>0</td>\n",
       "      <td>0</td>\n",
       "      <td>...</td>\n",
       "      <td>0</td>\n",
       "      <td>0</td>\n",
       "      <td>0</td>\n",
       "      <td>1</td>\n",
       "      <td>0</td>\n",
       "      <td>0</td>\n",
       "      <td>0</td>\n",
       "      <td>1</td>\n",
       "      <td>0</td>\n",
       "      <td>0</td>\n",
       "    </tr>\n",
       "  </tbody>\n",
       "</table>\n",
       "<p>5 rows × 52 columns</p>\n",
       "</div>"
      ],
      "text/plain": [
       "        ace_clubs  ace_diamonds  ace_hearts  ace_spades  eight_clubs  \\\n",
       "478609          0             0           0           0            0   \n",
       "516439          0             0           0           0            0   \n",
       "211136          0             0           1           0            0   \n",
       "899             0             0           0           0            0   \n",
       "242082          0             0           0           0            0   \n",
       "\n",
       "        eight_diamonds  eight_hearts  eight_spades  five_clubs  five_diamonds  \\\n",
       "478609               0             0             1           0              0   \n",
       "516439               0             0             1           0              0   \n",
       "211136               0             0             0           0              1   \n",
       "899                  0             0             0           0              0   \n",
       "242082               0             0             0           0              0   \n",
       "\n",
       "        ...  ten_hearts  ten_spades  three_clubs  three_diamonds  \\\n",
       "478609  ...           0           0            0               0   \n",
       "516439  ...           0           0            0               0   \n",
       "211136  ...           0           0            0               0   \n",
       "899     ...           0           1            0               0   \n",
       "242082  ...           0           0            0               1   \n",
       "\n",
       "        three_hearts  three_spades  two_clubs  two_diamonds  two_hearts  \\\n",
       "478609             0             1          0             0           0   \n",
       "516439             0             0          0             0           1   \n",
       "211136             0             0          0             0           0   \n",
       "899                0             0          0             0           0   \n",
       "242082             0             0          0             1           0   \n",
       "\n",
       "        two_spades  \n",
       "478609           0  \n",
       "516439           0  \n",
       "211136           0  \n",
       "899              0  \n",
       "242082           0  \n",
       "\n",
       "[5 rows x 52 columns]"
      ]
     },
     "execution_count": 6,
     "metadata": {},
     "output_type": "execute_result"
    }
   ],
   "source": [
    "# Randomly split data into two groups: a training set and a test set\n",
    "X_train, X_test, y_train, y_test = train_test_split(X, y, test_size = .10, random_state=24)\n",
    "\n",
    "print (\"\\nTotal records in learning set: {}\".format(poker.shape[0]))\n",
    "print (\"Total records in training set: {}\".format(len(X_train)))\n",
    "print (\"Total records in test set: {}\".format(len(X_test)))\n",
    "    \n",
    "#notice index after reshuffling\n",
    "X_train.tail()"
   ]
  },
  {
   "cell_type": "code",
   "execution_count": 7,
   "metadata": {},
   "outputs": [
    {
     "data": {
      "text/plain": [
       "((720000,), (80000,))"
      ]
     },
     "execution_count": 7,
     "metadata": {},
     "output_type": "execute_result"
    }
   ],
   "source": [
    "y_train.shape, y_test.shape"
   ]
  },
  {
   "cell_type": "code",
   "execution_count": 8,
   "metadata": {},
   "outputs": [
    {
     "name": "stdout",
     "output_type": "stream",
     "text": [
      "0    360320\n",
      "1    304522\n",
      "2     34374\n",
      "3     15325\n",
      "4      2798\n",
      "5      1456\n",
      "6      1034\n",
      "7       160\n",
      "8         9\n",
      "9         2\n",
      "dtype: int64\n",
      "0    0.500444\n",
      "1    0.422947\n",
      "2    0.047742\n",
      "3    0.021285\n",
      "4    0.003886\n",
      "5    0.002022\n",
      "6    0.001436\n",
      "7    0.000222\n",
      "8    0.000013\n",
      "9    0.000003\n",
      "dtype: float64\n"
     ]
    },
    {
     "data": {
      "image/png": "[encoded data removed]",
      "text/plain": [
       "<Figure size 432x288 with 1 Axes>"
      ]
     },
     "metadata": {
      "needs_background": "light"
     },
     "output_type": "display_data"
    }
   ],
   "source": [
    "#visualize distribution trainset vs testset\n",
    "print(y_train.value_counts().sort_index())\n",
    "print(y_train.value_counts(normalize = True).sort_index())\n",
    "y_train.value_counts().sort_index().plot(kind='bar');"
   ]
  },
  {
   "cell_type": "code",
   "execution_count": 9,
   "metadata": {},
   "outputs": [
    {
     "name": "stdout",
     "output_type": "stream",
     "text": [
      "0    40253\n",
      "1    33647\n",
      "2     3799\n",
      "3     1663\n",
      "4      328\n",
      "5      164\n",
      "6      116\n",
      "7       29\n",
      "8        1\n",
      "dtype: int64\n",
      "0    0.503162\n",
      "1    0.420588\n",
      "2    0.047488\n",
      "3    0.020788\n",
      "4    0.004100\n",
      "5    0.002050\n",
      "6    0.001450\n",
      "7    0.000362\n",
      "8    0.000013\n",
      "dtype: float64\n"
     ]
    },
    {
     "data": {
      "image/png": "[encoded data removed]",
      "text/plain": [
       "<Figure size 432x288 with 1 Axes>"
      ]
     },
     "metadata": {
      "needs_background": "light"
     },
     "output_type": "display_data"
    }
   ],
   "source": [
    "#visualize distribution trainset vs testset -> only 9 classes out of 10\n",
    "print(y_test.value_counts().sort_index())\n",
    "print(y_test.value_counts(normalize = True).sort_index())\n",
    "y_test.value_counts().sort_index().plot(kind='bar');"
   ]
  },
  {
   "cell_type": "markdown",
   "metadata": {},
   "source": [
    "Due to imbalanced data, not all classes make it to test ds.  Manually add a missing class.  \n",
    "Todo: implement stratified sampling and oversampling."
   ]
  },
  {
   "cell_type": "code",
   "execution_count": 10,
   "metadata": {},
   "outputs": [
    {
     "name": "stdout",
     "output_type": "stream",
     "text": [
      "(80002, 52) (80002,)\n"
     ]
    }
   ],
   "source": [
    "#add RoyalFlush to test ds, needed for keras NN to work here\n",
    "idx_royal_flush  = poker[poker['class'] == 'Royal flush'].index\n",
    "X.iloc[idx_royal_flush]\n",
    "\n",
    "#append row to X_test and y_test\n",
    "X_test = X_test.append(X.iloc[idx_royal_flush])\n",
    "y_test = y_test.append(pd.Series([9,9]))\n",
    "\n",
    "print(X_test.shape, y_test.shape)"
   ]
  },
  {
   "cell_type": "code",
   "execution_count": 11,
   "metadata": {},
   "outputs": [
    {
     "name": "stdout",
     "output_type": "stream",
     "text": [
      "0    40253\n",
      "1    33647\n",
      "2     3799\n",
      "3     1663\n",
      "4      328\n",
      "5      164\n",
      "6      116\n",
      "7       29\n",
      "8        1\n",
      "9        2\n",
      "dtype: int64\n",
      "0    0.503150\n",
      "1    0.420577\n",
      "2    0.047486\n",
      "3    0.020787\n",
      "4    0.004100\n",
      "5    0.002050\n",
      "6    0.001450\n",
      "7    0.000362\n",
      "8    0.000012\n",
      "9    0.000025\n",
      "dtype: float64\n"
     ]
    },
    {
     "data": {
      "image/png": "[encoded data removed]",
      "text/plain": [
       "<Figure size 432x288 with 1 Axes>"
      ]
     },
     "metadata": {
      "needs_background": "light"
     },
     "output_type": "display_data"
    }
   ],
   "source": [
    "#visualize distribution trainset vs testset -> only 9 classes out of 10\n",
    "print(y_test.value_counts().sort_index())\n",
    "print(y_test.value_counts(normalize = True).sort_index())\n",
    "y_test.value_counts().sort_index().plot(kind='bar');"
   ]
  },
  {
   "cell_type": "markdown",
   "metadata": {},
   "source": [
    "## 2.0 Instrument WandB\n",
    "to track experiments and visualize models performance"
   ]
  },
  {
   "cell_type": "code",
   "execution_count": 12,
   "metadata": {},
   "outputs": [],
   "source": [
    "#login\n",
    "#!wandb login\n"
   ]
  },
  {
   "cell_type": "code",
   "execution_count": 13,
   "metadata": {},
   "outputs": [],
   "source": [
    "ALGO = None"
   ]
  },
  {
   "cell_type": "markdown",
   "metadata": {},
   "source": [
    "\n",
    "## 2.1 Model  & Track Experiments \n",
    "with WandB\n",
    "\n",
    "### Logistic Regression"
   ]
  },
  {
   "cell_type": "code",
   "execution_count": 14,
   "metadata": {},
   "outputs": [
    {
     "name": "stderr",
     "output_type": "stream",
     "text": [
      "Failed to query for notebook name, you can set it manually with the WANDB_NOTEBOOK_NAME environment variable\n",
      "\u001b[34m\u001b[1mwandb\u001b[0m: Currently logged in as: \u001b[33manya\u001b[0m (use `wandb login --relogin` to force relogin)\n"
     ]
    },
    {
     "data": {
      "text/html": [
       "\n",
       "                Tracking run with wandb version 0.10.18<br/>\n",
       "                Syncing run <strong style=\"color:#cdcd00\">earthy-bee-10</strong> to <a href=\"https://wandb.ai\" target=\"_blank\">Weights & Biases</a> <a href=\"https://docs.wandb.com/integrations/jupyter.html\" target=\"_blank\">(Documentation)</a>.<br/>\n",
       "                Project page: <a href=\"https://wandb.ai/anya/zz-poker\" target=\"_blank\">https://wandb.ai/anya/zz-poker</a><br/>\n",
       "                Run page: <a href=\"https://wandb.ai/anya/zz-poker/runs/1ksbhrku\" target=\"_blank\">https://wandb.ai/anya/zz-poker/runs/1ksbhrku</a><br/>\n",
       "                Run data is saved locally in <code>/Users/amigopro/anyaconda3/myGitrepo/helloML/myAnomaliesInPoker/wandb/run-20210210_012014-1ksbhrku</code><br/><br/>\n",
       "            "
      ],
      "text/plain": [
       "<IPython.core.display.HTML object>"
      ]
     },
     "metadata": {},
     "output_type": "display_data"
    }
   ],
   "source": [
    "# initialize a new run\n",
    "experiment_name = 'SciKit'\n",
    "wandb.init(project=\"zz-poker\", group=experiment_name)\n",
    "\n",
    "ALGO = 'LogReg'"
   ]
  },
  {
   "cell_type": "code",
   "execution_count": 15,
   "metadata": {},
   "outputs": [
    {
     "name": "stdout",
     "output_type": "stream",
     "text": [
      "Training time (in min) 0.1366342822710673\n",
      "+ Testing time (in min) 0.13769811391830444\n"
     ]
    },
    {
     "data": {
      "text/plain": [
       "0.5031499212519687"
      ]
     },
     "execution_count": 15,
     "metadata": {},
     "output_type": "execute_result"
    }
   ],
   "source": [
    "#track time\n",
    "t0 = time.time()\n",
    "\n",
    "clf = LogisticRegression(random_state=0, solver='lbfgs',max_iter=100,multi_class='ovr').fit(X_train, y_train)\n",
    "\n",
    "t1 = time.time()\n",
    "print (\"Training time (in min)\", (t1 - t0)/60)\n",
    "wandb.log({\"time_train\": (t1 - t0)/60})\n",
    "\n",
    "#predict\n",
    "y_hat=clf.predict(X_test)\n",
    "\n",
    "t1 = time.time()\n",
    "print (\"+ Testing time (in min)\", (t1 - t0)/60)\n",
    "wandb.log({\"time_test\": (t1 - t0)/60})\n",
    "\n",
    "accuracy_score(y_hat,y_test)"
   ]
  },
  {
   "cell_type": "code",
   "execution_count": 16,
   "metadata": {},
   "outputs": [
    {
     "name": "stdout",
     "output_type": "stream",
     "text": [
      "[[    0 80002]]\n"
     ]
    }
   ],
   "source": [
    "unique, counts = np.unique(y_hat, return_counts=True)\n",
    "print (np.asarray((unique, counts)).T)"
   ]
  },
  {
   "cell_type": "code",
   "execution_count": 17,
   "metadata": {},
   "outputs": [
    {
     "name": "stdout",
     "output_type": "stream",
     "text": [
      "Confusion matrix:\n",
      "[[40253     0     0     0     0     0     0     0     0     0]\n",
      " [33647     0     0     0     0     0     0     0     0     0]\n",
      " [ 3799     0     0     0     0     0     0     0     0     0]\n",
      " [ 1663     0     0     0     0     0     0     0     0     0]\n",
      " [  328     0     0     0     0     0     0     0     0     0]\n",
      " [  164     0     0     0     0     0     0     0     0     0]\n",
      " [  116     0     0     0     0     0     0     0     0     0]\n",
      " [   29     0     0     0     0     0     0     0     0     0]\n",
      " [    1     0     0     0     0     0     0     0     0     0]\n",
      " [    2     0     0     0     0     0     0     0     0     0]]\n"
     ]
    }
   ],
   "source": [
    "cm = confusion_matrix(y_test, y_hat)\n",
    "print(\"Confusion matrix:\\n{}\".format(cm))"
   ]
  },
  {
   "cell_type": "code",
   "execution_count": 18,
   "metadata": {},
   "outputs": [],
   "source": [
    "# Track this experiment: Log metrics with wandb\n",
    "wandb.log({\"algo\": ALGO, \"accuracy_train\": accuracy_score(clf.predict(X_train),y_train), \"accuracy_test\": accuracy_score(y_hat,y_test)})\n",
    "\n",
    "# Visualize cm\n",
    "#src https://docs.wandb.ai/integrations/scikit\n",
    "wandb.sklearn.plot_confusion_matrix(y_test, y_hat, np.unique(y)) #not ordered poker['class'].cat.categories\n"
   ]
  },
  {
   "cell_type": "markdown",
   "metadata": {},
   "source": [
    "### CART\n",
    "Classification and Regression Trees or CART for short"
   ]
  },
  {
   "cell_type": "code",
   "execution_count": 19,
   "metadata": {
    "scrolled": true
   },
   "outputs": [
    {
     "data": {
      "text/html": [
       "Finishing last run (ID:1ksbhrku) before initializing another..."
      ],
      "text/plain": [
       "<IPython.core.display.HTML object>"
      ]
     },
     "metadata": {},
     "output_type": "display_data"
    },
    {
     "data": {
      "text/html": [
       "<br/>Waiting for W&B process to finish, PID 12133<br/>Program ended successfully."
      ],
      "text/plain": [
       "<IPython.core.display.HTML object>"
      ]
     },
     "metadata": {},
     "output_type": "display_data"
    },
    {
     "data": {
      "text/html": [
       "Find user logs for this run at: <code>/Users/amigopro/anyaconda3/myGitrepo/helloML/myAnomaliesInPoker/wandb/run-20210210_012014-1ksbhrku/logs/debug.log</code>"
      ],
      "text/plain": [
       "<IPython.core.display.HTML object>"
      ]
     },
     "metadata": {},
     "output_type": "display_data"
    },
    {
     "data": {
      "text/html": [
       "Find internal logs for this run at: <code>/Users/amigopro/anyaconda3/myGitrepo/helloML/myAnomaliesInPoker/wandb/run-20210210_012014-1ksbhrku/logs/debug-internal.log</code>"
      ],
      "text/plain": [
       "<IPython.core.display.HTML object>"
      ]
     },
     "metadata": {},
     "output_type": "display_data"
    },
    {
     "data": {
      "text/html": [
       "<h3>Run summary:</h3><br/><style>\n",
       "    table.wandb td:nth-child(1) { padding: 0 10px; text-align: right }\n",
       "    </style><table class=\"wandb\">\n",
       "<tr><td>time_train</td><td>0.13663</td></tr><tr><td>_runtime</td><td>12</td></tr><tr><td>_timestamp</td><td>1612948826</td></tr><tr><td>_step</td><td>3</td></tr><tr><td>time_test</td><td>0.1377</td></tr><tr><td>algo</td><td>LogReg</td></tr><tr><td>accuracy_train</td><td>0.50044</td></tr><tr><td>accuracy_test</td><td>0.50315</td></tr></table>"
      ],
      "text/plain": [
       "<IPython.core.display.HTML object>"
      ]
     },
     "metadata": {},
     "output_type": "display_data"
    },
    {
     "data": {
      "text/html": [
       "<h3>Run history:</h3><br/><style>\n",
       "    table.wandb td:nth-child(1) { padding: 0 10px; text-align: right }\n",
       "    </style><table class=\"wandb\">\n",
       "<tr><td>time_train</td><td>▁</td></tr><tr><td>_runtime</td><td>▁▁██</td></tr><tr><td>_timestamp</td><td>▁▁██</td></tr><tr><td>_step</td><td>▁▃▆█</td></tr><tr><td>time_test</td><td>▁</td></tr><tr><td>accuracy_train</td><td>▁</td></tr><tr><td>accuracy_test</td><td>▁</td></tr></table><br/>"
      ],
      "text/plain": [
       "<IPython.core.display.HTML object>"
      ]
     },
     "metadata": {},
     "output_type": "display_data"
    },
    {
     "data": {
      "text/html": [
       "Synced 5 W&B file(s), 1 media file(s), 0 artifact file(s) and 0 other file(s)"
      ],
      "text/plain": [
       "<IPython.core.display.HTML object>"
      ]
     },
     "metadata": {},
     "output_type": "display_data"
    },
    {
     "data": {
      "text/html": [
       "\n",
       "                    <br/>Synced <strong style=\"color:#cdcd00\">earthy-bee-10</strong>: <a href=\"https://wandb.ai/anya/zz-poker/runs/1ksbhrku\" target=\"_blank\">https://wandb.ai/anya/zz-poker/runs/1ksbhrku</a><br/>\n",
       "                "
      ],
      "text/plain": [
       "<IPython.core.display.HTML object>"
      ]
     },
     "metadata": {},
     "output_type": "display_data"
    },
    {
     "data": {
      "text/html": [
       "...Successfully finished last run (ID:1ksbhrku). Initializing new run:<br/><br/>"
      ],
      "text/plain": [
       "<IPython.core.display.HTML object>"
      ]
     },
     "metadata": {},
     "output_type": "display_data"
    },
    {
     "data": {
      "text/html": [
       "\n",
       "                Tracking run with wandb version 0.10.18<br/>\n",
       "                Syncing run <strong style=\"color:#cdcd00\">ancient-bird-11</strong> to <a href=\"https://wandb.ai\" target=\"_blank\">Weights & Biases</a> <a href=\"https://docs.wandb.com/integrations/jupyter.html\" target=\"_blank\">(Documentation)</a>.<br/>\n",
       "                Project page: <a href=\"https://wandb.ai/anya/zz-poker\" target=\"_blank\">https://wandb.ai/anya/zz-poker</a><br/>\n",
       "                Run page: <a href=\"https://wandb.ai/anya/zz-poker/runs/1m3c88ik\" target=\"_blank\">https://wandb.ai/anya/zz-poker/runs/1m3c88ik</a><br/>\n",
       "                Run data is saved locally in <code>/Users/amigopro/anyaconda3/myGitrepo/helloML/myAnomaliesInPoker/wandb/run-20210210_012026-1m3c88ik</code><br/><br/>\n",
       "            "
      ],
      "text/plain": [
       "<IPython.core.display.HTML object>"
      ]
     },
     "metadata": {},
     "output_type": "display_data"
    }
   ],
   "source": [
    "# initialize a new run\n",
    "experiment_name = 'SciKit'\n",
    "wandb.init(project=\"zz-poker\", group=experiment_name)\n",
    "\n",
    "ALGO = 'CART'"
   ]
  },
  {
   "cell_type": "code",
   "execution_count": 20,
   "metadata": {},
   "outputs": [
    {
     "name": "stdout",
     "output_type": "stream",
     "text": [
      "Training time (in min) 0.07132468223571778\n",
      "+ Testing time (in min) 0.07198714812596639\n"
     ]
    },
    {
     "data": {
      "text/plain": [
       "0.5886477838054048"
      ]
     },
     "execution_count": 20,
     "metadata": {},
     "output_type": "execute_result"
    }
   ],
   "source": [
    "#track time\n",
    "t0 = time.time()\n",
    "\n",
    "decision_tree = DecisionTreeClassifier(random_state=0,max_depth = 10) #max_depth =2,3\n",
    "decision_tree = decision_tree.fit(X_train,y_train)\n",
    "\n",
    "t1 = time.time()\n",
    "print (\"Training time (in min)\", (t1 - t0)/60)\n",
    "wandb.log({\"time_train\": (t1 - t0)/60})\n",
    "\n",
    "#predict\n",
    "y_hat=decision_tree.predict(X_test)\n",
    "\n",
    "t1 = time.time()\n",
    "print (\"+ Testing time (in min)\", (t1 - t0)/60)\n",
    "wandb.log({\"time_test\": (t1 - t0)/60})\n",
    "\n",
    "accuracy_score(y_hat,y_test)"
   ]
  },
  {
   "cell_type": "code",
   "execution_count": 21,
   "metadata": {},
   "outputs": [
    {
     "name": "stdout",
     "output_type": "stream",
     "text": [
      "[[    0 46708]\n",
      " [    1 32923]\n",
      " [    2    93]\n",
      " [    3   271]\n",
      " [    6     3]\n",
      " [    7     4]]\n"
     ]
    }
   ],
   "source": [
    "unique, counts = np.unique(y_hat, return_counts=True)\n",
    "print (np.asarray((unique, counts)).T)"
   ]
  },
  {
   "cell_type": "code",
   "execution_count": 22,
   "metadata": {},
   "outputs": [
    {
     "name": "stdout",
     "output_type": "stream",
     "text": [
      "Confusion matrix:\n",
      "[[29012 11241     0     0     0     0     0     0     0     0]\n",
      " [15919 17727     1     0     0     0     0     0     0     0]\n",
      " [  840  2869    90     0     0     0     0     0     0     0]\n",
      " [  526   880     0   257     0     0     0     0     0     0]\n",
      " [  269    59     0     0     0     0     0     0     0     0]\n",
      " [  123    41     0     0     0     0     0     0     0     0]\n",
      " [   13    84     2    14     0     0     3     0     0     0]\n",
      " [    5    20     0     0     0     0     0     4     0     0]\n",
      " [    1     0     0     0     0     0     0     0     0     0]\n",
      " [    0     2     0     0     0     0     0     0     0     0]]\n"
     ]
    }
   ],
   "source": [
    "cm = confusion_matrix(y_test, y_hat)\n",
    "print(\"Confusion matrix:\\n{}\".format(cm))"
   ]
  },
  {
   "cell_type": "code",
   "execution_count": 23,
   "metadata": {},
   "outputs": [],
   "source": [
    "# Track this experiment: Log metrics with wandb\n",
    "wandb.log({\"algo\": ALGO, \"accuracy_train\": accuracy_score(decision_tree.predict(X_train),y_train), \"accuracy_test\": accuracy_score(y_hat,y_test)})\n",
    "\n",
    "# Visualize cm\n",
    "#src https://docs.wandb.ai/integrations/scikit\n",
    "wandb.sklearn.plot_confusion_matrix(y_test, y_hat, np.unique(y)) #not ordered poker['class'].cat.categories\n"
   ]
  },
  {
   "cell_type": "markdown",
   "metadata": {},
   "source": [
    "### SVM\n",
    "We plot each data item as a point in n-dimensional space (where n is number of features you have) with the value of each feature being the value of a particular coordinate"
   ]
  },
  {
   "cell_type": "code",
   "execution_count": 24,
   "metadata": {
    "scrolled": true
   },
   "outputs": [
    {
     "data": {
      "text/html": [
       "Finishing last run (ID:1m3c88ik) before initializing another..."
      ],
      "text/plain": [
       "<IPython.core.display.HTML object>"
      ]
     },
     "metadata": {},
     "output_type": "display_data"
    },
    {
     "data": {
      "text/html": [
       "<br/>Waiting for W&B process to finish, PID 12148<br/>Program ended successfully."
      ],
      "text/plain": [
       "<IPython.core.display.HTML object>"
      ]
     },
     "metadata": {},
     "output_type": "display_data"
    },
    {
     "data": {
      "text/html": [
       "Find user logs for this run at: <code>/Users/amigopro/anyaconda3/myGitrepo/helloML/myAnomaliesInPoker/wandb/run-20210210_012026-1m3c88ik/logs/debug.log</code>"
      ],
      "text/plain": [
       "<IPython.core.display.HTML object>"
      ]
     },
     "metadata": {},
     "output_type": "display_data"
    },
    {
     "data": {
      "text/html": [
       "Find internal logs for this run at: <code>/Users/amigopro/anyaconda3/myGitrepo/helloML/myAnomaliesInPoker/wandb/run-20210210_012026-1m3c88ik/logs/debug-internal.log</code>"
      ],
      "text/plain": [
       "<IPython.core.display.HTML object>"
      ]
     },
     "metadata": {},
     "output_type": "display_data"
    },
    {
     "data": {
      "text/html": [
       "<h3>Run summary:</h3><br/><style>\n",
       "    table.wandb td:nth-child(1) { padding: 0 10px; text-align: right }\n",
       "    </style><table class=\"wandb\">\n",
       "<tr><td>time_train</td><td>0.07132</td></tr><tr><td>_runtime</td><td>8</td></tr><tr><td>_timestamp</td><td>1612948838</td></tr><tr><td>_step</td><td>3</td></tr><tr><td>time_test</td><td>0.07199</td></tr><tr><td>algo</td><td>CART</td></tr><tr><td>accuracy_train</td><td>0.59043</td></tr><tr><td>accuracy_test</td><td>0.58865</td></tr></table>"
      ],
      "text/plain": [
       "<IPython.core.display.HTML object>"
      ]
     },
     "metadata": {},
     "output_type": "display_data"
    },
    {
     "data": {
      "text/html": [
       "<h3>Run history:</h3><br/><style>\n",
       "    table.wandb td:nth-child(1) { padding: 0 10px; text-align: right }\n",
       "    </style><table class=\"wandb\">\n",
       "<tr><td>time_train</td><td>▁</td></tr><tr><td>_runtime</td><td>▁▁██</td></tr><tr><td>_timestamp</td><td>▁▁██</td></tr><tr><td>_step</td><td>▁▃▆█</td></tr><tr><td>time_test</td><td>▁</td></tr><tr><td>accuracy_train</td><td>▁</td></tr><tr><td>accuracy_test</td><td>▁</td></tr></table><br/>"
      ],
      "text/plain": [
       "<IPython.core.display.HTML object>"
      ]
     },
     "metadata": {},
     "output_type": "display_data"
    },
    {
     "data": {
      "text/html": [
       "Synced 5 W&B file(s), 1 media file(s), 0 artifact file(s) and 0 other file(s)"
      ],
      "text/plain": [
       "<IPython.core.display.HTML object>"
      ]
     },
     "metadata": {},
     "output_type": "display_data"
    },
    {
     "data": {
      "text/html": [
       "\n",
       "                    <br/>Synced <strong style=\"color:#cdcd00\">ancient-bird-11</strong>: <a href=\"https://wandb.ai/anya/zz-poker/runs/1m3c88ik\" target=\"_blank\">https://wandb.ai/anya/zz-poker/runs/1m3c88ik</a><br/>\n",
       "                "
      ],
      "text/plain": [
       "<IPython.core.display.HTML object>"
      ]
     },
     "metadata": {},
     "output_type": "display_data"
    },
    {
     "data": {
      "text/html": [
       "...Successfully finished last run (ID:1m3c88ik). Initializing new run:<br/><br/>"
      ],
      "text/plain": [
       "<IPython.core.display.HTML object>"
      ]
     },
     "metadata": {},
     "output_type": "display_data"
    },
    {
     "data": {
      "text/html": [
       "\n",
       "                Tracking run with wandb version 0.10.18<br/>\n",
       "                Syncing run <strong style=\"color:#cdcd00\">dashing-voice-12</strong> to <a href=\"https://wandb.ai\" target=\"_blank\">Weights & Biases</a> <a href=\"https://docs.wandb.com/integrations/jupyter.html\" target=\"_blank\">(Documentation)</a>.<br/>\n",
       "                Project page: <a href=\"https://wandb.ai/anya/zz-poker\" target=\"_blank\">https://wandb.ai/anya/zz-poker</a><br/>\n",
       "                Run page: <a href=\"https://wandb.ai/anya/zz-poker/runs/ef3kvrpm\" target=\"_blank\">https://wandb.ai/anya/zz-poker/runs/ef3kvrpm</a><br/>\n",
       "                Run data is saved locally in <code>/Users/amigopro/anyaconda3/myGitrepo/helloML/myAnomaliesInPoker/wandb/run-20210210_012038-ef3kvrpm</code><br/><br/>\n",
       "            "
      ],
      "text/plain": [
       "<IPython.core.display.HTML object>"
      ]
     },
     "metadata": {},
     "output_type": "display_data"
    }
   ],
   "source": [
    "# initialize a new run\n",
    "experiment_name = 'SciKit'\n",
    "wandb.init(project=\"zz-poker\", group=experiment_name)\n",
    "\n",
    "ALGO = 'SVM'"
   ]
  },
  {
   "cell_type": "code",
   "execution_count": 25,
   "metadata": {},
   "outputs": [
    {
     "name": "stdout",
     "output_type": "stream",
     "text": [
      "Training time (in min) 3.380635750293732\n",
      "+ Testing time (in min) 3.3813310345013936\n"
     ]
    },
    {
     "data": {
      "text/plain": [
       "0.5031499212519687"
      ]
     },
     "execution_count": 25,
     "metadata": {},
     "output_type": "execute_result"
    }
   ],
   "source": [
    "#track time\n",
    "t0 = time.time()\n",
    "\n",
    "clf = svm.LinearSVC()\n",
    "clf.fit(X_train,y_train) \n",
    "\n",
    "t1 = time.time()\n",
    "print (\"Training time (in min)\", (t1 - t0)/60)\n",
    "wandb.log({\"time_train\": (t1 - t0)/60})\n",
    "\n",
    "#predict\n",
    "y_hat=clf.predict(X_test)\n",
    "\n",
    "t1 = time.time()\n",
    "print (\"+ Testing time (in min)\", (t1 - t0)/60)\n",
    "wandb.log({\"time_test\": (t1 - t0)/60})\n",
    "\n",
    "accuracy_score(y_hat,y_test)"
   ]
  },
  {
   "cell_type": "code",
   "execution_count": 26,
   "metadata": {},
   "outputs": [
    {
     "name": "stdout",
     "output_type": "stream",
     "text": [
      "[[    0 80002]]\n"
     ]
    }
   ],
   "source": [
    "unique, counts = np.unique(y_hat, return_counts=True)\n",
    "print (np.asarray((unique, counts)).T)"
   ]
  },
  {
   "cell_type": "code",
   "execution_count": 27,
   "metadata": {},
   "outputs": [
    {
     "name": "stdout",
     "output_type": "stream",
     "text": [
      "Confusion matrix:\n",
      "[[40253     0     0     0     0     0     0     0     0     0]\n",
      " [33647     0     0     0     0     0     0     0     0     0]\n",
      " [ 3799     0     0     0     0     0     0     0     0     0]\n",
      " [ 1663     0     0     0     0     0     0     0     0     0]\n",
      " [  328     0     0     0     0     0     0     0     0     0]\n",
      " [  164     0     0     0     0     0     0     0     0     0]\n",
      " [  116     0     0     0     0     0     0     0     0     0]\n",
      " [   29     0     0     0     0     0     0     0     0     0]\n",
      " [    1     0     0     0     0     0     0     0     0     0]\n",
      " [    2     0     0     0     0     0     0     0     0     0]]\n"
     ]
    }
   ],
   "source": [
    "cm = confusion_matrix(y_test, y_hat)\n",
    "print(\"Confusion matrix:\\n{}\".format(cm))"
   ]
  },
  {
   "cell_type": "code",
   "execution_count": 28,
   "metadata": {},
   "outputs": [],
   "source": [
    "# Track this experiment: Log metrics with wandb\n",
    "wandb.log({\"algo\": ALGO, \"accuracy_train\": accuracy_score(clf.predict(X_train),y_train), \"accuracy_test\": accuracy_score(y_hat,y_test)})\n",
    "\n",
    "# Visualize cm\n",
    "#src https://docs.wandb.ai/integrations/scikit\n",
    "wandb.sklearn.plot_confusion_matrix(y_test, y_hat, np.unique(y)) #not ordered poker['class'].cat.categories\n"
   ]
  },
  {
   "cell_type": "code",
   "execution_count": 29,
   "metadata": {},
   "outputs": [
    {
     "data": {
      "text/html": [
       "<br/>Waiting for W&B process to finish, PID 12156<br/>Program ended successfully."
      ],
      "text/plain": [
       "<IPython.core.display.HTML object>"
      ]
     },
     "metadata": {},
     "output_type": "display_data"
    },
    {
     "data": {
      "text/html": [
       "Find user logs for this run at: <code>/Users/amigopro/anyaconda3/myGitrepo/helloML/myAnomaliesInPoker/wandb/run-20210210_012038-ef3kvrpm/logs/debug.log</code>"
      ],
      "text/plain": [
       "<IPython.core.display.HTML object>"
      ]
     },
     "metadata": {},
     "output_type": "display_data"
    },
    {
     "data": {
      "text/html": [
       "Find internal logs for this run at: <code>/Users/amigopro/anyaconda3/myGitrepo/helloML/myAnomaliesInPoker/wandb/run-20210210_012038-ef3kvrpm/logs/debug-internal.log</code>"
      ],
      "text/plain": [
       "<IPython.core.display.HTML object>"
      ]
     },
     "metadata": {},
     "output_type": "display_data"
    },
    {
     "data": {
      "text/html": [
       "<h3>Run summary:</h3><br/><style>\n",
       "    table.wandb td:nth-child(1) { padding: 0 10px; text-align: right }\n",
       "    </style><table class=\"wandb\">\n",
       "<tr><td>time_train</td><td>3.38064</td></tr><tr><td>_runtime</td><td>206</td></tr><tr><td>_timestamp</td><td>1612949047</td></tr><tr><td>_step</td><td>3</td></tr><tr><td>time_test</td><td>3.38133</td></tr><tr><td>algo</td><td>SVM</td></tr><tr><td>accuracy_train</td><td>0.50044</td></tr><tr><td>accuracy_test</td><td>0.50315</td></tr></table>"
      ],
      "text/plain": [
       "<IPython.core.display.HTML object>"
      ]
     },
     "metadata": {},
     "output_type": "display_data"
    },
    {
     "data": {
      "text/html": [
       "<h3>Run history:</h3><br/><style>\n",
       "    table.wandb td:nth-child(1) { padding: 0 10px; text-align: right }\n",
       "    </style><table class=\"wandb\">\n",
       "<tr><td>time_train</td><td>▁</td></tr><tr><td>_runtime</td><td>▁▁▁▁</td></tr><tr><td>_timestamp</td><td>▁▁▁▁</td></tr><tr><td>_step</td><td>▁▃▆█</td></tr><tr><td>time_test</td><td>▁</td></tr><tr><td>accuracy_train</td><td>▁</td></tr><tr><td>accuracy_test</td><td>▁</td></tr></table><br/>"
      ],
      "text/plain": [
       "<IPython.core.display.HTML object>"
      ]
     },
     "metadata": {},
     "output_type": "display_data"
    },
    {
     "data": {
      "text/html": [
       "Synced 5 W&B file(s), 1 media file(s), 0 artifact file(s) and 0 other file(s)"
      ],
      "text/plain": [
       "<IPython.core.display.HTML object>"
      ]
     },
     "metadata": {},
     "output_type": "display_data"
    },
    {
     "data": {
      "text/html": [
       "\n",
       "                    <br/>Synced <strong style=\"color:#cdcd00\">dashing-voice-12</strong>: <a href=\"https://wandb.ai/anya/zz-poker/runs/ef3kvrpm\" target=\"_blank\">https://wandb.ai/anya/zz-poker/runs/ef3kvrpm</a><br/>\n",
       "                "
      ],
      "text/plain": [
       "<IPython.core.display.HTML object>"
      ]
     },
     "metadata": {},
     "output_type": "display_data"
    }
   ],
   "source": [
    "wandb.finish()"
   ]
  },
  {
   "cell_type": "code",
   "execution_count": 30,
   "metadata": {},
   "outputs": [
    {
     "ename": "NameError",
     "evalue": "name 'mystop' is not defined",
     "output_type": "error",
     "traceback": [
      "\u001b[0;31m---------------------------------------------------------------------------\u001b[0m",
      "\u001b[0;31mNameError\u001b[0m                                 Traceback (most recent call last)",
      "\u001b[0;32m<ipython-input-30-255d8eb4da7e>\u001b[0m in \u001b[0;36m<module>\u001b[0;34m\u001b[0m\n\u001b[0;32m----> 1\u001b[0;31m \u001b[0mmystop\u001b[0m\u001b[0;34m\u001b[0m\u001b[0;34m\u001b[0m\u001b[0m\n\u001b[0m",
      "\u001b[0;31mNameError\u001b[0m: name 'mystop' is not defined"
     ]
    }
   ],
   "source": [
    "#part 1 of wandb complete\n",
    "mystop\n"
   ]
  },
  {
   "cell_type": "markdown",
   "metadata": {},
   "source": [
    "### Neural Net with Keras\n",
    "A neural network is a progression of algorithms that attempts to perceive fundamental connections in a lot of information through a procedure that copies the manner in which the human brain works. Neural network can adjust to changing input; so the network produces the most ideal outcome without expecting to redesign the output criteria.\n",
    "To create NN we used Keras library which is a high-level API wrapper for the low-level API, capable of running on top of TensorFlow, CNTK, or Theano.\n",
    "\n",
    "This neural network architecture comprised of 3 dense layers with respectively 15,10 and 10 nodes in each layer."
   ]
  },
  {
   "cell_type": "code",
   "execution_count": null,
   "metadata": {},
   "outputs": [],
   "source": [
    "import keras\n",
    "from keras.models import Sequential\n",
    "from keras.layers import Dense, Dropout, Activation\n",
    "from keras.optimizers import SGD\n",
    "from keras import regularizers"
   ]
  },
  {
   "cell_type": "code",
   "execution_count": null,
   "metadata": {},
   "outputs": [],
   "source": [
    "#$mycodedelta\n",
    "#code below errors out: ValueError: Error when checking target: expected dense_3 to have shape (10,) but got array with shape (1,)\n",
    "#src https://stackoverflow.com/questions/49392972/error-when-checking-target-expected-dense-3-to-have-shape-3-but-got-array-wi/55992428\n",
    "#issue: problem is with label-data shape\n",
    "#      Keras expects y-data in (N, 10) shape, not (N,) \n",
    "#      was: y_train.shape, y_test.shape\n",
    "#      was: ((25010,), (1000000,))\n",
    "#fix: Recode labels using to_categorical to get the correct shape of inputs\n",
    "from keras.utils import to_categorical\n",
    "y_train_nn = to_categorical(y_train)\n",
    "y_test_nn = to_categorical(y_test)\n",
    "\n",
    "y_train_nn.shape, y_test_nn.shape"
   ]
  },
  {
   "cell_type": "code",
   "execution_count": null,
   "metadata": {},
   "outputs": [],
   "source": [
    "model = Sequential()\n",
    "model.add(Dense(52, activation='relu', input_dim=52))\n",
    "model.add(Dense(52, activation='relu'))\n",
    "model.add(Dense(10, activation='softmax'))\n",
    "model.compile(loss='binary_crossentropy',\n",
    "              optimizer='adam',\n",
    "              metrics=['accuracy'])\n",
    "\n",
    "#track time\n",
    "t0 = time.time()\n",
    "\n",
    "history = model.fit(X_train, y_train_nn, epochs = 10, batch_size = 256, verbose=1,validation_data=(X_test,y_test_nn),shuffle=True) #$mycodedelta\n",
    "\n",
    "\n",
    "score = model.evaluate(X_test, y_test_nn, batch_size=256) #$mycodedelta\n",
    "print (\"Training time (in min)\", (time.time() - t0)/60)"
   ]
  },
  {
   "cell_type": "code",
   "execution_count": null,
   "metadata": {},
   "outputs": [],
   "source": [
    "score[1]"
   ]
  },
  {
   "cell_type": "code",
   "execution_count": null,
   "metadata": {},
   "outputs": [],
   "source": [
    "plt.figure(figsize=(15, 5))\n",
    "plt.subplot(1,2,1)\n",
    "plt.plot(history.history['accuracy']) #$mycodedelta\n",
    "plt.plot(history.history['val_accuracy'])#$mycodedelta\n",
    "plt.title('Model accuracy')\n",
    "plt.ylabel('Accuracy')\n",
    "plt.xlabel('Epoch')\n",
    "plt.legend(['Train', 'Test'], loc='upper left')\n",
    "plt.subplot(1,2,2)\n",
    "plt.plot(history.history['loss'])\n",
    "plt.plot(history.history['val_loss'])\n",
    "plt.title('Model loss')\n",
    "plt.ylabel('Loss')\n",
    "plt.xlabel('Epoch')\n",
    "plt.legend(['Train', 'Test'], loc='lower left')"
   ]
  },
  {
   "cell_type": "markdown",
   "metadata": {},
   "source": [
    "##### Evaludate NN model\n",
    "by predicting on the given test set (which unfortunately has been used for validation, too)."
   ]
  },
  {
   "cell_type": "code",
   "execution_count": null,
   "metadata": {},
   "outputs": [],
   "source": [
    "#predict\n",
    "y_hat = model.predict(X_test) #numpy.ndarray\n",
    "y_hat_class = y_hat.argmax(axis=1)\n",
    "print (\"+ Testing time (in min)\", (time.time() - t0)/60)\n",
    "print(y_hat.shape, y_hat_class.shape)\n",
    "\n",
    "accuracy_score(y_hat_class, y_test)"
   ]
  },
  {
   "cell_type": "code",
   "execution_count": null,
   "metadata": {},
   "outputs": [],
   "source": [
    "unique, counts = np.unique(y_hat_class, return_counts=True)\n",
    "print (np.asarray((unique, counts)).T)"
   ]
  },
  {
   "cell_type": "code",
   "execution_count": null,
   "metadata": {},
   "outputs": [],
   "source": [
    "cm = confusion_matrix(y_test, y_hat_class)\n",
    "print(\"Confusion matrix:\\n{}\".format(cm))"
   ]
  },
  {
   "cell_type": "markdown",
   "metadata": {},
   "source": [
    "A large increase in test accuracy from initial example, where it was ~62%\n",
    "##### Note\n",
    "In ML, using the same `test` ds for validation and testing is not a valid technique.  Next step should be to truly have `train`, `validation` and `test` sets and see how all the models fair with a holdout dataset.\n",
    "\n",
    "Src: https://keras.io/guides/training_with_built_in_methods/\n",
    "Here's what the typical end-to-end workflow looks like, consisting of:\n",
    "\n",
    "- Training\n",
    "- Validation on a holdout set generated from the original training data\n",
    "- Evaluation on the test data"
   ]
  },
  {
   "cell_type": "code",
   "execution_count": null,
   "metadata": {},
   "outputs": [],
   "source": [
    "#kNN takes a long time to run, run only if needed\n",
    "mystop"
   ]
  },
  {
   "cell_type": "markdown",
   "metadata": {},
   "source": [
    "### kNN\n",
    "try diff values of k = [3,5]"
   ]
  },
  {
   "cell_type": "code",
   "execution_count": null,
   "metadata": {},
   "outputs": [],
   "source": [
    "#track time\n",
    "t0 = time.time()\n",
    "\n",
    "clf = KNeighborsClassifier(n_neighbors=3)\n",
    "clf.fit(X_train, y_train)\n",
    "\n",
    "print (\"Training time (in min)\", (time.time() - t0)/60)\n",
    "\n",
    "#predict\n",
    "y_hat=clf.predict(X_test)\n",
    "print (\"+ Testing time (in min)\", (time.time() - t0)/60)\n",
    "\n",
    "accuracy_score(y_hat,y_test)"
   ]
  },
  {
   "cell_type": "code",
   "execution_count": null,
   "metadata": {},
   "outputs": [],
   "source": [
    "unique, counts = np.unique(y_hat, return_counts=True)\n",
    "print (np.asarray((unique, counts)).T)"
   ]
  },
  {
   "cell_type": "code",
   "execution_count": null,
   "metadata": {},
   "outputs": [],
   "source": [
    "cm = confusion_matrix(y_test, y_hat)\n",
    "print(\"Confusion matrix:\\n{}\".format(cm))"
   ]
  },
  {
   "cell_type": "code",
   "execution_count": null,
   "metadata": {},
   "outputs": [],
   "source": [
    "#track time\n",
    "t0 = time.time()\n",
    "\n",
    "clf = KNeighborsClassifier(n_neighbors=5)\n",
    "clf.fit(X_train, y_train)\n",
    "\n",
    "print (\"Training time (in min)\", (time.time() - t0)/60)\n",
    "\n",
    "#predict\n",
    "y_hat=clf.predict(X_test)\n",
    "print (\"+ Testing time (in min)\", (time.time() - t0)/60)\n",
    "\n",
    "accuracy_score(y_hat,y_test)"
   ]
  },
  {
   "cell_type": "code",
   "execution_count": null,
   "metadata": {},
   "outputs": [],
   "source": [
    "unique, counts = np.unique(y_hat, return_counts=True)\n",
    "print (np.asarray((unique, counts)).T)"
   ]
  },
  {
   "cell_type": "code",
   "execution_count": null,
   "metadata": {},
   "outputs": [],
   "source": [
    "cm = confusion_matrix(y_test, y_hat)\n",
    "print(\"Confusion matrix:\\n{}\".format(cm))"
   ]
  },
  {
   "cell_type": "markdown",
   "metadata": {},
   "source": [
    "kNN models trained on transformed Kaggle dataset (800K records in learning set) perform at 74%+ accuracy, which is a great improvement over models trained on non-transformed data.\n",
    "\n",
    "## 3. Summary\n",
    "Same data represented differently made a simple algorithm (kNN) way more accurate than a DL model with non-transformed data. So it really matters how you feed the data to ML and which algo you pick. \n",
    "\n",
    "Even with improved accuracy, the best algos (kNN and Keras NN) still don't predict the minority classes correctly which means anomaly detection is not successful with either of these algos.  Disclaimer here, didn't perform hyperparamter tuning with any algo.\n"
   ]
  },
  {
   "cell_type": "code",
   "execution_count": null,
   "metadata": {},
   "outputs": [],
   "source": [
    "#only run if need 7 neighbors\n",
    "mystop"
   ]
  },
  {
   "cell_type": "code",
   "execution_count": null,
   "metadata": {},
   "outputs": [],
   "source": [
    "mystop"
   ]
  },
  {
   "cell_type": "markdown",
   "metadata": {},
   "source": [
    "## Xtra"
   ]
  },
  {
   "cell_type": "code",
   "execution_count": null,
   "metadata": {},
   "outputs": [],
   "source": [
    "import scipy.sparse\n",
    "mat = scipy.sparse.eye(3)\n",
    "pd.DataFrame.sparse.from_spmatrix(mat)\n"
   ]
  }
 ],
 "metadata": {
  "hide_input": false,
  "kernelspec": {
   "display_name": "tf_py37",
   "language": "python",
   "name": "tf_py37"
  },
  "language_info": {
   "codemirror_mode": {
    "name": "ipython",
    "version": 3
   },
   "file_extension": ".py",
   "mimetype": "text/x-python",
   "name": "python",
   "nbconvert_exporter": "python",
   "pygments_lexer": "ipython3",
   "version": "3.7.9"
  },
  "toc": {
   "base_numbering": 1,
   "nav_menu": {},
   "number_sections": true,
   "sideBar": true,
   "skip_h1_title": false,
   "title_cell": "Table of Contents",
   "title_sidebar": "Contents",
   "toc_cell": false,
   "toc_position": {},
   "toc_section_display": true,
   "toc_window_display": true
  }
 },
 "nbformat": 4,
 "nbformat_minor": 4
}
