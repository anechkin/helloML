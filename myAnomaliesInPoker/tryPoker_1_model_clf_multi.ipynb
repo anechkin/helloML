{
 "cells": [
  {
   "cell_type": "code",
   "execution_count": 79,
   "metadata": {},
   "outputs": [],
   "source": [
    "#meta 2/2/2021 Poker my Model multi algos \n",
    "#Previously in 1-model kNN, transformed dataset from Kaggle and got to decent accuracy ~78%.\n",
    "#data: transformed dataset from Kaggle (800K records x 54 features)\n",
    "#input: data/my_poker_tidy.pkl\n",
    "#output: n/a\n",
    "#based on tryPoker_1_model_clf_kNN.ipynb\n",
    "\n",
    "#history\n",
    "#based on tryPoker_1_model_clf_kNN.ipynb\n",
    "\n",
    "#2/2/202 MODELING WITH MULTI ALGOS, WITH TRANSFORMED KAGGLE DS\n",
    "#      Kaggle ds, transformed into numpy matrix 800K x 54\n",
    "#      note: train/test split is not stratified\n",
    "#      Try diff algos\n",
    "#      note: neither algo is fine-tuned\n",
    "\n",
    "#here 2/2/202 MODEL KERAS NN, DIFF LAYERS, WITH TRANSFORMED KAGGLE DS\n",
    "#      Great accuracy, over 99% but not good at detecting minority classes; \n",
    "#      note: still no proper train, valid and test ds\n"
   ]
  },
  {
   "cell_type": "code",
   "execution_count": 80,
   "metadata": {},
   "outputs": [],
   "source": [
    "import pandas as pd \n",
    "import numpy as np\n",
    "import matplotlib.pyplot as plt\n",
    "import os\n",
    "from os import path\n",
    "import time #to track performance time\n",
    "import warnings\n",
    "warnings.filterwarnings('ignore')\n",
    "\n",
    "#modeling\n",
    "from sklearn.linear_model import LogisticRegression\n",
    "from sklearn.tree import DecisionTreeClassifier\n",
    "from sklearn import svm\n",
    "from sklearn.neighbors import KNeighborsClassifier\n",
    "\n",
    "#modeling help\n",
    "from sklearn.model_selection import train_test_split\n",
    "from sklearn.metrics import accuracy_score\n",
    "from sklearn.metrics import confusion_matrix\n",
    "\n",
    "from joblib import load, dump"
   ]
  },
  {
   "cell_type": "markdown",
   "metadata": {},
   "source": [
    "# Poker Example with Keras\n",
    "After transforming the raw data into nx53 representation, try different algos: LogR, CART, SVM, Keras NN and kNN modeling. Compare results.\n",
    "\n",
    "## 0. Load Data"
   ]
  },
  {
   "cell_type": "code",
   "execution_count": 81,
   "metadata": {},
   "outputs": [
    {
     "data": {
      "text/plain": [
       "(800000, 53)"
      ]
     },
     "execution_count": 81,
     "metadata": {},
     "output_type": "execute_result"
    }
   ],
   "source": [
    "poker = load('data/my_poker_tidy.pkl')\n",
    "poker.shape"
   ]
  },
  {
   "cell_type": "code",
   "execution_count": 82,
   "metadata": {},
   "outputs": [
    {
     "data": {
      "text/plain": [
       "Index(['Nothing', 'One pair', 'Two pairs', 'Three of a kind', 'Straight',\n",
       "       'Flush', 'Full house', 'Four of a kind', 'Straight flush',\n",
       "       'Royal flush'],\n",
       "      dtype='object')"
      ]
     },
     "execution_count": 82,
     "metadata": {},
     "output_type": "execute_result"
    }
   ],
   "source": [
    "poker['class'].cat.categories"
   ]
  },
  {
   "cell_type": "markdown",
   "metadata": {},
   "source": [
    "## 1. Prep Data\n",
    "X & y"
   ]
  },
  {
   "cell_type": "code",
   "execution_count": 83,
   "metadata": {},
   "outputs": [],
   "source": [
    "X = poker.iloc[:,:-1]\n",
    "y = poker['class'].cat.codes"
   ]
  },
  {
   "cell_type": "markdown",
   "metadata": {},
   "source": [
    "Here, random split for a quick comparison.  \n",
    "Todo: stratified split"
   ]
  },
  {
   "cell_type": "code",
   "execution_count": 84,
   "metadata": {
    "scrolled": true
   },
   "outputs": [
    {
     "name": "stdout",
     "output_type": "stream",
     "text": [
      "\n",
      "Total records in learning set: 800000\n",
      "Total records in training set: 720000\n",
      "Total records in test set: 80000\n"
     ]
    },
    {
     "data": {
      "text/html": [
       "<div>\n",
       "<style scoped>\n",
       "    .dataframe tbody tr th:only-of-type {\n",
       "        vertical-align: middle;\n",
       "    }\n",
       "\n",
       "    .dataframe tbody tr th {\n",
       "        vertical-align: top;\n",
       "    }\n",
       "\n",
       "    .dataframe thead th {\n",
       "        text-align: right;\n",
       "    }\n",
       "</style>\n",
       "<table border=\"1\" class=\"dataframe\">\n",
       "  <thead>\n",
       "    <tr style=\"text-align: right;\">\n",
       "      <th></th>\n",
       "      <th>ace_clubs</th>\n",
       "      <th>ace_diamonds</th>\n",
       "      <th>ace_hearts</th>\n",
       "      <th>ace_spades</th>\n",
       "      <th>eight_clubs</th>\n",
       "      <th>eight_diamonds</th>\n",
       "      <th>eight_hearts</th>\n",
       "      <th>eight_spades</th>\n",
       "      <th>five_clubs</th>\n",
       "      <th>five_diamonds</th>\n",
       "      <th>...</th>\n",
       "      <th>ten_hearts</th>\n",
       "      <th>ten_spades</th>\n",
       "      <th>three_clubs</th>\n",
       "      <th>three_diamonds</th>\n",
       "      <th>three_hearts</th>\n",
       "      <th>three_spades</th>\n",
       "      <th>two_clubs</th>\n",
       "      <th>two_diamonds</th>\n",
       "      <th>two_hearts</th>\n",
       "      <th>two_spades</th>\n",
       "    </tr>\n",
       "  </thead>\n",
       "  <tbody>\n",
       "    <tr>\n",
       "      <th>478609</th>\n",
       "      <td>0</td>\n",
       "      <td>0</td>\n",
       "      <td>0</td>\n",
       "      <td>0</td>\n",
       "      <td>0</td>\n",
       "      <td>0</td>\n",
       "      <td>0</td>\n",
       "      <td>1</td>\n",
       "      <td>0</td>\n",
       "      <td>0</td>\n",
       "      <td>...</td>\n",
       "      <td>0</td>\n",
       "      <td>0</td>\n",
       "      <td>0</td>\n",
       "      <td>0</td>\n",
       "      <td>0</td>\n",
       "      <td>1</td>\n",
       "      <td>0</td>\n",
       "      <td>0</td>\n",
       "      <td>0</td>\n",
       "      <td>0</td>\n",
       "    </tr>\n",
       "    <tr>\n",
       "      <th>516439</th>\n",
       "      <td>0</td>\n",
       "      <td>0</td>\n",
       "      <td>0</td>\n",
       "      <td>0</td>\n",
       "      <td>0</td>\n",
       "      <td>0</td>\n",
       "      <td>0</td>\n",
       "      <td>1</td>\n",
       "      <td>0</td>\n",
       "      <td>0</td>\n",
       "      <td>...</td>\n",
       "      <td>0</td>\n",
       "      <td>0</td>\n",
       "      <td>0</td>\n",
       "      <td>0</td>\n",
       "      <td>0</td>\n",
       "      <td>0</td>\n",
       "      <td>0</td>\n",
       "      <td>0</td>\n",
       "      <td>1</td>\n",
       "      <td>0</td>\n",
       "    </tr>\n",
       "    <tr>\n",
       "      <th>211136</th>\n",
       "      <td>0</td>\n",
       "      <td>0</td>\n",
       "      <td>1</td>\n",
       "      <td>0</td>\n",
       "      <td>0</td>\n",
       "      <td>0</td>\n",
       "      <td>0</td>\n",
       "      <td>0</td>\n",
       "      <td>0</td>\n",
       "      <td>1</td>\n",
       "      <td>...</td>\n",
       "      <td>0</td>\n",
       "      <td>0</td>\n",
       "      <td>0</td>\n",
       "      <td>0</td>\n",
       "      <td>0</td>\n",
       "      <td>0</td>\n",
       "      <td>0</td>\n",
       "      <td>0</td>\n",
       "      <td>0</td>\n",
       "      <td>0</td>\n",
       "    </tr>\n",
       "    <tr>\n",
       "      <th>899</th>\n",
       "      <td>0</td>\n",
       "      <td>0</td>\n",
       "      <td>0</td>\n",
       "      <td>0</td>\n",
       "      <td>0</td>\n",
       "      <td>0</td>\n",
       "      <td>0</td>\n",
       "      <td>0</td>\n",
       "      <td>0</td>\n",
       "      <td>0</td>\n",
       "      <td>...</td>\n",
       "      <td>0</td>\n",
       "      <td>1</td>\n",
       "      <td>0</td>\n",
       "      <td>0</td>\n",
       "      <td>0</td>\n",
       "      <td>0</td>\n",
       "      <td>0</td>\n",
       "      <td>0</td>\n",
       "      <td>0</td>\n",
       "      <td>0</td>\n",
       "    </tr>\n",
       "    <tr>\n",
       "      <th>242082</th>\n",
       "      <td>0</td>\n",
       "      <td>0</td>\n",
       "      <td>0</td>\n",
       "      <td>0</td>\n",
       "      <td>0</td>\n",
       "      <td>0</td>\n",
       "      <td>0</td>\n",
       "      <td>0</td>\n",
       "      <td>0</td>\n",
       "      <td>0</td>\n",
       "      <td>...</td>\n",
       "      <td>0</td>\n",
       "      <td>0</td>\n",
       "      <td>0</td>\n",
       "      <td>1</td>\n",
       "      <td>0</td>\n",
       "      <td>0</td>\n",
       "      <td>0</td>\n",
       "      <td>1</td>\n",
       "      <td>0</td>\n",
       "      <td>0</td>\n",
       "    </tr>\n",
       "  </tbody>\n",
       "</table>\n",
       "<p>5 rows × 52 columns</p>\n",
       "</div>"
      ],
      "text/plain": [
       "        ace_clubs  ace_diamonds  ace_hearts  ace_spades  eight_clubs  \\\n",
       "478609          0             0           0           0            0   \n",
       "516439          0             0           0           0            0   \n",
       "211136          0             0           1           0            0   \n",
       "899             0             0           0           0            0   \n",
       "242082          0             0           0           0            0   \n",
       "\n",
       "        eight_diamonds  eight_hearts  eight_spades  five_clubs  five_diamonds  \\\n",
       "478609               0             0             1           0              0   \n",
       "516439               0             0             1           0              0   \n",
       "211136               0             0             0           0              1   \n",
       "899                  0             0             0           0              0   \n",
       "242082               0             0             0           0              0   \n",
       "\n",
       "        ...  ten_hearts  ten_spades  three_clubs  three_diamonds  \\\n",
       "478609  ...           0           0            0               0   \n",
       "516439  ...           0           0            0               0   \n",
       "211136  ...           0           0            0               0   \n",
       "899     ...           0           1            0               0   \n",
       "242082  ...           0           0            0               1   \n",
       "\n",
       "        three_hearts  three_spades  two_clubs  two_diamonds  two_hearts  \\\n",
       "478609             0             1          0             0           0   \n",
       "516439             0             0          0             0           1   \n",
       "211136             0             0          0             0           0   \n",
       "899                0             0          0             0           0   \n",
       "242082             0             0          0             1           0   \n",
       "\n",
       "        two_spades  \n",
       "478609           0  \n",
       "516439           0  \n",
       "211136           0  \n",
       "899              0  \n",
       "242082           0  \n",
       "\n",
       "[5 rows x 52 columns]"
      ]
     },
     "execution_count": 84,
     "metadata": {},
     "output_type": "execute_result"
    }
   ],
   "source": [
    "# Randomly split data into two groups: a training set and a test set\n",
    "X_train, X_test, y_train, y_test = train_test_split(X, y, test_size = .10, random_state=24)\n",
    "\n",
    "print (\"\\nTotal records in learning set: {}\".format(poker.shape[0]))\n",
    "print (\"Total records in training set: {}\".format(len(X_train)))\n",
    "print (\"Total records in test set: {}\".format(len(X_test)))\n",
    "    \n",
    "#notice index after reshuffling\n",
    "X_train.tail()"
   ]
  },
  {
   "cell_type": "code",
   "execution_count": 85,
   "metadata": {},
   "outputs": [
    {
     "data": {
      "text/plain": [
       "((720000,), (80000,))"
      ]
     },
     "execution_count": 85,
     "metadata": {},
     "output_type": "execute_result"
    }
   ],
   "source": [
    "y_train.shape, y_test.shape"
   ]
  },
  {
   "cell_type": "code",
   "execution_count": 86,
   "metadata": {},
   "outputs": [
    {
     "name": "stdout",
     "output_type": "stream",
     "text": [
      "0    360320\n",
      "1    304522\n",
      "2     34374\n",
      "3     15325\n",
      "4      2798\n",
      "5      1456\n",
      "6      1034\n",
      "7       160\n",
      "8         9\n",
      "9         2\n",
      "dtype: int64\n",
      "0    0.500444\n",
      "1    0.422947\n",
      "2    0.047742\n",
      "3    0.021285\n",
      "4    0.003886\n",
      "5    0.002022\n",
      "6    0.001436\n",
      "7    0.000222\n",
      "8    0.000013\n",
      "9    0.000003\n",
      "dtype: float64\n"
     ]
    },
    {
     "data": {
      "image/png": "[encoded data removed]",
      "text/plain": [
       "<Figure size 432x288 with 1 Axes>"
      ]
     },
     "metadata": {
      "needs_background": "light"
     },
     "output_type": "display_data"
    }
   ],
   "source": [
    "#visualize distribution trainset vs testset\n",
    "print(y_train.value_counts().sort_index())\n",
    "print(y_train.value_counts(normalize = True).sort_index())\n",
    "y_train.value_counts().sort_index().plot(kind='bar');"
   ]
  },
  {
   "cell_type": "code",
   "execution_count": 87,
   "metadata": {},
   "outputs": [
    {
     "name": "stdout",
     "output_type": "stream",
     "text": [
      "0    40253\n",
      "1    33647\n",
      "2     3799\n",
      "3     1663\n",
      "4      328\n",
      "5      164\n",
      "6      116\n",
      "7       29\n",
      "8        1\n",
      "dtype: int64\n",
      "0    0.503162\n",
      "1    0.420588\n",
      "2    0.047488\n",
      "3    0.020788\n",
      "4    0.004100\n",
      "5    0.002050\n",
      "6    0.001450\n",
      "7    0.000362\n",
      "8    0.000013\n",
      "dtype: float64\n"
     ]
    },
    {
     "data": {
      "image/png": "[encoded data removed]",
      "text/plain": [
       "<Figure size 432x288 with 1 Axes>"
      ]
     },
     "metadata": {
      "needs_background": "light"
     },
     "output_type": "display_data"
    }
   ],
   "source": [
    "#visualize distribution trainset vs testset -> only 9 classes out of 10\n",
    "print(y_test.value_counts().sort_index())\n",
    "print(y_test.value_counts(normalize = True).sort_index())\n",
    "y_test.value_counts().sort_index().plot(kind='bar');"
   ]
  },
  {
   "cell_type": "markdown",
   "metadata": {},
   "source": [
    "Due to imbalanced data, not all classes make it to test ds.  Manually add a missing class.  \n",
    "Todo: implement stratified sampling and oversampling."
   ]
  },
  {
   "cell_type": "code",
   "execution_count": 88,
   "metadata": {},
   "outputs": [
    {
     "name": "stdout",
     "output_type": "stream",
     "text": [
      "(80002, 52) (80002,)\n"
     ]
    }
   ],
   "source": [
    "#add RoyalFlush to test ds, needed for keras NN to work here\n",
    "idx_royal_flush  = poker[poker['class'] == 'Royal flush'].index\n",
    "X.iloc[idx_royal_flush]\n",
    "\n",
    "#append row to X_test and y_test\n",
    "X_test = X_test.append(X.iloc[idx_royal_flush])\n",
    "y_test = y_test.append(pd.Series([9,9]))\n",
    "\n",
    "print(X_test.shape, y_test.shape)"
   ]
  },
  {
   "cell_type": "code",
   "execution_count": 89,
   "metadata": {},
   "outputs": [
    {
     "name": "stdout",
     "output_type": "stream",
     "text": [
      "0    40253\n",
      "1    33647\n",
      "2     3799\n",
      "3     1663\n",
      "4      328\n",
      "5      164\n",
      "6      116\n",
      "7       29\n",
      "8        1\n",
      "9        2\n",
      "dtype: int64\n",
      "0    0.503150\n",
      "1    0.420577\n",
      "2    0.047486\n",
      "3    0.020787\n",
      "4    0.004100\n",
      "5    0.002050\n",
      "6    0.001450\n",
      "7    0.000362\n",
      "8    0.000012\n",
      "9    0.000025\n",
      "dtype: float64\n"
     ]
    },
    {
     "data": {
      "image/png": "[encoded data removed]",
      "text/plain": [
       "<Figure size 432x288 with 1 Axes>"
      ]
     },
     "metadata": {
      "needs_background": "light"
     },
     "output_type": "display_data"
    }
   ],
   "source": [
    "#visualize distribution trainset vs testset -> only 9 classes out of 10\n",
    "print(y_test.value_counts().sort_index())\n",
    "print(y_test.value_counts(normalize = True).sort_index())\n",
    "y_test.value_counts().sort_index().plot(kind='bar');"
   ]
  },
  {
   "cell_type": "markdown",
   "metadata": {},
   "source": [
    "\n",
    "## 2. Model  \n",
    "\n",
    "### Logistic Regression"
   ]
  },
  {
   "cell_type": "code",
   "execution_count": 90,
   "metadata": {},
   "outputs": [
    {
     "name": "stdout",
     "output_type": "stream",
     "text": [
      "Training time (in min) 0.29952415625254314\n",
      "+ Testing time (in min) 0.30030701955159506\n"
     ]
    },
    {
     "data": {
      "text/plain": [
       "0.5031499212519687"
      ]
     },
     "execution_count": 90,
     "metadata": {},
     "output_type": "execute_result"
    }
   ],
   "source": [
    "#track time\n",
    "t0 = time.time()\n",
    "\n",
    "clf = LogisticRegression(random_state=0, solver='lbfgs',max_iter=100,multi_class='ovr').fit(X_train, y_train)\n",
    "print (\"Training time (in min)\", (time.time() - t0)/60)\n",
    "\n",
    "#predict\n",
    "y_hat=clf.predict(X_test)\n",
    "print (\"+ Testing time (in min)\", (time.time() - t0)/60)\n",
    "\n",
    "accuracy_score(y_hat,y_test)"
   ]
  },
  {
   "cell_type": "code",
   "execution_count": 91,
   "metadata": {},
   "outputs": [
    {
     "name": "stdout",
     "output_type": "stream",
     "text": [
      "[[    0 80002]]\n"
     ]
    }
   ],
   "source": [
    "unique, counts = np.unique(y_hat, return_counts=True)\n",
    "print (np.asarray((unique, counts)).T)"
   ]
  },
  {
   "cell_type": "code",
   "execution_count": 92,
   "metadata": {},
   "outputs": [
    {
     "name": "stdout",
     "output_type": "stream",
     "text": [
      "Confusion matrix:\n",
      "[[40253     0     0     0     0     0     0     0     0     0]\n",
      " [33647     0     0     0     0     0     0     0     0     0]\n",
      " [ 3799     0     0     0     0     0     0     0     0     0]\n",
      " [ 1663     0     0     0     0     0     0     0     0     0]\n",
      " [  328     0     0     0     0     0     0     0     0     0]\n",
      " [  164     0     0     0     0     0     0     0     0     0]\n",
      " [  116     0     0     0     0     0     0     0     0     0]\n",
      " [   29     0     0     0     0     0     0     0     0     0]\n",
      " [    1     0     0     0     0     0     0     0     0     0]\n",
      " [    2     0     0     0     0     0     0     0     0     0]]\n"
     ]
    }
   ],
   "source": [
    "cm = confusion_matrix(y_test, y_hat)\n",
    "print(\"Confusion matrix:\\n{}\".format(cm))"
   ]
  },
  {
   "cell_type": "markdown",
   "metadata": {},
   "source": [
    "### CART\n",
    "Classification and Regression Trees or CART for short"
   ]
  },
  {
   "cell_type": "code",
   "execution_count": 93,
   "metadata": {},
   "outputs": [
    {
     "name": "stdout",
     "output_type": "stream",
     "text": [
      "Training time (in min) 0.10822062889734904\n",
      "+ Testing time (in min) 0.10898684660593669\n"
     ]
    },
    {
     "data": {
      "text/plain": [
       "0.5886477838054048"
      ]
     },
     "execution_count": 93,
     "metadata": {},
     "output_type": "execute_result"
    }
   ],
   "source": [
    "#track time\n",
    "t0 = time.time()\n",
    "\n",
    "decision_tree = DecisionTreeClassifier(random_state=0,max_depth = 10) #max_depth =2,3\n",
    "decision_tree = decision_tree.fit(X_train,y_train)\n",
    "print (\"Training time (in min)\", (time.time() - t0)/60)\n",
    "\n",
    "#predict\n",
    "y_hat = decision_tree.predict(X_test)\n",
    "print (\"+ Testing time (in min)\", (time.time() - t0)/60)\n",
    "\n",
    "accuracy_score(y_hat,y_test)"
   ]
  },
  {
   "cell_type": "code",
   "execution_count": 94,
   "metadata": {},
   "outputs": [
    {
     "name": "stdout",
     "output_type": "stream",
     "text": [
      "[[    0 46708]\n",
      " [    1 32923]\n",
      " [    2    93]\n",
      " [    3   271]\n",
      " [    6     3]\n",
      " [    7     4]]\n"
     ]
    }
   ],
   "source": [
    "unique, counts = np.unique(y_hat, return_counts=True)\n",
    "print (np.asarray((unique, counts)).T)"
   ]
  },
  {
   "cell_type": "code",
   "execution_count": 95,
   "metadata": {},
   "outputs": [
    {
     "name": "stdout",
     "output_type": "stream",
     "text": [
      "Confusion matrix:\n",
      "[[29012 11241     0     0     0     0     0     0     0     0]\n",
      " [15919 17727     1     0     0     0     0     0     0     0]\n",
      " [  840  2869    90     0     0     0     0     0     0     0]\n",
      " [  526   880     0   257     0     0     0     0     0     0]\n",
      " [  269    59     0     0     0     0     0     0     0     0]\n",
      " [  123    41     0     0     0     0     0     0     0     0]\n",
      " [   13    84     2    14     0     0     3     0     0     0]\n",
      " [    5    20     0     0     0     0     0     4     0     0]\n",
      " [    1     0     0     0     0     0     0     0     0     0]\n",
      " [    0     2     0     0     0     0     0     0     0     0]]\n"
     ]
    }
   ],
   "source": [
    "cm = confusion_matrix(y_test, y_hat)\n",
    "print(\"Confusion matrix:\\n{}\".format(cm))"
   ]
  },
  {
   "cell_type": "markdown",
   "metadata": {},
   "source": [
    "### SVM\n",
    "We plot each data item as a point in n-dimensional space (where n is number of features you have) with the value of each feature being the value of a particular coordinate"
   ]
  },
  {
   "cell_type": "code",
   "execution_count": 96,
   "metadata": {},
   "outputs": [
    {
     "name": "stdout",
     "output_type": "stream",
     "text": [
      "Training time (in min) 4.180989988644918\n",
      "+ Testing time (in min) 4.181869701544444\n"
     ]
    },
    {
     "data": {
      "text/plain": [
       "0.5031499212519687"
      ]
     },
     "execution_count": 96,
     "metadata": {},
     "output_type": "execute_result"
    }
   ],
   "source": [
    "#track time\n",
    "t0 = time.time()\n",
    "\n",
    "clf = svm.LinearSVC()\n",
    "clf.fit(X_train,y_train) \n",
    "print (\"Training time (in min)\", (time.time() - t0)/60)\n",
    "\n",
    "#predict\n",
    "y_hat = clf.predict(X_test)\n",
    "print (\"+ Testing time (in min)\", (time.time() - t0)/60)\n",
    "\n",
    "accuracy_score(y_hat,y_test)"
   ]
  },
  {
   "cell_type": "code",
   "execution_count": 97,
   "metadata": {},
   "outputs": [
    {
     "name": "stdout",
     "output_type": "stream",
     "text": [
      "[[    0 80002]]\n"
     ]
    }
   ],
   "source": [
    "unique, counts = np.unique(y_hat, return_counts=True)\n",
    "print (np.asarray((unique, counts)).T)"
   ]
  },
  {
   "cell_type": "code",
   "execution_count": 98,
   "metadata": {},
   "outputs": [
    {
     "name": "stdout",
     "output_type": "stream",
     "text": [
      "Confusion matrix:\n",
      "[[40253     0     0     0     0     0     0     0     0     0]\n",
      " [33647     0     0     0     0     0     0     0     0     0]\n",
      " [ 3799     0     0     0     0     0     0     0     0     0]\n",
      " [ 1663     0     0     0     0     0     0     0     0     0]\n",
      " [  328     0     0     0     0     0     0     0     0     0]\n",
      " [  164     0     0     0     0     0     0     0     0     0]\n",
      " [  116     0     0     0     0     0     0     0     0     0]\n",
      " [   29     0     0     0     0     0     0     0     0     0]\n",
      " [    1     0     0     0     0     0     0     0     0     0]\n",
      " [    2     0     0     0     0     0     0     0     0     0]]\n"
     ]
    }
   ],
   "source": [
    "cm = confusion_matrix(y_test, y_hat)\n",
    "print(\"Confusion matrix:\\n{}\".format(cm))"
   ]
  },
  {
   "cell_type": "markdown",
   "metadata": {},
   "source": [
    "### Neural Net with Keras\n",
    "A neural network is a progression of algorithms that attempts to perceive fundamental connections in a lot of information through a procedure that copies the manner in which the human brain works. Neural network can adjust to changing input; so the network produces the most ideal outcome without expecting to redesign the output criteria.\n",
    "To create NN we used Keras library which is a high-level API wrapper for the low-level API, capable of running on top of TensorFlow, CNTK, or Theano.\n",
    "\n",
    "This neural network architecture comprised of 3 dense layers with respectively 15,10 and 10 nodes in each layer."
   ]
  },
  {
   "cell_type": "code",
   "execution_count": null,
   "metadata": {},
   "outputs": [],
   "source": [
    "import keras\n",
    "from keras.models import Sequential\n",
    "from keras.layers import Dense, Dropout, Activation\n",
    "from keras.optimizers import SGD\n",
    "from keras import regularizers"
   ]
  },
  {
   "cell_type": "code",
   "execution_count": 46,
   "metadata": {},
   "outputs": [
    {
     "data": {
      "text/plain": [
       "((720000, 10), (80002, 10))"
      ]
     },
     "execution_count": 46,
     "metadata": {},
     "output_type": "execute_result"
    }
   ],
   "source": [
    "#$mycodedelta\n",
    "#code below errors out: ValueError: Error when checking target: expected dense_3 to have shape (10,) but got array with shape (1,)\n",
    "#src https://stackoverflow.com/questions/49392972/error-when-checking-target-expected-dense-3-to-have-shape-3-but-got-array-wi/55992428\n",
    "#issue: problem is with label-data shape\n",
    "#      Keras expects y-data in (N, 10) shape, not (N,) \n",
    "#      was: y_train.shape, y_test.shape\n",
    "#      was: ((25010,), (1000000,))\n",
    "#fix: Recode labels using to_categorical to get the correct shape of inputs\n",
    "from keras.utils import to_categorical\n",
    "y_train_nn = to_categorical(y_train)\n",
    "y_test_nn = to_categorical(y_test)\n",
    "\n",
    "y_train_nn.shape, y_test_nn.shape"
   ]
  },
  {
   "cell_type": "code",
   "execution_count": 101,
   "metadata": {},
   "outputs": [
    {
     "name": "stdout",
     "output_type": "stream",
     "text": [
      "Train on 720000 samples, validate on 80002 samples\n",
      "Epoch 1/10\n",
      "720000/720000 [==============================] - 8s 11us/step - loss: 0.0816 - accuracy: 0.9663 - val_loss: 0.0206 - val_accuracy: 0.9949\n",
      "Epoch 2/10\n",
      "720000/720000 [==============================] - 7s 10us/step - loss: 0.0145 - accuracy: 0.9969 - val_loss: 0.0107 - val_accuracy: 0.9980\n",
      "Epoch 3/10\n",
      "720000/720000 [==============================] - 7s 10us/step - loss: 0.0082 - accuracy: 0.9985 - val_loss: 0.0070 - val_accuracy: 0.9988\n",
      "Epoch 4/10\n",
      "720000/720000 [==============================] - 8s 11us/step - loss: 0.0058 - accuracy: 0.9990 - val_loss: 0.0055 - val_accuracy: 0.9990\n",
      "Epoch 5/10\n",
      "720000/720000 [==============================] - 7s 10us/step - loss: 0.0047 - accuracy: 0.9992 - val_loss: 0.0047 - val_accuracy: 0.9992\n",
      "Epoch 6/10\n",
      "720000/720000 [==============================] - 7s 9us/step - loss: 0.0042 - accuracy: 0.9993 - val_loss: 0.0047 - val_accuracy: 0.9991\n",
      "Epoch 7/10\n",
      "720000/720000 [==============================] - 7s 10us/step - loss: 0.0038 - accuracy: 0.9993 - val_loss: 0.0040 - val_accuracy: 0.9993\n",
      "Epoch 8/10\n",
      "720000/720000 [==============================] - 7s 9us/step - loss: 0.0036 - accuracy: 0.9994 - val_loss: 0.0038 - val_accuracy: 0.9993\n",
      "Epoch 9/10\n",
      "720000/720000 [==============================] - 7s 10us/step - loss: 0.0033 - accuracy: 0.9994 - val_loss: 0.0036 - val_accuracy: 0.9994\n",
      "Epoch 10/10\n",
      "720000/720000 [==============================] - 7s 10us/step - loss: 0.0032 - accuracy: 0.9994 - val_loss: 0.0035 - val_accuracy: 0.9992\n",
      "80002/80002 [==============================] - 0s 5us/step\n",
      "Training time (in min) 1.2305953582127889\n"
     ]
    }
   ],
   "source": [
    "model = Sequential()\n",
    "model.add(Dense(52, activation='relu', input_dim=52))\n",
    "model.add(Dense(52, activation='relu'))\n",
    "model.add(Dense(10, activation='softmax'))\n",
    "model.compile(loss='binary_crossentropy',\n",
    "              optimizer='adam',\n",
    "              metrics=['accuracy'])\n",
    "\n",
    "#track time\n",
    "t0 = time.time()\n",
    "\n",
    "history = model.fit(X_train, y_train_nn, epochs = 10, batch_size = 256, verbose=1,validation_data=(X_test,y_test_nn),shuffle=True) #$mycodedelta\n",
    "\n",
    "\n",
    "score = model.evaluate(X_test, y_test_nn, batch_size=256) #$mycodedelta\n",
    "print (\"Training time (in min)\", (time.time() - t0)/60)"
   ]
  },
  {
   "cell_type": "code",
   "execution_count": 102,
   "metadata": {},
   "outputs": [
    {
     "data": {
      "text/plain": [
       "0.9992390871047974"
      ]
     },
     "execution_count": 102,
     "metadata": {},
     "output_type": "execute_result"
    }
   ],
   "source": [
    "score[1]"
   ]
  },
  {
   "cell_type": "code",
   "execution_count": 103,
   "metadata": {},
   "outputs": [
    {
     "data": {
      "text/plain": [
       "<matplotlib.legend.Legend at 0x242a8475148>"
      ]
     },
     "execution_count": 103,
     "metadata": {},
     "output_type": "execute_result"
    },
    {
     "data": {
      "image/png": "[encoded data removed]",
      "text/plain": [
       "<Figure size 1080x360 with 2 Axes>"
      ]
     },
     "metadata": {
      "needs_background": "light"
     },
     "output_type": "display_data"
    }
   ],
   "source": [
    "plt.figure(figsize=(15, 5))\n",
    "plt.subplot(1,2,1)\n",
    "plt.plot(history.history['accuracy']) #$mycodedelta\n",
    "plt.plot(history.history['val_accuracy'])#$mycodedelta\n",
    "plt.title('Model accuracy')\n",
    "plt.ylabel('Accuracy')\n",
    "plt.xlabel('Epoch')\n",
    "plt.legend(['Train', 'Test'], loc='upper left')\n",
    "plt.subplot(1,2,2)\n",
    "plt.plot(history.history['loss'])\n",
    "plt.plot(history.history['val_loss'])\n",
    "plt.title('Model loss')\n",
    "plt.ylabel('Loss')\n",
    "plt.xlabel('Epoch')\n",
    "plt.legend(['Train', 'Test'], loc='lower left')"
   ]
  },
  {
   "cell_type": "markdown",
   "metadata": {},
   "source": [
    "##### Evaludate NN model\n",
    "by predicting on the given test set (which unfortunately has been used for validation, too)."
   ]
  },
  {
   "cell_type": "code",
   "execution_count": 104,
   "metadata": {},
   "outputs": [
    {
     "name": "stdout",
     "output_type": "stream",
     "text": [
      "+ Testing time (in min) 1.2584459861119588\n",
      "(80002, 10) (80002,)\n"
     ]
    },
    {
     "data": {
      "text/plain": [
       "0.9961750956226094"
      ]
     },
     "execution_count": 104,
     "metadata": {},
     "output_type": "execute_result"
    }
   ],
   "source": [
    "#predict\n",
    "y_hat = model.predict(X_test) #numpy.ndarray\n",
    "y_hat_class = y_hat.argmax(axis=1)\n",
    "print (\"+ Testing time (in min)\", (time.time() - t0)/60)\n",
    "print(y_hat.shape, y_hat_class.shape)\n",
    "\n",
    "accuracy_score(y_hat_class, y_test)"
   ]
  },
  {
   "cell_type": "code",
   "execution_count": 105,
   "metadata": {},
   "outputs": [
    {
     "name": "stdout",
     "output_type": "stream",
     "text": [
      "[[    0 40395]\n",
      " [    1 33700]\n",
      " [    2  3755]\n",
      " [    3  1717]\n",
      " [    4   331]\n",
      " [    5     5]\n",
      " [    6    99]]\n"
     ]
    }
   ],
   "source": [
    "unique, counts = np.unique(y_hat_class, return_counts=True)\n",
    "print (np.asarray((unique, counts)).T)"
   ]
  },
  {
   "cell_type": "code",
   "execution_count": 106,
   "metadata": {},
   "outputs": [
    {
     "name": "stdout",
     "output_type": "stream",
     "text": [
      "Confusion matrix:\n",
      "[[40243     9     0     0     0     1     0     0     0     0]\n",
      " [    1 33640     6     0     0     0     0     0     0     0]\n",
      " [    0    42  3749     8     0     0     0     0     0     0]\n",
      " [    0     0     0  1662     0     0     1     0     0     0]\n",
      " [    0     0     0     0   328     0     0     0     0     0]\n",
      " [  151     9     0     0     0     4     0     0     0     0]\n",
      " [    0     0     0    46     0     0    70     0     0     0]\n",
      " [    0     0     0     1     0     0    28     0     0     0]\n",
      " [    0     0     0     0     1     0     0     0     0     0]\n",
      " [    0     0     0     0     2     0     0     0     0     0]]\n"
     ]
    }
   ],
   "source": [
    "cm = confusion_matrix(y_test, y_hat_class)\n",
    "print(\"Confusion matrix:\\n{}\".format(cm))"
   ]
  },
  {
   "cell_type": "markdown",
   "metadata": {},
   "source": [
    "A large increase in test accuracy from initial example, where it was ~62%\n",
    "##### Note\n",
    "In ML, using the same `test` ds for validation and testing is not a valid technique.  Next step should be to truly have `train`, `validation` and `test` sets and see how all the models fair with a holdout dataset.\n",
    "\n",
    "Src: https://keras.io/guides/training_with_built_in_methods/\n",
    "Here's what the typical end-to-end workflow looks like, consisting of:\n",
    "\n",
    "- Training\n",
    "- Validation on a holdout set generated from the original training data\n",
    "- Evaluation on the test data"
   ]
  },
  {
   "cell_type": "code",
   "execution_count": null,
   "metadata": {},
   "outputs": [],
   "source": [
    "#kNN takes a long time to run, run only if needed\n",
    "mystop"
   ]
  },
  {
   "cell_type": "markdown",
   "metadata": {},
   "source": [
    "### kNN\n",
    "try diff values of k = [3,5]"
   ]
  },
  {
   "cell_type": "code",
   "execution_count": 63,
   "metadata": {},
   "outputs": [
    {
     "name": "stdout",
     "output_type": "stream",
     "text": [
      "Training time (in min) 0.009761206309000651\n",
      "+ Testing time (in min) 35.45105593204498\n"
     ]
    },
    {
     "data": {
      "text/plain": [
       "0.7499187520311992"
      ]
     },
     "execution_count": 63,
     "metadata": {},
     "output_type": "execute_result"
    }
   ],
   "source": [
    "#track time\n",
    "t0 = time.time()\n",
    "\n",
    "clf = KNeighborsClassifier(n_neighbors=3)\n",
    "clf.fit(X_train, y_train)\n",
    "\n",
    "print (\"Training time (in min)\", (time.time() - t0)/60)\n",
    "\n",
    "#predict\n",
    "y_hat=clf.predict(X_test)\n",
    "print (\"+ Testing time (in min)\", (time.time() - t0)/60)\n",
    "\n",
    "accuracy_score(y_hat,y_test)"
   ]
  },
  {
   "cell_type": "code",
   "execution_count": 64,
   "metadata": {},
   "outputs": [
    {
     "name": "stdout",
     "output_type": "stream",
     "text": [
      "[[    0 44759]\n",
      " [    1 32765]\n",
      " [    2  1551]\n",
      " [    3   802]\n",
      " [    4    48]\n",
      " [    5    52]\n",
      " [    6    20]\n",
      " [    7     5]]\n"
     ]
    }
   ],
   "source": [
    "unique, counts = np.unique(y_hat, return_counts=True)\n",
    "print (np.asarray((unique, counts)).T)"
   ]
  },
  {
   "cell_type": "code",
   "execution_count": 65,
   "metadata": {},
   "outputs": [
    {
     "name": "stdout",
     "output_type": "stream",
     "text": [
      "Confusion matrix:\n",
      "[[34746  5479     0     0    14    14     0     0     0     0]\n",
      " [ 9634 23499   453    43    12     6     0     0     0     0]\n",
      " [    0  2786   997    13     0     0     3     0     0     0]\n",
      " [    0   939    31   685     0     0     8     0     0     0]\n",
      " [  260    46     0     0    22     0     0     0     0     0]\n",
      " [  116    16     0     0     0    32     0     0     0     0]\n",
      " [    0     0    70    37     0     0     9     0     0     0]\n",
      " [    0     0     0    24     0     0     0     5     0     0]\n",
      " [    1     0     0     0     0     0     0     0     0     0]\n",
      " [    2     0     0     0     0     0     0     0     0     0]]\n"
     ]
    }
   ],
   "source": [
    "cm = confusion_matrix(y_test, y_hat)\n",
    "print(\"Confusion matrix:\\n{}\".format(cm))"
   ]
  },
  {
   "cell_type": "code",
   "execution_count": 66,
   "metadata": {},
   "outputs": [
    {
     "name": "stdout",
     "output_type": "stream",
     "text": [
      "Training time (in min) 0.008985388278961181\n",
      "+ Testing time (in min) 38.22995409170787\n"
     ]
    },
    {
     "data": {
      "text/plain": [
       "0.7847428814279643"
      ]
     },
     "execution_count": 66,
     "metadata": {},
     "output_type": "execute_result"
    }
   ],
   "source": [
    "#track time\n",
    "t0 = time.time()\n",
    "\n",
    "clf = KNeighborsClassifier(n_neighbors=5)\n",
    "clf.fit(X_train, y_train)\n",
    "\n",
    "print (\"Training time (in min)\", (time.time() - t0)/60)\n",
    "\n",
    "#predict\n",
    "y_hat=clf.predict(X_test)\n",
    "print (\"+ Testing time (in min)\", (time.time() - t0)/60)\n",
    "\n",
    "accuracy_score(y_hat,y_test)"
   ]
  },
  {
   "cell_type": "code",
   "execution_count": 67,
   "metadata": {},
   "outputs": [
    {
     "name": "stdout",
     "output_type": "stream",
     "text": [
      "[[    0 45328]\n",
      " [    1 32982]\n",
      " [    2   970]\n",
      " [    3   689]\n",
      " [    4    13]\n",
      " [    5    16]\n",
      " [    6     3]\n",
      " [    7     1]]\n"
     ]
    }
   ],
   "source": [
    "unique, counts = np.unique(y_hat, return_counts=True)\n",
    "print (np.asarray((unique, counts)).T)"
   ]
  },
  {
   "cell_type": "code",
   "execution_count": 68,
   "metadata": {},
   "outputs": [
    {
     "name": "stdout",
     "output_type": "stream",
     "text": [
      "Confusion matrix:\n",
      "[[36443  3806     0     0     2     2     0     0     0     0]\n",
      " [ 8468 25000   152    20     5     2     0     0     0     0]\n",
      " [    0  3087   710     2     0     0     0     0     0     0]\n",
      " [    0  1029    23   609     0     0     2     0     0     0]\n",
      " [  276    46     0     0     6     0     0     0     0     0]\n",
      " [  139    14     0     0     0    11     0     0     0     0]\n",
      " [    0     0    85    30     0     0     1     0     0     0]\n",
      " [    0     0     0    28     0     0     0     1     0     0]\n",
      " [    1     0     0     0     0     0     0     0     0     0]\n",
      " [    1     0     0     0     0     1     0     0     0     0]]\n"
     ]
    }
   ],
   "source": [
    "cm = confusion_matrix(y_test, y_hat)\n",
    "print(\"Confusion matrix:\\n{}\".format(cm))"
   ]
  },
  {
   "cell_type": "markdown",
   "metadata": {},
   "source": [
    "kNN models trained on transformed Kaggle dataset (800K records in learning set) perform at 74%+ accuracy, which is a great improvement over models trained on non-transformed data.\n",
    "\n",
    "## 3. Summary\n",
    "Same data represented differently made a simple algorithm (kNN) way more accurate than a DL model with non-transformed data. So it really matters how you feed the data to ML and which algo you pick. \n",
    "\n",
    "Even with improved accuracy, the best algos (kNN and Keras NN) still don't predict the minority classes correctly which means anomaly detection is not successful with either of these algos.  Disclaimer here, didn't perform hyperparamter tuning with any algo.\n"
   ]
  },
  {
   "cell_type": "code",
   "execution_count": 69,
   "metadata": {},
   "outputs": [
    {
     "ename": "NameError",
     "evalue": "name 'mystop' is not defined",
     "output_type": "error",
     "traceback": [
      "\u001b[1;31m---------------------------------------------------------------------------\u001b[0m",
      "\u001b[1;31mNameError\u001b[0m                                 Traceback (most recent call last)",
      "\u001b[1;32m<ipython-input-69-255d8eb4da7e>\u001b[0m in \u001b[0;36m<module>\u001b[1;34m\u001b[0m\n\u001b[1;32m----> 1\u001b[1;33m \u001b[0mmystop\u001b[0m\u001b[1;33m\u001b[0m\u001b[1;33m\u001b[0m\u001b[0m\n\u001b[0m",
      "\u001b[1;31mNameError\u001b[0m: name 'mystop' is not defined"
     ]
    }
   ],
   "source": [
    "#only run if need 7 neighbors\n",
    "mystop"
   ]
  },
  {
   "cell_type": "code",
   "execution_count": null,
   "metadata": {},
   "outputs": [],
   "source": [
    "mystop"
   ]
  },
  {
   "cell_type": "markdown",
   "metadata": {},
   "source": [
    "## Xtra"
   ]
  },
  {
   "cell_type": "code",
   "execution_count": null,
   "metadata": {},
   "outputs": [],
   "source": [
    "import scipy.sparse\n",
    "mat = scipy.sparse.eye(3)\n",
    "pd.DataFrame.sparse.from_spmatrix(mat)\n"
   ]
  }
 ],
 "metadata": {
  "hide_input": false,
  "kernelspec": {
   "display_name": "hack-keras",
   "language": "python",
   "name": "hack-keras"
  },
  "language_info": {
   "codemirror_mode": {
    "name": "ipython",
    "version": 3
   },
   "file_extension": ".py",
   "mimetype": "text/x-python",
   "name": "python",
   "nbconvert_exporter": "python",
   "pygments_lexer": "ipython3",
   "version": "3.7.6"
  },
  "toc": {
   "base_numbering": 1,
   "nav_menu": {},
   "number_sections": true,
   "sideBar": true,
   "skip_h1_title": false,
   "title_cell": "Table of Contents",
   "title_sidebar": "Contents",
   "toc_cell": false,
   "toc_position": {},
   "toc_section_display": true,
   "toc_window_display": true
  }
 },
 "nbformat": 4,
 "nbformat_minor": 4
}
