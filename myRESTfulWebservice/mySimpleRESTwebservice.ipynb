{
 "cells": [
  {
   "cell_type": "markdown",
   "metadata": {},
   "source": [
    "# my How to develop a RESTful Web Services in Python\n",
    "\n",
    "Based on  \n",
    "https://dzone.com/articles/restful-web-services-with-python-flask\n",
    "\n",
    "## Plan\n",
    "In this exercise, we will create an in-memory JSON DB to store and manipulate a simple employee database and develop RESTful APIs to perform CRUD operations using GET, POST, PUT, and DELETE methods. We will develop the below APIs\n",
    "\n",
    "i) GET  /empdb/employee/                      - Retrieve all the employees from the DB\n",
    "\n",
    "ii) GET /empdb/employee/                      - Retrieve the details of given employee Id\n",
    "\n",
    "ii) POST /empdb/employee/                    - Create a record in the employee DB, whereas the employee details are sent in the request as a JSON object\n",
    "\n",
    "III) PUT /empdb/employee/                    - Update the employee DB, with the given details of employee in the data part as a JSON object\n",
    "\n",
    "Iv) DELETE /empdb/employee/            - Delete the employee from the DB for the employee Id."
   ]
  },
  {
   "cell_type": "code",
   "execution_count": 2,
   "metadata": {
    "collapsed": true
   },
   "outputs": [],
   "source": [
    "#Flask already installed\n",
    "from flask import Flask\n",
    "from flask import jsonify\n",
    "from flask import request"
   ]
  },
  {
   "cell_type": "markdown",
   "metadata": {},
   "source": [
    "## 1. Hello World - Web Server\n",
    "First, we create a web server, create a dictionary to hold a JSON objects for a couple of employee records and then we add RESTful APIs for each supported operations. Please look at the below program, which creates a web server. Save the below program into hello.py and execute it.\n",
    "\n",
    "note: dont run the next block here.  \n",
    "Save the below program into hello.py and execute it."
   ]
  },
  {
   "cell_type": "code",
   "execution_count": 1,
   "metadata": {},
   "outputs": [
    {
     "data": {
      "text/plain": [
       "'app = Flask(__name__)\\n@app.route(\"/\")\\n\\ndef hello():\\n    return \"Hello World!\"\\nif __name__ == \"__main__\":\\n    app.run()\\n    \\napp = Flask(__name__)\\n'"
      ]
     },
     "execution_count": 1,
     "metadata": {},
     "output_type": "execute_result"
    }
   ],
   "source": [
    "\"\"\"\n",
    "#creates an app object from Flask.\n",
    "app = Flask(__name__)\n",
    "\n",
    "#request defined\n",
    "@app.route(\"/\")\n",
    "def hello():\n",
    "    return \"Hello World!\"\n",
    "\n",
    "#app.run() starts the web server and ready to handle the request. \n",
    "#But at this moment, it can handle only one request.\n",
    "if __name__ == \"__main__\":\n",
    "    app.run()\n",
    "\n",
    "\"\"\""
   ]
  },
  {
   "cell_type": "markdown",
   "metadata": {},
   "source": [
    "Now you can open your web browser and check your web server. The server is available in the URL http://localhost:5000/. \n",
    "\n",
    "If you are familiar with cUrl execute the below to check the status.\n",
    "\n",
    "$ curl -i http://localhost:5000/"
   ]
  },
  {
   "cell_type": "markdown",
   "metadata": {},
   "source": [
    "## 2. Develop the RESTful Services\n",
    "To develop the restful services for the planned objective, let's create an in-memory database in python using the dictionary data type. \n",
    "\n",
    "(just after the Flask app creation statement app = Flask(__name__). You can also refer the below section 5 for the complete code.)"
   ]
  },
  {
   "cell_type": "code",
   "execution_count": 3,
   "metadata": {
    "collapsed": true
   },
   "outputs": [],
   "source": [
    "#creates an app object from Flask.\n",
    "app = Flask(__name__)\n",
    "\n",
    "#create in-memory database\n",
    "\n",
    "empDB=[\n",
    " {\n",
    " 'id':'101',\n",
    " 'name':'Saravanan S',\n",
    " 'title':'Technical Leader'\n",
    " },\n",
    " {\n",
    " 'id':'201',\n",
    " 'name':'Rajkumar P',\n",
    " 'title':'Sr Software Engineer'\n",
    " }\n",
    " ]"
   ]
  },
  {
   "cell_type": "markdown",
   "metadata": {},
   "source": [
    "### 2.1 GET\n",
    "In the previous section, we have created two employees in the dictionary. Now let's write a code to retrieve them using web services. As per our plan, we need two implementations one is to retrieve all the employees and another one to retrieve the specific employee with the given id.\n",
    "\n",
    "### Get All\n",
    "create a URI named '/empdb/employee' and define the method as \"GET\".  \n",
    "To service the GET call for the URI, Flask will call the function getAllEmp().  It will in turn simply call the \"jsonify\" method with employeeDB as the argument.  The \"jsonify\" is a flask method, will set the data with the given JSON object which is passed as a Python dictionary and set the headers appropriately, in this case \"Content-type: application/json\". "
   ]
  },
  {
   "cell_type": "code",
   "execution_count": 4,
   "metadata": {},
   "outputs": [],
   "source": [
    "#define Get All \n",
    "@app.route('/empdb/employee',methods=['GET'])\n",
    "def getAllEmp():\n",
    "    return jsonify({'emps':empDB})"
   ]
  },
  {
   "cell_type": "markdown",
   "metadata": {
    "collapsed": true
   },
   "source": [
    "We can check the above Web Service with cUrl as below:  \n",
    "\n",
    "cUrl> curl -i http://localhost:5000/empdb/employee"
   ]
  },
  {
   "cell_type": "markdown",
   "metadata": {},
   "source": [
    "## 2.2 POST\n",
    "POST method is used to create a new employee inside the database. \n",
    "\n",
    "Read the request.json for the expected values, and store them in the local dictionary object and appends it to the employee DB dictionary.  This also returns the newly added employee object as the response."
   ]
  },
  {
   "cell_type": "code",
   "execution_count": 5,
   "metadata": {
    "collapsed": true
   },
   "outputs": [],
   "source": [
    "@app.route('/empdb/employee',methods=['POST'])\n",
    "def createEmp(): \n",
    "    dat = {\n",
    "    'id':request.json['id'],\n",
    "    'name':request.json['name'],\n",
    "    'title':request.json['title']\n",
    "    }\n",
    "    empDB.append(dat)\n",
    "    return jsonify(dat)"
   ]
  },
  {
   "cell_type": "markdown",
   "metadata": {},
   "source": [
    "Can run the above Web Service with cURL as below:  \n",
    "$ curl -X POST http://localhost:5000/empdb/employee -H \"Content-Type: application/json\" -d '{\"id\": \"997\", \"name\": \"Anyaconda2\",\"title\": \"Technical Data Scientist2\"}'\n",
    "\n",
    "see reference (could be finicky on Windows)\n",
    "https://stackoverflow.com/questions/7172784/how-to-post-json-data-with-curl-from-terminal-commandline-to-test-spring-rest\n"
   ]
  },
  {
   "cell_type": "code",
   "execution_count": null,
   "metadata": {},
   "outputs": [
    {
     "name": "stderr",
     "output_type": "stream",
     "text": [
      " * Running on http://127.0.0.1:5000/ (Press CTRL+C to quit)\n",
      "127.0.0.1 - - [06/Nov/2017 12:01:06] \"GET /empdb/employee HTTP/1.1\" 200 -\n",
      "127.0.0.1 - - [06/Nov/2017 12:01:15] \"GET /empdb/employee HTTP/1.1\" 200 -\n",
      "127.0.0.1 - - [06/Nov/2017 12:01:28] \"POST /empdb/employee HTTP/1.1\" 400 -\n",
      "127.0.0.1 - - [06/Nov/2017 12:04:29] \"POST /empdb/employee HTTP/1.1\" 400 -\n",
      "127.0.0.1 - - [06/Nov/2017 12:05:12] \"POST /empdb/employee HTTP/1.1\" 400 -\n",
      "127.0.0.1 - - [06/Nov/2017 12:06:06] \"POST /empdb/employee HTTP/1.1\" 200 -\n",
      "127.0.0.1 - - [06/Nov/2017 12:06:33] \"GET /empdb/employee HTTP/1.1\" 200 -\n",
      "127.0.0.1 - - [06/Nov/2017 12:07:38] \"POST /empdb/employee HTTP/1.1\" 200 -\n",
      "127.0.0.1 - - [06/Nov/2017 12:07:43] \"GET /empdb/employee HTTP/1.1\" 200 -\n",
      "[2017-11-06 12:11:23,467] ERROR in app: Exception on /empdb/employee [POST]\n",
      "Traceback (most recent call last):\n",
      "  File \"C:\\Users\\chq-anyac.CHQ-ANYACH-L7\\Anaconda2\\lib\\site-packages\\flask\\app.py\", line 1982, in wsgi_app\n",
      "    response = self.full_dispatch_request()\n",
      "  File \"C:\\Users\\chq-anyac.CHQ-ANYACH-L7\\Anaconda2\\lib\\site-packages\\flask\\app.py\", line 1614, in full_dispatch_request\n",
      "    rv = self.handle_user_exception(e)\n",
      "  File \"C:\\Users\\chq-anyac.CHQ-ANYACH-L7\\Anaconda2\\lib\\site-packages\\flask\\app.py\", line 1517, in handle_user_exception\n",
      "    reraise(exc_type, exc_value, tb)\n",
      "  File \"C:\\Users\\chq-anyac.CHQ-ANYACH-L7\\Anaconda2\\lib\\site-packages\\flask\\app.py\", line 1612, in full_dispatch_request\n",
      "    rv = self.dispatch_request()\n",
      "  File \"C:\\Users\\chq-anyac.CHQ-ANYACH-L7\\Anaconda2\\lib\\site-packages\\flask\\app.py\", line 1598, in dispatch_request\n",
      "    return self.view_functions[rule.endpoint](**req.view_args)\n",
      "  File \"<ipython-input-5-24c56adbdba3>\", line 4, in createEmp\n",
      "    'id':request.json['id'],\n",
      "TypeError: 'NoneType' object has no attribute '__getitem__'\n",
      "127.0.0.1 - - [06/Nov/2017 12:11:23] \"POST /empdb/employee HTTP/1.1\" 500 -\n",
      "127.0.0.1 - - [06/Nov/2017 12:13:46] \"POST /empdb/employee HTTP/1.1\" 400 -\n",
      "127.0.0.1 - - [06/Nov/2017 12:16:36] \"POST /empdb/employee HTTP/1.1\" 200 -\n",
      "127.0.0.1 - - [06/Nov/2017 12:16:48] \"GET /empdb/employee HTTP/1.1\" 200 -\n",
      "127.0.0.1 - - [06/Nov/2017 12:22:14] \"POST /empdb/employee HTTP/1.1\" 200 -\n",
      "127.0.0.1 - - [06/Nov/2017 12:22:20] \"GET /empdb/employee HTTP/1.1\" 200 -\n",
      "127.0.0.1 - - [06/Nov/2017 12:25:53] \"GET /empdb/employee HTTP/1.1\" 200 -\n"
     ]
    }
   ],
   "source": [
    "if __name__ == '__main__':\n",
    "    app.run()"
   ]
  },
  {
   "cell_type": "markdown",
   "metadata": {
    "collapsed": true
   },
   "source": [
    "For other methods, refer to complete code  \n",
    "https://dzone.com/articles/restful-web-services-with-python-flask\n",
    "\n",
    "This partial code is sufficient for my needs:\n",
    "- know how to create a web service with Flask, and \n",
    "- how to run these methods (CLI and Postman)\n",
    "\n",
    "(see screenshots with CLI and Postman examples)\n",
    "\n"
   ]
  },
  {
   "cell_type": "code",
   "execution_count": null,
   "metadata": {
    "collapsed": true
   },
   "outputs": [],
   "source": []
  }
 ],
 "metadata": {
  "kernelspec": {
   "display_name": "Python 2",
   "language": "python",
   "name": "python2"
  },
  "language_info": {
   "codemirror_mode": {
    "name": "ipython",
    "version": 2
   },
   "file_extension": ".py",
   "mimetype": "text/x-python",
   "name": "python",
   "nbconvert_exporter": "python",
   "pygments_lexer": "ipython2",
   "version": "2.7.13"
  }
 },
 "nbformat": 4,
 "nbformat_minor": 2
}
