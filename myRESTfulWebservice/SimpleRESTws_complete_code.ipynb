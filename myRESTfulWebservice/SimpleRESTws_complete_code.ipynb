{
 "cells": [
  {
   "cell_type": "markdown",
   "metadata": {},
   "source": [
    "# How to develop a RESTful Web Services in Python"
   ]
  },
  {
   "cell_type": "code",
   "execution_count": null,
   "metadata": {},
   "outputs": [
    {
     "name": "stderr",
     "output_type": "stream",
     "text": [
      " * Running on http://127.0.0.1:5000/ (Press CTRL+C to quit)\n",
      "127.0.0.1 - - [06/Nov/2017 11:11:27] \"GET /empdb/employee HTTP/1.1\" 200 -\n",
      "127.0.0.1 - - [06/Nov/2017 11:21:26] \"GET /empdb/employee HTTP/1.1\" 200 -\n",
      "127.0.0.1 - - [06/Nov/2017 11:23:10] \"GET / HTTP/1.1\" 404 -\n",
      "127.0.0.1 - - [06/Nov/2017 11:23:26] \"GET / HTTP/1.1\" 404 -\n",
      "127.0.0.1 - - [06/Nov/2017 11:23:30] \"GET /empdb/employee HTTP/1.1\" 200 -\n",
      "127.0.0.1 - - [06/Nov/2017 11:24:35] \"GET / HTTP/1.1\" 404 -\n",
      "127.0.0.1 - - [06/Nov/2017 11:24:40] \"GET / HTTP/1.1\" 404 -\n",
      "127.0.0.1 - - [06/Nov/2017 11:25:28] \"GET / HTTP/1.1\" 404 -\n"
     ]
    }
   ],
   "source": [
    "#reference\n",
    "#https://dzone.com/articles/restful-web-services-with-python-flask\n",
    "\n",
    "from flask import Flask\n",
    "from flask import jsonify\n",
    "from flask import request\n",
    "app = Flask(__name__)\n",
    "empDB=[\n",
    " {\n",
    " 'id':'101',\n",
    " 'name':'Saravanan S',\n",
    " 'title':'Technical Leader'\n",
    " },\n",
    " {\n",
    " 'id':'201',\n",
    " 'name':'Rajkumar P',\n",
    " 'title':'Sr Software Engineer'\n",
    " }\n",
    " ]\n",
    "@app.route('/empdb/employee',methods=['GET'])\n",
    "def getAllEmp():\n",
    "    return jsonify({'emps':empDB})\n",
    "@app.route('/empdb/employee/<empId>',methods=['GET'])\n",
    "def getEmp(empId):\n",
    "    usr = [ emp for emp in empDB if (emp['id'] == empId) ] \n",
    "    return jsonify({'emp':usr})\n",
    "@app.route('/empdb/employee/<empId>',methods=['PUT'])\n",
    "def updateEmp(empId):\n",
    "    em = [ emp for emp in empDB if (emp['id'] == empId) ]\n",
    "    if 'name' in request.json : \n",
    "        em[0]['name'] = request.json['name']\n",
    "    if 'title' in request.json:\n",
    "        em[0]['title'] = request.json['title']\n",
    "    return jsonify({'emp':em[0]})\n",
    "@app.route('/empdb/employee',methods=['POST'])\n",
    "def createEmp():\n",
    "    dat = {\n",
    "    'id':request.json['id'],\n",
    "    'name':request.json['name'],\n",
    "    'title':request.json['title']\n",
    "    }\n",
    "    empDB.append(dat)\n",
    "    return jsonify(dat)\n",
    "@app.route('/empdb/employee/<empId>',methods=['DELETE'])\n",
    "def deleteEmp(empId):\n",
    "    em = [ emp for emp in empDB if (emp['id'] == empId) ]\n",
    "    if len(em) == 0:\n",
    "       abort(404)\n",
    "    empDB.remove(em[0])\n",
    "    return jsonify({'response':'Success'})\n",
    "if __name__ == '__main__':\n",
    " app.run()\n"
   ]
  },
  {
   "cell_type": "code",
   "execution_count": null,
   "metadata": {
    "collapsed": true
   },
   "outputs": [],
   "source": []
  }
 ],
 "metadata": {
  "kernelspec": {
   "display_name": "Python 2",
   "language": "python",
   "name": "python2"
  },
  "language_info": {
   "codemirror_mode": {
    "name": "ipython",
    "version": 2
   },
   "file_extension": ".py",
   "mimetype": "text/x-python",
   "name": "python",
   "nbconvert_exporter": "python",
   "pygments_lexer": "ipython2",
   "version": "2.7.13"
  }
 },
 "nbformat": 4,
 "nbformat_minor": 2
}
