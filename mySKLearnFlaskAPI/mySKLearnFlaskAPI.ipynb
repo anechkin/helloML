{
 "cells": [
  {
   "cell_type": "code",
   "execution_count": 1,
   "metadata": {
    "collapsed": true
   },
   "outputs": [],
   "source": [
    "#learning how create a webservice for a trained model, so it can be consumed by apps\n",
    "#A Flask API for serving scikit-learn models\n",
    "#reference, by Amir Ziai\n",
    "#https://medium.com/towards-data-science/a-flask-api-for-serving-scikit-learn-models-c8bcdaa41daa\n",
    "#https://towardsdatascience.com/a-flask-api-for-serving-scikit-learn-models-c8bcdaa41daa\n",
    "#a working solution is available on GitHub.\n",
    "#https://github.com/amirziai/sklearnflask/\n"
   ]
  },
  {
   "cell_type": "code",
   "execution_count": 2,
   "metadata": {
    "collapsed": true
   },
   "outputs": [],
   "source": [
    "import pandas as pd\n",
    "from sklearn.ensemble import RandomForestClassifier as rf\n",
    "from sklearn.externals import joblib\n",
    "from flask import Flask, jsonify, request\n",
    "import traceback"
   ]
  },
  {
   "cell_type": "markdown",
   "metadata": {},
   "source": [
    "# A Flask API for serving scikit-learn models\n",
    "\n",
    "Scikit-learn models can be persisted (pickled) to avoid retraining the model every time they are used. You can use Flask to create an API that can provide predictions based on a set of input variables using a pickled model.\n",
    "\n",
    "Use the titanic dataset: \n",
    "https://www.kaggle.com/c/titanic\n",
    "\n",
    "Use four variables: age, sex, embarked, and survived."
   ]
  },
  {
   "cell_type": "code",
   "execution_count": 3,
   "metadata": {
    "collapsed": true
   },
   "outputs": [],
   "source": [
    "df = pd.read_csv('kaggle_titanic_train.csv')\n",
    "include = ['Age', 'Sex', 'Embarked', 'Survived']\n",
    "df_ = df[include]  # only using 4 variables"
   ]
  },
  {
   "cell_type": "code",
   "execution_count": 4,
   "metadata": {},
   "outputs": [
    {
     "name": "stdout",
     "output_type": "stream",
     "text": [
      "(891, 4)\n"
     ]
    },
    {
     "data": {
      "text/html": [
       "<div>\n",
       "<style>\n",
       "    .dataframe thead tr:only-child th {\n",
       "        text-align: right;\n",
       "    }\n",
       "\n",
       "    .dataframe thead th {\n",
       "        text-align: left;\n",
       "    }\n",
       "\n",
       "    .dataframe tbody tr th {\n",
       "        vertical-align: top;\n",
       "    }\n",
       "</style>\n",
       "<table border=\"1\" class=\"dataframe\">\n",
       "  <thead>\n",
       "    <tr style=\"text-align: right;\">\n",
       "      <th></th>\n",
       "      <th>Age</th>\n",
       "      <th>Sex</th>\n",
       "      <th>Embarked</th>\n",
       "      <th>Survived</th>\n",
       "    </tr>\n",
       "  </thead>\n",
       "  <tbody>\n",
       "    <tr>\n",
       "      <th>0</th>\n",
       "      <td>22.0</td>\n",
       "      <td>male</td>\n",
       "      <td>S</td>\n",
       "      <td>0</td>\n",
       "    </tr>\n",
       "    <tr>\n",
       "      <th>1</th>\n",
       "      <td>38.0</td>\n",
       "      <td>female</td>\n",
       "      <td>C</td>\n",
       "      <td>1</td>\n",
       "    </tr>\n",
       "    <tr>\n",
       "      <th>2</th>\n",
       "      <td>26.0</td>\n",
       "      <td>female</td>\n",
       "      <td>S</td>\n",
       "      <td>1</td>\n",
       "    </tr>\n",
       "    <tr>\n",
       "      <th>3</th>\n",
       "      <td>35.0</td>\n",
       "      <td>female</td>\n",
       "      <td>S</td>\n",
       "      <td>1</td>\n",
       "    </tr>\n",
       "    <tr>\n",
       "      <th>4</th>\n",
       "      <td>35.0</td>\n",
       "      <td>male</td>\n",
       "      <td>S</td>\n",
       "      <td>0</td>\n",
       "    </tr>\n",
       "  </tbody>\n",
       "</table>\n",
       "</div>"
      ],
      "text/plain": [
       "    Age     Sex Embarked  Survived\n",
       "0  22.0    male        S         0\n",
       "1  38.0  female        C         1\n",
       "2  26.0  female        S         1\n",
       "3  35.0  female        S         1\n",
       "4  35.0    male        S         0"
      ]
     },
     "execution_count": 4,
     "metadata": {},
     "output_type": "execute_result"
    }
   ],
   "source": [
    "print df_.shape\n",
    "df_.head()"
   ]
  },
  {
   "cell_type": "code",
   "execution_count": 5,
   "metadata": {},
   "outputs": [
    {
     "name": "stdout",
     "output_type": "stream",
     "text": [
      "categoricals:  ['Sex', 'Embarked']\n"
     ]
    },
    {
     "name": "stderr",
     "output_type": "stream",
     "text": [
      "C:\\Users\\chq-anyac.CHQ-ANYACH-L7\\Anaconda2\\lib\\site-packages\\pandas\\core\\generic.py:3549: SettingWithCopyWarning: \n",
      "A value is trying to be set on a copy of a slice from a DataFrame\n",
      "\n",
      "See the caveats in the documentation: http://pandas.pydata.org/pandas-docs/stable/indexing.html#indexing-view-versus-copy\n",
      "  self._update_inplace(new_data)\n"
     ]
    }
   ],
   "source": [
    "#transform categorical vars and impute missing values\n",
    "categoricals = []\n",
    "for col, col_type in df_.dtypes.iteritems():\n",
    "    if col_type == 'O':\n",
    "        categoricals.append(col)\n",
    "    else:\n",
    "        df_[col].fillna(0, inplace=True)\n",
    "        \n",
    "print \"categoricals: \", categoricals"
   ]
  },
  {
   "cell_type": "code",
   "execution_count": 6,
   "metadata": {},
   "outputs": [
    {
     "name": "stdout",
     "output_type": "stream",
     "text": [
      "(891, 9)\n"
     ]
    },
    {
     "data": {
      "text/html": [
       "<div>\n",
       "<style>\n",
       "    .dataframe thead tr:only-child th {\n",
       "        text-align: right;\n",
       "    }\n",
       "\n",
       "    .dataframe thead th {\n",
       "        text-align: left;\n",
       "    }\n",
       "\n",
       "    .dataframe tbody tr th {\n",
       "        vertical-align: top;\n",
       "    }\n",
       "</style>\n",
       "<table border=\"1\" class=\"dataframe\">\n",
       "  <thead>\n",
       "    <tr style=\"text-align: right;\">\n",
       "      <th></th>\n",
       "      <th>Age</th>\n",
       "      <th>Survived</th>\n",
       "      <th>Sex_female</th>\n",
       "      <th>Sex_male</th>\n",
       "      <th>Sex_nan</th>\n",
       "      <th>Embarked_C</th>\n",
       "      <th>Embarked_Q</th>\n",
       "      <th>Embarked_S</th>\n",
       "      <th>Embarked_nan</th>\n",
       "    </tr>\n",
       "  </thead>\n",
       "  <tbody>\n",
       "    <tr>\n",
       "      <th>0</th>\n",
       "      <td>22.0</td>\n",
       "      <td>0</td>\n",
       "      <td>0</td>\n",
       "      <td>1</td>\n",
       "      <td>0</td>\n",
       "      <td>0</td>\n",
       "      <td>0</td>\n",
       "      <td>1</td>\n",
       "      <td>0</td>\n",
       "    </tr>\n",
       "    <tr>\n",
       "      <th>1</th>\n",
       "      <td>38.0</td>\n",
       "      <td>1</td>\n",
       "      <td>1</td>\n",
       "      <td>0</td>\n",
       "      <td>0</td>\n",
       "      <td>1</td>\n",
       "      <td>0</td>\n",
       "      <td>0</td>\n",
       "      <td>0</td>\n",
       "    </tr>\n",
       "    <tr>\n",
       "      <th>2</th>\n",
       "      <td>26.0</td>\n",
       "      <td>1</td>\n",
       "      <td>1</td>\n",
       "      <td>0</td>\n",
       "      <td>0</td>\n",
       "      <td>0</td>\n",
       "      <td>0</td>\n",
       "      <td>1</td>\n",
       "      <td>0</td>\n",
       "    </tr>\n",
       "    <tr>\n",
       "      <th>3</th>\n",
       "      <td>35.0</td>\n",
       "      <td>1</td>\n",
       "      <td>1</td>\n",
       "      <td>0</td>\n",
       "      <td>0</td>\n",
       "      <td>0</td>\n",
       "      <td>0</td>\n",
       "      <td>1</td>\n",
       "      <td>0</td>\n",
       "    </tr>\n",
       "    <tr>\n",
       "      <th>4</th>\n",
       "      <td>35.0</td>\n",
       "      <td>0</td>\n",
       "      <td>0</td>\n",
       "      <td>1</td>\n",
       "      <td>0</td>\n",
       "      <td>0</td>\n",
       "      <td>0</td>\n",
       "      <td>1</td>\n",
       "      <td>0</td>\n",
       "    </tr>\n",
       "  </tbody>\n",
       "</table>\n",
       "</div>"
      ],
      "text/plain": [
       "    Age  Survived  Sex_female  Sex_male  Sex_nan  Embarked_C  Embarked_Q  \\\n",
       "0  22.0         0           0         1        0           0           0   \n",
       "1  38.0         1           1         0        0           1           0   \n",
       "2  26.0         1           1         0        0           0           0   \n",
       "3  35.0         1           1         0        0           0           0   \n",
       "4  35.0         0           0         1        0           0           0   \n",
       "\n",
       "   Embarked_S  Embarked_nan  \n",
       "0           1             0  \n",
       "1           0             0  \n",
       "2           1             0  \n",
       "3           1             0  \n",
       "4           1             0  "
      ]
     },
     "execution_count": 6,
     "metadata": {},
     "output_type": "execute_result"
    }
   ],
   "source": [
    "#Pandas provides a simple method get_dummies for creating OHE variables for a given dataframe.\n",
    "#http://pandas.pydata.org/pandas-docs/stable/generated/pandas.get_dummies.html\n",
    "df_ohe = pd.get_dummies(df_, columns=categoricals, dummy_na=True)\n",
    "print df_ohe.shape\n",
    "df_ohe.head()"
   ]
  },
  {
   "cell_type": "markdown",
   "metadata": {},
   "source": [
    "Now that we’ve successfully transformed our dataset we’re ready to train our model."
   ]
  },
  {
   "cell_type": "code",
   "execution_count": 7,
   "metadata": {},
   "outputs": [
    {
     "data": {
      "text/plain": [
       "RandomForestClassifier(bootstrap=True, class_weight=None, criterion='gini',\n",
       "            max_depth=None, max_features='auto', max_leaf_nodes=None,\n",
       "            min_impurity_split=1e-07, min_samples_leaf=1,\n",
       "            min_samples_split=2, min_weight_fraction_leaf=0.0,\n",
       "            n_estimators=10, n_jobs=1, oob_score=False, random_state=None,\n",
       "            verbose=0, warm_start=False)"
      ]
     },
     "execution_count": 7,
     "metadata": {},
     "output_type": "execute_result"
    }
   ],
   "source": [
    "#fit model\n",
    "# using a random forest classifier (can be any classifier)\n",
    "#from sklearn.ensemble import RandomForestClassifier as rf\n",
    "dependent_variable = 'Survived'\n",
    "X = df_ohe[df_ohe.columns.difference([dependent_variable])]\n",
    "y = df_ohe[dependent_variable]\n",
    "\n",
    "clf = rf()\n",
    "clf.fit(X,y)"
   ]
  },
  {
   "cell_type": "code",
   "execution_count": 8,
   "metadata": {},
   "outputs": [
    {
     "data": {
      "text/plain": [
       "['model.pkl']"
      ]
     },
     "execution_count": 8,
     "metadata": {},
     "output_type": "execute_result"
    }
   ],
   "source": [
    "#the trained model is ready to be pickled\n",
    "#from sklearn.externals import joblib\n",
    "joblib.dump(clf, 'model.pkl')\n",
    "\n",
    "#We have persisted our model. We can load this model into memory in a single line.\n",
    "#clf = joblib.load('model.pkl')"
   ]
  },
  {
   "cell_type": "code",
   "execution_count": 9,
   "metadata": {},
   "outputs": [
    {
     "name": "stdout",
     "output_type": "stream",
     "text": [
      "['Age', 'Embarked_C', 'Embarked_Q', 'Embarked_S', 'Embarked_nan', 'Sex_female', 'Sex_male', 'Sex_nan']\n"
     ]
    }
   ],
   "source": [
    "model_columns = list(X.columns)\n",
    "joblib.dump(model_columns, 'model_columns.pkl')\n",
    "print model_columns"
   ]
  },
  {
   "cell_type": "markdown",
   "metadata": {},
   "source": [
    "\n",
    "## Flask\n",
    "We’re now ready to use Flask to serve our persisted model."
   ]
  },
  {
   "cell_type": "code",
   "execution_count": null,
   "metadata": {},
   "outputs": [
    {
     "data": {
      "text/plain": [
       "\"# now ready to use Flask to serve our persisted model\\nfrom flask import Flask\\n\\napp = Flask(__name__)\\n\\nif __name__ == '__main__':\\n    app.run(port=8080)\\n\""
      ]
     },
     "execution_count": 10,
     "metadata": {},
     "output_type": "execute_result"
    }
   ],
   "source": [
    "#Flask is pretty minimalistic. Here’s what you need to start a bare bones Flask application (on port 8080 in this case).\n",
    "\"\"\"# now ready to use Flask to serve our persisted model\n",
    "from flask import Flask\n",
    "\n",
    "app = Flask(__name__)\n",
    "\n",
    "if __name__ == '__main__':\n",
    "    app.run(port=8080)\n",
    "\"\"\""
   ]
  },
  {
   "cell_type": "markdown",
   "metadata": {},
   "source": [
    "We have to do two things: \n",
    "\n",
    "(1) load our persisted model into memory when the application starts, and   \n",
    "(2) create an endpoint that takes input variables, transforms them into the appropriate format, and returns predictions.\n"
   ]
  },
  {
   "cell_type": "code",
   "execution_count": null,
   "metadata": {},
   "outputs": [
    {
     "name": "stderr",
     "output_type": "stream",
     "text": [
      " * Running on http://127.0.0.1:8080/ (Press CTRL+C to quit)\n"
     ]
    },
    {
     "name": "stdout",
     "output_type": "stream",
     "text": [
      "model loaded\n",
      "model columns loaded\n"
     ]
    },
    {
     "name": "stderr",
     "output_type": "stream",
     "text": [
      "127.0.0.1 - - [08/Nov/2017 13:10:16] \"POST /predict HTTP/1.1\" 200 -\n",
      "127.0.0.1 - - [08/Nov/2017 13:10:20] \"POST /predict HTTP/1.1\" 200 -\n"
     ]
    }
   ],
   "source": [
    "#from flask import Flask, jsonify\n",
    "#from sklearn.externals import joblib\n",
    "#import pandas as pd\n",
    "\n",
    "app = Flask(__name__)\n",
    "@app.route('/predict', methods=['POST'])\n",
    "\n",
    "def predict():\n",
    "    json_ = request.json\n",
    "    query_df = pd.DataFrame(json_)\n",
    "    query = pd.get_dummies(query_df)\n",
    "    #query = query.reindex(columns=model_columns, fill_value=0) #may work without this line\n",
    "    prediction = clf.predict(query).tolist()\n",
    "    return jsonify({'prediction': prediction})\n",
    "    \n",
    "if __name__ == '__main__':\n",
    "    clf = joblib.load('model.pkl')\n",
    "    print 'model loaded'\n",
    "    model_columns = joblib.load('model_columns.pkl')\n",
    "    print 'model columns loaded'\n",
    "    app.run(port=8080)"
   ]
  },
  {
   "cell_type": "markdown",
   "metadata": {},
   "source": [
    "This would only work under ideal circumstances where the incoming request contains all possible values for the categorical variables. If that’s not the case, get_dummies would generate a dataframe that has less columns than the classifier excepts, which would result in a runtime error. Also numerical variables need to be replaced using the same methodology that we trained the model with.  \n",
    "\n",
    "A solution to the less than expected number of columns is to persist the list of columns from training. Remember that Python objects (including lists and dictionaries) can be pickled. To do this I’m going to use joblib, as I did previously, to dump the list of columns into a pkl file."
   ]
  },
  {
   "cell_type": "markdown",
   "metadata": {},
   "source": [
    "## Note\n",
    "Only managed to make it work with a specific format for prediction:  \n",
    "\n",
    "Single record:  \n",
    "[{\"Age\": 17.0, \"Embarked_C\": \"0\",\"Embarked_Q\": \"0\", \"Embarked_S\": \"1\", \"Embarked_nan\": \"0\",\"Sex_female\": \"0\",\"Sex_male\": \"1\",\"Sex_nan\": \"0\"}]\n",
    "\n",
    "Multi:  \n",
    "[  \n",
    "{\"Age\": 17.0, \"Embarked_C\": \"0\",\"Embarked_Q\": \"0\", \"Embarked_S\": \"1\", \"Embarked_nan\": \"0\",\"Sex_female\": \"0\",\"Sex_male\": \"1\",\"Sex_nan\": \"0\"},  \n",
    "{\"Age\": 77.0, \"Embarked_C\": \"0\",\"Embarked_Q\": \"0\", \"Embarked_S\": \"1\", \"Embarked_nan\": \"0\",\"Sex_female\": \"0\",\"Sex_male\": \"1\",\"Sex_nan\": \"0\"}  \n",
    "]\n"
   ]
  },
  {
   "cell_type": "markdown",
   "metadata": {},
   "source": [
    "Here's CLI command:  \n",
    "$ curl -X POST http://127.0.0.1:8080/predict -H \"Content-Type: application/json\" -d '[{\"Age\": 17.0, \"Embarked_C\": \"0\",\"Embarked_Q\": \"0\", \"Embarked_S\": \"1\", \"Embarked_nan\": \"0\",\"Sex_female\": \"0\",\"Sex_male\": \"1\",\"Sex_nan\": \"0\"}]'"
   ]
  },
  {
   "cell_type": "markdown",
   "metadata": {},
   "source": [
    "In reality, need to pass input in real format:  \n",
    "[\n",
    "    {'Age': 85, 'Sex': 'male', 'Embarked': 'S'},\n",
    "    {'Age': 24, 'Sex': 'female', 'Embarked': 'C'},\n",
    "    {'Age': 3, 'Sex': 'male', 'Embarked': 'C'},\n",
    "    {'Age': 21, 'Sex': 'male', 'Embarked': 'S'}\n",
    "]"
   ]
  },
  {
   "cell_type": "code",
   "execution_count": null,
   "metadata": {
    "collapsed": true
   },
   "outputs": [],
   "source": [
    "#try to figure out how to pass input in real format"
   ]
  },
  {
   "cell_type": "markdown",
   "metadata": {},
   "source": [
    "# Summary\n",
    "Complete:  \n",
    "- fit a model\n",
    "- pickle it\n",
    "- publish as RESTful API using Flask"
   ]
  },
  {
   "cell_type": "code",
   "execution_count": null,
   "metadata": {
    "collapsed": true
   },
   "outputs": [],
   "source": []
  }
 ],
 "metadata": {
  "kernelspec": {
   "display_name": "Python 2",
   "language": "python",
   "name": "python2"
  },
  "language_info": {
   "codemirror_mode": {
    "name": "ipython",
    "version": 2
   },
   "file_extension": ".py",
   "mimetype": "text/x-python",
   "name": "python",
   "nbconvert_exporter": "python",
   "pygments_lexer": "ipython2",
   "version": "2.7.13"
  }
 },
 "nbformat": 4,
 "nbformat_minor": 2
}
