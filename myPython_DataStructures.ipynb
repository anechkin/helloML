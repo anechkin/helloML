{
 "cells": [
  {
   "cell_type": "markdown",
   "metadata": {},
   "source": [
    "# Python Data Structures\n",
    "\n"
   ]
  },
  {
   "cell_type": "code",
   "execution_count": 3,
   "metadata": {
    "collapsed": true
   },
   "outputs": [],
   "source": [
    "import numpy as np"
   ]
  },
  {
   "cell_type": "markdown",
   "metadata": {},
   "source": [
    "Python sequences:\n",
    "* List\n",
    "* Dict\n",
    "* Tuple\n",
    "* Set\n",
    "\n",
    "Numpy arrays\n",
    "\n",
    "Pandas dataframes\n",
    "\n",
    "---\n",
    "## Python List"
   ]
  },
  {
   "cell_type": "code",
   "execution_count": 14,
   "metadata": {},
   "outputs": [
    {
     "name": "stdout",
     "output_type": "stream",
     "text": [
      "[1, 2, 3]\n",
      "1\n"
     ]
    }
   ],
   "source": [
    "number_list = [1,2,3]\n",
    "print(number_list)\n",
    "print(number_list[0])"
   ]
  },
  {
   "cell_type": "code",
   "execution_count": 1,
   "metadata": {},
   "outputs": [
    {
     "name": "stdout",
     "output_type": "stream",
     "text": [
      "Type:  <type 'list'>\n",
      "Size:  3\n",
      "['apple', 'orange', 'banana']\n",
      "apple\n"
     ]
    }
   ],
   "source": [
    "#python data type List\n",
    "items = []\n",
    "\n",
    "items.append(\"apple\")\n",
    "items.append(\"orange\")\n",
    "items.append(\"banana\")\n",
    "print \"Type: \", type(items)\n",
    "print \"Size: \", len(items)\n",
    "\n",
    "print items\n",
    "print items[0]"
   ]
  },
  {
   "cell_type": "markdown",
   "metadata": {},
   "source": [
    "---\n",
    "## Python Dict\n"
   ]
  },
  {
   "cell_type": "code",
   "execution_count": 9,
   "metadata": {},
   "outputs": [
    {
     "name": "stdout",
     "output_type": "stream",
     "text": [
      "<type 'dict'>\n"
     ]
    }
   ],
   "source": [
    "number_map = { 1: -3, 2: -2, 3: -1, 4: 1, 5: 2, 6: 3 }\n",
    "string_map = {\"Age\": 27, \"Name\": \"Lucky\"}\n",
    "print (type(string_map))"
   ]
  },
  {
   "cell_type": "code",
   "execution_count": 8,
   "metadata": {},
   "outputs": [
    {
     "data": {
      "text/plain": [
       "'Lucky'"
      ]
     },
     "execution_count": 8,
     "metadata": {},
     "output_type": "execute_result"
    }
   ],
   "source": [
    "number_map[2]\n",
    "string_map[\"Name\"]"
   ]
  },
  {
   "cell_type": "code",
   "execution_count": 10,
   "metadata": {},
   "outputs": [
    {
     "data": {
      "text/plain": [
       "str"
      ]
     },
     "execution_count": 10,
     "metadata": {},
     "output_type": "execute_result"
    }
   ],
   "source": [
    "type(string_map[\"Name\"])"
   ]
  },
  {
   "cell_type": "markdown",
   "metadata": {},
   "source": [
    "## Working with Data Structures\n",
    "\n",
    "### Comprehensions\n",
    "very elegant"
   ]
  },
  {
   "cell_type": "code",
   "execution_count": 4,
   "metadata": {},
   "outputs": [
    {
     "name": "stdout",
     "output_type": "stream",
     "text": [
      "[3, 8, 4, 8]\n",
      "[6, 7, 8, 9, 10]\n"
     ]
    }
   ],
   "source": [
    "#Index based select\n",
    "l=[1,2,3,4,5,6,7,8,9,10]\n",
    "idx=[2,7,3,7]\n",
    "#use Comprehensions to select\n",
    "# how to read:\n",
    "#from the list 'l', give me an items with index 'x' for each 'x' in index 'idx'\n",
    "l1=[l[x] for x in idx]\n",
    "print l1\n",
    "\n",
    "n=len(l)\n",
    "idx=np.arange(5,n)\n",
    "#use Comprehensions to select\n",
    "l2=[l[x] for x in idx]\n",
    "print l2"
   ]
  },
  {
   "cell_type": "code",
   "execution_count": null,
   "metadata": {
    "collapsed": true
   },
   "outputs": [],
   "source": []
  }
 ],
 "metadata": {
  "kernelspec": {
   "display_name": "Python 2",
   "language": "python",
   "name": "python2"
  },
  "language_info": {
   "codemirror_mode": {
    "name": "ipython",
    "version": 2
   },
   "file_extension": ".py",
   "mimetype": "text/x-python",
   "name": "python",
   "nbconvert_exporter": "python",
   "pygments_lexer": "ipython2",
   "version": "2.7.13"
  }
 },
 "nbformat": 4,
 "nbformat_minor": 2
}
