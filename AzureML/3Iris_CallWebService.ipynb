{
 "cells": [
  {
   "cell_type": "code",
   "execution_count": 5,
   "metadata": {},
   "outputs": [
    {
     "name": "stdout",
     "output_type": "stream",
     "text": [
      "The request failed with status code: 400\n",
      "Content-Length: 859\r\n",
      "Content-Type: application/json; charset=utf-8\r\n",
      "ETag: \"ff99e15c3d124fa6b06764180a667992\"\r\n",
      "Server: Microsoft-HTTPAPI/2.0\r\n",
      "x-ms-request-id: 86401e2a-86d2-484b-a11f-98899f9679c5\r\n",
      "Date: Wed, 18 Oct 2017 22:57:19 GMT\r\n",
      "Connection: close\r\n",
      "\n",
      "{u'error': {u'message': u'Module execution encountered an error.', u'code': u'ModuleExecutionError', u'details': [{u'message': u'Error 0085: The following error occurred during script evaluation, please view the output log for more information:\\r\\n---------- Start of error message from Python interpreter ----------\\r\\nCaught exception while executing function: Traceback (most recent call last):\\n  File \"\\\\server\\\\InvokePy.py\", line 120, in executeScript\\n    outframe = mod.azureml_main(*inframes)\\n  File \"\\\\temp\\\\-670456215.py\", line 1097, in azureml_main\\n    results.append(__user_function(sep_l, sep_w, pet_l, pet_w))\\n  File \"<ipython-input-2-f6b81ad1f9e6>\", line 8, in predictIris\\nNameError: global name \\'clf\\' is not defined\\n\\r\\n\\r\\n---------- End of error message from Python  interpreter  ----------', u'code': u'85', u'target': u'Execute Python Script RRS'}]}}\n"
     ]
    }
   ],
   "source": [
    "#refer to file myAzureML_DeployAsWebService_Iris\n",
    "#for successful implementation of this partial code\n",
    "\n",
    "import urllib2\n",
    "# If you are using Python 3+, import urllib instead of urllib2\n",
    "\n",
    "import json \n",
    "\n",
    "\n",
    "data =  {\n",
    "\n",
    "        \"Inputs\": {\n",
    "\n",
    "                \"input1\":\n",
    "                {\n",
    "                    \"ColumnNames\": [\"sep_l\", \"pet_l\", \"sep_w\", \"pet_w\"],\n",
    "                    \"Values\": [ [ \"3\", \"2\", \"3\", \"4\" ], [ \"3\", \"2\", \"3\", \"4\" ], ]\n",
    "                },        },\n",
    "            \"GlobalParameters\": {\n",
    "}\n",
    "    }\n",
    "\n",
    "body = str.encode(json.dumps(data))\n",
    "\n",
    "url = 'https://ussouthcentral.services.azureml.net/workspaces/da11a60ff80a492f95c93d623a4b59a0/services/a29867760b2048a8a052badbd8fae687/execute?api-version=2.0&details=true'\n",
    "api_key = '/aGArllh/WGjbjdXwT9Lb3DuEBD/PKIlji6lBztZfZECqZaPEC9e+8tm+zNXWQKGkT4VM0PBjprcxPXylQTAsA==' # Replace this with the API key for the web service\n",
    "headers = {'Content-Type':'application/json', 'Authorization':('Bearer '+ api_key)}\n",
    "\n",
    "req = urllib2.Request(url, body, headers) \n",
    "\n",
    "try:\n",
    "    response = urllib2.urlopen(req)\n",
    "\n",
    "    # If you are using Python 3+, replace urllib2 with urllib.request in the above code:\n",
    "    # req = urllib.request.Request(url, body, headers) \n",
    "    # response = urllib.request.urlopen(req)\n",
    "\n",
    "    result = response.read()\n",
    "    print(result) \n",
    "except urllib2.HTTPError, error:\n",
    "    print(\"The request failed with status code: \" + str(error.code))\n",
    "\n",
    "    # Print the headers - they include the requert ID and the timestamp, which are useful for debugging the failure\n",
    "    print(error.info())\n",
    "\n",
    "    print(json.loads(error.read()))                 "
   ]
  },
  {
   "cell_type": "code",
   "execution_count": null,
   "metadata": {
    "collapsed": true
   },
   "outputs": [],
   "source": []
  }
 ],
 "metadata": {
  "kernelspec": {
   "display_name": "Python 2",
   "language": "python",
   "name": "python2"
  },
  "language_info": {
   "codemirror_mode": {
    "name": "ipython",
    "version": 2
   },
   "file_extension": ".py",
   "mimetype": "text/x-python",
   "name": "python",
   "nbconvert_exporter": "python",
   "pygments_lexer": "ipython2",
   "version": "2.7.13"
  }
 },
 "nbformat": 4,
 "nbformat_minor": 2
}
