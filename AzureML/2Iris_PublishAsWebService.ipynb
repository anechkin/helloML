{
 "cells": [
  {
   "cell_type": "code",
   "execution_count": 5,
   "metadata": {},
   "outputs": [
    {
     "name": "stdout",
     "output_type": "stream",
     "text": [
      "done\n"
     ]
    }
   ],
   "source": [
    "#refer to file myAzureML_DeployAsWebService_Iris\n",
    "#for successful implementation of this partial code\n",
    "\n",
    "#Publish as a web service\n",
    "from azureml import services\n",
    "\n",
    "@services.publish('da11a60ff80a492f95c93d623a4b59a0', '06iG71xZ4X2K2YHzmty2ygWO/AlGHG0qXB35hD9UzclKvyN8S5nTT1lch6hY9SY67eQnF9OZzNwxmKYOL0S8Qw==')\n",
    "@services.types(sep_l = float, sep_w = float, pet_l=float, pet_w=float)\n",
    "@services.returns(int) #0, or 1, or 2\n",
    "\n",
    "def predictIris(sep_l, sep_w, pet_l, pet_w):\n",
    "    inputArray = [sep_l, sep_w, pet_l, pet_w]\n",
    "    return clf.predict(inputArray)"
   ]
  },
  {
   "cell_type": "code",
   "execution_count": null,
   "metadata": {
    "collapsed": true
   },
   "outputs": [],
   "source": []
  }
 ],
 "metadata": {
  "kernelspec": {
   "display_name": "Python 2",
   "language": "python",
   "name": "python2"
  },
  "language_info": {
   "codemirror_mode": {
    "name": "ipython",
    "version": 2
   },
   "file_extension": ".py",
   "mimetype": "text/x-python",
   "name": "python",
   "nbconvert_exporter": "python",
   "pygments_lexer": "ipython2",
   "version": "2.7.13"
  }
 },
 "nbformat": 4,
 "nbformat_minor": 2
}
