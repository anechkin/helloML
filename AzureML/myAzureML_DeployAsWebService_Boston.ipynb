{
 "cells": [
  {
   "cell_type": "code",
   "execution_count": 11,
   "metadata": {
    "collapsed": true
   },
   "outputs": [],
   "source": [
    "#meta: based on Azure MLStudio example\n",
    "#Deployment+of+AzureML+Web+Services+from+Python+Notebooks.ipynb\n",
    "#reference:\n",
    "#https://gallery.cortanaintelligence.com/Notebook/Deployment-of-AzureML-Web-Services-from-Python-Notebooks-4\n",
    "#https://notebooks.azure.com/n/w76xlqWbN0M/notebooks/Deployment%20of%20AzureML%20Web%20Services%20from%20Python%20Notebooks.ipynb#"
   ]
  },
  {
   "cell_type": "markdown",
   "metadata": {},
   "source": [
    "## Introduction\n",
    "The [azureml python client library][liblink] makes it possible to deploy machine learning web services on Azure based on models developed in Python. This notebook reviews the typical way of deploying web services from AzureML Jupyter notebooks and associated pitfalls and limitations. While AzureML Jupyter notebook is used in the following example, the observations should hold for your locally installed Jupyter notebooks as well.\n",
    "\n",
    "The target audience should be familiar with the process for publishing Azure web service from Python notebooks. \n",
    "\n",
    "[liblink]: https://github.com/Azure/Azure-MachineLearning-ClientLibrary-Python"
   ]
  },
  {
   "cell_type": "markdown",
   "metadata": {},
   "source": [
    "## Means: Things can work properly\n",
    "We start by reviewing the situation where deploying web service to Azure is successful. The following section loads the Boston dataset which will be used to train models. "
   ]
  },
  {
   "cell_type": "code",
   "execution_count": 1,
   "metadata": {},
   "outputs": [
    {
     "name": "stdout",
     "output_type": "stream",
     "text": [
      "[[  6.32000000e-03   1.80000000e+01   2.31000000e+00   0.00000000e+00\n",
      "    5.38000000e-01   6.57500000e+00   6.52000000e+01   4.09000000e+00\n",
      "    1.00000000e+00   2.96000000e+02   1.53000000e+01   3.96900000e+02\n",
      "    4.98000000e+00]\n",
      " [  2.73100000e-02   0.00000000e+00   7.07000000e+00   0.00000000e+00\n",
      "    4.69000000e-01   6.42100000e+00   7.89000000e+01   4.96710000e+00\n",
      "    2.00000000e+00   2.42000000e+02   1.78000000e+01   3.96900000e+02\n",
      "    9.14000000e+00]\n",
      " [  2.72900000e-02   0.00000000e+00   7.07000000e+00   0.00000000e+00\n",
      "    4.69000000e-01   7.18500000e+00   6.11000000e+01   4.96710000e+00\n",
      "    2.00000000e+00   2.42000000e+02   1.78000000e+01   3.92830000e+02\n",
      "    4.03000000e+00]]\n",
      "[ 24.   21.6  34.7]\n",
      "['CRIM' 'ZN' 'INDUS' 'CHAS' 'NOX' 'RM' 'AGE' 'DIS' 'RAD' 'TAX' 'PTRATIO'\n",
      " 'B' 'LSTAT']\n"
     ]
    }
   ],
   "source": [
    "from sklearn.datasets import load_boston\n",
    "boston = load_boston()\n",
    "print(boston.data[0:3])\n",
    "print(boston.target[0:3])\n",
    "print(boston.feature_names)\n",
    "X = boston.data\n",
    "y = boston.target"
   ]
  },
  {
   "cell_type": "markdown",
   "metadata": {},
   "source": [
    "The following lines of code fit a linear regression model, return the R-squared and coefficients, and make prediction for the first observation. "
   ]
  },
  {
   "cell_type": "code",
   "execution_count": 2,
   "metadata": {},
   "outputs": [
    {
     "name": "stdout",
     "output_type": "stream",
     "text": [
      "The R-squared value is: 0.740607742865\n",
      "\n",
      "36.4911032804\n",
      "[ -1.07170557e-01   4.63952195e-02   2.08602395e-02   2.68856140e+00\n",
      "  -1.77957587e+01   3.80475246e+00   7.51061703e-04  -1.47575880e+00\n",
      "   3.05655038e-01  -1.23293463e-02  -9.53463555e-01   9.39251272e-03\n",
      "  -5.25466633e-01]\n",
      "[ 30.00821269]\n"
     ]
    },
    {
     "name": "stderr",
     "output_type": "stream",
     "text": [
      "C:\\Users\\chq-anyac.CHQ-ANYACH-L7\\Anaconda2\\lib\\site-packages\\sklearn\\utils\\validation.py:395: DeprecationWarning: Passing 1d arrays as data is deprecated in 0.17 and will raise ValueError in 0.19. Reshape your data either using X.reshape(-1, 1) if your data has a single feature or X.reshape(1, -1) if it contains a single sample.\n",
      "  DeprecationWarning)\n"
     ]
    }
   ],
   "source": [
    "from sklearn.linear_model import LinearRegression\n",
    "\n",
    "lm = LinearRegression()\n",
    "lm.fit(X, y)\n",
    "\n",
    "print(\"The R-squared value is: \" + str(lm.score(X, y)) + \"\\n\") # check R-squared\n",
    "print(lm.intercept_) # return the intercept\n",
    "print(lm.coef_) # return the coefficients\n",
    "print(lm.predict(X[0])) # make prediction for the first observation"
   ]
  },
  {
   "cell_type": "markdown",
   "metadata": {},
   "source": [
    "We can now deploy a web service based on the model developed above. You'll need to provide your workspace ID and authorization token."
   ]
  },
  {
   "cell_type": "code",
   "execution_count": 5,
   "metadata": {
    "collapsed": true
   },
   "outputs": [],
   "source": [
    "# extract workspace info\n",
    "from azureml import Workspace\n",
    "#ws = Workspace()\n",
    "workdspace_id = 'da11a60ff80a492f95c93d623a4b59a0' #ws.workspace_id\n",
    "authorization_token = '06iG71xZ4X2K2YHzmty2ygWO/AlGHG0qXB35hD9UzclKvyN8S5nTT1lch6hY9SY67eQnF9OZzNwxmKYOL0S8Qw==' # ws.authorization_token\n",
    "\n",
    "# set up web service\n",
    "from azureml import services\n",
    "@services.publish(workdspace_id, authorization_token)\n",
    "@services.types(crim=float, zn=float, indus=float, chas=float, nox=float, rm=float, age=float, \n",
    "                dis=float, rad=float, tax=float, ptratio=float, black=float, lstat=float)\n",
    "@services.returns(float)\n",
    "def demoservice(crim, zn, indus, chas, nox, rm, age, dis, rad, tax, ptratio, black, lstat):\n",
    "    # predict the label\n",
    "    feature_vector = [crim, zn, indus, chas, nox, rm, age, dis, rad, tax, ptratio, black, lstat]\n",
    "    return lm.predict(feature_vector)\n",
    "\n",
    "# save information about the web service\n",
    "service_url = demoservice.service.url \n",
    "api_key = demoservice.service.api_key\n",
    "help_url = demoservice.service.help_url\n",
    "service_id = demoservice.service.service_id"
   ]
  },
  {
   "cell_type": "markdown",
   "metadata": {},
   "source": [
    "We can quickly test the web service with the code below."
   ]
  },
  {
   "cell_type": "code",
   "execution_count": 10,
   "metadata": {
    "scrolled": true
   },
   "outputs": [
    {
     "name": "stdout",
     "output_type": "stream",
     "text": [
      "[ 30.00821269]\n",
      "[ 17.13108973]\n"
     ]
    },
    {
     "name": "stderr",
     "output_type": "stream",
     "text": [
      "C:\\Users\\chq-anyac.CHQ-ANYACH-L7\\Anaconda2\\lib\\site-packages\\sklearn\\utils\\validation.py:395: DeprecationWarning: Passing 1d arrays as data is deprecated in 0.17 and will raise ValueError in 0.19. Reshape your data either using X.reshape(-1, 1) if your data has a single feature or X.reshape(1, -1) if it contains a single sample.\n",
      "  DeprecationWarning)\n",
      "C:\\Users\\chq-anyac.CHQ-ANYACH-L7\\Anaconda2\\lib\\site-packages\\sklearn\\utils\\validation.py:395: DeprecationWarning: Passing 1d arrays as data is deprecated in 0.17 and will raise ValueError in 0.19. Reshape your data either using X.reshape(-1, 1) if your data has a single feature or X.reshape(1, -1) if it contains a single sample.\n",
      "  DeprecationWarning)\n"
     ]
    }
   ],
   "source": [
    "print(demoservice(0.00632, 18, 2.31, 0, 0.538, 6.575, 65.2, 4.09, 1, 296, 15.3, 396.9, 4.98))\n",
    "print(demoservice(1, 0, 1, 0, 1, 0, 1, 1, 0, 1, 0, 1, 0))"
   ]
  },
  {
   "cell_type": "markdown",
   "metadata": {},
   "source": [
    "The purpose of the following code is to wait a few seconds so that the web service is successfully desployed and ready for consumption."
   ]
  },
  {
   "cell_type": "code",
   "execution_count": 5,
   "metadata": {
    "collapsed": true
   },
   "outputs": [],
   "source": [
    "# wait \n",
    "import time\n",
    "time.sleep(10)"
   ]
  },
  {
   "cell_type": "markdown",
   "metadata": {},
   "source": [
    "The code below can be used to consume the web service. If you are consuming the web service from outside the current session, you'll need to save the service\\_url and and api\\_key information. For illustration purposes we'll be using default values of 0 for the predictor variables."
   ]
  },
  {
   "cell_type": "code",
   "execution_count": 7,
   "metadata": {},
   "outputs": [
    {
     "name": "stdout",
     "output_type": "stream",
     "text": [
      "{\"Results\":{\"output1\":{\"type\":\"table\",\"value\":{\"Values\":[[\"36.491103280362\"],[\"36.491103280362\"]]}},\"output2\":{\"type\":\"table\",\"value\":{\"Values\":[[\"data:text/plain,Execution OK\\r\\n\",null]]}}}}\n"
     ]
    }
   ],
   "source": [
    "import urllib2\n",
    "# If you are using Python 3+, import urllib instead of urllib2\n",
    "\n",
    "import json \n",
    "\n",
    "\n",
    "data =  {\n",
    "\n",
    "        \"Inputs\": {\n",
    "\n",
    "                \"input1\":\n",
    "                {\n",
    "                    \"ColumnNames\": [\"crim\", \"zn\", \"lstat\", \"age\", \"tax\", \"rad\", \"black\", \"chas\", \n",
    "                                    \"nox\", \"rm\", \"indus\", \"ptratio\", \"dis\"],\n",
    "                    \"Values\": [ [ \"0\", \"0\", \"0\", \"0\", \"0\", \"0\", \"0\", \"0\", \"0\", \"0\", \"0\", \"0\", \"0\" ], \n",
    "                               [ \"0\", \"0\", \"0\", \"0\", \"0\", \"0\", \"0\", \"0\", \"0\", \"0\", \"0\", \"0\", \"0\" ], ]\n",
    "                },        },\n",
    "            \"GlobalParameters\": {\n",
    "}\n",
    "    }\n",
    "\n",
    "body = str.encode(json.dumps(data))\n",
    "\n",
    "url = service_url\n",
    "api_key = api_key # Replace this with the API key for the web service\n",
    "headers = {'Content-Type':'application/json', 'Authorization':('Bearer '+ api_key)}\n",
    "\n",
    "req = urllib2.Request(url, body, headers) \n",
    "\n",
    "try:\n",
    "    response = urllib2.urlopen(req)\n",
    "\n",
    "    # If you are using Python 3+, replace urllib2 with urllib.request in the above code:\n",
    "    # req = urllib.request.Request(url, body, headers) \n",
    "    # response = urllib.request.urlopen(req)\n",
    "\n",
    "    result = response.read()\n",
    "    print(result) \n",
    "except urllib2.HTTPError, error:\n",
    "    print(\"The request failed with status code: \" + str(error.code))\n",
    "\n",
    "    # Print the headers - they include the requert ID and the timestamp, which are useful for debugging the failure\n",
    "    print(error.info())\n",
    "\n",
    "    print(json.loads(error.read()))                 "
   ]
  },
  {
   "cell_type": "markdown",
   "metadata": {},
   "source": [
    "## Pitfalls: The deployment was successful after some tweaking"
   ]
  },
  {
   "cell_type": "markdown",
   "metadata": {},
   "source": [
    "Sometimes the deployed web service may not run properly. For example, if we fit a model using sklearn version 0.14.1,  the Azure ML web service returns an error message saying that \"The operation could not be completed within the permitted time.\" The cause of this error is that Azure ML Studio server has sklearn version 0.15.1.  \n",
    "\n",
    "Azure ML notebook allows installing specific versions of packages. To illustrate the kind of error message you might get, we force install sklearn version 0.14.1. The Azure ML notebook needs to be restarted (from the top menu select Kernel \\-\\> Restart) after installing the updated package so that it can be imported successfully."
   ]
  },
  {
   "cell_type": "code",
   "execution_count": 7,
   "metadata": {
    "scrolled": false
   },
   "outputs": [
    {
     "name": "stdout",
     "output_type": "stream",
     "text": [
      "Fetching package metadata: ....\n",
      "Solving package specifications: .....................\n",
      "Package plan for installation in environment /home/nbuser/env:\n",
      "\n",
      "The following packages will be DOWNGRADED:\n",
      "\n",
      "    scikit-learn: 0.15.1-np18py27_0 --> 0.14.1-np18py27_1\n",
      "\n",
      "[      COMPLETE      ]|###################################################| 100%\n",
      "Extracting packages ...\n",
      "[      COMPLETE      ]|###################################################| 100%\n",
      "Unlinking packages ...\n",
      "[      COMPLETE      ]|###################################################| 100%\n",
      "Linking packages ...\n",
      "[      COMPLETE      ]|###################################################| 100%\n"
     ]
    }
   ],
   "source": [
    "!conda install -f scikit-learn=0.14.1 --yes"
   ]
  },
  {
   "cell_type": "markdown",
   "metadata": {},
   "source": [
    "Make sure to restart the kernal after installing version 0.14.1 so that it can be correctly loaded. This can be done by selecting Kernel \\-\\> Restart from the top menu."
   ]
  },
  {
   "cell_type": "code",
   "execution_count": 8,
   "metadata": {
    "collapsed": true
   },
   "outputs": [],
   "source": [
    "# this is a reminder to restart your kernel by clicking on Kernel -> Restart from the menu\n",
    "import time\n",
    "time.sleep(60)"
   ]
  },
  {
   "cell_type": "markdown",
   "metadata": {},
   "source": [
    "The following code checks the version information for sklearn installed on *Azure ML notebook* server. You can find out version information on *Azure ML Studio* by running the same code within the \"Execute Python Script\" module in an experiment. "
   ]
  },
  {
   "cell_type": "code",
   "execution_count": 1,
   "metadata": {},
   "outputs": [
    {
     "name": "stdout",
     "output_type": "stream",
     "text": [
      "The scikit-learn version is 0.14.1.\n"
     ]
    }
   ],
   "source": [
    "# check the notebook version on AzureML notebook\n",
    "import sklearn\n",
    "print('The scikit-learn version is {}.'.format(sklearn.__version__))"
   ]
  },
  {
   "cell_type": "markdown",
   "metadata": {},
   "source": [
    "Load the data after restarting the notebook server. "
   ]
  },
  {
   "cell_type": "code",
   "execution_count": 2,
   "metadata": {},
   "outputs": [
    {
     "name": "stdout",
     "output_type": "stream",
     "text": [
      "[[  6.32000000e-03   1.80000000e+01   2.31000000e+00   0.00000000e+00\n",
      "    5.38000000e-01   6.57500000e+00   6.52000000e+01   4.09000000e+00\n",
      "    1.00000000e+00   2.96000000e+02   1.53000000e+01   3.96900000e+02\n",
      "    4.98000000e+00]\n",
      " [  2.73100000e-02   0.00000000e+00   7.07000000e+00   0.00000000e+00\n",
      "    4.69000000e-01   6.42100000e+00   7.89000000e+01   4.96710000e+00\n",
      "    2.00000000e+00   2.42000000e+02   1.78000000e+01   3.96900000e+02\n",
      "    9.14000000e+00]\n",
      " [  2.72900000e-02   0.00000000e+00   7.07000000e+00   0.00000000e+00\n",
      "    4.69000000e-01   7.18500000e+00   6.11000000e+01   4.96710000e+00\n",
      "    2.00000000e+00   2.42000000e+02   1.78000000e+01   3.92830000e+02\n",
      "    4.03000000e+00]]\n",
      "[ 24.   21.6  34.7]\n",
      "['CRIM' 'ZN' 'INDUS' 'CHAS' 'NOX' 'RM' 'AGE' 'DIS' 'RAD' 'TAX' 'PTRATIO'\n",
      " 'B' 'LSTAT' 'MEDV']\n"
     ]
    }
   ],
   "source": [
    "from sklearn.datasets import load_boston\n",
    "boston = load_boston()\n",
    "print(boston.data[0:3])\n",
    "print(boston.target[0:3])\n",
    "print(boston.feature_names)\n",
    "X = boston.data\n",
    "y = boston.target"
   ]
  },
  {
   "cell_type": "markdown",
   "metadata": {},
   "source": [
    "Next we fit a GBM modeling using sklearn."
   ]
  },
  {
   "cell_type": "code",
   "execution_count": 3,
   "metadata": {},
   "outputs": [
    {
     "name": "stdout",
     "output_type": "stream",
     "text": [
      "[ 24.50446592]\n"
     ]
    }
   ],
   "source": [
    "from sklearn.ensemble import GradientBoostingRegressor\n",
    "\n",
    "# fit model with the best set of parameter values\n",
    "params = {'n_estimators': 500, 'max_depth': 2, 'min_samples_split': 4,\n",
    "          'learning_rate': 0.1, 'loss': 'ls', 'random_state': 0}\n",
    "\n",
    "gbm = GradientBoostingRegressor(**params)\n",
    "\n",
    "gbm.fit(X, y)\n",
    "newX_test = [0.00632, 18, 2.31, 0, 0.538, 6.575, 65.2, 4.09, 1, 296, 15.3, 396.9, 4.98]\n",
    "predicted_test = gbm.predict(newX_test)\n",
    "print predicted_test"
   ]
  },
  {
   "cell_type": "markdown",
   "metadata": {},
   "source": [
    "Then we deploy a web service for the fitted GBM model."
   ]
  },
  {
   "cell_type": "code",
   "execution_count": 4,
   "metadata": {
    "collapsed": true,
    "scrolled": true
   },
   "outputs": [],
   "source": [
    "# extract workspace info\n",
    "from azureml import Workspace\n",
    "ws = Workspace()\n",
    "workdspace_id = ws.workspace_id\n",
    "authorization_token = ws.authorization_token\n",
    "\n",
    "# set up web service\n",
    "from azureml import services\n",
    "@services.publish(workdspace_id, authorization_token)\n",
    "@services.types(crim=float, zn=float, indus=float, chas=float, nox=float, rm=float, \n",
    "                age=float, dis=float, rad=float, tax=float, ptratio=float, black=float, lstat=float)\n",
    "@services.returns(float)\n",
    "def mygbmservice(crim, zn, indus, chas, nox, rm, age, dis, rad, tax, ptratio, black, lstat):\n",
    "    # predict the label\n",
    "    feature_vector = [crim, zn, indus, chas, nox, rm, age, dis, rad, tax, ptratio, black, lstat]\n",
    "    return gbm.predict(feature_vector)\n",
    "\n",
    "# save information about the web service\n",
    "service_url_gbm = mygbmservice.service.url \n",
    "api_key_gbm = mygbmservice.service.api_key\n",
    "help_url_gbm = mygbmservice.service.help_url\n",
    "service_id_gbm = mygbmservice.service.service_id"
   ]
  },
  {
   "cell_type": "code",
   "execution_count": 5,
   "metadata": {
    "scrolled": true
   },
   "outputs": [
    {
     "name": "stdout",
     "output_type": "stream",
     "text": [
      "[ 24.50446592]\n",
      "[ 55.20376548]\n"
     ]
    }
   ],
   "source": [
    "print(mygbmservice(0.00632, 18, 2.31, 0, 0.538, 6.575, 65.2, 4.09, 1, 296, 15.3, 396.9, 4.98))\n",
    "print(mygbmservice(0, 0, 0, 0, 0, 0, 0, 0, 0, 0, 0, 0, 0))"
   ]
  },
  {
   "cell_type": "markdown",
   "metadata": {},
   "source": [
    "The purpose of the following code is to wait a few seconds so that the web service is successfully desployed and ready for consumption."
   ]
  },
  {
   "cell_type": "code",
   "execution_count": 6,
   "metadata": {
    "collapsed": true
   },
   "outputs": [],
   "source": [
    "# wait\n",
    "import time\n",
    "time.sleep(10)"
   ]
  },
  {
   "cell_type": "markdown",
   "metadata": {},
   "source": [
    "When consuming the web service with the following code, an error message \"The operation could not be completed within the permitted time\" is returned."
   ]
  },
  {
   "cell_type": "code",
   "execution_count": 7,
   "metadata": {
    "scrolled": false
   },
   "outputs": [
    {
     "name": "stdout",
     "output_type": "stream",
     "text": [
      "The request failed with status code: 408\n",
      "Content-Length: 195\r\n",
      "Content-Type: application/json; charset=utf-8\r\n",
      "ETag: \"f656df98aafd4d61a8c3c8b797ffc37d\"\r\n",
      "Server: Microsoft-HTTPAPI/2.0\r\n",
      "x-ms-request-id: 3d17fa0a-bedd-45d8-b754-396543959b0b\r\n",
      "Date: Tue, 02 Feb 2016 18:19:01 GMT\r\n",
      "Connection: close\r\n",
      "\n",
      "{u'error': {u'message': u'The operation could not be completed within the permitted time.', u'code': u'RequestTimeout', u'details': [{u'message': u'Execution request timed out.', u'code': u'ScoreRequestTimeout'}]}}\n"
     ]
    }
   ],
   "source": [
    "import urllib2\n",
    "# If you are using Python 3+, import urllib instead of urllib2\n",
    "\n",
    "import json \n",
    "\n",
    "\n",
    "data =  {\n",
    "\n",
    "        \"Inputs\": {\n",
    "\n",
    "                \"input1\":\n",
    "                {\n",
    "                    \"ColumnNames\": [\"crim\", \"zn\", \"lstat\", \"age\", \"tax\", \"rad\", \"black\", \"chas\", \n",
    "                                    \"nox\", \"rm\", \"indus\", \"ptratio\", \"dis\"],\n",
    "                    \"Values\": [ [ \"0\", \"0\", \"0\", \"0\", \"0\", \"0\", \"0\", \"0\", \"0\", \"0\", \"0\", \"0\", \"0\" ], \n",
    "                               [ \"0\", \"0\", \"0\", \"0\", \"0\", \"0\", \"0\", \"0\", \"0\", \"0\", \"0\", \"0\", \"0\" ], ]\n",
    "                },        },\n",
    "            \"GlobalParameters\": {\n",
    "}\n",
    "    }\n",
    "\n",
    "body = str.encode(json.dumps(data))\n",
    "\n",
    "url = service_url_gbm\n",
    "api_key = api_key_gbm # Replace this with the API key for the web service\n",
    "headers = {'Content-Type':'application/json', 'Authorization':('Bearer '+ api_key)}\n",
    "\n",
    "req = urllib2.Request(url, body, headers) \n",
    "\n",
    "try:\n",
    "    response = urllib2.urlopen(req)\n",
    "\n",
    "    # If you are using Python 3+, replace urllib2 with urllib.request in the above code:\n",
    "    # req = urllib.request.Request(url, body, headers) \n",
    "    # response = urllib.request.urlopen(req)\n",
    "\n",
    "    result = response.read()\n",
    "    print(result) \n",
    "except urllib2.HTTPError, error:\n",
    "    print(\"The request failed with status code: \" + str(error.code))\n",
    "\n",
    "    # Print the headers - they include the requert ID and the timestamp, which are useful for debugging the failure\n",
    "    print(error.info())\n",
    "\n",
    "    print(json.loads(error.read()))                 "
   ]
  },
  {
   "cell_type": "markdown",
   "metadata": {},
   "source": [
    "This error does not show up if sklearn version 0.15.1 is used for fitting the GBM model. To test this, you can repeat the steps in this Pitfalss section but use sklearn version 0.15.1 instead of 0.14.1. \n",
    "\n",
    "Reinstall sklearn version 0.15.1 with the following code."
   ]
  },
  {
   "cell_type": "code",
   "execution_count": null,
   "metadata": {
    "collapsed": true
   },
   "outputs": [],
   "source": [
    "!conda install -f scikit-learn=0.15.1 --yes"
   ]
  },
  {
   "cell_type": "markdown",
   "metadata": {
    "collapsed": true
   },
   "source": [
    "## Limitations: There is a limit to deploying web services\n",
    "This section demonstrates that, when the a model is developed using a package that's not installed on Azure ML Studio, the model can not be deployed successfully. In the following demonstration, the theano package will be used to fit a logistic regression model. "
   ]
  },
  {
   "cell_type": "code",
   "execution_count": 8,
   "metadata": {
    "scrolled": true
   },
   "outputs": [
    {
     "name": "stdout",
     "output_type": "stream",
     "text": [
      "Initial model:\n",
      "[ 0.52278778 -1.6593385  -0.41610035 -0.13135624  1.94761656]\n",
      "0.0\n",
      "Final model:\n",
      "[ 0.07791366 -0.24007289 -0.08133462  0.02700206  0.32708043]\n",
      "-0.0697299624957\n"
     ]
    }
   ],
   "source": [
    "import numpy\n",
    "import theano\n",
    "import theano.tensor as T\n",
    "\n",
    "rng = numpy.random\n",
    "\n",
    "N = 400\n",
    "feats = 5\n",
    "D = (rng.randn(N, feats), rng.randint(size=N, low=0, high=2))\n",
    "training_steps = 100\n",
    "\n",
    "# Declare Theano symbolic variables\n",
    "x = T.matrix(\"x\")\n",
    "y = T.vector(\"y\")\n",
    "w = theano.shared(rng.randn(feats), name=\"w\")\n",
    "b = theano.shared(0., name=\"b\")\n",
    "print(\"Initial model:\")\n",
    "print(w.get_value())\n",
    "print(b.get_value())\n",
    "\n",
    "# Construct Theano expression graph\n",
    "p_1 = 1 / (1 + T.exp(-T.dot(x, w) - b))   # Probability that target = 1\n",
    "prediction = p_1                     # The prediction thresholded\n",
    "xent = -y * T.log(p_1) - (1-y) * T.log(1-p_1) # Cross-entropy loss function\n",
    "cost = xent.mean() + 0.01 * (w ** 2).sum()# The cost to minimize\n",
    "gw, gb = T.grad(cost, [w, b])             # Compute the gradient of the cost\n",
    "                                          # (we shall return to this in a\n",
    "                                          # following section of this tutorial)\n",
    "\n",
    "# Compile\n",
    "train = theano.function(\n",
    "          inputs=[x,y],\n",
    "          outputs=[prediction, xent],\n",
    "          updates=((w, w - 0.1 * gw), (b, b - 0.1 * gb)))\n",
    "predict = theano.function(inputs=[x], outputs=prediction)\n",
    "\n",
    "# Train\n",
    "for i in range(training_steps):\n",
    "    pred, err = train(D[0], D[1])\n",
    "\n",
    "# print results\n",
    "print(\"Final model:\")\n",
    "print(w.get_value())\n",
    "print(b.get_value())"
   ]
  },
  {
   "cell_type": "markdown",
   "metadata": {},
   "source": [
    "Here we test using the prediction function. "
   ]
  },
  {
   "cell_type": "code",
   "execution_count": 9,
   "metadata": {
    "scrolled": true
   },
   "outputs": [
    {
     "name": "stdout",
     "output_type": "stream",
     "text": [
      "[ 0.48257457]\n"
     ]
    }
   ],
   "source": [
    "import numpy as np\n",
    "print(predict(np.asarray([0,0,0,0,0]).reshape(1,5)))"
   ]
  },
  {
   "cell_type": "code",
   "execution_count": 10,
   "metadata": {
    "collapsed": true
   },
   "outputs": [],
   "source": [
    "# extract workspace info\n",
    "from azureml import Workspace\n",
    "ws = Workspace()\n",
    "workdspace_id = ws.workspace_id\n",
    "authorization_token = ws.authorization_token\n",
    "\n",
    "# set up web service\n",
    "from azureml import services\n",
    "@services.publish(workdspace_id, authorization_token)\n",
    "@services.types(a=float, b=float, c=float, d=float, e=float)\n",
    "@services.returns(float)\n",
    "def theanoservice(a, b, c, d, e):\n",
    "    feature_vector = [a, b, c, d, e]\n",
    "    feature_array = np.asarray(feature_vector)\n",
    "    feature_matrix = feature_array.reshape(1, len(feature_array))\n",
    "    return predict(feature_matrix)\n",
    "    \n",
    "# save information about the web service\n",
    "service_url_theanoservice = theanoservice.service.url \n",
    "api_key_theanoservice = theanoservice.service.api_key\n",
    "help_url_theanoservice = theanoservice.service.help_url\n",
    "service_id_theanoservice = theanoservice.service.service_id"
   ]
  },
  {
   "cell_type": "markdown",
   "metadata": {},
   "source": [
    "The service can be consumed within the current session:"
   ]
  },
  {
   "cell_type": "code",
   "execution_count": 11,
   "metadata": {},
   "outputs": [
    {
     "data": {
      "text/plain": [
       "array([ 0.48257457])"
      ]
     },
     "execution_count": 11,
     "metadata": {},
     "output_type": "execute_result"
    }
   ],
   "source": [
    "theanoservice(0, 0, 0, 0, 0)"
   ]
  },
  {
   "cell_type": "markdown",
   "metadata": {},
   "source": [
    "However, when we use the following code to consume the web service, we receive error message \"No module named theano.compile.function_module.\""
   ]
  },
  {
   "cell_type": "code",
   "execution_count": 12,
   "metadata": {
    "scrolled": true
   },
   "outputs": [
    {
     "name": "stdout",
     "output_type": "stream",
     "text": [
      "The request failed with status code: 400\n",
      "Content-Length: 31793\r\n",
      "Content-Type: application/json; charset=utf-8\r\n",
      "ETag: \"0fc107536266440589d375a4e8aac4ac\"\r\n",
      "Server: Microsoft-HTTPAPI/2.0\r\n",
      "x-ms-request-id: f22e478e-8198-4b02-886c-2dbdece844ac\r\n",
      "Date: Tue, 02 Feb 2016 18:28:10 GMT\r\n",
      "Connection: close\r\n",
      "\n",
      "{u'error': {u'message': u'Module execution encountered an error.', u'code': u'ModuleExecutionError', u'details': [{u'message': u'Error 0085: The following error occurred during script evaluation, please view the output log for more information:\\r\\n---------- Start of error message from Python interpreter ----------\\r\\ndata:text/plain,Caught exception while executing function: Traceback (most recent call last):\\n  File \"\\\\server\\\\InvokePy.py\", line 95, in executeScript\\n    mod = safe_module_import(script)\\n  File \"\\\\server\\\\InvokePy.py\", line 62, in safe_module_import\\n    return import_module(h)\\n  File \"C:\\\\pyhome\\\\lib\\\\importlib\\\\__init__.py\", line 37, in import_module\\n    __import__(name)\\n  File \"\\\\temp\\\\-126755394.py\", line 1128, in <module>\\n    __user_function = _deserialize_func(base64.decodestring(\\'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\\'), globals())\\n  File \"\\\\temp\\\\-126755394.py\", line 1105, in _deserialize_func\\n    codeArgs, funcArgs, updatedGlobals = pickle.loads(data)\\nImportError: No module named theano.compile.function_module\\n\\r\\n\\r\\n---------- End of error message from Python  interpreter  ----------', u'code': u'85', u'target': u'Execute Python Script RRS'}]}}\n"
     ]
    }
   ],
   "source": [
    "import urllib2\n",
    "# If you are using Python 3+, import urllib instead of urllib2\n",
    "\n",
    "import json \n",
    "\n",
    "\n",
    "data =  {\n",
    "\n",
    "        \"Inputs\": {\n",
    "\n",
    "                \"input1\":\n",
    "                {\n",
    "                    \"ColumnNames\": [\"a\", \"c\", \"b\", \"e\", \"d\"],\n",
    "                    \"Values\": [ [ \"0\", \"0\", \"0\", \"0\", \"0\" ], [ \"0\", \"0\", \"0\", \"0\", \"0\" ], ]\n",
    "                },        },\n",
    "            \"GlobalParameters\": {\n",
    "}\n",
    "    }\n",
    "\n",
    "body = str.encode(json.dumps(data))\n",
    "\n",
    "url = service_url_theanoservice\n",
    "api_key = api_key_theanoservice # Replace this with the API key for the web service\n",
    "headers = {'Content-Type':'application/json', 'Authorization':('Bearer '+ api_key)}\n",
    "\n",
    "req = urllib2.Request(url, body, headers) \n",
    "\n",
    "try:\n",
    "    response = urllib2.urlopen(req)\n",
    "\n",
    "    # If you are using Python 3+, replace urllib2 with urllib.request in the above code:\n",
    "    # req = urllib.request.Request(url, body, headers) \n",
    "    # response = urllib.request.urlopen(req)\n",
    "\n",
    "    result = response.read()\n",
    "    print(result) \n",
    "except urllib2.HTTPError, error:\n",
    "    print(\"The request failed with status code: \" + str(error.code))\n",
    "\n",
    "    # Print the headers - they include the requert ID and the timestamp, which are useful for debugging the failure\n",
    "    print(error.info())\n",
    "\n",
    "    print(json.loads(error.read()))                 "
   ]
  },
  {
   "cell_type": "markdown",
   "metadata": {},
   "source": [
    "## Additional Notes\n",
    "I also tried deploying machine learning web services on Azure from [Apache Spark for Azure HDInsight][sparklink]. While models developed with [sklearn][sklearnlink] were deployed successfully, those based on [pyspark.ml][pysparkmllink] could not be deployed. \n",
    "\n",
    "The theano package was also tested in AzureML Studio experiments by following the instructions at [Theano + Lasagne on Azure Machine Learning][theanolasagnelink]. I tested whether web service for a model developed with this package need to re-run the experiment for each call: It seems to be the case. When an experiment can be finished within a short period (less than 1 minute), the web service call is OK. But when the same experiment can be finished with a longer period (15 minutes in my example) due to more iterations, the web service call is not successful with error message saying \"The operation could not be completed within the permitted time.\"\n",
    "\n",
    "[sparklink]: https://azure.microsoft.com/en-us/services/hdinsight/apache-spark/\n",
    "[sklearnlink]: http://scikit-learn.org/stable/\n",
    "[pysparkmllink]: https://spark.apache.org/docs/1.5.2/api/python/pyspark.ml.html\n",
    "[theanolasagnelink]: http://davidsdev.blogspot.com/2015/09/theano-lasagne-on-azure-machine-learning.html"
   ]
  },
  {
   "cell_type": "markdown",
   "metadata": {},
   "source": [
    "---  \n",
    "Created by a Microsoft Employee.  \n",
    "Copyright (C) Microsoft. All Rights Reserved."
   ]
  }
 ],
 "metadata": {
  "kernelspec": {
   "display_name": "Python 2",
   "language": "python",
   "name": "python2"
  },
  "language_info": {
   "codemirror_mode": {
    "name": "ipython",
    "version": 2
   },
   "file_extension": ".py",
   "mimetype": "text/x-python",
   "name": "python",
   "nbconvert_exporter": "python",
   "pygments_lexer": "ipython2",
   "version": "2.7.13"
  }
 },
 "nbformat": 4,
 "nbformat_minor": 1
}
