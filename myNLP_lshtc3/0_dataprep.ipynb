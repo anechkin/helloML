{
 "cells": [
  {
   "cell_type": "code",
   "execution_count": 1,
   "metadata": {
    "gather": {
     "logged": 1618527248731
    },
    "jupyter": {
     "source_hidden": false
    }
   },
   "outputs": [],
   "source": [
    "#meta 4/21/2021 myClassify (multiclass) for LSHTC - Data prep\n",
    "# task: classify text (multiclass) \n",
    "# input: my-input/lshtc3_wikipedia_med_df_train_multilabel.pkl\n",
    "\n",
    "#task: Multi-category text classification - supervised\n",
    "#based on aml_0_dataprep.ipynb\n",
    "#      4/15/2021 DATA PREP \n",
    "#      LSHTC3 reduced ds with less labels\n",
    "#      Important reset index - fast.ai dataloaders don't like a gap in index\n",
    "#      to avoid -> TypeError: 'float' object is not iterable\n",
    "\n",
    "#history\n",
    "#4/21/2021 INPUT DF W/ MULTI-LABELS\n",
    "#      multi-labels per document\n",
    "#      requires pandas 1.1.0+ (myTrainBox env nlp_lshtc)"
   ]
  },
  {
   "cell_type": "code",
   "execution_count": 2,
   "metadata": {
    "gather": {
     "logged": 1618527248911
    },
    "jupyter": {
     "outputs_hidden": false,
     "source_hidden": false
    },
    "nteract": {
     "transient": {
      "deleting": false
     }
    }
   },
   "outputs": [],
   "source": [
    "%matplotlib inline\n",
    "#import time as time #to track performance time\n",
    "import pandas as pd\n",
    "import numpy as np\n",
    "import matplotlib.pyplot as plt\n",
    "plt.rcParams[\"figure.figsize\"] = (10,6)\n",
    "from joblib import load, dump\n"
   ]
  },
  {
   "cell_type": "markdown",
   "metadata": {
    "nteract": {
     "transient": {
      "deleting": false
     }
    }
   },
   "source": [
    "# LSHTC: Data Prep for Classifying Text\n",
    "\n",
    "## 0. Load Data\n",
    "input: a prepared pickle with less labels (~)."
   ]
  },
  {
   "cell_type": "code",
   "execution_count": 3,
   "metadata": {
    "gather": {
     "logged": 1618527251988
    },
    "jupyter": {
     "outputs_hidden": false,
     "source_hidden": false
    },
    "nteract": {
     "transient": {
      "deleting": false
     }
    }
   },
   "outputs": [
    {
     "name": "stdout",
     "output_type": "stream",
     "text": [
      "(127043, 141)\n",
      "Index(['labels', 'text', 'label_10088', 'label_10307', 'label_10590',\n",
      "       'label_13139', 'label_14661', 'label_14902', 'label_16954',\n",
      "       'label_21411',\n",
      "       ...\n",
      "       'label_389174', 'label_390846', 'label_395447', 'label_403289',\n",
      "       'label_417577', 'label_427995', 'label_428198', 'label_429649',\n",
      "       'label_437070', 'label_443106'],\n",
      "      dtype='object', length=141)\n"
     ]
    },
    {
     "data": {
      "text/html": [
       "<div>\n",
       "<style scoped>\n",
       "    .dataframe tbody tr th:only-of-type {\n",
       "        vertical-align: middle;\n",
       "    }\n",
       "\n",
       "    .dataframe tbody tr th {\n",
       "        vertical-align: top;\n",
       "    }\n",
       "\n",
       "    .dataframe thead th {\n",
       "        text-align: right;\n",
       "    }\n",
       "</style>\n",
       "<table border=\"1\" class=\"dataframe\">\n",
       "  <thead>\n",
       "    <tr style=\"text-align: right;\">\n",
       "      <th></th>\n",
       "      <th>labels</th>\n",
       "      <th>text</th>\n",
       "      <th>label_10088</th>\n",
       "      <th>label_10307</th>\n",
       "      <th>label_10590</th>\n",
       "      <th>label_13139</th>\n",
       "      <th>label_14661</th>\n",
       "      <th>label_14902</th>\n",
       "      <th>label_16954</th>\n",
       "      <th>label_21411</th>\n",
       "      <th>...</th>\n",
       "      <th>label_389174</th>\n",
       "      <th>label_390846</th>\n",
       "      <th>label_395447</th>\n",
       "      <th>label_403289</th>\n",
       "      <th>label_417577</th>\n",
       "      <th>label_427995</th>\n",
       "      <th>label_428198</th>\n",
       "      <th>label_429649</th>\n",
       "      <th>label_437070</th>\n",
       "      <th>label_443106</th>\n",
       "    </tr>\n",
       "    <tr>\n",
       "      <th>docno</th>\n",
       "      <th></th>\n",
       "      <th></th>\n",
       "      <th></th>\n",
       "      <th></th>\n",
       "      <th></th>\n",
       "      <th></th>\n",
       "      <th></th>\n",
       "      <th></th>\n",
       "      <th></th>\n",
       "      <th></th>\n",
       "      <th></th>\n",
       "      <th></th>\n",
       "      <th></th>\n",
       "      <th></th>\n",
       "      <th></th>\n",
       "      <th></th>\n",
       "      <th></th>\n",
       "      <th></th>\n",
       "      <th></th>\n",
       "      <th></th>\n",
       "      <th></th>\n",
       "    </tr>\n",
       "  </thead>\n",
       "  <tbody>\n",
       "    <tr>\n",
       "      <th>2</th>\n",
       "      <td>[130762]</td>\n",
       "      <td>Alain Connes (born 1 April 1947) is a French m...</td>\n",
       "      <td>0</td>\n",
       "      <td>0</td>\n",
       "      <td>0</td>\n",
       "      <td>0</td>\n",
       "      <td>0</td>\n",
       "      <td>0</td>\n",
       "      <td>0</td>\n",
       "      <td>0</td>\n",
       "      <td>...</td>\n",
       "      <td>0</td>\n",
       "      <td>0</td>\n",
       "      <td>0</td>\n",
       "      <td>0</td>\n",
       "      <td>0</td>\n",
       "      <td>0</td>\n",
       "      <td>0</td>\n",
       "      <td>0</td>\n",
       "      <td>0</td>\n",
       "      <td>0</td>\n",
       "    </tr>\n",
       "    <tr>\n",
       "      <th>3</th>\n",
       "      <td>[352578, 395447, 27512, 157031]</td>\n",
       "      <td>Ayn Rand (born Alisa Zinov'yevna Rosenbaum; Fe...</td>\n",
       "      <td>0</td>\n",
       "      <td>0</td>\n",
       "      <td>0</td>\n",
       "      <td>0</td>\n",
       "      <td>0</td>\n",
       "      <td>0</td>\n",
       "      <td>0</td>\n",
       "      <td>0</td>\n",
       "      <td>...</td>\n",
       "      <td>0</td>\n",
       "      <td>0</td>\n",
       "      <td>1</td>\n",
       "      <td>0</td>\n",
       "      <td>0</td>\n",
       "      <td>0</td>\n",
       "      <td>0</td>\n",
       "      <td>0</td>\n",
       "      <td>0</td>\n",
       "      <td>0</td>\n",
       "    </tr>\n",
       "    <tr>\n",
       "      <th>4</th>\n",
       "      <td>[390846, 395447, 276114]</td>\n",
       "      <td>Allan Dwan (April 3, 1885 – December 28, 1981)...</td>\n",
       "      <td>0</td>\n",
       "      <td>0</td>\n",
       "      <td>0</td>\n",
       "      <td>0</td>\n",
       "      <td>0</td>\n",
       "      <td>0</td>\n",
       "      <td>0</td>\n",
       "      <td>0</td>\n",
       "      <td>...</td>\n",
       "      <td>0</td>\n",
       "      <td>1</td>\n",
       "      <td>1</td>\n",
       "      <td>0</td>\n",
       "      <td>0</td>\n",
       "      <td>0</td>\n",
       "      <td>0</td>\n",
       "      <td>0</td>\n",
       "      <td>0</td>\n",
       "      <td>0</td>\n",
       "    </tr>\n",
       "    <tr>\n",
       "      <th>5</th>\n",
       "      <td>[14661, 71999, 292915, 188756, 131368]</td>\n",
       "      <td>Andre Kirk Agassi (born April 29, 1970) is an ...</td>\n",
       "      <td>0</td>\n",
       "      <td>0</td>\n",
       "      <td>0</td>\n",
       "      <td>0</td>\n",
       "      <td>1</td>\n",
       "      <td>0</td>\n",
       "      <td>0</td>\n",
       "      <td>0</td>\n",
       "      <td>...</td>\n",
       "      <td>0</td>\n",
       "      <td>0</td>\n",
       "      <td>0</td>\n",
       "      <td>0</td>\n",
       "      <td>0</td>\n",
       "      <td>0</td>\n",
       "      <td>0</td>\n",
       "      <td>0</td>\n",
       "      <td>0</td>\n",
       "      <td>0</td>\n",
       "    </tr>\n",
       "    <tr>\n",
       "      <th>6</th>\n",
       "      <td>[106615, 228092]</td>\n",
       "      <td>Aldous Leonard Huxley (26 July 1894 \\u2013 22 ...</td>\n",
       "      <td>0</td>\n",
       "      <td>0</td>\n",
       "      <td>0</td>\n",
       "      <td>0</td>\n",
       "      <td>0</td>\n",
       "      <td>0</td>\n",
       "      <td>0</td>\n",
       "      <td>0</td>\n",
       "      <td>...</td>\n",
       "      <td>0</td>\n",
       "      <td>0</td>\n",
       "      <td>0</td>\n",
       "      <td>0</td>\n",
       "      <td>0</td>\n",
       "      <td>0</td>\n",
       "      <td>0</td>\n",
       "      <td>0</td>\n",
       "      <td>0</td>\n",
       "      <td>0</td>\n",
       "    </tr>\n",
       "  </tbody>\n",
       "</table>\n",
       "<p>5 rows × 141 columns</p>\n",
       "</div>"
      ],
      "text/plain": [
       "                                       labels  \\\n",
       "docno                                           \n",
       "2                                    [130762]   \n",
       "3             [352578, 395447, 27512, 157031]   \n",
       "4                    [390846, 395447, 276114]   \n",
       "5      [14661, 71999, 292915, 188756, 131368]   \n",
       "6                            [106615, 228092]   \n",
       "\n",
       "                                                    text  label_10088  \\\n",
       "docno                                                                   \n",
       "2      Alain Connes (born 1 April 1947) is a French m...            0   \n",
       "3      Ayn Rand (born Alisa Zinov'yevna Rosenbaum; Fe...            0   \n",
       "4      Allan Dwan (April 3, 1885 – December 28, 1981)...            0   \n",
       "5      Andre Kirk Agassi (born April 29, 1970) is an ...            0   \n",
       "6      Aldous Leonard Huxley (26 July 1894 \\u2013 22 ...            0   \n",
       "\n",
       "       label_10307  label_10590  label_13139  label_14661  label_14902  \\\n",
       "docno                                                                    \n",
       "2                0            0            0            0            0   \n",
       "3                0            0            0            0            0   \n",
       "4                0            0            0            0            0   \n",
       "5                0            0            0            1            0   \n",
       "6                0            0            0            0            0   \n",
       "\n",
       "       label_16954  label_21411  ...  label_389174  label_390846  \\\n",
       "docno                            ...                               \n",
       "2                0            0  ...             0             0   \n",
       "3                0            0  ...             0             0   \n",
       "4                0            0  ...             0             1   \n",
       "5                0            0  ...             0             0   \n",
       "6                0            0  ...             0             0   \n",
       "\n",
       "       label_395447  label_403289  label_417577  label_427995  label_428198  \\\n",
       "docno                                                                         \n",
       "2                 0             0             0             0             0   \n",
       "3                 1             0             0             0             0   \n",
       "4                 1             0             0             0             0   \n",
       "5                 0             0             0             0             0   \n",
       "6                 0             0             0             0             0   \n",
       "\n",
       "       label_429649  label_437070  label_443106  \n",
       "docno                                            \n",
       "2                 0             0             0  \n",
       "3                 0             0             0  \n",
       "4                 0             0             0  \n",
       "5                 0             0             0  \n",
       "6                 0             0             0  \n",
       "\n",
       "[5 rows x 141 columns]"
      ]
     },
     "execution_count": 3,
     "metadata": {},
     "output_type": "execute_result"
    }
   ],
   "source": [
    "df = load('data/lshtc3_wikipedia_med_df_train_multilabel.pkl') \n",
    "print(df.shape)\n",
    "print(df.columns)\n",
    "df.head()\n"
   ]
  },
  {
   "cell_type": "markdown",
   "metadata": {
    "nteract": {
     "transient": {
      "deleting": false
     }
    }
   },
   "source": [
    "## 1. Data Prep\n",
    "Tidy data - pick relevant columns"
   ]
  },
  {
   "cell_type": "code",
   "execution_count": 4,
   "metadata": {},
   "outputs": [
    {
     "data": {
      "text/plain": [
       "Index(['label_10088', 'label_10307', 'label_10590', 'label_13139',\n",
       "       'label_14661', 'label_14902', 'label_16954', 'label_21411',\n",
       "       'label_23214', 'label_27512',\n",
       "       ...\n",
       "       'label_389174', 'label_390846', 'label_395447', 'label_403289',\n",
       "       'label_417577', 'label_427995', 'label_428198', 'label_429649',\n",
       "       'label_437070', 'label_443106'],\n",
       "      dtype='object', length=139)"
      ]
     },
     "execution_count": 4,
     "metadata": {},
     "output_type": "execute_result"
    }
   ],
   "source": [
    "# find only target columns\n",
    "y_cols = df.columns[df.columns.str.startswith('label_')]\n",
    "y_cols"
   ]
  },
  {
   "cell_type": "code",
   "execution_count": 5,
   "metadata": {
    "gather": {
     "logged": 1618527252080
    },
    "jupyter": {
     "outputs_hidden": false,
     "source_hidden": false
    },
    "nteract": {
     "transient": {
      "deleting": false
     }
    }
   },
   "outputs": [
    {
     "name": "stdout",
     "output_type": "stream",
     "text": [
      "(127043, 140)\n"
     ]
    },
    {
     "data": {
      "text/plain": [
       "text              object\n",
       "label_10088     category\n",
       "label_10307     category\n",
       "label_10590     category\n",
       "label_13139     category\n",
       "                  ...   \n",
       "label_427995    category\n",
       "label_428198    category\n",
       "label_429649    category\n",
       "label_437070    category\n",
       "label_443106    category\n",
       "Length: 140, dtype: object"
      ]
     },
     "execution_count": 5,
     "metadata": {},
     "output_type": "execute_result"
    }
   ],
   "source": [
    "df_tidy = df.drop('labels', axis = 1)\n",
    "df_tidy[y_cols] = df_tidy[y_cols].astype('category')\n",
    "print(df_tidy.shape)\n",
    "df_tidy.dtypes\n"
   ]
  },
  {
   "cell_type": "markdown",
   "metadata": {
    "nteract": {
     "transient": {
      "deleting": false
     }
    }
   },
   "source": [
    "ML Expected Format: input features X(matrix) and target variable y(also matrix).  \n",
    "X - column 'text'  \n",
    "y - columns with 'label_' "
   ]
  },
  {
   "cell_type": "code",
   "execution_count": 6,
   "metadata": {
    "gather": {
     "logged": 1618527254250
    },
    "jupyter": {
     "outputs_hidden": false,
     "source_hidden": false
    },
    "nteract": {
     "transient": {
      "deleting": false
     }
    },
    "scrolled": true
   },
   "outputs": [
    {
     "data": {
      "text/html": [
       "<div>\n",
       "<style scoped>\n",
       "    .dataframe tbody tr th:only-of-type {\n",
       "        vertical-align: middle;\n",
       "    }\n",
       "\n",
       "    .dataframe tbody tr th {\n",
       "        vertical-align: top;\n",
       "    }\n",
       "\n",
       "    .dataframe thead th {\n",
       "        text-align: right;\n",
       "    }\n",
       "</style>\n",
       "<table border=\"1\" class=\"dataframe\">\n",
       "  <thead>\n",
       "    <tr style=\"text-align: right;\">\n",
       "      <th></th>\n",
       "      <th>text</th>\n",
       "      <th>label_10088</th>\n",
       "      <th>label_10307</th>\n",
       "      <th>label_10590</th>\n",
       "      <th>label_13139</th>\n",
       "      <th>label_14661</th>\n",
       "      <th>label_14902</th>\n",
       "      <th>label_16954</th>\n",
       "      <th>label_21411</th>\n",
       "      <th>label_23214</th>\n",
       "      <th>...</th>\n",
       "      <th>label_389174</th>\n",
       "      <th>label_390846</th>\n",
       "      <th>label_395447</th>\n",
       "      <th>label_403289</th>\n",
       "      <th>label_417577</th>\n",
       "      <th>label_427995</th>\n",
       "      <th>label_428198</th>\n",
       "      <th>label_429649</th>\n",
       "      <th>label_437070</th>\n",
       "      <th>label_443106</th>\n",
       "    </tr>\n",
       "    <tr>\n",
       "      <th>docno</th>\n",
       "      <th></th>\n",
       "      <th></th>\n",
       "      <th></th>\n",
       "      <th></th>\n",
       "      <th></th>\n",
       "      <th></th>\n",
       "      <th></th>\n",
       "      <th></th>\n",
       "      <th></th>\n",
       "      <th></th>\n",
       "      <th></th>\n",
       "      <th></th>\n",
       "      <th></th>\n",
       "      <th></th>\n",
       "      <th></th>\n",
       "      <th></th>\n",
       "      <th></th>\n",
       "      <th></th>\n",
       "      <th></th>\n",
       "      <th></th>\n",
       "      <th></th>\n",
       "    </tr>\n",
       "  </thead>\n",
       "  <tbody>\n",
       "    <tr>\n",
       "      <th>2</th>\n",
       "      <td>Alain Connes (born 1 April 1947) is a French m...</td>\n",
       "      <td>0</td>\n",
       "      <td>0</td>\n",
       "      <td>0</td>\n",
       "      <td>0</td>\n",
       "      <td>0</td>\n",
       "      <td>0</td>\n",
       "      <td>0</td>\n",
       "      <td>0</td>\n",
       "      <td>0</td>\n",
       "      <td>...</td>\n",
       "      <td>0</td>\n",
       "      <td>0</td>\n",
       "      <td>0</td>\n",
       "      <td>0</td>\n",
       "      <td>0</td>\n",
       "      <td>0</td>\n",
       "      <td>0</td>\n",
       "      <td>0</td>\n",
       "      <td>0</td>\n",
       "      <td>0</td>\n",
       "    </tr>\n",
       "    <tr>\n",
       "      <th>3</th>\n",
       "      <td>Ayn Rand (born Alisa Zinov'yevna Rosenbaum; Fe...</td>\n",
       "      <td>0</td>\n",
       "      <td>0</td>\n",
       "      <td>0</td>\n",
       "      <td>0</td>\n",
       "      <td>0</td>\n",
       "      <td>0</td>\n",
       "      <td>0</td>\n",
       "      <td>0</td>\n",
       "      <td>0</td>\n",
       "      <td>...</td>\n",
       "      <td>0</td>\n",
       "      <td>0</td>\n",
       "      <td>1</td>\n",
       "      <td>0</td>\n",
       "      <td>0</td>\n",
       "      <td>0</td>\n",
       "      <td>0</td>\n",
       "      <td>0</td>\n",
       "      <td>0</td>\n",
       "      <td>0</td>\n",
       "    </tr>\n",
       "    <tr>\n",
       "      <th>4</th>\n",
       "      <td>Allan Dwan (April 3, 1885 – December 28, 1981)...</td>\n",
       "      <td>0</td>\n",
       "      <td>0</td>\n",
       "      <td>0</td>\n",
       "      <td>0</td>\n",
       "      <td>0</td>\n",
       "      <td>0</td>\n",
       "      <td>0</td>\n",
       "      <td>0</td>\n",
       "      <td>0</td>\n",
       "      <td>...</td>\n",
       "      <td>0</td>\n",
       "      <td>1</td>\n",
       "      <td>1</td>\n",
       "      <td>0</td>\n",
       "      <td>0</td>\n",
       "      <td>0</td>\n",
       "      <td>0</td>\n",
       "      <td>0</td>\n",
       "      <td>0</td>\n",
       "      <td>0</td>\n",
       "    </tr>\n",
       "    <tr>\n",
       "      <th>5</th>\n",
       "      <td>Andre Kirk Agassi (born April 29, 1970) is an ...</td>\n",
       "      <td>0</td>\n",
       "      <td>0</td>\n",
       "      <td>0</td>\n",
       "      <td>0</td>\n",
       "      <td>1</td>\n",
       "      <td>0</td>\n",
       "      <td>0</td>\n",
       "      <td>0</td>\n",
       "      <td>0</td>\n",
       "      <td>...</td>\n",
       "      <td>0</td>\n",
       "      <td>0</td>\n",
       "      <td>0</td>\n",
       "      <td>0</td>\n",
       "      <td>0</td>\n",
       "      <td>0</td>\n",
       "      <td>0</td>\n",
       "      <td>0</td>\n",
       "      <td>0</td>\n",
       "      <td>0</td>\n",
       "    </tr>\n",
       "    <tr>\n",
       "      <th>6</th>\n",
       "      <td>Aldous Leonard Huxley (26 July 1894 \\u2013 22 ...</td>\n",
       "      <td>0</td>\n",
       "      <td>0</td>\n",
       "      <td>0</td>\n",
       "      <td>0</td>\n",
       "      <td>0</td>\n",
       "      <td>0</td>\n",
       "      <td>0</td>\n",
       "      <td>0</td>\n",
       "      <td>0</td>\n",
       "      <td>...</td>\n",
       "      <td>0</td>\n",
       "      <td>0</td>\n",
       "      <td>0</td>\n",
       "      <td>0</td>\n",
       "      <td>0</td>\n",
       "      <td>0</td>\n",
       "      <td>0</td>\n",
       "      <td>0</td>\n",
       "      <td>0</td>\n",
       "      <td>0</td>\n",
       "    </tr>\n",
       "  </tbody>\n",
       "</table>\n",
       "<p>5 rows × 140 columns</p>\n",
       "</div>"
      ],
      "text/plain": [
       "                                                    text label_10088  \\\n",
       "docno                                                                  \n",
       "2      Alain Connes (born 1 April 1947) is a French m...           0   \n",
       "3      Ayn Rand (born Alisa Zinov'yevna Rosenbaum; Fe...           0   \n",
       "4      Allan Dwan (April 3, 1885 – December 28, 1981)...           0   \n",
       "5      Andre Kirk Agassi (born April 29, 1970) is an ...           0   \n",
       "6      Aldous Leonard Huxley (26 July 1894 \\u2013 22 ...           0   \n",
       "\n",
       "      label_10307 label_10590 label_13139 label_14661 label_14902 label_16954  \\\n",
       "docno                                                                           \n",
       "2               0           0           0           0           0           0   \n",
       "3               0           0           0           0           0           0   \n",
       "4               0           0           0           0           0           0   \n",
       "5               0           0           0           1           0           0   \n",
       "6               0           0           0           0           0           0   \n",
       "\n",
       "      label_21411 label_23214  ... label_389174 label_390846 label_395447  \\\n",
       "docno                          ...                                          \n",
       "2               0           0  ...            0            0            0   \n",
       "3               0           0  ...            0            0            1   \n",
       "4               0           0  ...            0            1            1   \n",
       "5               0           0  ...            0            0            0   \n",
       "6               0           0  ...            0            0            0   \n",
       "\n",
       "      label_403289 label_417577 label_427995 label_428198 label_429649  \\\n",
       "docno                                                                    \n",
       "2                0            0            0            0            0   \n",
       "3                0            0            0            0            0   \n",
       "4                0            0            0            0            0   \n",
       "5                0            0            0            0            0   \n",
       "6                0            0            0            0            0   \n",
       "\n",
       "      label_437070 label_443106  \n",
       "docno                            \n",
       "2                0            0  \n",
       "3                0            0  \n",
       "4                0            0  \n",
       "5                0            0  \n",
       "6                0            0  \n",
       "\n",
       "[5 rows x 140 columns]"
      ]
     },
     "execution_count": 6,
     "metadata": {},
     "output_type": "execute_result"
    }
   ],
   "source": [
    "#preview ready dataset\n",
    "df_tidy.head()"
   ]
  },
  {
   "cell_type": "code",
   "execution_count": 7,
   "metadata": {
    "gather": {
     "logged": 1618527254308
    },
    "jupyter": {
     "outputs_hidden": false,
     "source_hidden": false
    },
    "nteract": {
     "transient": {
      "deleting": false
     }
    },
    "scrolled": true
   },
   "outputs": [
    {
     "data": {
      "text/html": [
       "<div>\n",
       "<style scoped>\n",
       "    .dataframe tbody tr th:only-of-type {\n",
       "        vertical-align: middle;\n",
       "    }\n",
       "\n",
       "    .dataframe tbody tr th {\n",
       "        vertical-align: top;\n",
       "    }\n",
       "\n",
       "    .dataframe thead th {\n",
       "        text-align: right;\n",
       "    }\n",
       "</style>\n",
       "<table border=\"1\" class=\"dataframe\">\n",
       "  <thead>\n",
       "    <tr style=\"text-align: right;\">\n",
       "      <th></th>\n",
       "      <th>text</th>\n",
       "      <th>label_10088</th>\n",
       "      <th>label_10307</th>\n",
       "      <th>label_10590</th>\n",
       "      <th>label_13139</th>\n",
       "      <th>label_14661</th>\n",
       "      <th>label_14902</th>\n",
       "      <th>label_16954</th>\n",
       "      <th>label_21411</th>\n",
       "      <th>label_23214</th>\n",
       "      <th>...</th>\n",
       "      <th>label_389174</th>\n",
       "      <th>label_390846</th>\n",
       "      <th>label_395447</th>\n",
       "      <th>label_403289</th>\n",
       "      <th>label_417577</th>\n",
       "      <th>label_427995</th>\n",
       "      <th>label_428198</th>\n",
       "      <th>label_429649</th>\n",
       "      <th>label_437070</th>\n",
       "      <th>label_443106</th>\n",
       "    </tr>\n",
       "  </thead>\n",
       "  <tbody>\n",
       "    <tr>\n",
       "      <th>0</th>\n",
       "      <td>Alain Connes (born 1 April 1947) is a French m...</td>\n",
       "      <td>0</td>\n",
       "      <td>0</td>\n",
       "      <td>0</td>\n",
       "      <td>0</td>\n",
       "      <td>0</td>\n",
       "      <td>0</td>\n",
       "      <td>0</td>\n",
       "      <td>0</td>\n",
       "      <td>0</td>\n",
       "      <td>...</td>\n",
       "      <td>0</td>\n",
       "      <td>0</td>\n",
       "      <td>0</td>\n",
       "      <td>0</td>\n",
       "      <td>0</td>\n",
       "      <td>0</td>\n",
       "      <td>0</td>\n",
       "      <td>0</td>\n",
       "      <td>0</td>\n",
       "      <td>0</td>\n",
       "    </tr>\n",
       "    <tr>\n",
       "      <th>1</th>\n",
       "      <td>Ayn Rand (born Alisa Zinov'yevna Rosenbaum; Fe...</td>\n",
       "      <td>0</td>\n",
       "      <td>0</td>\n",
       "      <td>0</td>\n",
       "      <td>0</td>\n",
       "      <td>0</td>\n",
       "      <td>0</td>\n",
       "      <td>0</td>\n",
       "      <td>0</td>\n",
       "      <td>0</td>\n",
       "      <td>...</td>\n",
       "      <td>0</td>\n",
       "      <td>0</td>\n",
       "      <td>1</td>\n",
       "      <td>0</td>\n",
       "      <td>0</td>\n",
       "      <td>0</td>\n",
       "      <td>0</td>\n",
       "      <td>0</td>\n",
       "      <td>0</td>\n",
       "      <td>0</td>\n",
       "    </tr>\n",
       "  </tbody>\n",
       "</table>\n",
       "<p>2 rows × 140 columns</p>\n",
       "</div>"
      ],
      "text/plain": [
       "                                                text label_10088 label_10307  \\\n",
       "0  Alain Connes (born 1 April 1947) is a French m...           0           0   \n",
       "1  Ayn Rand (born Alisa Zinov'yevna Rosenbaum; Fe...           0           0   \n",
       "\n",
       "  label_10590 label_13139 label_14661 label_14902 label_16954 label_21411  \\\n",
       "0           0           0           0           0           0           0   \n",
       "1           0           0           0           0           0           0   \n",
       "\n",
       "  label_23214  ... label_389174 label_390846 label_395447 label_403289  \\\n",
       "0           0  ...            0            0            0            0   \n",
       "1           0  ...            0            0            1            0   \n",
       "\n",
       "  label_417577 label_427995 label_428198 label_429649 label_437070  \\\n",
       "0            0            0            0            0            0   \n",
       "1            0            0            0            0            0   \n",
       "\n",
       "  label_443106  \n",
       "0            0  \n",
       "1            0  \n",
       "\n",
       "[2 rows x 140 columns]"
      ]
     },
     "execution_count": 7,
     "metadata": {},
     "output_type": "execute_result"
    }
   ],
   "source": [
    "#reset index - fast.ai dataloaders don't like a gap in index\n",
    "#to avoid -> TypeError: 'float' object is not iterable\n",
    "#$note: if need to preserve 'docno', set drop = False\n",
    "df_tidy.reset_index(drop=True, inplace=True)\n",
    "df_tidy.head(2)"
   ]
  },
  {
   "cell_type": "code",
   "execution_count": 8,
   "metadata": {
    "gather": {
     "logged": 1618527256184
    },
    "jupyter": {
     "outputs_hidden": false,
     "source_hidden": false
    },
    "nteract": {
     "transient": {
      "deleting": false
     }
    }
   },
   "outputs": [
    {
     "data": {
      "text/plain": [
       "['output/lshtc3_wikipedia_med_df_train_tidy_multilabel.pkl']"
      ]
     },
     "execution_count": 8,
     "metadata": {},
     "output_type": "execute_result"
    }
   ],
   "source": [
    "#save file prepped for sentiment analysis\n",
    "dump(df_tidy, 'output/lshtc3_wikipedia_med_df_train_tidy_multilabel.pkl')"
   ]
  },
  {
   "cell_type": "code",
   "execution_count": 9,
   "metadata": {
    "jupyter": {
     "outputs_hidden": false,
     "source_hidden": false
    },
    "nteract": {
     "transient": {
      "deleting": false
     }
    }
   },
   "outputs": [
    {
     "ename": "NameError",
     "evalue": "name 'mystop' is not defined",
     "output_type": "error",
     "traceback": [
      "\u001b[1;31m---------------------------------------------------------------------------\u001b[0m",
      "\u001b[1;31mNameError\u001b[0m                                 Traceback (most recent call last)",
      "\u001b[1;32m<ipython-input-9-255d8eb4da7e>\u001b[0m in \u001b[0;36m<module>\u001b[1;34m\u001b[0m\n\u001b[1;32m----> 1\u001b[1;33m \u001b[0mmystop\u001b[0m\u001b[1;33m\u001b[0m\u001b[1;33m\u001b[0m\u001b[0m\n\u001b[0m",
      "\u001b[1;31mNameError\u001b[0m: name 'mystop' is not defined"
     ]
    }
   ],
   "source": [
    "mystop"
   ]
  },
  {
   "cell_type": "markdown",
   "metadata": {
    "nteract": {
     "transient": {
      "deleting": false
     }
    }
   },
   "source": [
    "##### Xtra"
   ]
  },
  {
   "cell_type": "code",
   "execution_count": null,
   "metadata": {
    "gather": {
     "logged": 1607970938661
    },
    "jupyter": {
     "outputs_hidden": false,
     "source_hidden": false
    },
    "nteract": {
     "transient": {
      "deleting": false
     }
    }
   },
   "outputs": [],
   "source": [
    "#clean df\n",
    "df_tidy.rename_axis(index = None, inplace=True)\n",
    "df_tidy.head(2)"
   ]
  }
 ],
 "metadata": {
  "hide_input": false,
  "kernel_info": {
   "name": "fastai"
  },
  "kernelspec": {
   "display_name": "nlp_lshtc",
   "language": "python",
   "name": "nlp_lshtc"
  },
  "language_info": {
   "codemirror_mode": {
    "name": "ipython",
    "version": 3
   },
   "file_extension": ".py",
   "mimetype": "text/x-python",
   "name": "python",
   "nbconvert_exporter": "python",
   "pygments_lexer": "ipython3",
   "version": "3.7.6"
  },
  "microsoft": {
   "host": {
    "AzureML": {
     "notebookHasBeenCompleted": true
    }
   }
  },
  "nteract": {
   "version": "nteract-front-end@1.0.0"
  },
  "toc": {
   "base_numbering": 1,
   "nav_menu": {},
   "number_sections": true,
   "sideBar": true,
   "skip_h1_title": false,
   "title_cell": "Table of Contents",
   "title_sidebar": "Contents",
   "toc_cell": false,
   "toc_position": {},
   "toc_section_display": true,
   "toc_window_display": false
  }
 },
 "nbformat": 4,
 "nbformat_minor": 2
}
