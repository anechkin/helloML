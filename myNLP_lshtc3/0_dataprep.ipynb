{
 "cells": [
  {
   "cell_type": "code",
   "execution_count": 1,
   "metadata": {
    "gather": {
     "logged": 1618527248731
    },
    "jupyter": {
     "source_hidden": false
    }
   },
   "outputs": [],
   "source": [
    "#meta 4/21/2021 myClassify (multiclass) for LSHTC - Data prep\n",
    "# task: classify text (multiclass) \n",
    "# input: my-input/lshtc3_wikipedia_med_df_train_multilabel.pkl\n",
    "\n",
    "#task: Multi-category text classification - supervised\n",
    "#based on aml_0_dataprep.ipynb\n",
    "#      4/15/2021 DATA PREP \n",
    "#      LSHTC3 reduced ds with less labels\n",
    "#      Important reset index - fast.ai dataloaders don't like a gap in index\n",
    "#      to avoid -> TypeError: 'float' object is not iterable\n",
    "\n",
    "#history\n",
    "#4/21/2021 INPUT DF W/ MULTI-LABELS\n",
    "#      multi-labels per document\n",
    "#      requires pandas 1.1.0+ (myTrainBox env nlp_lshtc)\n",
    "\n",
    "#4/23/2021 REDO INPUT DF W/ MULTI-LABELS\n",
    "#      Imploded df subset w/ multi-labels\n",
    "#      Reverted to one field `labels` with strings separated by space (per book Ch.6)\n",
    "#      Subset Imploded df -> implode labels from each record into docs with multi labels per doc\n",
    "#      127043 imploded documents x 3 fields docno, text, labels\n",
    "#      (1 rec = 1 doc -> many labels)\n",
    "#      confirmed: 139 unique labels"
   ]
  },
  {
   "cell_type": "code",
   "execution_count": 2,
   "metadata": {
    "gather": {
     "logged": 1618527248911
    },
    "jupyter": {
     "outputs_hidden": false,
     "source_hidden": false
    },
    "nteract": {
     "transient": {
      "deleting": false
     }
    }
   },
   "outputs": [],
   "source": [
    "%matplotlib inline\n",
    "#import time as time #to track performance time\n",
    "import pandas as pd\n",
    "import numpy as np\n",
    "import matplotlib.pyplot as plt\n",
    "plt.rcParams[\"figure.figsize\"] = (10,6)\n",
    "from joblib import load, dump\n"
   ]
  },
  {
   "cell_type": "markdown",
   "metadata": {
    "nteract": {
     "transient": {
      "deleting": false
     }
    }
   },
   "source": [
    "# LSHTC: Data Prep for Classifying Text\n",
    "\n",
    "## 0. Load Data\n",
    "input: a prepared pickle with less labels (~)."
   ]
  },
  {
   "cell_type": "code",
   "execution_count": 4,
   "metadata": {
    "gather": {
     "logged": 1618527251988
    },
    "jupyter": {
     "outputs_hidden": false,
     "source_hidden": false
    },
    "nteract": {
     "transient": {
      "deleting": false
     }
    }
   },
   "outputs": [
    {
     "name": "stdout",
     "output_type": "stream",
     "text": [
      "(127043, 3)\n",
      "Index(['docno', 'text', 'labels'], dtype='object')\n"
     ]
    },
    {
     "data": {
      "text/html": [
       "<div>\n",
       "<style scoped>\n",
       "    .dataframe tbody tr th:only-of-type {\n",
       "        vertical-align: middle;\n",
       "    }\n",
       "\n",
       "    .dataframe tbody tr th {\n",
       "        vertical-align: top;\n",
       "    }\n",
       "\n",
       "    .dataframe thead th {\n",
       "        text-align: right;\n",
       "    }\n",
       "</style>\n",
       "<table border=\"1\" class=\"dataframe\">\n",
       "  <thead>\n",
       "    <tr style=\"text-align: right;\">\n",
       "      <th></th>\n",
       "      <th>docno</th>\n",
       "      <th>text</th>\n",
       "      <th>labels</th>\n",
       "    </tr>\n",
       "  </thead>\n",
       "  <tbody>\n",
       "    <tr>\n",
       "      <th>3</th>\n",
       "      <td>2</td>\n",
       "      <td>Alain Connes (born 1 April 1947) is a French m...</td>\n",
       "      <td>130762</td>\n",
       "    </tr>\n",
       "    <tr>\n",
       "      <th>4</th>\n",
       "      <td>3</td>\n",
       "      <td>Ayn Rand (born Alisa Zinov'yevna Rosenbaum; Fe...</td>\n",
       "      <td>352578 395447 27512</td>\n",
       "    </tr>\n",
       "    <tr>\n",
       "      <th>8</th>\n",
       "      <td>4</td>\n",
       "      <td>Allan Dwan (April 3, 1885 – December 28, 1981)...</td>\n",
       "      <td>390846 395447</td>\n",
       "    </tr>\n",
       "    <tr>\n",
       "      <th>11</th>\n",
       "      <td>5</td>\n",
       "      <td>Andre Kirk Agassi (born April 29, 1970) is an ...</td>\n",
       "      <td>14661</td>\n",
       "    </tr>\n",
       "    <tr>\n",
       "      <th>16</th>\n",
       "      <td>6</td>\n",
       "      <td>Aldous Leonard Huxley (26 July 1894 \\u2013 22 ...</td>\n",
       "      <td>106615</td>\n",
       "    </tr>\n",
       "  </tbody>\n",
       "</table>\n",
       "</div>"
      ],
      "text/plain": [
       "   docno                                               text  \\\n",
       "3      2  Alain Connes (born 1 April 1947) is a French m...   \n",
       "4      3  Ayn Rand (born Alisa Zinov'yevna Rosenbaum; Fe...   \n",
       "8      4  Allan Dwan (April 3, 1885 – December 28, 1981)...   \n",
       "11     5  Andre Kirk Agassi (born April 29, 1970) is an ...   \n",
       "16     6  Aldous Leonard Huxley (26 July 1894 \\u2013 22 ...   \n",
       "\n",
       "                 labels  \n",
       "3                130762  \n",
       "4   352578 395447 27512  \n",
       "8         390846 395447  \n",
       "11                14661  \n",
       "16               106615  "
      ]
     },
     "execution_count": 4,
     "metadata": {},
     "output_type": "execute_result"
    }
   ],
   "source": [
    "df = load('data/lshtc3_wikipedia_med_df_train_sub_multilabel.pkl') \n",
    "print(df.shape)\n",
    "print(df.columns)\n",
    "df.head()\n"
   ]
  },
  {
   "cell_type": "markdown",
   "metadata": {
    "nteract": {
     "transient": {
      "deleting": false
     }
    }
   },
   "source": [
    "## 1. Data Prep\n",
    "Tidy data - pick relevant columns"
   ]
  },
  {
   "cell_type": "code",
   "execution_count": 5,
   "metadata": {},
   "outputs": [
    {
     "data": {
      "text/plain": [
       "text      object\n",
       "labels    object\n",
       "dtype: object"
      ]
     },
     "execution_count": 5,
     "metadata": {},
     "output_type": "execute_result"
    }
   ],
   "source": [
    "df_tidy = df[['text', 'labels']].copy()\n",
    "#df_tidy['labels'] = df_tidy['labels'].astype('category')\n",
    "df_tidy.dtypes"
   ]
  },
  {
   "cell_type": "markdown",
   "metadata": {
    "nteract": {
     "transient": {
      "deleting": false
     }
    }
   },
   "source": [
    "ML Expected Format: input features X(matrix) and target variable y(also matrix).  \n",
    "X - column 'text'  \n",
    "y - columns with 'label_' "
   ]
  },
  {
   "cell_type": "code",
   "execution_count": 6,
   "metadata": {
    "gather": {
     "logged": 1618527254250
    },
    "jupyter": {
     "outputs_hidden": false,
     "source_hidden": false
    },
    "nteract": {
     "transient": {
      "deleting": false
     }
    },
    "scrolled": true
   },
   "outputs": [
    {
     "data": {
      "text/html": [
       "<div>\n",
       "<style scoped>\n",
       "    .dataframe tbody tr th:only-of-type {\n",
       "        vertical-align: middle;\n",
       "    }\n",
       "\n",
       "    .dataframe tbody tr th {\n",
       "        vertical-align: top;\n",
       "    }\n",
       "\n",
       "    .dataframe thead th {\n",
       "        text-align: right;\n",
       "    }\n",
       "</style>\n",
       "<table border=\"1\" class=\"dataframe\">\n",
       "  <thead>\n",
       "    <tr style=\"text-align: right;\">\n",
       "      <th></th>\n",
       "      <th>text</th>\n",
       "      <th>labels</th>\n",
       "    </tr>\n",
       "  </thead>\n",
       "  <tbody>\n",
       "    <tr>\n",
       "      <th>3</th>\n",
       "      <td>Alain Connes (born 1 April 1947) is a French m...</td>\n",
       "      <td>130762</td>\n",
       "    </tr>\n",
       "    <tr>\n",
       "      <th>4</th>\n",
       "      <td>Ayn Rand (born Alisa Zinov'yevna Rosenbaum; Fe...</td>\n",
       "      <td>352578 395447 27512</td>\n",
       "    </tr>\n",
       "    <tr>\n",
       "      <th>8</th>\n",
       "      <td>Allan Dwan (April 3, 1885 – December 28, 1981)...</td>\n",
       "      <td>390846 395447</td>\n",
       "    </tr>\n",
       "    <tr>\n",
       "      <th>11</th>\n",
       "      <td>Andre Kirk Agassi (born April 29, 1970) is an ...</td>\n",
       "      <td>14661</td>\n",
       "    </tr>\n",
       "    <tr>\n",
       "      <th>16</th>\n",
       "      <td>Aldous Leonard Huxley (26 July 1894 \\u2013 22 ...</td>\n",
       "      <td>106615</td>\n",
       "    </tr>\n",
       "  </tbody>\n",
       "</table>\n",
       "</div>"
      ],
      "text/plain": [
       "                                                 text               labels\n",
       "3   Alain Connes (born 1 April 1947) is a French m...               130762\n",
       "4   Ayn Rand (born Alisa Zinov'yevna Rosenbaum; Fe...  352578 395447 27512\n",
       "8   Allan Dwan (April 3, 1885 – December 28, 1981)...        390846 395447\n",
       "11  Andre Kirk Agassi (born April 29, 1970) is an ...                14661\n",
       "16  Aldous Leonard Huxley (26 July 1894 \\u2013 22 ...               106615"
      ]
     },
     "execution_count": 6,
     "metadata": {},
     "output_type": "execute_result"
    }
   ],
   "source": [
    "#preview ready dataset\n",
    "df_tidy.head()"
   ]
  },
  {
   "cell_type": "code",
   "execution_count": 7,
   "metadata": {
    "gather": {
     "logged": 1618527254308
    },
    "jupyter": {
     "outputs_hidden": false,
     "source_hidden": false
    },
    "nteract": {
     "transient": {
      "deleting": false
     }
    },
    "scrolled": true
   },
   "outputs": [
    {
     "data": {
      "text/html": [
       "<div>\n",
       "<style scoped>\n",
       "    .dataframe tbody tr th:only-of-type {\n",
       "        vertical-align: middle;\n",
       "    }\n",
       "\n",
       "    .dataframe tbody tr th {\n",
       "        vertical-align: top;\n",
       "    }\n",
       "\n",
       "    .dataframe thead th {\n",
       "        text-align: right;\n",
       "    }\n",
       "</style>\n",
       "<table border=\"1\" class=\"dataframe\">\n",
       "  <thead>\n",
       "    <tr style=\"text-align: right;\">\n",
       "      <th></th>\n",
       "      <th>text</th>\n",
       "      <th>labels</th>\n",
       "    </tr>\n",
       "  </thead>\n",
       "  <tbody>\n",
       "    <tr>\n",
       "      <th>0</th>\n",
       "      <td>Alain Connes (born 1 April 1947) is a French m...</td>\n",
       "      <td>130762</td>\n",
       "    </tr>\n",
       "    <tr>\n",
       "      <th>1</th>\n",
       "      <td>Ayn Rand (born Alisa Zinov'yevna Rosenbaum; Fe...</td>\n",
       "      <td>352578 395447 27512</td>\n",
       "    </tr>\n",
       "  </tbody>\n",
       "</table>\n",
       "</div>"
      ],
      "text/plain": [
       "                                                text               labels\n",
       "0  Alain Connes (born 1 April 1947) is a French m...               130762\n",
       "1  Ayn Rand (born Alisa Zinov'yevna Rosenbaum; Fe...  352578 395447 27512"
      ]
     },
     "execution_count": 7,
     "metadata": {},
     "output_type": "execute_result"
    }
   ],
   "source": [
    "#reset index - fast.ai dataloaders don't like a gap in index\n",
    "#to avoid -> TypeError: 'float' object is not iterable\n",
    "#$note: if need to preserve 'docno', set drop = False\n",
    "df_tidy.reset_index(drop=True, inplace=True)\n",
    "df_tidy.head(2)\n"
   ]
  },
  {
   "cell_type": "code",
   "execution_count": 8,
   "metadata": {
    "gather": {
     "logged": 1618527256184
    },
    "jupyter": {
     "outputs_hidden": false,
     "source_hidden": false
    },
    "nteract": {
     "transient": {
      "deleting": false
     }
    }
   },
   "outputs": [
    {
     "data": {
      "text/plain": [
       "['output/lshtc3_wikipedia_med_df_train_sub_multilabel_tidy.pkl']"
      ]
     },
     "execution_count": 8,
     "metadata": {},
     "output_type": "execute_result"
    }
   ],
   "source": [
    "#save file prepped for sentiment analysis\n",
    "dump(df_tidy, 'output/lshtc3_wikipedia_med_df_train_sub_multilabel_tidy.pkl')"
   ]
  },
  {
   "cell_type": "code",
   "execution_count": null,
   "metadata": {
    "jupyter": {
     "outputs_hidden": false,
     "source_hidden": false
    },
    "nteract": {
     "transient": {
      "deleting": false
     }
    }
   },
   "outputs": [],
   "source": [
    "mystop"
   ]
  },
  {
   "cell_type": "markdown",
   "metadata": {
    "nteract": {
     "transient": {
      "deleting": false
     }
    }
   },
   "source": [
    "##### Xtra"
   ]
  },
  {
   "cell_type": "code",
   "execution_count": null,
   "metadata": {
    "gather": {
     "logged": 1607970938661
    },
    "jupyter": {
     "outputs_hidden": false,
     "source_hidden": false
    },
    "nteract": {
     "transient": {
      "deleting": false
     }
    }
   },
   "outputs": [],
   "source": [
    "#clean df\n",
    "df_tidy.rename_axis(index = None, inplace=True)\n",
    "df_tidy.head(2)"
   ]
  }
 ],
 "metadata": {
  "hide_input": false,
  "kernel_info": {
   "name": "fastai"
  },
  "kernelspec": {
   "display_name": "nlp_lshtc",
   "language": "python",
   "name": "nlp_lshtc"
  },
  "language_info": {
   "codemirror_mode": {
    "name": "ipython",
    "version": 3
   },
   "file_extension": ".py",
   "mimetype": "text/x-python",
   "name": "python",
   "nbconvert_exporter": "python",
   "pygments_lexer": "ipython3",
   "version": "3.7.6"
  },
  "microsoft": {
   "host": {
    "AzureML": {
     "notebookHasBeenCompleted": true
    }
   }
  },
  "nteract": {
   "version": "nteract-front-end@1.0.0"
  },
  "toc": {
   "base_numbering": 1,
   "nav_menu": {},
   "number_sections": true,
   "sideBar": true,
   "skip_h1_title": false,
   "title_cell": "Table of Contents",
   "title_sidebar": "Contents",
   "toc_cell": false,
   "toc_position": {},
   "toc_section_display": true,
   "toc_window_display": false
  }
 },
 "nbformat": 4,
 "nbformat_minor": 2
}
