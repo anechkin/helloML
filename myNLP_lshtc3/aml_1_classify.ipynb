{
 "cells": [
  {
   "cell_type": "code",
   "execution_count": 34,
   "metadata": {
    "gather": {
     "logged": 1618604674063
    }
   },
   "outputs": [],
   "source": [
    "#meta 4/15/2021 myClassify (multiclass) for LSHTC - Train model with fast.ai\n",
    "# task: classify text (multiclass) \n",
    "# input: data/lshtc3_wikipedia_med_df_train_tidy.pkl\n",
    "#      LSHTC3 reduced ds with less labels\n",
    "#      Important reset index - fast.ai dataloaders don't like a gap in index\n",
    "#      to avoid -> TypeError: 'float' object is not iterable\n",
    "\n",
    "#task: Multi-category text classification - supervise\n",
    "#based on 1_classify_sentiment_spacy_multi.ipynb\n",
    "\n",
    "\n",
    "#history\n",
    "#      4/15/2021 TRY FAST.AI in AML\n",
    "#      Accuracy ~61% \n"
   ]
  },
  {
   "cell_type": "code",
   "execution_count": 35,
   "metadata": {
    "collapsed": true,
    "gather": {
     "logged": 1618604674398
    },
    "jupyter": {
     "outputs_hidden": false,
     "source_hidden": false
    },
    "nteract": {
     "transient": {
      "deleting": false
     }
    }
   },
   "outputs": [],
   "source": [
    "%matplotlib inline\n",
    "#import time as time #to track performance time\n",
    "import pandas as pd\n",
    "import numpy as np\n",
    "import matplotlib.pyplot as plt\n",
    "from joblib import load, dump\n"
   ]
  },
  {
   "cell_type": "code",
   "execution_count": 36,
   "metadata": {
    "collapsed": true,
    "gather": {
     "logged": 1618604674601
    },
    "jupyter": {
     "outputs_hidden": false,
     "source_hidden": false
    },
    "nteract": {
     "transient": {
      "deleting": false
     }
    }
   },
   "outputs": [],
   "source": [
    "from fastai.text.all import *"
   ]
  },
  {
   "cell_type": "code",
   "execution_count": 37,
   "metadata": {
    "collapsed": true,
    "gather": {
     "logged": 1618604675027
    },
    "jupyter": {
     "outputs_hidden": false,
     "source_hidden": false
    },
    "nteract": {
     "transient": {
      "deleting": false
     }
    }
   },
   "outputs": [],
   "source": [
    "#declare vars\n",
    "SEED = 24"
   ]
  },
  {
   "cell_type": "markdown",
   "metadata": {
    "nteract": {
     "transient": {
      "deleting": false
     }
    }
   },
   "source": [
    "# LSHTC: Classify Text \n",
    "Train text classifier using Transfer Learning.  2 steps:  \n",
    "1. fine-tune our language model pretrained on Wikipedia to the corpus of Expeditors survey  \n",
    "2. use that model to train a classifier  \n",
    "\n",
    "\n",
    "\n",
    "## 0. Load Data\n",
    "input: a prepared pickle with pre-selected relevant fields."
   ]
  },
  {
   "cell_type": "code",
   "execution_count": 38,
   "metadata": {
    "collapsed": true,
    "gather": {
     "logged": 1618604680263
    },
    "jupyter": {
     "outputs_hidden": false,
     "source_hidden": false
    },
    "nteract": {
     "transient": {
      "deleting": false
     }
    }
   },
   "outputs": [
    {
     "name": "stdout",
     "output_type": "stream",
     "text": [
      "(151800, 2)\n",
      "Index(['labels', 'text'], dtype='object')\n",
      "labels    category\n",
      "text        object\n",
      "dtype: object\n"
     ]
    },
    {
     "data": {
      "text/html": [
       "<div>\n",
       "<style scoped>\n",
       "    .dataframe tbody tr th:only-of-type {\n",
       "        vertical-align: middle;\n",
       "    }\n",
       "\n",
       "    .dataframe tbody tr th {\n",
       "        vertical-align: top;\n",
       "    }\n",
       "\n",
       "    .dataframe thead th {\n",
       "        text-align: right;\n",
       "    }\n",
       "</style>\n",
       "<table border=\"1\" class=\"dataframe\">\n",
       "  <thead>\n",
       "    <tr style=\"text-align: right;\">\n",
       "      <th></th>\n",
       "      <th>labels</th>\n",
       "      <th>text</th>\n",
       "    </tr>\n",
       "  </thead>\n",
       "  <tbody>\n",
       "    <tr>\n",
       "      <th>0</th>\n",
       "      <td>130762</td>\n",
       "      <td>Alain Connes (born 1 April 1947) is a French mathematician, currently Professor at the Coll\\u00E8ge de France, IH\\u00C9S and Vanderbilt University.</td>\n",
       "    </tr>\n",
       "    <tr>\n",
       "      <th>1</th>\n",
       "      <td>352578</td>\n",
       "      <td>Ayn Rand (born Alisa Zinov'yevna Rosenbaum; February 2 1905 – March 6, 1982), was a Russian-American novelist, philosopher, playwright, and screenwriter. She is known for her two best-selling novels and for developing a philosophical system she called Objectivism. Born and educated in Russia, Rand immigrated to the United States in 1926. She worked as a screenwriter in Hollywood and had a play produced on Broadway in 1935\\u20131936. She first achieved fame in 1943 with her novel The Fountainhead, which in 1957 was followed by her best-known work, the philosophical novel Atlas Shrugged. Ran...</td>\n",
       "    </tr>\n",
       "    <tr>\n",
       "      <th>2</th>\n",
       "      <td>395447</td>\n",
       "      <td>Ayn Rand (born Alisa Zinov'yevna Rosenbaum; February 2 1905 – March 6, 1982), was a Russian-American novelist, philosopher, playwright, and screenwriter. She is known for her two best-selling novels and for developing a philosophical system she called Objectivism. Born and educated in Russia, Rand immigrated to the United States in 1926. She worked as a screenwriter in Hollywood and had a play produced on Broadway in 1935\\u20131936. She first achieved fame in 1943 with her novel The Fountainhead, which in 1957 was followed by her best-known work, the philosophical novel Atlas Shrugged. Ran...</td>\n",
       "    </tr>\n",
       "    <tr>\n",
       "      <th>3</th>\n",
       "      <td>27512</td>\n",
       "      <td>Ayn Rand (born Alisa Zinov'yevna Rosenbaum; February 2 1905 – March 6, 1982), was a Russian-American novelist, philosopher, playwright, and screenwriter. She is known for her two best-selling novels and for developing a philosophical system she called Objectivism. Born and educated in Russia, Rand immigrated to the United States in 1926. She worked as a screenwriter in Hollywood and had a play produced on Broadway in 1935\\u20131936. She first achieved fame in 1943 with her novel The Fountainhead, which in 1957 was followed by her best-known work, the philosophical novel Atlas Shrugged. Ran...</td>\n",
       "    </tr>\n",
       "    <tr>\n",
       "      <th>4</th>\n",
       "      <td>390846</td>\n",
       "      <td>Allan Dwan (April 3, 1885 – December 28, 1981) was a pioneering Canadian-born American motion picture director, producer and screenwriter.</td>\n",
       "    </tr>\n",
       "  </tbody>\n",
       "</table>\n",
       "</div>"
      ],
      "text/plain": [
       "   labels  \\\n",
       "0  130762   \n",
       "1  352578   \n",
       "2  395447   \n",
       "3   27512   \n",
       "4  390846   \n",
       "\n",
       "                                                                                                                                                                                                                                                                                                                                                                                                                                                                                                                                                                                                                      text  \n",
       "0                                                                                                                                                                                                                                                                                                                                                                                                                                                                      Alain Connes (born 1 April 1947) is a French mathematician, currently Professor at the Coll\\u00E8ge de France, IH\\u00C9S and Vanderbilt University.  \n",
       "1  Ayn Rand (born Alisa Zinov'yevna Rosenbaum; February 2 1905 – March 6, 1982), was a Russian-American novelist, philosopher, playwright, and screenwriter. She is known for her two best-selling novels and for developing a philosophical system she called Objectivism. Born and educated in Russia, Rand immigrated to the United States in 1926. She worked as a screenwriter in Hollywood and had a play produced on Broadway in 1935\\u20131936. She first achieved fame in 1943 with her novel The Fountainhead, which in 1957 was followed by her best-known work, the philosophical novel Atlas Shrugged. Ran...  \n",
       "2  Ayn Rand (born Alisa Zinov'yevna Rosenbaum; February 2 1905 – March 6, 1982), was a Russian-American novelist, philosopher, playwright, and screenwriter. She is known for her two best-selling novels and for developing a philosophical system she called Objectivism. Born and educated in Russia, Rand immigrated to the United States in 1926. She worked as a screenwriter in Hollywood and had a play produced on Broadway in 1935\\u20131936. She first achieved fame in 1943 with her novel The Fountainhead, which in 1957 was followed by her best-known work, the philosophical novel Atlas Shrugged. Ran...  \n",
       "3  Ayn Rand (born Alisa Zinov'yevna Rosenbaum; February 2 1905 – March 6, 1982), was a Russian-American novelist, philosopher, playwright, and screenwriter. She is known for her two best-selling novels and for developing a philosophical system she called Objectivism. Born and educated in Russia, Rand immigrated to the United States in 1926. She worked as a screenwriter in Hollywood and had a play produced on Broadway in 1935\\u20131936. She first achieved fame in 1943 with her novel The Fountainhead, which in 1957 was followed by her best-known work, the philosophical novel Atlas Shrugged. Ran...  \n",
       "4                                                                                                                                                                                                                                                                                                                                                                                                                                                                               Allan Dwan (April 3, 1885 – December 28, 1981) was a pioneering Canadian-born American motion picture director, producer and screenwriter.  "
      ]
     },
     "execution_count": 38,
     "metadata": {},
     "output_type": "execute_result"
    }
   ],
   "source": [
    "df_tidy = load('data/lshtc3_wikipedia_med_df_train_tidy.pkl') \n",
    "print(df_tidy.shape)\n",
    "print(df_tidy.columns)\n",
    "print(df_tidy.dtypes)\n",
    "df_tidy.head()\n"
   ]
  },
  {
   "cell_type": "code",
   "execution_count": 39,
   "metadata": {
    "collapsed": true,
    "gather": {
     "logged": 1618604680546
    },
    "jupyter": {
     "outputs_hidden": false,
     "source_hidden": false
    },
    "nteract": {
     "transient": {
      "deleting": false
     }
    }
   },
   "outputs": [
    {
     "data": {
      "text/html": [
       "<div>\n",
       "<style scoped>\n",
       "    .dataframe tbody tr th:only-of-type {\n",
       "        vertical-align: middle;\n",
       "    }\n",
       "\n",
       "    .dataframe tbody tr th {\n",
       "        vertical-align: top;\n",
       "    }\n",
       "\n",
       "    .dataframe thead th {\n",
       "        text-align: right;\n",
       "    }\n",
       "</style>\n",
       "<table border=\"1\" class=\"dataframe\">\n",
       "  <thead>\n",
       "    <tr style=\"text-align: right;\">\n",
       "      <th></th>\n",
       "      <th>text</th>\n",
       "      <th>label</th>\n",
       "    </tr>\n",
       "  </thead>\n",
       "  <tbody>\n",
       "    <tr>\n",
       "      <th>0</th>\n",
       "      <td>Alain Connes (born 1 April 1947) is a French mathematician, currently Professor at the Coll\\u00E8ge de France, IH\\u00C9S and Vanderbilt University.</td>\n",
       "      <td>130762</td>\n",
       "    </tr>\n",
       "    <tr>\n",
       "      <th>1</th>\n",
       "      <td>Ayn Rand (born Alisa Zinov'yevna Rosenbaum; February 2 1905 – March 6, 1982), was a Russian-American novelist, philosopher, playwright, and screenwriter. She is known for her two best-selling novels and for developing a philosophical system she called Objectivism. Born and educated in Russia, Rand immigrated to the United States in 1926. She worked as a screenwriter in Hollywood and had a play produced on Broadway in 1935\\u20131936. She first achieved fame in 1943 with her novel The Fountainhead, which in 1957 was followed by her best-known work, the philosophical novel Atlas Shrugged. Ran...</td>\n",
       "      <td>352578</td>\n",
       "    </tr>\n",
       "  </tbody>\n",
       "</table>\n",
       "</div>"
      ],
      "text/plain": [
       "                                                                                                                                                                                                                                                                                                                                                                                                                                                                                                                                                                                                                      text  \\\n",
       "0                                                                                                                                                                                                                                                                                                                                                                                                                                                                      Alain Connes (born 1 April 1947) is a French mathematician, currently Professor at the Coll\\u00E8ge de France, IH\\u00C9S and Vanderbilt University.   \n",
       "1  Ayn Rand (born Alisa Zinov'yevna Rosenbaum; February 2 1905 – March 6, 1982), was a Russian-American novelist, philosopher, playwright, and screenwriter. She is known for her two best-selling novels and for developing a philosophical system she called Objectivism. Born and educated in Russia, Rand immigrated to the United States in 1926. She worked as a screenwriter in Hollywood and had a play produced on Broadway in 1935\\u20131936. She first achieved fame in 1943 with her novel The Fountainhead, which in 1957 was followed by her best-known work, the philosophical novel Atlas Shrugged. Ran...   \n",
       "\n",
       "    label  \n",
       "0  130762  \n",
       "1  352578  "
      ]
     },
     "execution_count": 39,
     "metadata": {},
     "output_type": "execute_result"
    }
   ],
   "source": [
    "#clean df\n",
    "df = df_tidy[['text', 'labels']].copy()\n",
    "df.columns = ['text', 'label']\n",
    "\n",
    "#reset index - dataloaders don't like a gap in index\n",
    "#to fix error in next cell: TypeError: 'float' object is not iterable\n",
    "#df.reset_index(drop=True, inplace=True)\n",
    "\n",
    "df.head(2)"
   ]
  },
  {
   "cell_type": "markdown",
   "metadata": {
    "nteract": {
     "transient": {
      "deleting": false
     }
    }
   },
   "source": [
    "## 1. Data Prep for fast.ai\n",
    "Prepare our data for the language model and for the classification model separately, using fast.ai library."
   ]
  },
  {
   "cell_type": "markdown",
   "metadata": {
    "nteract": {
     "transient": {
      "deleting": false
     }
    }
   },
   "source": [
    "### 1.1 Data Prep for Language Model Using DataBlock\n",
    "fastai handles tokenization and numericalization automatically when `TextBlock` is passed to `DataBlock`. `DataBlock`'s handy `summary` method is useful for debugging data issues.\n"
   ]
  },
  {
   "cell_type": "markdown",
   "metadata": {
    "nteract": {
     "transient": {
      "deleting": false
     }
    }
   },
   "source": [
    "Putting Our Texts into Batches for a Language Model"
   ]
  },
  {
   "cell_type": "code",
   "execution_count": 40,
   "metadata": {
    "collapsed": true,
    "gather": {
     "logged": 1618604843346
    },
    "jupyter": {
     "outputs_hidden": false,
     "source_hidden": false
    },
    "nteract": {
     "transient": {
      "deleting": false
     }
    }
   },
   "outputs": [
    {
     "data": {
      "text/html": [],
      "text/plain": [
       "<IPython.core.display.HTML object>"
      ]
     },
     "metadata": {},
     "output_type": "display_data"
    },
    {
     "data": {
      "text/html": [
       "<table border=\"1\" class=\"dataframe\">\n",
       "  <thead>\n",
       "    <tr style=\"text-align: right;\">\n",
       "      <th></th>\n",
       "      <th>text</th>\n",
       "      <th>text_</th>\n",
       "    </tr>\n",
       "  </thead>\n",
       "  <tbody>\n",
       "    <tr>\n",
       "      <th>0</th>\n",
       "      <td>xxbos xxmaj william xxmaj frederick \" buffalo xxmaj bill \" xxmaj cody ( february 26 , 1846 \\ u2013 xxmaj january 10 , 1917 ) was an xxmaj american soldier , bison hunter and showman . xxmaj he was born in the xxmaj iowa xxmaj territory , near xxmaj le xxmaj claire . xxmaj he was one of the most colorful figures of the xxmaj american xxmaj old xxmaj west , and</td>\n",
       "      <td>xxmaj william xxmaj frederick \" buffalo xxmaj bill \" xxmaj cody ( february 26 , 1846 \\ u2013 xxmaj january 10 , 1917 ) was an xxmaj american soldier , bison hunter and showman . xxmaj he was born in the xxmaj iowa xxmaj territory , near xxmaj le xxmaj claire . xxmaj he was one of the most colorful figures of the xxmaj american xxmaj old xxmaj west , and mostly</td>\n",
       "    </tr>\n",
       "    <tr>\n",
       "      <th>1</th>\n",
       "      <td>del xxmaj ponte , the former xxmaj chief xxmaj prosecutor of the xxmaj international xxmaj criminal xxmaj tribunal for the former xxmaj yugoslavia and the xxmaj international xxmaj criminal xxmaj tribunal for xxmaj rwanda . xxmaj the book provides a retrospective account of xxmaj del xxmaj ponte 's efforts to obtain critical evidence and the arrest of persons indicted for war crimes . xxmaj xxunk has worked as a contributing editor to</td>\n",
       "      <td>xxmaj ponte , the former xxmaj chief xxmaj prosecutor of the xxmaj international xxmaj criminal xxmaj tribunal for the former xxmaj yugoslavia and the xxmaj international xxmaj criminal xxmaj tribunal for xxmaj rwanda . xxmaj the book provides a retrospective account of xxmaj del xxmaj ponte 's efforts to obtain critical evidence and the arrest of persons indicted for war crimes . xxmaj xxunk has worked as a contributing editor to xxmaj</td>\n",
       "    </tr>\n",
       "    <tr>\n",
       "      <th>2</th>\n",
       "      <td>the xxmaj arts d the xxmaj western xxmaj washington xxmaj university and worked on stage in theatre productions in xxmaj seattle . xxmaj she later relocated to xxmaj los xxmaj angeles and in 1985 made her feature debut in xxmaj vision xxmaj quest . xxmaj her early television roles were on xxmaj scarecrow and xxmaj mrs xxmaj king and xxmaj my xxmaj sister xxmaj sam . xxmaj she had roles in xxmaj</td>\n",
       "      <td>xxmaj arts d the xxmaj western xxmaj washington xxmaj university and worked on stage in theatre productions in xxmaj seattle . xxmaj she later relocated to xxmaj los xxmaj angeles and in 1985 made her feature debut in xxmaj vision xxmaj quest . xxmaj her early television roles were on xxmaj scarecrow and xxmaj mrs xxmaj king and xxmaj my xxmaj sister xxmaj sam . xxmaj she had roles in xxmaj knots</td>\n",
       "    </tr>\n",
       "  </tbody>\n",
       "</table>"
      ],
      "text/plain": [
       "<IPython.core.display.HTML object>"
      ]
     },
     "metadata": {},
     "output_type": "display_data"
    }
   ],
   "source": [
    "#src https://docs.fast.ai/text.data.html#TextDataLoaders.from_df\n",
    "#dls_lm = TextDataLoaders.from_df(df, path=path, text_col='text', is_lm=True, valid_col='is_valid')\n",
    "dls_lm = TextDataLoaders.from_df(df, text_col='text', is_lm=True, valid_pct = 0.15, splitter=RandomSplitter(valid_pct = 0.15, seed = SEED)) \n",
    "dls_lm.show_batch(max_n=3)"
   ]
  },
  {
   "cell_type": "code",
   "execution_count": 41,
   "metadata": {
    "collapsed": true,
    "gather": {
     "logged": 1618604843663
    },
    "jupyter": {
     "outputs_hidden": false,
     "source_hidden": false
    },
    "nteract": {
     "transient": {
      "deleting": false
     }
    }
   },
   "outputs": [
    {
     "data": {
      "text/plain": [
       "(129030, 22770)"
      ]
     },
     "execution_count": 41,
     "metadata": {},
     "output_type": "execute_result"
    }
   ],
   "source": [
    "#dataset dims\n",
    "len(dls_lm.train_ds), len(dls_lm.valid_ds)"
   ]
  },
  {
   "cell_type": "code",
   "execution_count": 42,
   "metadata": {
    "collapsed": true,
    "gather": {
     "logged": 1618604843896
    },
    "jupyter": {
     "outputs_hidden": false,
     "source_hidden": false
    },
    "nteract": {
     "transient": {
      "deleting": false
     }
    }
   },
   "outputs": [
    {
     "name": "stdout",
     "output_type": "stream",
     "text": [
      "LM vocab size:  60008\n"
     ]
    },
    {
     "data": {
      "text/plain": [
       "['xxunk',\n",
       " 'later',\n",
       " 'william',\n",
       " '2002',\n",
       " 'station',\n",
       " 'service',\n",
       " 'king',\n",
       " 'prize',\n",
       " 'metropolitan',\n",
       " 'driver',\n",
       " 'medical',\n",
       " 'poet',\n",
       " 'chris',\n",
       " 'ryan',\n",
       " 'girls',\n",
       " 'russell',\n",
       " 'going',\n",
       " 'front',\n",
       " '1864',\n",
       " 'industrial',\n",
       " 'reviews',\n",
       " 'subjects',\n",
       " 'jets',\n",
       " 'glass',\n",
       " 'give',\n",
       " 'effort',\n",
       " 'syracuse',\n",
       " 'rolling',\n",
       " 'jobs',\n",
       " 'noir',\n",
       " 'prominence',\n",
       " 'themselves',\n",
       " 'mayer',\n",
       " 'mcdonald',\n",
       " 'tracy',\n",
       " '39',\n",
       " 'unsuccessfully',\n",
       " 'stadium',\n",
       " 'ep',\n",
       " '10th',\n",
       " 'stud',\n",
       " 'columns',\n",
       " 'ace',\n",
       " 'nights',\n",
       " 'progress',\n",
       " 'completely',\n",
       " 'benton',\n",
       " 'lifelong',\n",
       " 'dartmouth',\n",
       " 'fairfax',\n",
       " 'slavery',\n",
       " 'determined',\n",
       " 'alley',\n",
       " 'ordinary',\n",
       " 'quest',\n",
       " 'agencies',\n",
       " 'shipping',\n",
       " 'baron',\n",
       " 'stevie',\n",
       " 'discussion',\n",
       " 'allowing',\n",
       " 'ned',\n",
       " 'keeping',\n",
       " 'lawn',\n",
       " 'greenville',\n",
       " 'carolyn',\n",
       " 'tip',\n",
       " 'hamburg',\n",
       " 'settler',\n",
       " 'veronica',\n",
       " 'apparent',\n",
       " 'topped',\n",
       " 'deadly',\n",
       " 'filipino',\n",
       " 'lehman',\n",
       " 'storyline',\n",
       " 'relatives',\n",
       " 'underwent',\n",
       " 'examiner',\n",
       " 'plastic',\n",
       " 'dress',\n",
       " 'explosion',\n",
       " 'automatic',\n",
       " 'residency',\n",
       " 'vacant',\n",
       " 'joaquin',\n",
       " 'accumulated',\n",
       " 'marriages',\n",
       " 'corbett',\n",
       " 'skip',\n",
       " 'gunsmoke',\n",
       " 'pig',\n",
       " 'cow',\n",
       " 'quote',\n",
       " 'unconventional',\n",
       " 'finalists',\n",
       " 'barrier',\n",
       " 'confidence',\n",
       " 'screenwriters',\n",
       " 'leisure',\n",
       " 'wi',\n",
       " 'cohn',\n",
       " 'sanctuary',\n",
       " 'phyllaries',\n",
       " 'impression',\n",
       " 'businessmen',\n",
       " 'weiner',\n",
       " 'judgment',\n",
       " 'recommendation',\n",
       " 'shrine',\n",
       " 'cadet',\n",
       " 'cerebral',\n",
       " 'mccullough',\n",
       " 'penstemon',\n",
       " 'nerve',\n",
       " 'meighen',\n",
       " 'sf',\n",
       " 'dime',\n",
       " 'gallo',\n",
       " 'transmitter',\n",
       " 'coloratura',\n",
       " 'bolt',\n",
       " 'shiloh',\n",
       " 'myrna',\n",
       " 'harder',\n",
       " 'slew',\n",
       " 'sinai',\n",
       " '2012',\n",
       " '1.2',\n",
       " 'bourbon',\n",
       " 'expeditions',\n",
       " 'pierson',\n",
       " 'manned',\n",
       " 'comcast',\n",
       " 'nudes',\n",
       " 'burnt',\n",
       " 'unseen',\n",
       " 'reaper',\n",
       " 'alfonso',\n",
       " 'softball',\n",
       " 'u00c9douard',\n",
       " 'mora',\n",
       " 'sofia',\n",
       " 'slowed',\n",
       " 'css',\n",
       " 'suzy',\n",
       " 'lara',\n",
       " 'klaus',\n",
       " 'hennepin',\n",
       " 'ease',\n",
       " 'minstrels',\n",
       " 'pawtucket',\n",
       " 'gurney',\n",
       " 'bored',\n",
       " 'likeness',\n",
       " 'restoring',\n",
       " 'mandarin',\n",
       " 'disappointed',\n",
       " 'headliner',\n",
       " 'cronenberg',\n",
       " 'bainbridge',\n",
       " 'roebuck',\n",
       " 'foil',\n",
       " 'tires',\n",
       " '10-year',\n",
       " 'outgoing',\n",
       " 'starlet',\n",
       " '707',\n",
       " 'manuals',\n",
       " 'graceland',\n",
       " 'kristine',\n",
       " 'strasberg',\n",
       " 'marries',\n",
       " 'tijuana',\n",
       " 'ossorio',\n",
       " '246',\n",
       " 'nico',\n",
       " 'quasi',\n",
       " 'astrophysics',\n",
       " 'casanova',\n",
       " 'tr',\n",
       " 'accord',\n",
       " 'horrible',\n",
       " 'obstacles',\n",
       " 'drainage',\n",
       " 'preached',\n",
       " 'daisies',\n",
       " 'rockaway',\n",
       " 'conductors',\n",
       " 'cashier',\n",
       " 'bissell',\n",
       " '189',\n",
       " 'duquesne',\n",
       " 'petaluma',\n",
       " 'leprechaun',\n",
       " 'voyageurs',\n",
       " 'outrage',\n",
       " 'museo',\n",
       " 'masculinity',\n",
       " 'boonville',\n",
       " 'lansbury',\n",
       " 'macgill',\n",
       " 'acumen',\n",
       " 'reston',\n",
       " 'imp',\n",
       " 'lazy',\n",
       " 'malin',\n",
       " 'holzman',\n",
       " 'simplified',\n",
       " 'allard',\n",
       " 'osaka',\n",
       " 'astrologer',\n",
       " 'thrive',\n",
       " 'brownlee',\n",
       " 'casgrain',\n",
       " 'karts',\n",
       " 'u20131980',\n",
       " 'farber',\n",
       " 'semitic',\n",
       " 'jj',\n",
       " 'ambassadors',\n",
       " 'regimental',\n",
       " 'avoiding',\n",
       " 'paroled',\n",
       " 'usf',\n",
       " 'laplante',\n",
       " 'rafelson',\n",
       " '660',\n",
       " 'upshaw',\n",
       " 'u-17',\n",
       " 'pomo',\n",
       " 'carducci',\n",
       " 'communal',\n",
       " 'kingsville',\n",
       " 'motives',\n",
       " 'readiness',\n",
       " 'guay',\n",
       " 'gorson',\n",
       " 'jezebel',\n",
       " 'washtenaw',\n",
       " 'kel',\n",
       " 'falconer',\n",
       " 'freelancing',\n",
       " 'mcgivern',\n",
       " 'smuggler',\n",
       " 'aggregate',\n",
       " 'dedicate',\n",
       " 'legalization',\n",
       " 'cordell',\n",
       " 'sepulchre',\n",
       " 'bramlett',\n",
       " 'shippy',\n",
       " 'overtones',\n",
       " 'scotts',\n",
       " 'drucker',\n",
       " 'fuhr',\n",
       " 'kipp',\n",
       " 'skrefsrud',\n",
       " 'youngs',\n",
       " 'anarchism',\n",
       " 'sewage',\n",
       " 'jana',\n",
       " 'kickboxing',\n",
       " 'twa',\n",
       " 'lachute',\n",
       " 'deslauriers',\n",
       " 'erste',\n",
       " 'blur',\n",
       " 'bock',\n",
       " 'nanking',\n",
       " 'cheering',\n",
       " 'conservatoire',\n",
       " 'hatchet',\n",
       " 'moores',\n",
       " 'pennell',\n",
       " 'gandy',\n",
       " 'seedy',\n",
       " 'interpreters',\n",
       " 'axtell',\n",
       " 'concours',\n",
       " 'aristocrat',\n",
       " 'sunnybrook',\n",
       " 'emigration',\n",
       " 'ginter',\n",
       " 'bettencourt',\n",
       " 'figural',\n",
       " 'mythos',\n",
       " 'characteristically',\n",
       " 'wellsville',\n",
       " 'aycock',\n",
       " 'brute',\n",
       " 'bowe',\n",
       " 'img',\n",
       " 'lemke',\n",
       " '105.3',\n",
       " 'whisky',\n",
       " 'girouard',\n",
       " 'forgo',\n",
       " 'fincher',\n",
       " 'hazelton',\n",
       " '3.7',\n",
       " 'harryhausen',\n",
       " 'coker',\n",
       " 'strengthened',\n",
       " 'chlorogalum',\n",
       " 'u026a',\n",
       " 'danna',\n",
       " 'waged',\n",
       " '105.7',\n",
       " 'kiplinger',\n",
       " 'valens',\n",
       " 'clipped',\n",
       " 'enamel',\n",
       " 'hwang',\n",
       " 'misfortune',\n",
       " 'threesome',\n",
       " 'u201325',\n",
       " 'nytimes',\n",
       " 'prepped',\n",
       " 'copywrite',\n",
       " 'h.g',\n",
       " 'riverhounds',\n",
       " 'controllers',\n",
       " 'hilaire',\n",
       " '826',\n",
       " 'benavides',\n",
       " 'eckert',\n",
       " 'dorn',\n",
       " 'indio',\n",
       " 'hereafter',\n",
       " 'gorbachev',\n",
       " 'brubeck',\n",
       " 'avenged',\n",
       " 'mccollister',\n",
       " 'glyn',\n",
       " 'forehead',\n",
       " 'kiddies',\n",
       " 'connole',\n",
       " 'chaz',\n",
       " 'odeon',\n",
       " 'blacktop',\n",
       " 'bollea',\n",
       " 'frankenthaler',\n",
       " 'tariffs',\n",
       " 'hoekstra',\n",
       " 'quintin',\n",
       " 'usable',\n",
       " 'innes',\n",
       " 'wmms',\n",
       " 'audet',\n",
       " 'burney',\n",
       " 'endino',\n",
       " 'hearty',\n",
       " 'furia',\n",
       " 'vitamins',\n",
       " 'gussie',\n",
       " 'ambler',\n",
       " 'guardsman',\n",
       " 'electromagnetic',\n",
       " 'vocalion',\n",
       " 'lejaren',\n",
       " 'naruto',\n",
       " 'wilkie',\n",
       " 'tanana',\n",
       " 'calabasas',\n",
       " 'evangelista',\n",
       " 'giurgola',\n",
       " 'caddying',\n",
       " 'gumball',\n",
       " 'goyette',\n",
       " 'zvi',\n",
       " 'safecracking',\n",
       " 'ranchos',\n",
       " 'singlehandedly',\n",
       " 'cinequest',\n",
       " 'stannard',\n",
       " 'imaginable',\n",
       " 'u2014september',\n",
       " 'u0259',\n",
       " 'macromedia',\n",
       " 'rationale',\n",
       " 'dekoven',\n",
       " 'licenced',\n",
       " 'jonson',\n",
       " 'downloadable',\n",
       " 'phased',\n",
       " 'superdome',\n",
       " 'unaired',\n",
       " 'voided',\n",
       " 'freeing',\n",
       " 'sternfeld',\n",
       " 'maskinong',\n",
       " 'u00a0she',\n",
       " 'u201cfather',\n",
       " 'allegory',\n",
       " 'transmitters',\n",
       " 'baring',\n",
       " 'yemen',\n",
       " 'ferron',\n",
       " 'duckie',\n",
       " 'hertogenbosch',\n",
       " 'herv',\n",
       " 'barbet',\n",
       " 'roamed',\n",
       " 'schule',\n",
       " 'unraveling',\n",
       " 'u00e9gar',\n",
       " 'shasha',\n",
       " 'langelier',\n",
       " 'bolinas',\n",
       " 'buckler',\n",
       " 'ruckman',\n",
       " 'oke',\n",
       " 'tallman',\n",
       " 'parkin',\n",
       " 'kiely',\n",
       " 'umwa',\n",
       " 'brinson',\n",
       " 'n.w.a',\n",
       " 'hanoi',\n",
       " 'bronislau',\n",
       " '912',\n",
       " 'scriptures',\n",
       " 'deepened',\n",
       " 'wackness',\n",
       " 'humiliating',\n",
       " 'chipper',\n",
       " 'ravinia',\n",
       " 'saloonkeeper',\n",
       " 'mcnaught',\n",
       " 'suzan',\n",
       " 'broun',\n",
       " 'breda',\n",
       " 'heckle',\n",
       " 'satterfield',\n",
       " 'nordine',\n",
       " 'wfil',\n",
       " 'outburst',\n",
       " 'mcweeny',\n",
       " 'mastroianni',\n",
       " 'disuse',\n",
       " 'lilienthal',\n",
       " '1925-',\n",
       " 'reforma',\n",
       " 'iakovos',\n",
       " 'connersville',\n",
       " 'clotilde',\n",
       " 'early-1970s',\n",
       " 'dehiscent',\n",
       " 'fogerty',\n",
       " '1,214',\n",
       " 'longaberger',\n",
       " 'volare',\n",
       " 'swarmed',\n",
       " 'pardons',\n",
       " 'punitive',\n",
       " 'm1',\n",
       " 'cowsill',\n",
       " 'minion',\n",
       " 'goad',\n",
       " '500th',\n",
       " 'palindromes',\n",
       " 'slo',\n",
       " 'kaysen',\n",
       " 'tremaine',\n",
       " 'gies',\n",
       " 'deaver',\n",
       " 'blodgett',\n",
       " 'lawren',\n",
       " 'bedrosian',\n",
       " 'declan',\n",
       " 'dyslexia',\n",
       " 'thacher',\n",
       " 'treacher',\n",
       " 'anglers',\n",
       " 'silktassel',\n",
       " 'filson',\n",
       " 'rhinecliff',\n",
       " 'capay',\n",
       " 'gavilan',\n",
       " 'niizuma',\n",
       " '40plus',\n",
       " 'woodpile',\n",
       " 'transcendentalist',\n",
       " 'canceling',\n",
       " 'bont',\n",
       " 'frontage',\n",
       " 'excavated',\n",
       " 'u015bciuszko',\n",
       " 'sackett',\n",
       " 'punctured',\n",
       " 'testifies',\n",
       " 'photoshoot',\n",
       " 'considerate',\n",
       " 'thornberrys',\n",
       " 'tagging',\n",
       " 'keanan',\n",
       " 'busoni',\n",
       " 'maxima',\n",
       " 'oxfam',\n",
       " 'merner',\n",
       " 'featurettes',\n",
       " 'bossa',\n",
       " 'deutscher',\n",
       " 'bellanca',\n",
       " 'callander',\n",
       " 'retinitis',\n",
       " 'bitove',\n",
       " 'u00e5rdens',\n",
       " 'u00e9treault',\n",
       " 'irwindale',\n",
       " 'covay',\n",
       " 'sidey',\n",
       " 'ponca',\n",
       " 'perryman',\n",
       " 'markell',\n",
       " 'morillo',\n",
       " 'mappin',\n",
       " 'centrale',\n",
       " 'thornmint',\n",
       " 'donnas',\n",
       " 'deitz',\n",
       " 'chandu',\n",
       " 'u00e2tonnier',\n",
       " 'pigeen',\n",
       " 'krist',\n",
       " 'f.m',\n",
       " 'riverbend',\n",
       " 'reine',\n",
       " 'dairying',\n",
       " 'zulu',\n",
       " 'troika',\n",
       " 'roundly',\n",
       " 'sahlins',\n",
       " 'ihs',\n",
       " 'garay',\n",
       " 'peintre',\n",
       " 'protectionism',\n",
       " 'musi',\n",
       " 'najimy',\n",
       " 'identifier',\n",
       " 'oglala',\n",
       " 'u00e9p',\n",
       " 'leans',\n",
       " 'tonegawa',\n",
       " 'lumme',\n",
       " 'wibf',\n",
       " 'quetico',\n",
       " 'cicerone',\n",
       " 'jodeci',\n",
       " 'falcone',\n",
       " 'narrowest',\n",
       " 'shandi',\n",
       " 'forebears',\n",
       " 'anabelle',\n",
       " 'phill',\n",
       " 'gualala',\n",
       " 'behr',\n",
       " 'wpgc',\n",
       " 'khou',\n",
       " 'dooky',\n",
       " 'nunes',\n",
       " 'arbitrage',\n",
       " 'barenboim',\n",
       " 'gunselman',\n",
       " 'baldon',\n",
       " 'gianas',\n",
       " 'deady',\n",
       " 'cheam',\n",
       " 'starmania',\n",
       " 'pervert',\n",
       " 'blinks',\n",
       " 'capitalise',\n",
       " 'kyles',\n",
       " 'brillo',\n",
       " 'barthold',\n",
       " 'flugrath',\n",
       " 'hubbardston',\n",
       " 'ireene',\n",
       " 'latterly',\n",
       " 'freethinking',\n",
       " 'u203233',\n",
       " 'traven',\n",
       " '1,239',\n",
       " '658',\n",
       " 'malleable',\n",
       " 'lye',\n",
       " 'partitioned',\n",
       " 'fridmann',\n",
       " 'anamosa',\n",
       " 'hotly',\n",
       " 'buddie',\n",
       " 'briertone',\n",
       " 'cads',\n",
       " 'anouilh',\n",
       " 'senescence',\n",
       " 'edtv',\n",
       " 'sinuous',\n",
       " 'multilayered',\n",
       " 'caminiti',\n",
       " 'xxfake']"
      ]
     },
     "execution_count": 42,
     "metadata": {},
     "output_type": "execute_result"
    }
   ],
   "source": [
    "#view vocab, class list\n",
    "print(\"LM vocab size: \", len(dls_lm.vocab))\n",
    "dls_lm.vocab[::100]"
   ]
  },
  {
   "cell_type": "code",
   "execution_count": 43,
   "metadata": {
    "collapsed": true,
    "jupyter": {
     "outputs_hidden": false,
     "source_hidden": false
    },
    "nteract": {
     "transient": {
      "deleting": false
     }
    }
   },
   "outputs": [
    {
     "ename": "NameError",
     "evalue": "name 'mystop' is not defined",
     "output_type": "error",
     "traceback": [
      "\u001b[0;31m---------------------------------------------------------------------------\u001b[0m",
      "\u001b[0;31mNameError\u001b[0m                                 Traceback (most recent call last)",
      "\u001b[0;32m<ipython-input-43-255d8eb4da7e>\u001b[0m in \u001b[0;36m<module>\u001b[0;34m\u001b[0m\n\u001b[0;32m----> 1\u001b[0;31m \u001b[0mmystop\u001b[0m\u001b[0;34m\u001b[0m\u001b[0;34m\u001b[0m\u001b[0m\n\u001b[0m",
      "\u001b[0;31mNameError\u001b[0m: name 'mystop' is not defined"
     ]
    }
   ],
   "source": [
    "mystop"
   ]
  },
  {
   "cell_type": "markdown",
   "metadata": {
    "nteract": {
     "transient": {
      "deleting": false
     }
    }
   },
   "source": [
    "Data is ready, we can fine-tune the pretrained language model.\n",
    "\n",
    "## 2. Model\n",
    "The LM was pretrained on Wikipedia.  Fine-tune this LM to Expeditors survey corpus, and then use that as the base for our classifier.  \n",
    "![ULMFiT Process](my-images/ch10_ULMFIT_process.png)\n",
    "### 2.1 Fine-Tuning the Language Model\n"
   ]
  },
  {
   "cell_type": "markdown",
   "metadata": {
    "nteract": {
     "transient": {
      "deleting": false
     }
    }
   },
   "source": []
  },
  {
   "cell_type": "code",
   "execution_count": 44,
   "metadata": {
    "collapsed": true,
    "gather": {
     "logged": 1618604859306
    },
    "jupyter": {
     "outputs_hidden": false,
     "source_hidden": false
    },
    "nteract": {
     "transient": {
      "deleting": false
     }
    }
   },
   "outputs": [],
   "source": [
    "#class fastai.text.learner.LMLearner\n",
    "learn = language_model_learner(\n",
    "    dls_lm, AWD_LSTM, drop_mult=0.3, \n",
    "    metrics=[accuracy, Perplexity()]).to_fp16()"
   ]
  },
  {
   "cell_type": "code",
   "execution_count": null,
   "metadata": {
    "collapsed": true,
    "gather": {
     "logged": 1618526964883
    },
    "jupyter": {
     "outputs_hidden": false,
     "source_hidden": false
    },
    "nteract": {
     "transient": {
      "deleting": false
     }
    }
   },
   "outputs": [],
   "source": [
    "#select the appropriate lr\n",
    "#learn.lr_find()\n",
    "lr1, lr2 = learn.lr_find()\n",
    "print(round(lr1, 6), round(lr2, 6))"
   ]
  },
  {
   "cell_type": "code",
   "execution_count": null,
   "metadata": {
    "collapsed": true,
    "gather": {
     "logged": 1618532638971
    },
    "jupyter": {
     "outputs_hidden": false,
     "source_hidden": false
    },
    "nteract": {
     "transient": {
      "deleting": false
     }
    }
   },
   "outputs": [],
   "source": [
    "learn.fit_one_cycle(1, 4e-2)"
   ]
  },
  {
   "cell_type": "code",
   "execution_count": null,
   "metadata": {
    "collapsed": true,
    "gather": {
     "logged": 1618532643528
    },
    "jupyter": {
     "outputs_hidden": false,
     "source_hidden": false
    },
    "nteract": {
     "transient": {
      "deleting": false
     }
    }
   },
   "outputs": [],
   "source": [
    "#save and load models\n",
    "learn.save('1epoch')\n",
    "#learn = learn.load('1epoch')"
   ]
  },
  {
   "cell_type": "code",
   "execution_count": 45,
   "metadata": {
    "collapsed": true,
    "gather": {
     "logged": 1618604876156
    },
    "jupyter": {
     "outputs_hidden": false,
     "source_hidden": false
    },
    "nteract": {
     "transient": {
      "deleting": false
     }
    }
   },
   "outputs": [],
   "source": [
    "learn = learn.load('1epoch')"
   ]
  },
  {
   "cell_type": "markdown",
   "metadata": {
    "nteract": {
     "transient": {
      "deleting": false
     }
    }
   },
   "source": [
    "Once the initial training has completed, continue fine-tuning the model after unfreezing"
   ]
  },
  {
   "cell_type": "code",
   "execution_count": null,
   "metadata": {
    "collapsed": true,
    "gather": {
     "logged": 1618588918124
    },
    "jupyter": {
     "outputs_hidden": false,
     "source_hidden": false
    },
    "nteract": {
     "transient": {
      "deleting": false
     }
    }
   },
   "outputs": [],
   "source": [
    "learn.unfreeze()\n",
    "learn.fit_one_cycle(5, 4e-3) "
   ]
  },
  {
   "cell_type": "code",
   "execution_count": null,
   "metadata": {
    "collapsed": true,
    "gather": {
     "logged": 1618588918791
    },
    "jupyter": {
     "outputs_hidden": false,
     "source_hidden": false
    },
    "nteract": {
     "transient": {
      "deleting": false
     }
    }
   },
   "outputs": [],
   "source": [
    "#save model encoder\n",
    "learn.save_encoder('finetuned')"
   ]
  },
  {
   "cell_type": "code",
   "execution_count": 46,
   "metadata": {
    "collapsed": true,
    "gather": {
     "logged": 1618610251851
    },
    "jupyter": {
     "outputs_hidden": false,
     "source_hidden": false
    },
    "nteract": {
     "transient": {
      "deleting": false
     }
    }
   },
   "outputs": [],
   "source": [
    "learn = learn.load_encoder('finetuned')"
   ]
  },
  {
   "cell_type": "code",
   "execution_count": null,
   "metadata": {
    "collapsed": true,
    "gather": {
     "logged": 1618588919383
    },
    "jupyter": {
     "outputs_hidden": false,
     "source_hidden": false
    },
    "nteract": {
     "transient": {
      "deleting": false
     }
    }
   },
   "outputs": [],
   "source": [
    "#class fastai.text.learner.LMLearner\n",
    "#learn.summary()"
   ]
  },
  {
   "cell_type": "markdown",
   "metadata": {
    "nteract": {
     "transient": {
      "deleting": false
     }
    }
   },
   "source": [
    "##### Text generation"
   ]
  },
  {
   "cell_type": "code",
   "execution_count": 47,
   "metadata": {
    "collapsed": true,
    "gather": {
     "logged": 1618610287562
    },
    "jupyter": {
     "outputs_hidden": false,
     "source_hidden": false
    },
    "nteract": {
     "transient": {
      "deleting": false
     }
    }
   },
   "outputs": [
    {
     "data": {
      "text/html": [],
      "text/plain": [
       "<IPython.core.display.HTML object>"
      ]
     },
     "metadata": {},
     "output_type": "display_data"
    },
    {
     "data": {
      "text/html": [],
      "text/plain": [
       "<IPython.core.display.HTML object>"
      ]
     },
     "metadata": {},
     "output_type": "display_data"
    }
   ],
   "source": [
    "TEXT = \"I would recommend Baltimore because\"\n",
    "N_WORDS = 40\n",
    "N_SENTENCES = 2\n",
    "#to predict, must be of class fastai.text.learner.LMLearner\n",
    "preds = [learn.predict(TEXT, N_WORDS, temperature=0.75) for _ in range(N_SENTENCES)]"
   ]
  },
  {
   "cell_type": "code",
   "execution_count": 48,
   "metadata": {
    "collapsed": true,
    "gather": {
     "logged": 1618610300490
    },
    "jupyter": {
     "outputs_hidden": false,
     "source_hidden": false
    },
    "nteract": {
     "transient": {
      "deleting": false
     }
    }
   },
   "outputs": [
    {
     "name": "stdout",
     "output_type": "stream",
     "text": [
      "i would recommend Baltimore because there are more things you do n't get in it . i think we need something wrong . If everybody knows you can see it , you think you can pose you . i cried you all ! !\n",
      "i would recommend Baltimore because it 's not actually a city where i would have lived there . i wanted it to be like two shots like a lady . i wanted to be irresistible there . i wanted to love it twice and were\n"
     ]
    }
   ],
   "source": [
    "print(\"\\n\".join(preds))"
   ]
  },
  {
   "cell_type": "markdown",
   "metadata": {
    "nteract": {
     "transient": {
      "deleting": false
     }
    }
   },
   "source": [
    "This completes the second stage of the text classification process: fine-tuning the language model. We can now use it to fine-tune a classifier using the IMDb sentiment labels.\n",
    "\n",
    "### 1.2 Data Prep for Classifier Model Using DataBlock\n",
    "Creating the Classifier DataLoaders"
   ]
  },
  {
   "cell_type": "code",
   "execution_count": 49,
   "metadata": {
    "collapsed": true,
    "gather": {
     "logged": 1618610720131
    },
    "jupyter": {
     "outputs_hidden": false,
     "source_hidden": false
    },
    "nteract": {
     "transient": {
      "deleting": false
     }
    }
   },
   "outputs": [
    {
     "data": {
      "text/html": [],
      "text/plain": [
       "<IPython.core.display.HTML object>"
      ]
     },
     "metadata": {},
     "output_type": "display_data"
    },
    {
     "data": {
      "text/html": [
       "<table border=\"1\" class=\"dataframe\">\n",
       "  <thead>\n",
       "    <tr style=\"text-align: right;\">\n",
       "      <th></th>\n",
       "      <th>text</th>\n",
       "      <th>category</th>\n",
       "    </tr>\n",
       "  </thead>\n",
       "  <tbody>\n",
       "    <tr>\n",
       "      <th>0</th>\n",
       "      <td>xxbos xxmaj richard xxmaj wright xxmaj nowels xxmaj jr . xxmaj rick xxmaj nowels is a xxmaj grammy / xxmaj ivor xxmaj novello award winning songwriter / producer who has worked with many of the most vibrant artists in contemporary music . xxmaj beginning with his number one worldwide hit single , \\ xxunk xxmaj is a xxmaj place on xxmaj earth \\ u201d by xxmaj belinda xxmaj carlisle in 1987 xxmaj rick has since co - written over 60 top 20 singles . xxmaj his songs have appeared on over 200 million albums . xxmaj he is a multi - instrumentalist ( guitar , keyboards , bass ) who incorporates contemporary sounds and rhythms within classic songwriting . xxmaj rick has written with or had his songs recorded by the following artists : xxmaj madonna , xxmaj dido , xxmaj john xxmaj legend / xxmaj andre 3 xxrep 3</td>\n",
       "      <td>78599</td>\n",
       "    </tr>\n",
       "    <tr>\n",
       "      <th>1</th>\n",
       "      <td>xxbos xxmaj artie xxmaj wayne ( born xxmaj january 22 , 1942 ) ( born xxmaj wayne xxmaj douglas xxmaj kent ) is an xxmaj american , semi - retired record producer , award winning songwriter , and active blogger . xxmaj artie xxmaj wayne has pursued an eclectic array of vocations and xxunk , including songwriter , singer , producer , publisher , concert promoter , restaurant host , and wearable artist . xxmaj his first hit as a songwriter and producer came in 1963 : xxmaj joey xxmaj power 's \" midnight xxmaj mary \" . xxmaj he 's had over 250 covers recorded by such artists as xxmaj michael xxmaj jackson , xxmaj aretha xxmaj franklin , xxmaj tony xxmaj orlando and xxmaj dawn , xxmaj pat xxmaj boone , xxmaj helen xxmaj shapiro , xxmaj the xxmaj magic xxmaj lanterns , xxmaj joe xxmaj dassin ,</td>\n",
       "      <td>78599</td>\n",
       "    </tr>\n",
       "    <tr>\n",
       "      <th>2</th>\n",
       "      <td>xxbos xxmaj claude \" buddy \" xxmaj young ( january 5 , 1926 to xxmaj october 19 , 1983 ) was an xxmaj american football player . a native of xxmaj chicago , the xxunk \" xxmaj claude \" buddy \" xxmaj young , also known as the \" bronze xxmaj bullet , \" had exceptional quickness and acceleration . xxmaj he is one of the shortest men ever to play xxup nfl football . xxmaj as a track star at the xxmaj university of xxmaj illinois , he won the xxmaj national xxmaj collegiate xxmaj championships in the 100 and 220-yard dash , tied the world record for the 45 and 60-yard dashes , and was the xxmaj amateur xxmaj athletic xxmaj union 's 100-meter champion . xxmaj buddy was xxmaj illinois state champ in the 100-yard dash , and at the xxmaj university of xxmaj illinois , he</td>\n",
       "      <td>243459</td>\n",
       "    </tr>\n",
       "  </tbody>\n",
       "</table>"
      ],
      "text/plain": [
       "<IPython.core.display.HTML object>"
      ]
     },
     "metadata": {},
     "output_type": "display_data"
    }
   ],
   "source": [
    "dls_clf = TextDataLoaders.from_df(df, text_col='text', label_col='label', vocab=dls_lm.vocab, valid_pct = 0.25, splitter=RandomSplitter(0.25, seed = SEED))\n",
    "dls_clf.show_batch(max_n=3)"
   ]
  },
  {
   "cell_type": "code",
   "execution_count": 50,
   "metadata": {
    "collapsed": true,
    "gather": {
     "logged": 1618610720406
    },
    "jupyter": {
     "outputs_hidden": false,
     "source_hidden": false
    },
    "nteract": {
     "transient": {
      "deleting": false
     }
    }
   },
   "outputs": [
    {
     "data": {
      "text/plain": [
       "(113850, 37950)"
      ]
     },
     "execution_count": 50,
     "metadata": {},
     "output_type": "execute_result"
    }
   ],
   "source": [
    "len(dls_clf.train_ds), len(dls_clf.valid_ds)"
   ]
  },
  {
   "cell_type": "markdown",
   "metadata": {
    "nteract": {
     "transient": {
      "deleting": false
     }
    }
   },
   "source": [
    "### 2.2 Model Classifier"
   ]
  },
  {
   "cell_type": "code",
   "execution_count": 51,
   "metadata": {
    "collapsed": true,
    "gather": {
     "logged": 1618610721883
    },
    "jupyter": {
     "outputs_hidden": false,
     "source_hidden": false
    },
    "nteract": {
     "transient": {
      "deleting": false
     }
    }
   },
   "outputs": [],
   "source": [
    "#class fastai.text.learner.TextLearner\n",
    "learn = text_classifier_learner(dls_clf, AWD_LSTM, drop_mult=0.5, metrics=accuracy).to_fp16()"
   ]
  },
  {
   "cell_type": "markdown",
   "metadata": {
    "nteract": {
     "transient": {
      "deleting": false
     }
    }
   },
   "source": [
    "Prior to training the classifier, load the encoder from our fine-tuned language model. We use `load_encoder` instead of `load` because we only have pretrained weights available for the encoder; `load` by default raises an exception if an incomplete model is loaded"
   ]
  },
  {
   "cell_type": "code",
   "execution_count": null,
   "metadata": {
    "collapsed": true,
    "gather": {
     "logged": 1618588940782
    },
    "jupyter": {
     "outputs_hidden": false,
     "source_hidden": false
    },
    "nteract": {
     "transient": {
      "deleting": false
     }
    }
   },
   "outputs": [],
   "source": [
    "learn = learn.load_encoder('finetuned')"
   ]
  },
  {
   "cell_type": "markdown",
   "metadata": {
    "nteract": {
     "transient": {
      "deleting": false
     }
    }
   },
   "source": [
    "##### Fine-tune classifier\n",
    "The last step is to train with discriminative learning rates and *gradual unfreezing*. In computer vision we often unfreeze the model all at once, but for NLP classifiers, we find that unfreezing a few layers at a time makes a real difference"
   ]
  },
  {
   "cell_type": "code",
   "execution_count": 52,
   "metadata": {
    "collapsed": true,
    "gather": {
     "logged": 1618610773542
    },
    "jupyter": {
     "outputs_hidden": false,
     "source_hidden": false
    },
    "nteract": {
     "transient": {
      "deleting": false
     }
    }
   },
   "outputs": [
    {
     "data": {
      "text/html": [],
      "text/plain": [
       "<IPython.core.display.HTML object>"
      ]
     },
     "metadata": {},
     "output_type": "display_data"
    },
    {
     "name": "stdout",
     "output_type": "stream",
     "text": [
      "0.043652 0.1\n"
     ]
    },
    {
     "data": {
      "image/png": "[encoded data removed]",
      "text/plain": [
       "<Figure size 432x288 with 1 Axes>"
      ]
     },
     "metadata": {
      "needs_background": "light"
     },
     "output_type": "display_data"
    }
   ],
   "source": [
    "#select the appropriate lr\n",
    "#learn.lr_find()\n",
    "lr1, lr2 = learn.lr_find()\n",
    "print(round(lr1, 6), round(lr2, 6))"
   ]
  },
  {
   "cell_type": "code",
   "execution_count": 53,
   "metadata": {
    "collapsed": true,
    "gather": {
     "logged": 1618613607981
    },
    "jupyter": {
     "outputs_hidden": false,
     "source_hidden": false
    },
    "nteract": {
     "transient": {
      "deleting": false
     }
    }
   },
   "outputs": [
    {
     "data": {
      "text/html": [
       "<table border=\"1\" class=\"dataframe\">\n",
       "  <thead>\n",
       "    <tr style=\"text-align: left;\">\n",
       "      <th>epoch</th>\n",
       "      <th>train_loss</th>\n",
       "      <th>valid_loss</th>\n",
       "      <th>accuracy</th>\n",
       "      <th>time</th>\n",
       "    </tr>\n",
       "  </thead>\n",
       "  <tbody>\n",
       "    <tr>\n",
       "      <td>0</td>\n",
       "      <td>2.142723</td>\n",
       "      <td>1.739137</td>\n",
       "      <td>0.519130</td>\n",
       "      <td>15:16</td>\n",
       "    </tr>\n",
       "  </tbody>\n",
       "</table>"
      ],
      "text/plain": [
       "<IPython.core.display.HTML object>"
      ]
     },
     "metadata": {},
     "output_type": "display_data"
    }
   ],
   "source": [
    "learn.fit_one_cycle(1, 4e-2)"
   ]
  },
  {
   "cell_type": "markdown",
   "metadata": {
    "nteract": {
     "transient": {
      "deleting": false
     }
    }
   },
   "source": [
    "In just one epoch we get the same result as our training in <<chapter_intro>>: not too bad! We can pass `-2` to `freeze_to` to freeze all except the last two parameter groups:"
   ]
  },
  {
   "cell_type": "code",
   "execution_count": 54,
   "metadata": {
    "collapsed": true,
    "gather": {
     "logged": 1618614792811
    },
    "jupyter": {
     "outputs_hidden": false,
     "source_hidden": false
    },
    "nteract": {
     "transient": {
      "deleting": false
     }
    }
   },
   "outputs": [
    {
     "data": {
      "text/html": [
       "<table border=\"1\" class=\"dataframe\">\n",
       "  <thead>\n",
       "    <tr style=\"text-align: left;\">\n",
       "      <th>epoch</th>\n",
       "      <th>train_loss</th>\n",
       "      <th>valid_loss</th>\n",
       "      <th>accuracy</th>\n",
       "      <th>time</th>\n",
       "    </tr>\n",
       "  </thead>\n",
       "  <tbody>\n",
       "    <tr>\n",
       "      <td>0</td>\n",
       "      <td>1.739295</td>\n",
       "      <td>1.523259</td>\n",
       "      <td>0.579526</td>\n",
       "      <td>19:44</td>\n",
       "    </tr>\n",
       "  </tbody>\n",
       "</table>"
      ],
      "text/plain": [
       "<IPython.core.display.HTML object>"
      ]
     },
     "metadata": {},
     "output_type": "display_data"
    }
   ],
   "source": [
    "learn.freeze_to(-2)\n",
    "learn.fit_one_cycle(1, slice(4e-3/(2.6**4),4e-3))"
   ]
  },
  {
   "cell_type": "markdown",
   "metadata": {
    "nteract": {
     "transient": {
      "deleting": false
     }
    }
   },
   "source": [
    "Unfreeze more and train"
   ]
  },
  {
   "cell_type": "code",
   "execution_count": 55,
   "metadata": {
    "collapsed": true,
    "gather": {
     "logged": 1618616822074
    },
    "jupyter": {
     "outputs_hidden": false,
     "source_hidden": false
    },
    "nteract": {
     "transient": {
      "deleting": false
     }
    }
   },
   "outputs": [
    {
     "data": {
      "text/html": [
       "<table border=\"1\" class=\"dataframe\">\n",
       "  <thead>\n",
       "    <tr style=\"text-align: left;\">\n",
       "      <th>epoch</th>\n",
       "      <th>train_loss</th>\n",
       "      <th>valid_loss</th>\n",
       "      <th>accuracy</th>\n",
       "      <th>time</th>\n",
       "    </tr>\n",
       "  </thead>\n",
       "  <tbody>\n",
       "    <tr>\n",
       "      <td>0</td>\n",
       "      <td>1.525795</td>\n",
       "      <td>1.409863</td>\n",
       "      <td>0.604954</td>\n",
       "      <td>33:49</td>\n",
       "    </tr>\n",
       "  </tbody>\n",
       "</table>"
      ],
      "text/plain": [
       "<IPython.core.display.HTML object>"
      ]
     },
     "metadata": {},
     "output_type": "display_data"
    }
   ],
   "source": [
    "learn.freeze_to(-3)\n",
    "learn.fit_one_cycle(1, slice(5e-4/(2.6**4),5e-4))"
   ]
  },
  {
   "cell_type": "markdown",
   "metadata": {
    "nteract": {
     "transient": {
      "deleting": false
     }
    }
   },
   "source": [
    "Finally, the whole model"
   ]
  },
  {
   "cell_type": "code",
   "execution_count": 56,
   "metadata": {
    "collapsed": true,
    "gather": {
     "logged": 1618622281997
    },
    "jupyter": {
     "outputs_hidden": false,
     "source_hidden": false
    },
    "nteract": {
     "transient": {
      "deleting": false
     }
    }
   },
   "outputs": [
    {
     "data": {
      "text/html": [
       "<table border=\"1\" class=\"dataframe\">\n",
       "  <thead>\n",
       "    <tr style=\"text-align: left;\">\n",
       "      <th>epoch</th>\n",
       "      <th>train_loss</th>\n",
       "      <th>valid_loss</th>\n",
       "      <th>accuracy</th>\n",
       "      <th>time</th>\n",
       "    </tr>\n",
       "  </thead>\n",
       "  <tbody>\n",
       "    <tr>\n",
       "      <td>0</td>\n",
       "      <td>1.537383</td>\n",
       "      <td>1.389080</td>\n",
       "      <td>0.610856</td>\n",
       "      <td>45:29</td>\n",
       "    </tr>\n",
       "    <tr>\n",
       "      <td>1</td>\n",
       "      <td>1.485541</td>\n",
       "      <td>1.386221</td>\n",
       "      <td>0.611831</td>\n",
       "      <td>45:30</td>\n",
       "    </tr>\n",
       "  </tbody>\n",
       "</table>"
      ],
      "text/plain": [
       "<IPython.core.display.HTML object>"
      ]
     },
     "metadata": {},
     "output_type": "display_data"
    }
   ],
   "source": [
    "learn.unfreeze()\n",
    "learn.fit_one_cycle(2, slice(1e-4/(2.6**4),1e-4))"
   ]
  },
  {
   "cell_type": "markdown",
   "metadata": {
    "nteract": {
     "transient": {
      "deleting": false
     }
    }
   },
   "source": [
    "We reached 69% accuracy. \n",
    "\n",
    "Using a pretrained model let us build a fine-tuned language model that was pretty powerful, to either generate fake reviews or help classify them. This is exciting stuff!"
   ]
  },
  {
   "cell_type": "code",
   "execution_count": 57,
   "metadata": {
    "collapsed": true,
    "gather": {
     "logged": 1618622286882
    },
    "jupyter": {
     "outputs_hidden": false,
     "source_hidden": false
    },
    "nteract": {
     "transient": {
      "deleting": false
     }
    }
   },
   "outputs": [
    {
     "data": {
      "text/html": [],
      "text/plain": [
       "<IPython.core.display.HTML object>"
      ]
     },
     "metadata": {},
     "output_type": "display_data"
    },
    {
     "data": {
      "text/html": [
       "<table border=\"1\" class=\"dataframe\">\n",
       "  <thead>\n",
       "    <tr style=\"text-align: right;\">\n",
       "      <th></th>\n",
       "      <th>text</th>\n",
       "      <th>category</th>\n",
       "      <th>category_</th>\n",
       "    </tr>\n",
       "  </thead>\n",
       "  <tbody>\n",
       "    <tr>\n",
       "      <th>0</th>\n",
       "      <td>xxbos xxmaj richard xxmaj wright xxmaj nowels xxmaj jr . xxmaj rick xxmaj nowels is a xxmaj grammy / xxmaj ivor xxmaj novello award winning songwriter / producer who has worked with many of the most vibrant artists in contemporary music . xxmaj beginning with his number one worldwide hit single , \\ xxunk xxmaj is a xxmaj place on xxmaj earth \\ u201d by xxmaj belinda xxmaj carlisle in 1987 xxmaj rick has since co - written over 60 top 20 singles . xxmaj his songs have appeared on over 200 million albums . xxmaj he is a multi - instrumentalist ( guitar , keyboards , bass ) who incorporates contemporary sounds and rhythms within classic songwriting . xxmaj rick has written with or had his songs recorded by the following artists : xxmaj madonna , xxmaj dido , xxmaj john xxmaj legend / xxmaj andre 3 xxrep 3</td>\n",
       "      <td>258850</td>\n",
       "      <td>78599</td>\n",
       "    </tr>\n",
       "    <tr>\n",
       "      <th>1</th>\n",
       "      <td>xxbos xxmaj kim xxmaj vincent xxmaj fowley ( born xxmaj july 21 , 1939 ) is an xxmaj american record producer , impresario , songwriter and musician . xxmaj he is the son of xxmaj hollywood character actor xxmaj douglas xxmaj fowley and is also a polio survivor . xxmaj he is best known for his role behind a string of novelty , cult rock , and 45 rpm records of particular significance during the 1960s . xxmaj he is most recognized for managing the all - female punk music group titled xxmaj the xxmaj runaways in the 1970s with xxmaj joan xxmaj jett and xxmaj sandy xxmaj west \\ u2014 whence also came xxmaj cherie xxmaj currie and xxmaj lita xxmaj ford . xxmaj the band was his biggest success . xxmaj he is also known for working as a producer and songwriter with xxmaj helen xxmaj reddy in</td>\n",
       "      <td>78599</td>\n",
       "      <td>167593</td>\n",
       "    </tr>\n",
       "    <tr>\n",
       "      <th>2</th>\n",
       "      <td>xxbos xxmaj luther xxmaj chase xxmaj goldman ( 1909 - 2005 ) was an xxmaj american naturalist and wildlife photographer . xxmaj best known for his photographs of endangered species of birds , he was chief photographer of the xxup u.s . xxmaj fish and xxmaj wildlife xxmaj service . xxmaj luther was born in xxmaj washington , xxup d.c . , on xxmaj november 2 , 1909 . xxmaj he was fortunate in his younger years to learn nature lore from his father , xxmaj edward xxup a. xxmaj goldman , an eminent naturalist . xxmaj in teenage summer months he served as camp boy on research expeditions in xxmaj arizona , trapping and preparing specimens of mammals , his early interest , and also gaining field experience with the xxmaj predator and xxmaj xxunk xxmaj control xxmaj branch of the xxmaj bureau of xxmaj biological xxmaj survey of</td>\n",
       "      <td>221836</td>\n",
       "      <td>221836</td>\n",
       "    </tr>\n",
       "    <tr>\n",
       "      <th>3</th>\n",
       "      <td>xxbos xxmaj buddy xxmaj feyne ( june 9 , 1912 - xxmaj december 10 , 1998 ) was a composer and lyricist of the swing era . xxmaj he penned the lyrics for \" tuxedo xxmaj junction \" and \" the xxmaj jersey xxmaj bounce \" - both of which were top of the xxmaj hit xxmaj parade and both are standards . xxmaj these songs and many others have been recorded by artists as diverse as xxmaj glenn xxmaj miller , xxmaj joe xxmaj williams , xxmaj the xxmaj manhattan xxmaj transfer , xxmaj ella xxmaj fitzgerald , xxmaj gene xxmaj autry , xxmaj nat xxmaj king xxmaj cole , xxmaj louis xxmaj armstrong , xxmaj the xxmaj andrews xxmaj sisters , xxmaj frankie xxmaj avalon , xxmaj joe xxmaj jackson , xxmaj george xxmaj benson and xxmaj boz xxmaj scaggs . xxmaj he was born xxmaj bernard xxmaj</td>\n",
       "      <td>258850</td>\n",
       "      <td>258850</td>\n",
       "    </tr>\n",
       "    <tr>\n",
       "      <th>4</th>\n",
       "      <td>xxbos xxmaj bernard xxmaj kinsey is a xxmaj los xxmaj angeles philanthropist and entrepreneur with a passion for african - american history and art of the nineteenth and twentieth centuries . xxmaj he and his wife xxmaj shirley , one of the most admired and respected couples in xxmaj los xxmaj angeles , are famously known for espousing two life principles , \\ u201cto whom much is given much is required \" and live \\ u201ca life of no regrets \\ u201d . xxmaj the couple have one son , xxmaj khalil . xxmaj bernard and xxmaj shirley are widely heralded for their stewardship of art , books and manuscripts that document and tell the remarkable story of xxmaj african xxmaj americans ' triumphs and struggles from 1632 to present . xxmaj from xxmaj september 2009 through xxmaj march 2010 , xxmaj the xxmaj kinsey xxmaj collection : \\ xxunk</td>\n",
       "      <td>347803</td>\n",
       "      <td>14661</td>\n",
       "    </tr>\n",
       "    <tr>\n",
       "      <th>5</th>\n",
       "      <td>xxbos xxmaj dr . xxmaj charles xxmaj henry ( ' doc ' ) xxmaj strub ( 1884 - xxmaj march 28 , 1958 ) was an xxmaj american dentist and entrepreneur who built and owned xxmaj santa xxmaj anita xxmaj park racetrack in xxmaj arcadia , xxmaj california and was president and partner of the xxmaj san xxmaj francisco xxmaj seals baseball club of the xxmaj pacific xxmaj coast xxmaj league . xxmaj charles xxmaj strub was born in xxmaj hollister , xxmaj california as the only the only child of xxmaj isadore xxmaj strub and xxmaj rebecca xxmaj williamson xxmaj strub . xxmaj he graduated with a degree in dentistry from the xxmaj university of xxmaj california at xxmaj berkeley where he played varsity baseball . xxmaj having been put through agony as a child by the xxmaj xxunk of the day , he studied modern xxunk with new</td>\n",
       "      <td>347803</td>\n",
       "      <td>347803</td>\n",
       "    </tr>\n",
       "    <tr>\n",
       "      <th>6</th>\n",
       "      <td>xxbos xxmaj frederick xxmaj john xxmaj kiesler ( xxunk or xxmaj xxunk , austro - hungarian xxmaj empire , xxmaj september 22 , 1890 \\ u2013 xxmaj new xxmaj york xxmaj city , xxmaj december 27 , 1965 ) . austrian - american theater designer , artist , theoretician and architect . xxmaj kiesler spelled his xxunk \" frederick , \" not \" xxunk \" or \" xxunk \" as found in various publications ( see xxmaj references below ) . xxmaj beginning in 1908 \\ u201309 , xxmaj kiesler studied at the xxmaj technische xxmaj hochschule and beginning in 1910 \\ u201312 , he attended painting and printmaking classes at the xxmaj akademie der xxunk k \\ xxunk , both in xxmaj vienna . xxmaj he did not finish the architecture curriculum at the xxmaj technische xxmaj hochschule , a circumstance which was to become a distinct disadvantage .</td>\n",
       "      <td>10088</td>\n",
       "      <td>308993</td>\n",
       "    </tr>\n",
       "    <tr>\n",
       "      <th>7</th>\n",
       "      <td>xxbos xxmaj howard xxmaj gerald \" jerry \" xxmaj clower ( september 28 , 1926 , xxmaj liberty , xxmaj mississippi \\ u2013 xxmaj august 24 , 1998 ) was a popular country comedian best known for his stories of the rural xxmaj south . xxmaj clower began a 2-year stint in the xxmaj navy immediately after graduating high school . xxmaj upon his discharge , in 1946 , he was a xxmaj radioman xxmaj third xxmaj class ( xxunk ) and had earned the xxmaj american xxmaj campaign xxmaj medal , the asiatic - pacific xxmaj campaign xxmaj medal ( with two bronze service stars ) , and the xxmaj world xxmaj war xxup ii xxmaj victory xxmaj medal . xxmaj he then studied agriculture at xxmaj mississippi xxmaj state xxmaj university , where he played college football and was a member of xxmaj phi xxmaj kappa xxmaj tau</td>\n",
       "      <td>286463</td>\n",
       "      <td>286463</td>\n",
       "    </tr>\n",
       "    <tr>\n",
       "      <th>8</th>\n",
       "      <td>xxbos xxmaj born in 1936 in xxmaj new xxmaj york xxmaj city , xxmaj joan xxmaj jonas is a pioneer of video and performance art and one of the most important female artists to emerge in the late 1960s and early 1970s . xxmaj she began her career in xxmaj new xxmaj york xxmaj city as a sculptor . xxmaj by 1968 she moved into what was then leading - edge territory : mixing performance with props and mediated images , situated outside in natural and / or industrial environments . xxmaj in her early works , such as xxmaj wind ( 1968 ) , xxmaj jonas filmed performers xxunk passing through the field of view against a wind that lent the choreography a psychological mystique . xxmaj xxunk ( 1973 ) , filmed with both xxunk and wide - angle lenses ( which produce opposing extremes in depth of</td>\n",
       "      <td>308993</td>\n",
       "      <td>308993</td>\n",
       "    </tr>\n",
       "  </tbody>\n",
       "</table>"
      ],
      "text/plain": [
       "<IPython.core.display.HTML object>"
      ]
     },
     "metadata": {},
     "output_type": "display_data"
    }
   ],
   "source": [
    "#learn.summary()\n",
    "learn.show_results()"
   ]
  },
  {
   "cell_type": "code",
   "execution_count": 58,
   "metadata": {
    "collapsed": true,
    "gather": {
     "logged": 1618622295800
    },
    "jupyter": {
     "outputs_hidden": false,
     "source_hidden": false
    },
    "nteract": {
     "transient": {
      "deleting": false
     }
    }
   },
   "outputs": [],
   "source": [
    "#save final model\n",
    "learn.save('clf_final')\n",
    "#export model as pkl\n",
    "learn.export()"
   ]
  },
  {
   "cell_type": "markdown",
   "metadata": {
    "nteract": {
     "transient": {
      "deleting": false
     }
    }
   },
   "source": [
    "## 3. Model Evaluation\n",
    "src https://docs.fast.ai/interpret.html#ClassificationInterpretation  \n",
    "src code https://github.com/fastai/fastai/blob/master/fastai/interpret.py#L51\n",
    "### 3.1 Report and Confusion Matrix"
   ]
  },
  {
   "cell_type": "code",
   "execution_count": 59,
   "metadata": {
    "collapsed": true,
    "gather": {
     "logged": 1618622508854
    },
    "jupyter": {
     "outputs_hidden": false,
     "source_hidden": false
    },
    "nteract": {
     "transient": {
      "deleting": false
     }
    }
   },
   "outputs": [
    {
     "data": {
      "text/html": [],
      "text/plain": [
       "<IPython.core.display.HTML object>"
      ]
     },
     "metadata": {},
     "output_type": "display_data"
    },
    {
     "name": "stdout",
     "output_type": "stream",
     "text": [
      "              precision    recall  f1-score   support\n",
      "\n",
      "       10088       0.76      0.91      0.83       284\n",
      "       10307       0.47      0.28      0.35       116\n",
      "       10590       0.35      0.20      0.26       225\n",
      "       13139       0.67      0.06      0.10       141\n",
      "       14661       0.49      0.20      0.28       246\n",
      "       14902       0.98      0.99      0.99       265\n",
      "       16954       1.00      0.95      0.97       142\n",
      "       21411       0.99      0.99      0.99       141\n",
      "       23214       1.00      0.98      0.99       205\n",
      "       27512       0.62      0.76      0.69       136\n",
      "       29931       0.38      0.65      0.48       168\n",
      "       37462       0.47      0.32      0.38       135\n",
      "       38982       0.24      0.49      0.32       172\n",
      "       43724       0.59      0.63      0.61       243\n",
      "       47471       0.83      0.96      0.89       269\n",
      "       47886       0.43      0.05      0.09       234\n",
      "       48448       0.95      0.97      0.96       335\n",
      "       51347       1.00      0.99      0.99       294\n",
      "       51353       0.96      1.00      0.98       172\n",
      "       59600       0.31      0.07      0.11       225\n",
      "       65566       0.50      0.01      0.01       187\n",
      "       65831       0.00      0.00      0.00       167\n",
      "       73367       0.99      0.98      0.98       256\n",
      "       78599       0.56      0.76      0.64       362\n",
      "       82093       0.31      0.65      0.42       385\n",
      "       82220       1.00      0.99      1.00       176\n",
      "       85048       0.64      0.83      0.73       144\n",
      "       87256       0.97      0.98      0.98       217\n",
      "       88179       0.47      0.31      0.37       274\n",
      "       92007       0.50      0.80      0.61       206\n",
      "       93043       0.49      0.81      0.61       496\n",
      "      104651       0.30      0.31      0.30       348\n",
      "      106409       0.59      0.34      0.43       242\n",
      "      106615       0.19      0.11      0.14       260\n",
      "      114538       0.82      0.92      0.87       338\n",
      "      114873       1.00      0.99      1.00       376\n",
      "      115269       1.00      1.00      1.00       205\n",
      "      117362       0.55      0.20      0.30       312\n",
      "      118798       0.23      0.10      0.14       482\n",
      "      118947       0.68      0.67      0.67       137\n",
      "      122859       1.00      0.99      1.00       142\n",
      "      125243       0.72      0.72      0.72       163\n",
      "      126647       0.41      0.07      0.11       138\n",
      "      130762       0.55      0.83      0.66       184\n",
      "      131503       0.99      1.00      1.00       138\n",
      "      135508       0.73      0.49      0.58       215\n",
      "      142366       0.50      0.01      0.01       144\n",
      "      143074       0.98      1.00      0.99       209\n",
      "      143545       0.56      0.84      0.67       153\n",
      "      150880       0.99      1.00      1.00       178\n",
      "      156147       0.00      0.00      0.00       166\n",
      "      156349       0.43      0.63      0.51       284\n",
      "      157144       0.56      0.22      0.31       186\n",
      "      162010       1.00      1.00      1.00       242\n",
      "      167593       0.77      0.92      0.84      2836\n",
      "      169463       0.42      0.12      0.18       203\n",
      "      173922       0.57      0.88      0.69       145\n",
      "      175178       0.37      0.09      0.14       115\n",
      "      177784       0.85      0.96      0.90       198\n",
      "      184027       0.74      0.78      0.76       183\n",
      "      187944       0.94      0.56      0.70       179\n",
      "      191597       0.96      0.96      0.96       142\n",
      "      195307       0.64      0.29      0.40       220\n",
      "      195321       0.54      0.14      0.22       249\n",
      "      195696       0.56      0.38      0.45       202\n",
      "      196360       0.32      0.11      0.16       189\n",
      "      199981       0.41      0.14      0.21       141\n",
      "      206589       0.99      0.99      0.99       150\n",
      "      207342       0.97      0.99      0.98       211\n",
      "      214602       1.00      0.99      1.00       129\n",
      "      218487       0.71      0.85      0.77       130\n",
      "      219680       0.57      0.58      0.57       224\n",
      "      221836       0.77      0.78      0.78       337\n",
      "      224092       0.99      1.00      0.99       367\n",
      "      228803       0.48      0.75      0.58       251\n",
      "      228857       0.63      0.42      0.50       132\n",
      "      229071       0.79      0.95      0.87       266\n",
      "      229110       0.42      0.57      0.48       179\n",
      "      229765       0.60      0.74      0.66       253\n",
      "      231362       0.51      0.07      0.12       280\n",
      "      237392       0.24      0.53      0.33       365\n",
      "      238882       0.20      0.20      0.20       285\n",
      "      239004       0.98      0.96      0.97       127\n",
      "      242897       0.81      0.81      0.81       278\n",
      "      243459       0.62      0.75      0.68       216\n",
      "      256667       0.46      0.45      0.45       199\n",
      "      257731       0.91      0.97      0.94       366\n",
      "      258850       0.37      0.42      0.39       437\n",
      "      260663       0.38      0.03      0.06       198\n",
      "      269117       0.69      0.96      0.80       195\n",
      "      269785       0.38      0.67      0.48       545\n",
      "      272741       0.27      0.24      0.26       572\n",
      "      275465       0.78      0.91      0.84       332\n",
      "      276597       0.62      0.89      0.73       150\n",
      "      276713       0.25      0.01      0.03       138\n",
      "      283023       0.36      0.38      0.37       204\n",
      "      283823       0.32      0.21      0.25       719\n",
      "      284433       0.52      0.75      0.61       716\n",
      "      286463       0.59      0.57      0.58       268\n",
      "      288266       0.98      0.98      0.98       168\n",
      "      289056       0.52      0.24      0.33       398\n",
      "      297190       0.56      0.56      0.56       250\n",
      "      302125       0.31      0.07      0.11       130\n",
      "      303577       0.53      0.06      0.10       181\n",
      "      304661       0.37      0.34      0.36       636\n",
      "      305313       0.96      0.87      0.91       164\n",
      "      307819       0.87      0.96      0.91       308\n",
      "      308993       0.42      0.29      0.34       440\n",
      "      321123       0.19      0.03      0.06       292\n",
      "      324660       0.88      0.93      0.91       658\n",
      "      332072       0.99      0.98      0.98       446\n",
      "      333275       0.36      0.28      0.31       304\n",
      "      335156       0.68      0.22      0.33       129\n",
      "      335454       0.42      0.16      0.23       123\n",
      "      335885       0.58      0.83      0.68       125\n",
      "      337673       0.76      0.46      0.57       215\n",
      "      340177       0.84      0.95      0.89       125\n",
      "      344126       0.37      0.36      0.36       187\n",
      "      347803       0.49      0.72      0.58      1076\n",
      "      352578       0.43      0.74      0.55       801\n",
      "      354078       0.68      0.43      0.53       259\n",
      "      354187       0.20      0.30      0.24       287\n",
      "      357512       0.50      0.41      0.45       167\n",
      "      364348       0.61      0.70      0.66       145\n",
      "      368878       0.98      0.97      0.98       295\n",
      "      372441       0.99      1.00      1.00       218\n",
      "      377436       0.00      0.00      0.00       147\n",
      "      378762       0.41      0.41      0.41       164\n",
      "      387254       0.99      0.99      0.99       132\n",
      "      389174       0.58      0.20      0.30       181\n",
      "      390846       0.46      0.51      0.49       440\n",
      "      395447       0.51      0.71      0.59       676\n",
      "      403289       0.51      0.60      0.55       184\n",
      "      417577       0.53      0.92      0.67       177\n",
      "      427995       0.15      0.01      0.02       159\n",
      "      428198       0.00      0.00      0.00       148\n",
      "      429649       0.63      0.81      0.71       123\n",
      "      437070       0.31      0.37      0.34       222\n",
      "      443106       0.30      0.29      0.29       189\n",
      "\n",
      "    accuracy                           0.61     37950\n",
      "   macro avg       0.60      0.58      0.56     37950\n",
      "weighted avg       0.60      0.61      0.58     37950\n",
      "\n"
     ]
    },
    {
     "name": "stderr",
     "output_type": "stream",
     "text": [
      "/anaconda/envs/fastai/lib/python3.8/site-packages/sklearn/metrics/_classification.py:1221: UndefinedMetricWarning: Precision and F-score are ill-defined and being set to 0.0 in labels with no predicted samples. Use `zero_division` parameter to control this behavior.\n",
      "  _warn_prf(average, modifier, msg_start, len(result))\n"
     ]
    }
   ],
   "source": [
    "interp = ClassificationInterpretation.from_learner(learn)\n",
    "interp.print_classification_report()"
   ]
  },
  {
   "cell_type": "code",
   "execution_count": 60,
   "metadata": {
    "collapsed": true,
    "gather": {
     "logged": 1618622821022
    },
    "jupyter": {
     "outputs_hidden": false,
     "source_hidden": false
    },
    "nteract": {
     "transient": {
      "deleting": false
     }
    }
   },
   "outputs": [
    {
     "data": {
      "text/html": [],
      "text/plain": [
       "<IPython.core.display.HTML object>"
      ]
     },
     "metadata": {},
     "output_type": "display_data"
    },
    {
     "data": {
      "image/png": "[encoded data removed]",
      "text/plain": [
       "<Figure size 432x288 with 1 Axes>"
      ]
     },
     "metadata": {
      "needs_background": "light"
     },
     "output_type": "display_data"
    }
   ],
   "source": [
    "interp = ClassificationInterpretation.from_learner(learn)\n",
    "interp.plot_confusion_matrix()"
   ]
  },
  {
   "cell_type": "code",
   "execution_count": 61,
   "metadata": {
    "collapsed": true,
    "gather": {
     "logged": 1618622821501
    },
    "jupyter": {
     "outputs_hidden": false,
     "source_hidden": false
    },
    "nteract": {
     "transient": {
      "deleting": false
     }
    }
   },
   "outputs": [
    {
     "data": {
      "text/plain": [
       "[(231362, 167593, 235),\n",
       " (283823, 352578, 220),\n",
       " (308993, 93043, 215),\n",
       " (47886, 167593, 213),\n",
       " (88179, 167593, 188),\n",
       " (169463, 352578, 144),\n",
       " (14661, 347803, 141),\n",
       " (126647, 417577, 127),\n",
       " (167593, 229765, 116),\n",
       " (390846, 395447, 114),\n",
       " (283823, 284433, 113),\n",
       " (104651, 269785, 111),\n",
       " (272741, 82093, 108),\n",
       " (238882, 237392, 106),\n",
       " (260663, 269785, 105),\n",
       " (65831, 237392, 101),\n",
       " (219680, 403289, 91),\n",
       " (65566, 237392, 88),\n",
       " (427995, 352578, 87),\n",
       " (258850, 78599, 81),\n",
       " (228857, 324660, 76),\n",
       " (403289, 219680, 74),\n",
       " (187944, 167593, 69),\n",
       " (354187, 82093, 69),\n",
       " (104651, 258850, 68),\n",
       " (229765, 167593, 63),\n",
       " (167593, 88179, 61),\n",
       " (395447, 390846, 60),\n",
       " (352578, 283823, 59),\n",
       " (389174, 237392, 57),\n",
       " (395447, 352578, 57),\n",
       " (258850, 104651, 56),\n",
       " (428198, 237392, 56),\n",
       " (258850, 269785, 53),\n",
       " (269785, 104651, 53),\n",
       " (272741, 354187, 53),\n",
       " (283823, 395447, 53),\n",
       " (276713, 237392, 52),\n",
       " (304661, 347803, 52),\n",
       " (118798, 82093, 51),\n",
       " (156147, 269785, 51),\n",
       " (237392, 238882, 51),\n",
       " (344126, 237392, 51),\n",
       " (378762, 228803, 50),\n",
       " (135508, 308993, 49),\n",
       " (135508, 93043, 47),\n",
       " (354187, 272741, 46),\n",
       " (93043, 308993, 45),\n",
       " (238882, 38982, 45),\n",
       " (297190, 347803, 44),\n",
       " (443106, 104651, 44),\n",
       " (38982, 237392, 43),\n",
       " (352578, 395447, 43),\n",
       " (357512, 93043, 43),\n",
       " (118798, 347803, 42),\n",
       " (175178, 352578, 42),\n",
       " (195696, 395447, 41),\n",
       " (272741, 156349, 41),\n",
       " (13139, 304661, 40),\n",
       " (118947, 143545, 40),\n",
       " (352578, 284433, 40),\n",
       " (59600, 347803, 39),\n",
       " (106615, 354187, 39),\n",
       " (242897, 114538, 39),\n",
       " (284433, 352578, 38),\n",
       " (118798, 354187, 37),\n",
       " (195696, 390846, 37),\n",
       " (269785, 437070, 36),\n",
       " (437070, 272741, 36),\n",
       " (443106, 258850, 36),\n",
       " (82093, 272741, 35),\n",
       " (237392, 38982, 35),\n",
       " (65566, 38982, 34),\n",
       " (237392, 29931, 34),\n",
       " (284433, 283823, 33),\n",
       " (37462, 297190, 32),\n",
       " (272741, 395447, 32),\n",
       " (321123, 82093, 32),\n",
       " (324660, 228857, 32),\n",
       " (10590, 92007, 31),\n",
       " (229110, 237392, 31),\n",
       " (272741, 106615, 31),\n",
       " (29931, 237392, 30),\n",
       " (78599, 258850, 30),\n",
       " (428198, 238882, 30),\n",
       " (142366, 10590, 29),\n",
       " (272741, 364348, 29),\n",
       " (43724, 335885, 28),\n",
       " (238882, 29931, 28),\n",
       " (260663, 104651, 28),\n",
       " (321123, 347803, 28),\n",
       " (437070, 269785, 28),\n",
       " (443106, 269785, 28),\n",
       " (238882, 229110, 27),\n",
       " (256667, 82093, 27),\n",
       " (289056, 347803, 27),\n",
       " (333275, 347803, 27),\n",
       " (156147, 104651, 26),\n",
       " (231362, 88179, 26),\n",
       " (283823, 347803, 26),\n",
       " (377436, 333275, 26),\n",
       " (142366, 92007, 25),\n",
       " (283023, 347803, 25),\n",
       " (337673, 275465, 25),\n",
       " (344126, 38982, 25),\n",
       " (347803, 390846, 25),\n",
       " (286463, 284433, 24),\n",
       " (337673, 242897, 24),\n",
       " (389174, 238882, 24),\n",
       " (347803, 284433, 23),\n",
       " (347803, 297190, 23),\n",
       " (354187, 156349, 23),\n",
       " (357512, 173922, 23),\n",
       " (378762, 92007, 23),\n",
       " (10307, 275465, 22),\n",
       " (65566, 238882, 22),\n",
       " (237392, 344126, 22),\n",
       " (269785, 429649, 22),\n",
       " (389174, 38982, 22),\n",
       " (106615, 272741, 21),\n",
       " (118798, 284433, 21),\n",
       " (237392, 229110, 21),\n",
       " (276713, 38982, 21),\n",
       " (283023, 284433, 21),\n",
       " (321123, 354187, 21),\n",
       " (347803, 304661, 21),\n",
       " (428198, 38982, 21),\n",
       " (437070, 82093, 21),\n",
       " (43724, 276597, 20),\n",
       " (82093, 354187, 20),\n",
       " (92007, 228803, 20),\n",
       " (304661, 228803, 20),\n",
       " (344126, 29931, 20),\n",
       " (427995, 284433, 20),\n",
       " (10307, 125243, 19),\n",
       " (37462, 347803, 19),\n",
       " (38982, 238882, 19),\n",
       " (65831, 38982, 19),\n",
       " (117362, 304661, 19),\n",
       " (228803, 378762, 19),\n",
       " (269785, 82093, 19),\n",
       " (272741, 437070, 19),\n",
       " (276713, 29931, 19),\n",
       " (304661, 284433, 19),\n",
       " (352578, 169463, 19),\n",
       " (427995, 283823, 19),\n",
       " (10590, 347803, 18),\n",
       " (65566, 229110, 18),\n",
       " (65831, 29931, 18),\n",
       " (106409, 347803, 18),\n",
       " (106615, 395447, 18),\n",
       " (118798, 333275, 18),\n",
       " (143545, 118947, 18),\n",
       " (156147, 437070, 18),\n",
       " (195321, 347803, 18),\n",
       " (272741, 390846, 18),\n",
       " (333275, 82093, 18),\n",
       " (347803, 14661, 18),\n",
       " (357512, 308993, 18),\n",
       " (389174, 29931, 18),\n",
       " (82093, 269785, 17),\n",
       " (104651, 78599, 17),\n",
       " (104651, 443106, 17),\n",
       " (106615, 258850, 17),\n",
       " (106615, 390846, 17),\n",
       " (175178, 395447, 17),\n",
       " (196360, 283023, 17),\n",
       " (276713, 238882, 17),\n",
       " (284433, 286463, 17),\n",
       " (286463, 156349, 17),\n",
       " (289056, 284433, 17),\n",
       " (304661, 352578, 17),\n",
       " (305313, 417577, 17),\n",
       " (321123, 284433, 17),\n",
       " (354078, 347803, 17),\n",
       " (364348, 256667, 17),\n",
       " (118798, 269117, 16),\n",
       " (118798, 272741, 16),\n",
       " (118798, 304661, 16),\n",
       " (167593, 231362, 16),\n",
       " (228803, 92007, 16),\n",
       " (229110, 38982, 16),\n",
       " (256667, 272741, 16),\n",
       " (284433, 347803, 16),\n",
       " (289056, 118798, 16),\n",
       " (289056, 283823, 16),\n",
       " (304661, 395447, 16),\n",
       " (354078, 378762, 16),\n",
       " (377436, 347803, 16),\n",
       " (390846, 347803, 16),\n",
       " (437070, 354187, 16),\n",
       " (59600, 304661, 15),\n",
       " (65831, 238882, 15),\n",
       " (117362, 347803, 15),\n",
       " (125243, 114538, 15),\n",
       " (156349, 286463, 15),\n",
       " (167593, 47886, 15),\n",
       " (221836, 93043, 15),\n",
       " (228803, 243459, 15),\n",
       " (243459, 228803, 15),\n",
       " (260663, 258850, 15),\n",
       " (283823, 27512, 15),\n",
       " (289056, 352578, 15),\n",
       " (297190, 37462, 15),\n",
       " (304661, 269117, 15),\n",
       " (308993, 135508, 15),\n",
       " (333275, 289056, 15),\n",
       " (335454, 347803, 15),\n",
       " (347803, 118798, 15),\n",
       " (389174, 344126, 15),\n",
       " (428198, 29931, 15),\n",
       " (428198, 229110, 15),\n",
       " (59600, 82093, 14),\n",
       " (117362, 269785, 14),\n",
       " (142366, 347803, 14),\n",
       " (156349, 272741, 14),\n",
       " (169463, 283823, 14),\n",
       " (238882, 344126, 14),\n",
       " (258850, 443106, 14),\n",
       " (283023, 283823, 14),\n",
       " (289056, 333275, 14),\n",
       " (333275, 118798, 14),\n",
       " (354187, 106615, 14),\n",
       " (395447, 156349, 14),\n",
       " (29931, 238882, 13),\n",
       " (78599, 443106, 13),\n",
       " (93043, 357512, 13),\n",
       " (106615, 347803, 13),\n",
       " (117362, 258850, 13),\n",
       " (142366, 82093, 13),\n",
       " (156147, 258850, 13),\n",
       " (156349, 82093, 13),\n",
       " (184027, 92007, 13),\n",
       " (195321, 199981, 13),\n",
       " (195321, 352578, 13),\n",
       " (221836, 308993, 13),\n",
       " (229110, 238882, 13),\n",
       " (243459, 92007, 13),\n",
       " (272741, 269785, 13),\n",
       " (289056, 304661, 13),\n",
       " (297190, 130762, 13),\n",
       " (304661, 272741, 13),\n",
       " (347803, 85048, 13),\n",
       " (390846, 272741, 13),\n",
       " (37462, 85048, 12),\n",
       " (106615, 437070, 12),\n",
       " (114538, 242897, 12),\n",
       " (175178, 283823, 12),\n",
       " (175178, 284433, 12),\n",
       " (195307, 272741, 12),\n",
       " (195321, 284433, 12),\n",
       " (195696, 354187, 12),\n",
       " (196360, 156349, 12),\n",
       " (196360, 390846, 12),\n",
       " (199981, 304661, 12),\n",
       " (256667, 269785, 12),\n",
       " (260663, 82093, 12),\n",
       " (276713, 344126, 12),\n",
       " (286463, 258850, 12),\n",
       " (303577, 304661, 12),\n",
       " (337673, 10307, 12),\n",
       " (344126, 229110, 12),\n",
       " (354078, 228803, 12),\n",
       " (10590, 82093, 11),\n",
       " (10590, 143545, 11),\n",
       " (37462, 130762, 11),\n",
       " (117362, 284433, 11),\n",
       " (118798, 352578, 11),\n",
       " (195307, 347803, 11),\n",
       " (195321, 304661, 11),\n",
       " (195696, 272741, 11),\n",
       " (196360, 82093, 11),\n",
       " (199981, 347803, 11),\n",
       " (218487, 78599, 11),\n",
       " (256667, 354187, 11),\n",
       " (276713, 229110, 11),\n",
       " (283823, 283023, 11),\n",
       " (302125, 347803, 11),\n",
       " (304661, 390846, 11),\n",
       " (308993, 173922, 11),\n",
       " (308993, 221836, 11),\n",
       " (308993, 357512, 11),\n",
       " (321123, 272741, 11),\n",
       " (337673, 38982, 11),\n",
       " (347803, 10590, 11),\n",
       " (347803, 333275, 11),\n",
       " (354187, 437070, 11),\n",
       " (377436, 82093, 11),\n",
       " (390846, 195696, 11),\n",
       " (390846, 354187, 11),\n",
       " (395447, 195696, 11),\n",
       " (417577, 126647, 11),\n",
       " (10590, 269785, 10),\n",
       " (27512, 283823, 10),\n",
       " (65566, 344126, 10),\n",
       " (82093, 437070, 10),\n",
       " (106615, 82093, 10),\n",
       " (117362, 228803, 10),\n",
       " (118798, 43724, 10),\n",
       " (118798, 289056, 10),\n",
       " (118798, 437070, 10),\n",
       " (156147, 78599, 10),\n",
       " (157144, 347803, 10),\n",
       " (157144, 352578, 10),\n",
       " (173922, 357512, 10),\n",
       " (195307, 304661, 10),\n",
       " (196360, 347803, 10),\n",
       " (199981, 378762, 10),\n",
       " (272741, 256667, 10),\n",
       " (289056, 395447, 10),\n",
       " (304661, 283023, 10),\n",
       " (304661, 283823, 10),\n",
       " (333275, 272741, 10),\n",
       " (335454, 82093, 10),\n",
       " (337673, 229110, 10),\n",
       " (354078, 92007, 10),\n",
       " (354187, 269785, 10),\n",
       " (354187, 395447, 10),\n",
       " (437070, 156349, 10),\n",
       " (10307, 242897, 9),\n",
       " (78599, 269785, 9),\n",
       " (92007, 378762, 9),\n",
       " (93043, 135508, 9),\n",
       " (118798, 269785, 9),\n",
       " (118798, 286463, 9),\n",
       " (118798, 395447, 9),\n",
       " (156147, 443106, 9),\n",
       " (184027, 243459, 9),\n",
       " (195307, 284433, 9),\n",
       " (196360, 284433, 9),\n",
       " (199981, 195321, 9),\n",
       " (221836, 284433, 9),\n",
       " (256667, 229071, 9),\n",
       " (275465, 337673, 9),\n",
       " (276597, 333275, 9),\n",
       " (283823, 304661, 9),\n",
       " (283823, 357512, 9),\n",
       " (289056, 43724, 9),\n",
       " (289056, 82093, 9),\n",
       " (304661, 269785, 9),\n",
       " (321123, 352578, 9),\n",
       " (321123, 390846, 9),\n",
       " (335156, 347803, 9),\n",
       " (335454, 283823, 9),\n",
       " (344126, 238882, 9),\n",
       " (347803, 78599, 9),\n",
       " (347803, 354078, 9),\n",
       " (377436, 307819, 9),\n",
       " (378762, 243459, 9),\n",
       " (429649, 437070, 9),\n",
       " (443106, 78599, 9),\n",
       " (10307, 114538, 8),\n",
       " (10590, 228803, 8),\n",
       " (38982, 344126, 8),\n",
       " (47886, 88179, 8),\n",
       " (59600, 256667, 8),\n",
       " (59600, 297190, 8),\n",
       " (106409, 395447, 8),\n",
       " (106615, 156349, 8),\n",
       " (114538, 125243, 8),\n",
       " (117362, 82093, 8),\n",
       " (117362, 378762, 8),\n",
       " (118798, 106615, 8),\n",
       " (118798, 156349, 8),\n",
       " (118798, 256667, 8),\n",
       " (125243, 347803, 8),\n",
       " (156147, 272741, 8),\n",
       " (157144, 284433, 8),\n",
       " (184027, 228803, 8),\n",
       " (195321, 228803, 8),\n",
       " (199981, 228803, 8),\n",
       " (242897, 125243, 8),\n",
       " (256667, 364348, 8),\n",
       " (272741, 118798, 8),\n",
       " (284433, 304661, 8),\n",
       " (289056, 269785, 8),\n",
       " (302125, 443106, 8),\n",
       " (303577, 243459, 8),\n",
       " (303577, 390846, 8),\n",
       " (304661, 10088, 8),\n",
       " (304661, 78599, 8),\n",
       " (304661, 93043, 8),\n",
       " (304661, 243459, 8),\n",
       " (304661, 335885, 8),\n",
       " (304661, 354187, 8),\n",
       " (321123, 118798, 8),\n",
       " (321123, 156349, 8),\n",
       " (321123, 269785, 8),\n",
       " (321123, 395447, 8),\n",
       " (321123, 443106, 8),\n",
       " (333275, 276597, 8),\n",
       " (333275, 352578, 8),\n",
       " (352578, 304661, 8),\n",
       " (354078, 269785, 8),\n",
       " (364348, 82093, 8),\n",
       " (377436, 43724, 8),\n",
       " (377436, 118798, 8),\n",
       " (378762, 184027, 8),\n",
       " (428198, 344126, 8),\n",
       " (437070, 429649, 8),\n",
       " (14661, 304661, 7),\n",
       " (38982, 29931, 7),\n",
       " (38982, 229110, 7),\n",
       " (65566, 29931, 7),\n",
       " (65831, 229110, 7),\n",
       " (65831, 344126, 7),\n",
       " (78599, 104651, 7),\n",
       " (78599, 218487, 7),\n",
       " (85048, 130762, 7),\n",
       " (85048, 347803, 7),\n",
       " (106409, 269117, 7),\n",
       " (106409, 284433, 7),\n",
       " (106409, 304661, 7),\n",
       " (106409, 352578, 7),\n",
       " (106615, 269785, 7),\n",
       " (106615, 304661, 7),\n",
       " (117362, 173922, 7),\n",
       " (117362, 354187, 7),\n",
       " (118798, 258850, 7),\n",
       " (118798, 302125, 7),\n",
       " (125243, 242897, 7),\n",
       " (156147, 82093, 7),\n",
       " (156349, 284433, 7),\n",
       " (157144, 283823, 7),\n",
       " (167593, 187944, 7),\n",
       " (195307, 352578, 7),\n",
       " (195321, 173922, 7),\n",
       " (195321, 272741, 7),\n",
       " (195696, 82093, 7),\n",
       " (196360, 272741, 7),\n",
       " (196360, 354187, 7),\n",
       " (229110, 29931, 7),\n",
       " (229110, 344126, 7),\n",
       " (238882, 389174, 7),\n",
       " (260663, 78599, 7),\n",
       " (272741, 304661, 7),\n",
       " (283823, 85048, 7),\n",
       " (283823, 156349, 7),\n",
       " (283823, 272741, 7),\n",
       " (284433, 395447, 7),\n",
       " (289056, 130762, 7),\n",
       " (289056, 156349, 7),\n",
       " (289056, 269117, 7),\n",
       " (289056, 283023, 7),\n",
       " (289056, 354187, 7),\n",
       " (302125, 284433, 7),\n",
       " (302125, 395447, 7),\n",
       " (303577, 82093, 7),\n",
       " (303577, 130762, 7),\n",
       " (303577, 228803, 7),\n",
       " (303577, 284433, 7),\n",
       " (303577, 347803, 7),\n",
       " (304661, 82093, 7),\n",
       " (321123, 256667, 7),\n",
       " (321123, 283023, 7),\n",
       " (321123, 304661, 7),\n",
       " (333275, 43724, 7),\n",
       " (333275, 256667, 7),\n",
       " (333275, 354187, 7),\n",
       " (333275, 390846, 7),\n",
       " (335454, 333275, 7),\n",
       " (347803, 59600, 7),\n",
       " (347803, 283023, 7),\n",
       " (389174, 229110, 7),\n",
       " (395447, 284433, 7),\n",
       " (10088, 308993, 6),\n",
       " (10590, 284433, 6),\n",
       " (10590, 352578, 6),\n",
       " (13139, 258850, 6),\n",
       " (13139, 269117, 6),\n",
       " (13139, 283823, 6),\n",
       " (13139, 335885, 6),\n",
       " (29931, 344126, 6),\n",
       " (43724, 118798, 6),\n",
       " (47471, 243459, 6),\n",
       " (59600, 10088, 6),\n",
       " (59600, 333275, 6),\n",
       " (85048, 297190, 6),\n",
       " (106409, 43724, 6),\n",
       " (106409, 258850, 6),\n",
       " (106409, 333275, 6),\n",
       " (106615, 118798, 6),\n",
       " (117362, 272741, 6),\n",
       " (118798, 283823, 6),\n",
       " (118798, 390846, 6),\n",
       " (130762, 27512, 6),\n",
       " (130762, 85048, 6),\n",
       " (156349, 395447, 6),\n",
       " (157144, 304661, 6),\n",
       " (169463, 395447, 6),\n",
       " (187944, 229765, 6),\n",
       " (195307, 92007, 6),\n",
       " (195321, 10088, 6),\n",
       " (195321, 130762, 6),\n",
       " (195696, 156349, 6),\n",
       " (196360, 106615, 6),\n",
       " (196360, 118798, 6),\n",
       " (196360, 352578, 6),\n",
       " (196360, 395447, 6),\n",
       " (199981, 143545, 6),\n",
       " (258850, 304661, 6),\n",
       " (258850, 354078, 6),\n",
       " (269785, 304661, 6),\n",
       " (272741, 258850, 6),\n",
       " (272741, 321123, 6),\n",
       " (283023, 352578, 6),\n",
       " (283823, 308993, 6),\n",
       " (283823, 390846, 6),\n",
       " (286463, 347803, 6),\n",
       " (289056, 10088, 6),\n",
       " (289056, 93043, 6),\n",
       " (289056, 286463, 6),\n",
       " (302125, 228803, 6),\n",
       " (304661, 130762, 6),\n",
       " (304661, 143545, 6),\n",
       " (304661, 156349, 6),\n",
       " (304661, 177784, 6),\n",
       " (304661, 229071, 6),\n",
       " (308993, 283823, 6),\n",
       " (308993, 304661, 6),\n",
       " (321123, 173922, 6),\n",
       " (332072, 207342, 6),\n",
       " (333275, 269785, 6),\n",
       " (335156, 43724, 6),\n",
       " (335454, 354187, 6),\n",
       " (335885, 43724, 6),\n",
       " (347803, 37462, 6),\n",
       " (347803, 130762, 6),\n",
       " (347803, 276597, 6),\n",
       " (347803, 283823, 6),\n",
       " (347803, 289056, 6),\n",
       " (354078, 82093, 6),\n",
       " (354078, 354187, 6),\n",
       " (390846, 283823, 6),\n",
       " (10590, 184027, 5),\n",
       " (10590, 258850, 5),\n",
       " (13139, 284433, 5),\n",
       " (14661, 284433, 5),\n",
       " (37462, 10088, 5),\n",
       " (59600, 43724, 5),\n",
       " (59600, 93043, 5),\n",
       " (59600, 130762, 5),\n",
       " (59600, 269785, 5),\n",
       " (59600, 284433, 5),\n",
       " (59600, 354187, 5),\n",
       " (65566, 389174, 5),\n",
       " (73367, 191597, 5),\n",
       " (82093, 156349, 5),\n",
       " (82093, 275465, 5),\n",
       " (82093, 395447, 5),\n",
       " (92007, 243459, 5),\n",
       " (106409, 354187, 5),\n",
       " (106615, 284433, 5),\n",
       " (106615, 352578, 5),\n",
       " (114538, 10307, 5),\n",
       " (117362, 78599, 5),\n",
       " (117362, 118947, 5),\n",
       " (117362, 269117, 5),\n",
       " (117362, 283823, 5),\n",
       " (117362, 352578, 5),\n",
       " (118798, 106409, 5),\n",
       " (118798, 177784, 5),\n",
       " (130762, 283823, 5),\n",
       " (156349, 269785, 5),\n",
       " (156349, 354187, 5),\n",
       " (157144, 228803, 5),\n",
       " (157144, 272741, 5),\n",
       " (157144, 307819, 5),\n",
       " (169463, 284433, 5),\n",
       " (175178, 283023, 5),\n",
       " (195307, 10088, 5),\n",
       " (195307, 307819, 5),\n",
       " (195307, 333275, 5),\n",
       " (195307, 354187, 5),\n",
       " (195321, 78599, 5),\n",
       " (195321, 82093, 5),\n",
       " (195321, 117362, 5),\n",
       " (195321, 283823, 5),\n",
       " (196360, 304661, 5),\n",
       " (196360, 437070, 5),\n",
       " (199981, 10088, 5),\n",
       " (228803, 184027, 5),\n",
       " (242897, 337673, 5),\n",
       " (243459, 304661, 5),\n",
       " (257731, 347803, 5),\n",
       " (258850, 156349, 5),\n",
       " (258850, 437070, 5),\n",
       " (269785, 258850, 5),\n",
       " (283023, 48448, 5),\n",
       " (283823, 93043, 5),\n",
       " (283823, 175178, 5),\n",
       " (286463, 304661, 5),\n",
       " (289056, 27512, 5),\n",
       " (289056, 47471, 5),\n",
       " (289056, 106409, 5),\n",
       " (289056, 297190, 5),\n",
       " (297190, 85048, 5),\n",
       " (302125, 118798, 5),\n",
       " (302125, 352578, 5),\n",
       " (303577, 43724, 5),\n",
       " (303577, 59600, 5),\n",
       " (304661, 43724, 5),\n",
       " (304661, 47471, 5),\n",
       " (304661, 92007, 5),\n",
       " (304661, 184027, 5),\n",
       " (304661, 258850, 5),\n",
       " (304661, 286463, 5),\n",
       " (304661, 289056, 5),\n",
       " (304661, 308993, 5),\n",
       " (304661, 364348, 5),\n",
       " (308993, 10088, 5),\n",
       " (321123, 229071, 5),\n",
       " (321123, 269117, 5),\n",
       " (321123, 307819, 5),\n",
       " (333275, 93043, 5),\n",
       " (333275, 258850, 5),\n",
       " (333275, 284433, 5),\n",
       " (333275, 395447, 5),\n",
       " (335156, 272741, 5),\n",
       " (335156, 284433, 5),\n",
       " (335156, 354187, 5),\n",
       " (335454, 43724, 5),\n",
       " (337673, 125243, 5),\n",
       " (337673, 184027, 5),\n",
       " (337673, 238882, 5),\n",
       " (347803, 82093, 5),\n",
       " (347803, 256667, 5),\n",
       " (347803, 354187, 5),\n",
       " (354078, 218487, 5),\n",
       " (364348, 196360, 5),\n",
       " (377436, 443106, 5),\n",
       " (390846, 304661, 5),\n",
       " (395447, 82093, 5),\n",
       " (395447, 272741, 5),\n",
       " (395447, 354187, 5),\n",
       " (427995, 195696, 5),\n",
       " (429649, 269785, 5),\n",
       " (437070, 118798, 5),\n",
       " (10088, 304661, 4),\n",
       " (10307, 337673, 4),\n",
       " (10590, 47471, 4),\n",
       " (10590, 272741, 4),\n",
       " (13139, 272741, 4),\n",
       " (13139, 347803, 4),\n",
       " (14661, 333275, 4),\n",
       " (16954, 143074, 4),\n",
       " (23214, 288266, 4),\n",
       " (27512, 283023, 4),\n",
       " (27512, 284433, 4),\n",
       " (29931, 38982, 4),\n",
       " (29931, 229110, 4),\n",
       " (43724, 333275, 4),\n",
       " (43724, 352578, 4),\n",
       " (59600, 118798, 4),\n",
       " (59600, 321123, 4),\n",
       " (59600, 335454, 4),\n",
       " (59600, 443106, 4),\n",
       " (78599, 304661, 4),\n",
       " (82093, 106615, 4),\n",
       " (82093, 118798, 4),\n",
       " (92007, 184027, 4),\n",
       " (93043, 173922, 4),\n",
       " (93043, 289056, 4),\n",
       " (93043, 304661, 4),\n",
       " (104651, 117362, 4),\n",
       " (106409, 228803, 4),\n",
       " (106409, 229071, 4),\n",
       " (106409, 269785, 4),\n",
       " (106615, 275465, 4),\n",
       " (117362, 93043, 4),\n",
       " (117362, 118798, 4),\n",
       " (117362, 156349, 4),\n",
       " (117362, 184027, 4),\n",
       " (117362, 243459, 4),\n",
       " (117362, 390846, 4),\n",
       " (117362, 443106, 4),\n",
       " (118798, 93043, 4),\n",
       " (118798, 104651, 4),\n",
       " (118798, 276597, 4),\n",
       " (118798, 364348, 4),\n",
       " (125243, 10307, 4),\n",
       " (125243, 337673, 4),\n",
       " (130762, 347803, 4),\n",
       " (135508, 10088, 4),\n",
       " (142366, 228803, 4),\n",
       " (156349, 106615, 4),\n",
       " (156349, 196360, 4),\n",
       " (156349, 258850, 4),\n",
       " (156349, 304661, 4),\n",
       " (156349, 437070, 4),\n",
       " (157144, 10088, 4),\n",
       " (157144, 47471, 4),\n",
       " (157144, 82093, 4),\n",
       " (157144, 93043, 4),\n",
       " (157144, 143545, 4),\n",
       " (157144, 173922, 4),\n",
       " (157144, 221836, 4),\n",
       " (184027, 378762, 4),\n",
       " (195307, 82093, 4),\n",
       " (195307, 156349, 4),\n",
       " (195307, 228803, 4),\n",
       " (195307, 256667, 4),\n",
       " (195307, 395447, 4),\n",
       " (195321, 93043, 4),\n",
       " (195321, 156349, 4),\n",
       " (195321, 258850, 4),\n",
       " (195321, 269785, 4),\n",
       " (195321, 395447, 4),\n",
       " (196360, 93043, 4),\n",
       " (196360, 104651, 4),\n",
       " (196360, 221836, 4),\n",
       " (199981, 276597, 4),\n",
       " (199981, 284433, 4),\n",
       " (199981, 333275, 4),\n",
       " (229071, 177784, 4),\n",
       " (243459, 378762, 4),\n",
       " (256667, 196360, 4),\n",
       " (258850, 395447, 4),\n",
       " (269785, 156349, 4),\n",
       " (269785, 272741, 4),\n",
       " (272741, 195696, 4),\n",
       " (272741, 275465, 4),\n",
       " (272741, 284433, 4),\n",
       " (272741, 286463, 4),\n",
       " (275465, 272741, 4),\n",
       " (283023, 256667, 4),\n",
       " (283023, 258850, 4),\n",
       " (283823, 43724, 4),\n",
       " (283823, 78599, 4),\n",
       " (283823, 130762, 4),\n",
       " (283823, 169463, 4),\n",
       " (283823, 289056, 4),\n",
       " (284433, 106409, 4),\n",
       " (284433, 118798, 4),\n",
       " (284433, 283023, 4),\n",
       " (284433, 354078, 4),\n",
       " (286463, 269785, 4),\n",
       " (286463, 283823, 4),\n",
       " (289056, 78599, 4),\n",
       " (289056, 104651, 4),\n",
       " (289056, 258850, 4),\n",
       " (289056, 276597, 4),\n",
       " (289056, 443106, 4),\n",
       " (302125, 38982, 4),\n",
       " (302125, 229071, 4),\n",
       " (302125, 269117, 4),\n",
       " (302125, 269785, 4),\n",
       " (302125, 354187, 4),\n",
       " (303577, 93043, 4),\n",
       " (303577, 117362, 4),\n",
       " (303577, 118947, 4),\n",
       " (303577, 269785, 4),\n",
       " (303577, 443106, 4),\n",
       " (304661, 10590, 4),\n",
       " (304661, 106615, 4),\n",
       " (304661, 118947, 4),\n",
       " (304661, 221836, 4),\n",
       " (304661, 443106, 4),\n",
       " (307819, 195307, 4),\n",
       " (321123, 43724, 4),\n",
       " (321123, 78599, 4),\n",
       " (321123, 221836, 4),\n",
       " (321123, 286463, 4),\n",
       " (321123, 364348, 4),\n",
       " (324660, 48448, 4),\n",
       " (324660, 87256, 4),\n",
       " (333275, 106409, 4),\n",
       " (333275, 283823, 4),\n",
       " (333275, 297190, 4),\n",
       " (335156, 47471, 4),\n",
       " (335156, 82093, 4),\n",
       " (335156, 130762, 4),\n",
       " (335156, 283823, 4),\n",
       " (335156, 304661, 4),\n",
       " (335454, 276597, 4),\n",
       " (347803, 156349, 4),\n",
       " (347803, 195696, 4),\n",
       " (347803, 257731, 4),\n",
       " (347803, 269785, 4),\n",
       " (352578, 156349, 4),\n",
       " (354078, 118798, 4),\n",
       " (354078, 283823, 4),\n",
       " (354078, 284433, 4),\n",
       " (354078, 304661, 4),\n",
       " (354187, 256667, 4),\n",
       " (377436, 130762, 4),\n",
       " (377436, 258850, 4),\n",
       " (377436, 276597, 4),\n",
       " (377436, 283023, 4),\n",
       " (390846, 78599, 4),\n",
       " (390846, 82093, 4),\n",
       " (390846, 284433, 4),\n",
       " (395447, 173922, 4),\n",
       " (395447, 283823, 4),\n",
       " (395447, 304661, 4),\n",
       " (443106, 82093, 4),\n",
       " (10088, 289056, 3),\n",
       " (10088, 347803, 3),\n",
       " (10307, 184027, 3),\n",
       " (10307, 238882, 3),\n",
       " (10590, 78599, 3),\n",
       " (10590, 104651, 3),\n",
       " (10590, 118798, 3),\n",
       " (10590, 218487, 3),\n",
       " (10590, 257731, 3),\n",
       " (10590, 283023, 3),\n",
       " (10590, 304661, 3),\n",
       " (13139, 130762, 3),\n",
       " (13139, 228803, 3),\n",
       " (14661, 156349, 3),\n",
       " (14661, 269785, 3),\n",
       " (14661, 289056, 3),\n",
       " (14661, 352578, 3),\n",
       " (16954, 224092, 3),\n",
       " (43724, 37462, 3),\n",
       " (59600, 27512, 3),\n",
       " (59600, 37462, 3),\n",
       " (59600, 106409, 3),\n",
       " (59600, 106615, 3),\n",
       " (59600, 258850, 3),\n",
       " (59600, 283023, 3),\n",
       " (59600, 335156, 3),\n",
       " (82093, 256667, 3),\n",
       " (82093, 304661, 3),\n",
       " (82093, 347803, 3),\n",
       " (82093, 390846, 3),\n",
       " (85048, 37462, 3),\n",
       " (87256, 324660, 3),\n",
       " (104651, 82093, 3),\n",
       " (106409, 82093, 3),\n",
       " (106409, 106615, 3),\n",
       " (106409, 118798, 3),\n",
       " (106409, 130762, 3),\n",
       " (106409, 143545, 3),\n",
       " (106409, 276597, 3),\n",
       " (106409, 283023, 3),\n",
       " (106409, 283823, 3),\n",
       " (106409, 429649, 3),\n",
       " (106615, 43724, 3),\n",
       " (106615, 221836, 3),\n",
       " (106615, 243459, 3),\n",
       " (106615, 283023, 3),\n",
       " (106615, 443106, 3),\n",
       " (117362, 47471, 3),\n",
       " (117362, 92007, 3),\n",
       " (117362, 130762, 3),\n",
       " (117362, 195696, 3),\n",
       " (117362, 218487, 3),\n",
       " (117362, 308993, 3),\n",
       " (117362, 333275, 3),\n",
       " (117362, 340177, 3),\n",
       " (117362, 437070, 3),\n",
       " (118798, 10590, 3),\n",
       " (118798, 130762, 3),\n",
       " (118798, 143545, 3),\n",
       " (118798, 195307, 3),\n",
       " (118798, 275465, 3),\n",
       " (118798, 308993, 3),\n",
       " (118798, 321123, 3),\n",
       " (118798, 335885, 3),\n",
       " (118798, 429649, 3),\n",
       " (118798, 443106, 3),\n",
       " (130762, 37462, 3),\n",
       " (142366, 104651, 3),\n",
       " (142366, 118798, 3),\n",
       " (142366, 143545, 3),\n",
       " (142366, 219680, 3),\n",
       " (142366, 269785, 3),\n",
       " (142366, 272741, 3),\n",
       " (142366, 283823, 3),\n",
       " (142366, 286463, 3),\n",
       " (142366, 378762, 3),\n",
       " (156147, 354078, 3),\n",
       " (157144, 104651, 3),\n",
       " (157144, 229071, 3),\n",
       " (157144, 243459, 3),\n",
       " (157144, 269785, 3),\n",
       " (169463, 304661, 3),\n",
       " (173922, 395447, 3),\n",
       " (177784, 229071, 3),\n",
       " (195307, 118798, 3),\n",
       " (195307, 118947, 3),\n",
       " (195307, 130762, 3),\n",
       " (195307, 173922, 3),\n",
       " (195307, 390846, 3),\n",
       " (195321, 177784, 3),\n",
       " (195321, 229071, 3),\n",
       " (195321, 283023, 3),\n",
       " (195321, 335885, 3),\n",
       " (195321, 378762, 3),\n",
       " (195696, 437070, 3),\n",
       " (196360, 195696, 3),\n",
       " (196360, 256667, 3),\n",
       " (196360, 308993, 3),\n",
       " (196360, 321123, 3),\n",
       " (199981, 14661, 3),\n",
       " (199981, 106409, 3),\n",
       " (199981, 272741, 3),\n",
       " (199981, 283023, 3),\n",
       " (199981, 352578, 3),\n",
       " (221836, 78599, 3),\n",
       " (221836, 272741, 3),\n",
       " (221836, 304661, 3),\n",
       " (221836, 357512, 3),\n",
       " (228803, 304661, 3),\n",
       " (239004, 368878, 3),\n",
       " (243459, 157144, 3),\n",
       " (243459, 184027, 3),\n",
       " (256667, 118798, 3),\n",
       " (256667, 347803, 3),\n",
       " (258850, 82093, 3),\n",
       " (260663, 443106, 3),\n",
       " (269785, 78599, 3),\n",
       " (269785, 256667, 3),\n",
       " (269785, 354187, 3),\n",
       " (272741, 10590, 3),\n",
       " (272741, 93043, 3),\n",
       " (272741, 229071, 3),\n",
       " (272741, 347803, 3),\n",
       " (272741, 352578, 3),\n",
       " (276597, 43724, 3),\n",
       " (276597, 347803, 3),\n",
       " (276713, 389174, 3),\n",
       " (283023, 27512, 3),\n",
       " (283023, 118798, 3),\n",
       " (283023, 196360, 3),\n",
       " (283023, 289056, 3),\n",
       " (283023, 304661, 3),\n",
       " (283023, 333275, 3),\n",
       " (283023, 443106, 3),\n",
       " (283823, 14661, 3),\n",
       " (283823, 173922, 3),\n",
       " (283823, 221836, 3),\n",
       " (283823, 269117, 3),\n",
       " (283823, 269785, 3),\n",
       " (284433, 85048, 3),\n",
       " (284433, 117362, 3),\n",
       " (284433, 333275, 3),\n",
       " (284433, 390846, 3),\n",
       " (286463, 78599, 3),\n",
       " (286463, 283023, 3),\n",
       " (289056, 92007, 3),\n",
       " (289056, 143545, 3),\n",
       " (289056, 173922, 3),\n",
       " (289056, 221836, 3),\n",
       " (289056, 335885, 3),\n",
       " (289056, 378762, 3),\n",
       " (297190, 43724, 3),\n",
       " (297190, 286463, 3),\n",
       " (297190, 304661, 3),\n",
       " (302125, 283823, 3),\n",
       " (302125, 304661, 3),\n",
       " (302125, 321123, 3),\n",
       " (302125, 333275, 3),\n",
       " (303577, 92007, 3),\n",
       " (303577, 143545, 3),\n",
       " (303577, 229071, 3),\n",
       " (303577, 256667, 3),\n",
       " (303577, 272741, 3),\n",
       " (303577, 283023, 3),\n",
       " (303577, 283823, 3),\n",
       " (303577, 352578, 3),\n",
       " (303577, 354187, 3),\n",
       " (303577, 378762, 3),\n",
       " (303577, 437070, 3),\n",
       " (304661, 27512, 3),\n",
       " (304661, 37462, 3),\n",
       " (304661, 104651, 3),\n",
       " (304661, 118798, 3),\n",
       " (304661, 157144, 3),\n",
       " (304661, 173922, 3),\n",
       " (304661, 276597, 3),\n",
       " (304661, 297190, 3),\n",
       " (304661, 333275, 3),\n",
       " (304661, 340177, 3),\n",
       " (304661, 429649, 3),\n",
       " (308993, 78599, 3),\n",
       " (308993, 269785, 3),\n",
       " (321123, 93043, 3),\n",
       " (321123, 104651, 3),\n",
       " (321123, 143545, 3),\n",
       " (321123, 283823, 3),\n",
       " (321123, 437070, 3),\n",
       " (333275, 14661, 3),\n",
       " (333275, 106615, 3),\n",
       " (333275, 156349, 3),\n",
       " (333275, 283023, 3),\n",
       " (333275, 443106, 3),\n",
       " (335156, 269785, 3),\n",
       " (335156, 443106, 3),\n",
       " (335454, 272741, 3),\n",
       " (335454, 283023, 3),\n",
       " (337673, 29931, 3),\n",
       " (347803, 10088, 3),\n",
       " (347803, 195307, 3),\n",
       " (347803, 272741, 3),\n",
       " (347803, 286463, 3),\n",
       " (347803, 437070, 3),\n",
       " (352578, 175178, 3),\n",
       " (352578, 221836, 3),\n",
       " ...]"
      ]
     },
     "execution_count": 61,
     "metadata": {},
     "output_type": "execute_result"
    }
   ],
   "source": [
    "interp.most_confused()"
   ]
  },
  {
   "cell_type": "code",
   "execution_count": 62,
   "metadata": {
    "collapsed": true,
    "gather": {
     "logged": 1618622821654
    },
    "jupyter": {
     "outputs_hidden": false,
     "source_hidden": false
    },
    "nteract": {
     "transient": {
      "deleting": false
     }
    }
   },
   "outputs": [
    {
     "data": {
      "text/html": [
       "<table border=\"1\" class=\"dataframe\">\n",
       "  <thead>\n",
       "    <tr style=\"text-align: right;\">\n",
       "      <th></th>\n",
       "      <th>input</th>\n",
       "      <th>target</th>\n",
       "      <th>predicted</th>\n",
       "      <th>probability</th>\n",
       "      <th>loss</th>\n",
       "    </tr>\n",
       "  </thead>\n",
       "  <tbody>\n",
       "    <tr>\n",
       "      <th>0</th>\n",
       "      <td>xxbos xxmaj alan xxmaj ford ( december 7 , 1923 – xxmaj november 3 , 2008 ) was an xxmaj american swimmer who was a silver medalist at the 1948 xxmaj summer xxmaj olympics and was the first to swim the 100-yard freestyle in under 50 seconds .</td>\n",
       "      <td>37462</td>\n",
       "      <td>340177</td>\n",
       "      <td>0.9876576662063599</td>\n",
       "      <td>14.975310325622559</td>\n",
       "    </tr>\n",
       "    <tr>\n",
       "      <th>1</th>\n",
       "      <td>xxbos xxmaj barbara xxunk is an internationally acclaimed mezzo soprano opera singer from xxmaj muskogee , xxmaj oklahoma .</td>\n",
       "      <td>93043</td>\n",
       "      <td>429649</td>\n",
       "      <td>0.9859415888786316</td>\n",
       "      <td>14.865964889526367</td>\n",
       "    </tr>\n",
       "    <tr>\n",
       "      <th>2</th>\n",
       "      <td>xxbos xxmaj aaron xxmaj williams is a us - american boxer .</td>\n",
       "      <td>195321</td>\n",
       "      <td>177784</td>\n",
       "      <td>0.9994522929191589</td>\n",
       "      <td>13.070860862731934</td>\n",
       "    </tr>\n",
       "    <tr>\n",
       "      <th>3</th>\n",
       "      <td>xxbos xxmaj christopher xxmaj robert xxmaj zorich is a former xxmaj american football defensive tackle in the xxmaj national xxmaj football xxmaj league for the xxmaj chicago xxmaj bears and xxmaj washington xxmaj redskins .</td>\n",
       "      <td>14661</td>\n",
       "      <td>304661</td>\n",
       "      <td>0.5525233149528503</td>\n",
       "      <td>13.003416061401367</td>\n",
       "    </tr>\n",
       "    <tr>\n",
       "      <th>4</th>\n",
       "      <td>xxbos xxmaj ken xxmaj miles ( 1 xxmaj november 1918 in xxmaj sutton xxmaj xxunk near xxmaj birmingham , xxmaj england \\ u2013 17 xxmaj august 1966 in xxmaj riverside , xxmaj california , xxmaj united xxmaj states ) was a sports car racing engineer and driver best known for his career in the xxup usa and with xxmaj american teams on the international scene .</td>\n",
       "      <td>333275</td>\n",
       "      <td>257731</td>\n",
       "      <td>0.9968680739402771</td>\n",
       "      <td>12.55294132232666</td>\n",
       "    </tr>\n",
       "    <tr>\n",
       "      <th>5</th>\n",
       "      <td>xxbos xxmaj ryan xxmaj xxunk is a filmmaker and artist based in xxmaj philadelphia , xxmaj pennsylvania .</td>\n",
       "      <td>10590</td>\n",
       "      <td>135508</td>\n",
       "      <td>0.4591695964336395</td>\n",
       "      <td>12.549087524414062</td>\n",
       "    </tr>\n",
       "    <tr>\n",
       "      <th>6</th>\n",
       "      <td>xxbos xxmaj edward xxmaj andrew xxmaj schultz ( born xxmaj january 27 , 1954 ) is an xxmaj american television and radio host and political pundit . xxmaj he is the host of xxmaj the xxmaj ed xxmaj show , a daily news program on xxup msnbc , and xxmaj the xxmaj ed xxmaj schultz xxmaj show , a nationally syndicated talk radio show promising \" straight talk . \"</td>\n",
       "      <td>184027</td>\n",
       "      <td>286463</td>\n",
       "      <td>0.7303786277770996</td>\n",
       "      <td>12.388411521911621</td>\n",
       "    </tr>\n",
       "    <tr>\n",
       "      <th>7</th>\n",
       "      <td>xxbos xxmaj william xxmaj woodruff xxmaj niles ( may 24 , 1832 - xxmaj march 31 , 1914 ) was the third bishop of the xxmaj episcopal xxmaj diocese of xxmaj new xxmaj hampshire and served as such from 1870 until his death in 1914 .</td>\n",
       "      <td>10307</td>\n",
       "      <td>269117</td>\n",
       "      <td>0.9329898953437805</td>\n",
       "      <td>12.276391983032227</td>\n",
       "    </tr>\n",
       "    <tr>\n",
       "      <th>8</th>\n",
       "      <td>xxbos xxmaj james xxmaj kenneth xxmaj perry ( born xxmaj august 10 , 1960 ) is an xxmaj american professional golfer who currently plays on the xxup pga xxmaj tour and will be eligible for the xxmaj champions xxmaj tour on his 50th birthday later in 2010 .</td>\n",
       "      <td>333275</td>\n",
       "      <td>219680</td>\n",
       "      <td>0.5114709734916687</td>\n",
       "      <td>12.147027015686035</td>\n",
       "    </tr>\n",
       "    <tr>\n",
       "      <th>9</th>\n",
       "      <td>xxbos xxmaj eric xxup o. xxmaj xxunk ( born xxmaj july 18 , 1975 in xxmaj irvington , xxmaj new xxmaj york ) is a former xxmaj american football defensive end in the xxmaj national xxmaj football xxmaj league for the xxmaj new xxmaj york xxmaj jets , the xxmaj cincinnati xxmaj bengals , and the xxmaj dallas xxmaj cowboys .</td>\n",
       "      <td>354187</td>\n",
       "      <td>228803</td>\n",
       "      <td>0.7313382625579834</td>\n",
       "      <td>12.11878776550293</td>\n",
       "    </tr>\n",
       "  </tbody>\n",
       "</table>"
      ],
      "text/plain": [
       "<IPython.core.display.HTML object>"
      ]
     },
     "metadata": {},
     "output_type": "display_data"
    }
   ],
   "source": [
    "interp.plot_top_losses(10)"
   ]
  },
  {
   "cell_type": "markdown",
   "metadata": {
    "nteract": {
     "transient": {
      "deleting": false
     }
    }
   },
   "source": [
    "#### 4. Predict"
   ]
  },
  {
   "cell_type": "code",
   "execution_count": 63,
   "metadata": {
    "collapsed": true,
    "gather": {
     "logged": 1608011565148
    },
    "jupyter": {
     "outputs_hidden": false,
     "source_hidden": false
    },
    "nteract": {
     "transient": {
      "deleting": false
     }
    }
   },
   "outputs": [
    {
     "ename": "FileNotFoundError",
     "evalue": "[Errno 2] No such file or directory: 'models/export.pkl'",
     "output_type": "error",
     "traceback": [
      "\u001b[0;31m---------------------------------------------------------------------------\u001b[0m",
      "\u001b[0;31mFileNotFoundError\u001b[0m                         Traceback (most recent call last)",
      "\u001b[0;32m<ipython-input-63-26c795fe5f52>\u001b[0m in \u001b[0;36m<module>\u001b[0;34m\u001b[0m\n\u001b[0;32m----> 1\u001b[0;31m \u001b[0mlearn_inf\u001b[0m \u001b[0;34m=\u001b[0m \u001b[0mload_learner\u001b[0m\u001b[0;34m(\u001b[0m\u001b[0;34m'models/export.pkl'\u001b[0m\u001b[0;34m)\u001b[0m\u001b[0;34m\u001b[0m\u001b[0;34m\u001b[0m\u001b[0m\n\u001b[0m\u001b[1;32m      2\u001b[0m \u001b[0mlearn_inf\u001b[0m\u001b[0;34m.\u001b[0m\u001b[0mpredict\u001b[0m\u001b[0;34m(\u001b[0m\u001b[0;34m\"Nice to work for Expeditors\"\u001b[0m\u001b[0;34m)\u001b[0m\u001b[0;34m\u001b[0m\u001b[0;34m\u001b[0m\u001b[0m\n",
      "\u001b[0;32m/anaconda/envs/fastai/lib/python3.8/site-packages/fastai/learner.py\u001b[0m in \u001b[0;36mload_learner\u001b[0;34m(fname, cpu)\u001b[0m\n\u001b[1;32m    549\u001b[0m     \u001b[0;34m\"Load a `Learner` object in `fname`, optionally putting it on the `cpu`\"\u001b[0m\u001b[0;34m\u001b[0m\u001b[0;34m\u001b[0m\u001b[0m\n\u001b[1;32m    550\u001b[0m     \u001b[0mdistrib_barrier\u001b[0m\u001b[0;34m(\u001b[0m\u001b[0;34m)\u001b[0m\u001b[0;34m\u001b[0m\u001b[0;34m\u001b[0m\u001b[0m\n\u001b[0;32m--> 551\u001b[0;31m     \u001b[0mres\u001b[0m \u001b[0;34m=\u001b[0m \u001b[0mtorch\u001b[0m\u001b[0;34m.\u001b[0m\u001b[0mload\u001b[0m\u001b[0;34m(\u001b[0m\u001b[0mfname\u001b[0m\u001b[0;34m,\u001b[0m \u001b[0mmap_location\u001b[0m\u001b[0;34m=\u001b[0m\u001b[0;34m'cpu'\u001b[0m \u001b[0;32mif\u001b[0m \u001b[0mcpu\u001b[0m \u001b[0;32melse\u001b[0m \u001b[0;32mNone\u001b[0m\u001b[0;34m)\u001b[0m\u001b[0;34m\u001b[0m\u001b[0;34m\u001b[0m\u001b[0m\n\u001b[0m\u001b[1;32m    552\u001b[0m     \u001b[0;32mif\u001b[0m \u001b[0mhasattr\u001b[0m\u001b[0;34m(\u001b[0m\u001b[0mres\u001b[0m\u001b[0;34m,\u001b[0m \u001b[0;34m'to_fp32'\u001b[0m\u001b[0;34m)\u001b[0m\u001b[0;34m:\u001b[0m \u001b[0mres\u001b[0m \u001b[0;34m=\u001b[0m \u001b[0mres\u001b[0m\u001b[0;34m.\u001b[0m\u001b[0mto_fp32\u001b[0m\u001b[0;34m(\u001b[0m\u001b[0;34m)\u001b[0m\u001b[0;34m\u001b[0m\u001b[0;34m\u001b[0m\u001b[0m\n\u001b[1;32m    553\u001b[0m     \u001b[0;32mif\u001b[0m \u001b[0mcpu\u001b[0m\u001b[0;34m:\u001b[0m \u001b[0mres\u001b[0m\u001b[0;34m.\u001b[0m\u001b[0mdls\u001b[0m\u001b[0;34m.\u001b[0m\u001b[0mcpu\u001b[0m\u001b[0;34m(\u001b[0m\u001b[0;34m)\u001b[0m\u001b[0;34m\u001b[0m\u001b[0;34m\u001b[0m\u001b[0m\n",
      "\u001b[0;32m/anaconda/envs/fastai/lib/python3.8/site-packages/torch/serialization.py\u001b[0m in \u001b[0;36mload\u001b[0;34m(f, map_location, pickle_module, **pickle_load_args)\u001b[0m\n\u001b[1;32m    579\u001b[0m         \u001b[0mpickle_load_args\u001b[0m\u001b[0;34m[\u001b[0m\u001b[0;34m'encoding'\u001b[0m\u001b[0;34m]\u001b[0m \u001b[0;34m=\u001b[0m \u001b[0;34m'utf-8'\u001b[0m\u001b[0;34m\u001b[0m\u001b[0;34m\u001b[0m\u001b[0m\n\u001b[1;32m    580\u001b[0m \u001b[0;34m\u001b[0m\u001b[0m\n\u001b[0;32m--> 581\u001b[0;31m     \u001b[0;32mwith\u001b[0m \u001b[0m_open_file_like\u001b[0m\u001b[0;34m(\u001b[0m\u001b[0mf\u001b[0m\u001b[0;34m,\u001b[0m \u001b[0;34m'rb'\u001b[0m\u001b[0;34m)\u001b[0m \u001b[0;32mas\u001b[0m \u001b[0mopened_file\u001b[0m\u001b[0;34m:\u001b[0m\u001b[0;34m\u001b[0m\u001b[0;34m\u001b[0m\u001b[0m\n\u001b[0m\u001b[1;32m    582\u001b[0m         \u001b[0;32mif\u001b[0m \u001b[0m_is_zipfile\u001b[0m\u001b[0;34m(\u001b[0m\u001b[0mopened_file\u001b[0m\u001b[0;34m)\u001b[0m\u001b[0;34m:\u001b[0m\u001b[0;34m\u001b[0m\u001b[0;34m\u001b[0m\u001b[0m\n\u001b[1;32m    583\u001b[0m             \u001b[0;31m# The zipfile reader is going to advance the current file position.\u001b[0m\u001b[0;34m\u001b[0m\u001b[0;34m\u001b[0m\u001b[0;34m\u001b[0m\u001b[0m\n",
      "\u001b[0;32m/anaconda/envs/fastai/lib/python3.8/site-packages/torch/serialization.py\u001b[0m in \u001b[0;36m_open_file_like\u001b[0;34m(name_or_buffer, mode)\u001b[0m\n\u001b[1;32m    228\u001b[0m \u001b[0;32mdef\u001b[0m \u001b[0m_open_file_like\u001b[0m\u001b[0;34m(\u001b[0m\u001b[0mname_or_buffer\u001b[0m\u001b[0;34m,\u001b[0m \u001b[0mmode\u001b[0m\u001b[0;34m)\u001b[0m\u001b[0;34m:\u001b[0m\u001b[0;34m\u001b[0m\u001b[0;34m\u001b[0m\u001b[0m\n\u001b[1;32m    229\u001b[0m     \u001b[0;32mif\u001b[0m \u001b[0m_is_path\u001b[0m\u001b[0;34m(\u001b[0m\u001b[0mname_or_buffer\u001b[0m\u001b[0;34m)\u001b[0m\u001b[0;34m:\u001b[0m\u001b[0;34m\u001b[0m\u001b[0;34m\u001b[0m\u001b[0m\n\u001b[0;32m--> 230\u001b[0;31m         \u001b[0;32mreturn\u001b[0m \u001b[0m_open_file\u001b[0m\u001b[0;34m(\u001b[0m\u001b[0mname_or_buffer\u001b[0m\u001b[0;34m,\u001b[0m \u001b[0mmode\u001b[0m\u001b[0;34m)\u001b[0m\u001b[0;34m\u001b[0m\u001b[0;34m\u001b[0m\u001b[0m\n\u001b[0m\u001b[1;32m    231\u001b[0m     \u001b[0;32melse\u001b[0m\u001b[0;34m:\u001b[0m\u001b[0;34m\u001b[0m\u001b[0;34m\u001b[0m\u001b[0m\n\u001b[1;32m    232\u001b[0m         \u001b[0;32mif\u001b[0m \u001b[0;34m'w'\u001b[0m \u001b[0;32min\u001b[0m \u001b[0mmode\u001b[0m\u001b[0;34m:\u001b[0m\u001b[0;34m\u001b[0m\u001b[0;34m\u001b[0m\u001b[0m\n",
      "\u001b[0;32m/anaconda/envs/fastai/lib/python3.8/site-packages/torch/serialization.py\u001b[0m in \u001b[0;36m__init__\u001b[0;34m(self, name, mode)\u001b[0m\n\u001b[1;32m    209\u001b[0m \u001b[0;32mclass\u001b[0m \u001b[0m_open_file\u001b[0m\u001b[0;34m(\u001b[0m\u001b[0m_opener\u001b[0m\u001b[0;34m)\u001b[0m\u001b[0;34m:\u001b[0m\u001b[0;34m\u001b[0m\u001b[0;34m\u001b[0m\u001b[0m\n\u001b[1;32m    210\u001b[0m     \u001b[0;32mdef\u001b[0m \u001b[0m__init__\u001b[0m\u001b[0;34m(\u001b[0m\u001b[0mself\u001b[0m\u001b[0;34m,\u001b[0m \u001b[0mname\u001b[0m\u001b[0;34m,\u001b[0m \u001b[0mmode\u001b[0m\u001b[0;34m)\u001b[0m\u001b[0;34m:\u001b[0m\u001b[0;34m\u001b[0m\u001b[0;34m\u001b[0m\u001b[0m\n\u001b[0;32m--> 211\u001b[0;31m         \u001b[0msuper\u001b[0m\u001b[0;34m(\u001b[0m\u001b[0m_open_file\u001b[0m\u001b[0;34m,\u001b[0m \u001b[0mself\u001b[0m\u001b[0;34m)\u001b[0m\u001b[0;34m.\u001b[0m\u001b[0m__init__\u001b[0m\u001b[0;34m(\u001b[0m\u001b[0mopen\u001b[0m\u001b[0;34m(\u001b[0m\u001b[0mname\u001b[0m\u001b[0;34m,\u001b[0m \u001b[0mmode\u001b[0m\u001b[0;34m)\u001b[0m\u001b[0;34m)\u001b[0m\u001b[0;34m\u001b[0m\u001b[0;34m\u001b[0m\u001b[0m\n\u001b[0m\u001b[1;32m    212\u001b[0m \u001b[0;34m\u001b[0m\u001b[0m\n\u001b[1;32m    213\u001b[0m     \u001b[0;32mdef\u001b[0m \u001b[0m__exit__\u001b[0m\u001b[0;34m(\u001b[0m\u001b[0mself\u001b[0m\u001b[0;34m,\u001b[0m \u001b[0;34m*\u001b[0m\u001b[0margs\u001b[0m\u001b[0;34m)\u001b[0m\u001b[0;34m:\u001b[0m\u001b[0;34m\u001b[0m\u001b[0;34m\u001b[0m\u001b[0m\n",
      "\u001b[0;31mFileNotFoundError\u001b[0m: [Errno 2] No such file or directory: 'models/export.pkl'"
     ]
    }
   ],
   "source": [
    "learn_inf = load_learner('models/export.pkl')\n",
    "learn_inf.predict(\"Nice to work for Expeditors\")"
   ]
  },
  {
   "cell_type": "code",
   "execution_count": null,
   "metadata": {
    "collapsed": true,
    "jupyter": {
     "outputs_hidden": false,
     "source_hidden": false
    },
    "nteract": {
     "transient": {
      "deleting": false
     }
    }
   },
   "outputs": [],
   "source": [
    "mystop"
   ]
  },
  {
   "cell_type": "markdown",
   "metadata": {
    "nteract": {
     "transient": {
      "deleting": false
     }
    }
   },
   "source": [
    "## $Xtra. Data Prep for ML\n"
   ]
  },
  {
   "cell_type": "code",
   "execution_count": null,
   "metadata": {
    "collapsed": true,
    "gather": {
     "logged": 1607454041362
    },
    "jupyter": {
     "outputs_hidden": false,
     "source_hidden": false
    },
    "nteract": {
     "transient": {
      "deleting": false
     }
    }
   },
   "outputs": [],
   "source": [
    "#interested in words in all rows, column 0\n",
    "#this text_train\n",
    "X = df['FINAL_COMMENT'].copy()\n",
    "X.shape\n"
   ]
  },
  {
   "cell_type": "code",
   "execution_count": null,
   "metadata": {
    "collapsed": true,
    "gather": {
     "logged": 1607454071297
    },
    "jupyter": {
     "outputs_hidden": false,
     "source_hidden": false
    },
    "nteract": {
     "transient": {
      "deleting": false
     }
    }
   },
   "outputs": [],
   "source": [
    "#for supervised learning\n",
    "y = df['Q_NPS_CAT'].copy()\n",
    "print(y.shape)\n",
    "y.head()\n"
   ]
  },
  {
   "cell_type": "code",
   "execution_count": null,
   "metadata": {
    "collapsed": true,
    "gather": {
     "logged": 1607454091163
    },
    "jupyter": {
     "outputs_hidden": false,
     "source_hidden": false
    },
    "nteract": {
     "transient": {
      "deleting": false
     }
    }
   },
   "outputs": [],
   "source": [
    "print(y.value_counts().sort_index())\n",
    "y.value_counts().sort_index().plot(kind=\"bar\")"
   ]
  },
  {
   "cell_type": "code",
   "execution_count": null,
   "metadata": {
    "collapsed": true,
    "gather": {
     "logged": 1607643585685
    },
    "jupyter": {
     "outputs_hidden": false,
     "source_hidden": false
    },
    "nteract": {
     "transient": {
      "deleting": false
     }
    }
   },
   "outputs": [],
   "source": [
    "import fastai\n",
    "from fastai import *\n",
    "from fastai.text import *\n",
    "\n",
    "#from IPython.display import display,HTML "
   ]
  },
  {
   "cell_type": "code",
   "execution_count": null,
   "metadata": {
    "collapsed": true,
    "jupyter": {
     "outputs_hidden": false,
     "source_hidden": false
    },
    "nteract": {
     "transient": {
      "deleting": false
     }
    }
   },
   "outputs": [],
   "source": [
    "#$was\n",
    "# use TextBlock to create a language model, pass TextBlock to DataBlock\n",
    "#es_lm = DataBlock(\n",
    "#    blocks=TextBlock.from_df('text', seq_len=72, is_lm=True),\n",
    "##    #get_x=ColReader('text'), \n",
    "#    splitter=RandomSplitter(0.2, seed = SEED)) \n",
    "\n",
    "#dataloaders\n",
    "#dls_lm = es_lm.dataloaders(df['text'], bs=64)\n",
    "#dls_lm.show_batch(max_n=2)"
   ]
  },
  {
   "cell_type": "code",
   "execution_count": null,
   "metadata": {
    "collapsed": true,
    "jupyter": {
     "outputs_hidden": false,
     "source_hidden": false
    },
    "nteract": {
     "transient": {
      "deleting": false
     }
    }
   },
   "outputs": [],
   "source": [
    "#src https://forums.fast.ai/t/the-interpretation-of-text-classification-throws-an-error-when-used-on-a-pretrained-network/39471\n",
    "def show_piece_attn(*args, **kwargs):\n",
    "    from IPython.display import display, HTML\n",
    "    display(HTML(piece_attn_html(*args, **kwargs)))\n",
    "\n",
    "def _eval_dropouts(mod):\n",
    "        module_name =  mod.__class__.__name__\n",
    "        if 'Dropout' in module_name or 'BatchNorm' in module_name: mod.training = False\n",
    "        for module in mod.children(): _eval_dropouts(module)\n",
    "            \n",
    "class TextClassificationInterpretation(ClassificationInterpretation):\n",
    "    \"\"\"Provides an interpretation of classification based on input sensitivity.\n",
    "    This was designed for AWD-LSTM only for the moment, because Transformer already has its own attentional model.\n",
    "    \"\"\"\n",
    "\n",
    "    def __init__(self, learn: Learner, preds: Tensor, y_true: Tensor, losses: Tensor, ds_type: DatasetType = DatasetType.Valid):\n",
    "        super(TextClassificationInterpretation, self).__init__(learn,preds,y_true,losses,ds_type)\n",
    "        self.model = learn.model\n",
    "\n",
    "    def intrinsic_attention(self, text:str, class_id:int=None):\n",
    "        \"\"\"Calculate the intrinsic attention of the input w.r.t to an output `class_id`, or the classification given by the model if `None`. \"\"\""
   ]
  },
  {
   "cell_type": "code",
   "execution_count": null,
   "metadata": {
    "collapsed": true,
    "jupyter": {
     "outputs_hidden": false,
     "source_hidden": false
    },
    "nteract": {
     "transient": {
      "deleting": false
     }
    }
   },
   "outputs": [],
   "source": [
    "#https://github.com/fastai/fastai/pull/2115/files\n",
    "#from fastai.train import ClassificationInterpretation\n",
    "\n",
    "#from fastai.data.all import *\n",
    "from fastai.basic_train import Learner #fastai v1 is not compatible vith v2\n",
    "from fastai.vision import DatasetType\n",
    "\n",
    "\n",
    "__all__ = ['TextClassificationInterpretation']\n",
    "\n",
    "print(fastai.DatasetType.valid)\n",
    "\n",
    "class TextClassificationInterpretation(ClassificationInterpretation):\n",
    "    \"\"\"Provides an interpretation of classification based on input sensitivity.\n",
    "    This was designed for AWD-LSTM only for the moment, because Transformer already has its own attentional model.\n",
    "    \"\"\"\n",
    "\n",
    "    def __init__(self, learn: Learner, preds: Tensor, y_true: Tensor, losses: Tensor, ds_type: DatasetType = DatasetType.Valid):\n",
    "        super(TextClassificationInterpretation, self).__init__(learn,preds,y_true,losses,ds_type)\n",
    "        self.model = learn.model\n",
    "\n",
    "    def intrinsic_attention(self, text:str, class_id:int=None):\n",
    "        \"\"\"Calculate the intrinsic attention of the input w.r.t to an output `class_id`, or the classification given by the model if `None`.\n",
    "        For reference, see the Sequential Jacobian session at https://www.cs.toronto.edu/~graves/preprint.pdf\n",
    "        \"\"\"\n",
    "        self.model.train()\n",
    "        _eval_dropouts(self.model)\n",
    "        self.model.zero_grad()\n",
    "        self.model.reset()\n",
    "        ids = self.data.one_item(text)[0]\n",
    "        emb = self.model[0].module.encoder(ids).detach().requires_grad_(True)\n",
    "        lstm_output = self.model[0].module(emb, from_embeddings=True)\n",
    "        self.model.eval()\n",
    "        cl = self.model[1](lstm_output + (torch.zeros_like(ids).byte(),))[0].softmax(dim=-1)\n",
    "        if class_id is None: class_id = cl.argmax()\n",
    "        cl[0][class_id].backward()\n",
    "        attn = emb.grad.squeeze().abs().sum(dim=-1)\n",
    "        attn /= attn.max()\n",
    "        tokens = self.data.single_ds.reconstruct(ids[0])\n",
    "        return tokens, attn\n",
    "\n",
    "    def html_intrinsic_attention(self, text:str, class_id:int=None, **kwargs)->str:\n",
    "        text, attn = self.intrinsic_attention(text, class_id)\n",
    "        return piece_attn_html(text.text.split(), to_np(attn), **kwargs)\n",
    "\n",
    "    def show_intrinsic_attention(self, text:str, class_id:int=None, **kwargs)->None:\n",
    "        text, attn = self.intrinsic_attention(text, class_id)\n",
    "        show_piece_attn(text.text.split(), to_np(attn), **kwargs)\n",
    "\n",
    "    def show_top_losses(self, k:int, max_len:int=70)->None:\n",
    "        \"\"\"\n",
    "        Create a tabulation showing the first `k` texts in top_losses along with their prediction, actual,loss, and probability of\n",
    "        actual class. `max_len` is the maximum number of tokens displayed.\n",
    "        \"\"\"\n",
    "        from IPython.display import display, HTML\n",
    "        items = []\n",
    "        tl_val,tl_idx = self.top_losses()\n",
    "        for i,idx in enumerate(tl_idx):\n",
    "            if k <= 0: break\n",
    "            k -= 1\n",
    "            tx,cl = self.data.dl(self.ds_type).dataset[idx]\n",
    "            cl = cl.data\n",
    "            classes = self.data.classes\n",
    "            txt = ' '.join(tx.text.split(' ')[:max_len]) if max_len is not None else tx.text\n",
    "            tmp = [txt, f'{classes[self.pred_class[idx]]}', f'{classes[cl]}', f'{self.losses[idx]:.2f}',\n",
    "                   f'{self.preds[idx][cl]:.2f}']\n",
    "            items.append(tmp)\n",
    "        items = np.array(items)\n",
    "        names = ['Text', 'Prediction', 'Actual', 'Loss', 'Probability']\n",
    "        df = pd.DataFrame({n:items[:,i] for i,n in enumerate(names)}, columns=names)\n",
    "        with pd.option_context('display.max_colwidth', -1):\n",
    "            display(HTML(df.to_html(index=False))) "
   ]
  },
  {
   "cell_type": "code",
   "execution_count": null,
   "metadata": {
    "collapsed": true,
    "gather": {
     "logged": 1607649602780
    },
    "jupyter": {
     "outputs_hidden": false,
     "source_hidden": false
    },
    "nteract": {
     "transient": {
      "deleting": false
     }
    }
   },
   "outputs": [],
   "source": [
    "learn.model"
   ]
  },
  {
   "cell_type": "code",
   "execution_count": null,
   "metadata": {
    "collapsed": true,
    "gather": {
     "logged": 1607651272137
    },
    "jupyter": {
     "outputs_hidden": false,
     "source_hidden": false
    },
    "nteract": {
     "transient": {
      "deleting": false
     }
    }
   },
   "outputs": [],
   "source": [
    "for m in learn.model.modules():\n",
    "    print('--')\n",
    "    print(m)"
   ]
  },
  {
   "cell_type": "code",
   "execution_count": null,
   "metadata": {
    "collapsed": true,
    "jupyter": {
     "outputs_hidden": false,
     "source_hidden": false
    },
    "nteract": {
     "transient": {
      "deleting": false
     }
    }
   },
   "outputs": [],
   "source": []
  }
 ],
 "metadata": {
  "kernel_info": {
   "name": "fastai"
  },
  "kernelspec": {
   "display_name": "Python (fastai)",
   "language": "python",
   "name": "fastai"
  },
  "language_info": {
   "codemirror_mode": {
    "name": "ipython",
    "version": 3
   },
   "file_extension": ".py",
   "mimetype": "text/x-python",
   "name": "python",
   "nbconvert_exporter": "python",
   "pygments_lexer": "ipython3",
   "version": "3.8.3"
  },
  "microsoft": {
   "host": {
    "AzureML": {
     "notebookHasBeenCompleted": true
    }
   }
  },
  "nteract": {
   "version": "nteract-front-end@1.0.0"
  }
 },
 "nbformat": 4,
 "nbformat_minor": 2
}
