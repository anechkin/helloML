{
  "cells": [
    {
      "cell_type": "code",
      "source": [
        "#meta 4/15/2021 myClassify (multiclass) for LSHTC - Data prep\r\n",
        "# task: classify text (multiclass) \r\n",
        "# input: my-input/lshtc3_wikipedia_med_df_train.pkl\r\n",
        "\r\n",
        "#task: Multi-category text classification - supervised\r\n",
        "#based on 1_classify_sentiment_spacy_multi.ipynb\r\n",
        "\r\n",
        "\r\n",
        "#history\r\n",
        "#      4/15/2021 DATA PREP \r\n",
        "#      LSHTC3 reduced ds with less labels\r\n",
        "#      Important reset index - fast.ai dataloaders don't like a gap in index\r\n",
        "#      to avoid -> TypeError: 'float' object is not iterable"
      ],
      "outputs": [],
      "execution_count": 15,
      "metadata": {
        "gather": {
          "logged": 1618527248731
        },
        "jupyter": {
          "source_hidden": false
        }
      }
    },
    {
      "cell_type": "code",
      "source": [
        "%matplotlib inline\r\n",
        "#import time as time #to track performance time\r\n",
        "import pandas as pd\r\n",
        "import numpy as np\r\n",
        "import matplotlib.pyplot as plt\r\n",
        "plt.rcParams[\"figure.figsize\"] = (10,6)\r\n",
        "from joblib import load, dump\r\n"
      ],
      "outputs": [],
      "execution_count": 16,
      "metadata": {
        "collapsed": true,
        "jupyter": {
          "source_hidden": false,
          "outputs_hidden": false
        },
        "nteract": {
          "transient": {
            "deleting": false
          }
        },
        "gather": {
          "logged": 1618527248911
        }
      }
    },
    {
      "cell_type": "markdown",
      "source": [
        "# LSHTC: Data Prep for Classifying Text\r\n",
        "\r\n",
        "## 0. Load Data\r\n",
        "input: a prepared pickle with less labels (~)."
      ],
      "metadata": {
        "nteract": {
          "transient": {
            "deleting": false
          }
        }
      }
    },
    {
      "cell_type": "code",
      "source": [
        "df = load('data/lshtc3_wikipedia_med_df_train.pkl') \r\n",
        "print(df.shape)\r\n",
        "print(df.columns)\r\n",
        "df.head()\r\n"
      ],
      "outputs": [
        {
          "output_type": "stream",
          "name": "stdout",
          "text": [
            "(151800, 3)\n",
            "Index(['docno', 'labels', 'text'], dtype='object')\n"
          ]
        },
        {
          "output_type": "execute_result",
          "execution_count": 17,
          "data": {
            "text/plain": "  docno  labels                                               text\n3     2  130762  Alain Connes (born 1 April 1947) is a French m...\n4     3  352578  Ayn Rand (born Alisa Zinov'yevna Rosenbaum; Fe...\n5     3  395447  Ayn Rand (born Alisa Zinov'yevna Rosenbaum; Fe...\n6     3   27512  Ayn Rand (born Alisa Zinov'yevna Rosenbaum; Fe...\n8     4  390846  Allan Dwan (April 3, 1885 – December 28, 1981)...",
            "text/html": "<div>\n<style scoped>\n    .dataframe tbody tr th:only-of-type {\n        vertical-align: middle;\n    }\n\n    .dataframe tbody tr th {\n        vertical-align: top;\n    }\n\n    .dataframe thead th {\n        text-align: right;\n    }\n</style>\n<table border=\"1\" class=\"dataframe\">\n  <thead>\n    <tr style=\"text-align: right;\">\n      <th></th>\n      <th>docno</th>\n      <th>labels</th>\n      <th>text</th>\n    </tr>\n  </thead>\n  <tbody>\n    <tr>\n      <th>3</th>\n      <td>2</td>\n      <td>130762</td>\n      <td>Alain Connes (born 1 April 1947) is a French m...</td>\n    </tr>\n    <tr>\n      <th>4</th>\n      <td>3</td>\n      <td>352578</td>\n      <td>Ayn Rand (born Alisa Zinov'yevna Rosenbaum; Fe...</td>\n    </tr>\n    <tr>\n      <th>5</th>\n      <td>3</td>\n      <td>395447</td>\n      <td>Ayn Rand (born Alisa Zinov'yevna Rosenbaum; Fe...</td>\n    </tr>\n    <tr>\n      <th>6</th>\n      <td>3</td>\n      <td>27512</td>\n      <td>Ayn Rand (born Alisa Zinov'yevna Rosenbaum; Fe...</td>\n    </tr>\n    <tr>\n      <th>8</th>\n      <td>4</td>\n      <td>390846</td>\n      <td>Allan Dwan (April 3, 1885 – December 28, 1981)...</td>\n    </tr>\n  </tbody>\n</table>\n</div>"
          },
          "metadata": {}
        }
      ],
      "execution_count": 17,
      "metadata": {
        "collapsed": true,
        "jupyter": {
          "source_hidden": false,
          "outputs_hidden": false
        },
        "nteract": {
          "transient": {
            "deleting": false
          }
        },
        "gather": {
          "logged": 1618527251988
        }
      }
    },
    {
      "cell_type": "markdown",
      "source": [
        "## 1. Data Prep\r\n",
        "Tidy data - pick relevant columns"
      ],
      "metadata": {
        "nteract": {
          "transient": {
            "deleting": false
          }
        }
      }
    },
    {
      "cell_type": "code",
      "source": [
        "df_tidy = df[['labels', 'text']].copy()\r\n",
        "df_tidy['labels'] = df_tidy['labels'].astype('category')\r\n",
        "df_tidy.dtypes\r\n"
      ],
      "outputs": [
        {
          "output_type": "execute_result",
          "execution_count": 18,
          "data": {
            "text/plain": "labels    category\ntext        object\ndtype: object"
          },
          "metadata": {}
        }
      ],
      "execution_count": 18,
      "metadata": {
        "collapsed": true,
        "jupyter": {
          "source_hidden": false,
          "outputs_hidden": false
        },
        "nteract": {
          "transient": {
            "deleting": false
          }
        },
        "gather": {
          "logged": 1618527252080
        }
      }
    },
    {
      "cell_type": "markdown",
      "source": [
        "ML Expected Format: input features X(matrix) and target variable y(vector).  \r\n",
        "X - column 'text'  \r\n",
        "y - column 'labels' "
      ],
      "metadata": {
        "nteract": {
          "transient": {
            "deleting": false
          }
        }
      }
    },
    {
      "cell_type": "code",
      "source": [
        "#compare original y counts\r\n",
        "print(df_tidy['labels'].value_counts().sort_index())\r\n",
        "df_tidy['labels'].value_counts().sort_index().plot(kind='bar')"
      ],
      "outputs": [
        {
          "output_type": "stream",
          "name": "stdout",
          "text": [
            "10088     1075\n",
            "10307      508\n",
            "10590      886\n",
            "13139      587\n",
            "14661     1012\n",
            "          ... \n",
            "427995     671\n",
            "428198     589\n",
            "429649     528\n",
            "437070     934\n",
            "443106     724\n",
            "Name: labels, Length: 139, dtype: int64\n"
          ]
        },
        {
          "output_type": "execute_result",
          "execution_count": 19,
          "data": {
            "text/plain": "<AxesSubplot:>"
          },
          "metadata": {}
        },
        {
          "output_type": "display_data",
          "data": {
            "text/plain": "<Figure size 720x432 with 1 Axes>",
            "image/png": "[encoded data removed]"
          },
          "metadata": {
            "needs_background": "light"
          }
        }
      ],
      "execution_count": 19,
      "metadata": {
        "collapsed": true,
        "jupyter": {
          "source_hidden": false,
          "outputs_hidden": false
        },
        "nteract": {
          "transient": {
            "deleting": false
          }
        },
        "gather": {
          "logged": 1618527254131
        }
      }
    },
    {
      "cell_type": "code",
      "source": [
        "#preview ready dataset\r\n",
        "df_tidy.head()"
      ],
      "outputs": [
        {
          "output_type": "execute_result",
          "execution_count": 20,
          "data": {
            "text/plain": "   labels                                               text\n3  130762  Alain Connes (born 1 April 1947) is a French m...\n4  352578  Ayn Rand (born Alisa Zinov'yevna Rosenbaum; Fe...\n5  395447  Ayn Rand (born Alisa Zinov'yevna Rosenbaum; Fe...\n6   27512  Ayn Rand (born Alisa Zinov'yevna Rosenbaum; Fe...\n8  390846  Allan Dwan (April 3, 1885 – December 28, 1981)...",
            "text/html": "<div>\n<style scoped>\n    .dataframe tbody tr th:only-of-type {\n        vertical-align: middle;\n    }\n\n    .dataframe tbody tr th {\n        vertical-align: top;\n    }\n\n    .dataframe thead th {\n        text-align: right;\n    }\n</style>\n<table border=\"1\" class=\"dataframe\">\n  <thead>\n    <tr style=\"text-align: right;\">\n      <th></th>\n      <th>labels</th>\n      <th>text</th>\n    </tr>\n  </thead>\n  <tbody>\n    <tr>\n      <th>3</th>\n      <td>130762</td>\n      <td>Alain Connes (born 1 April 1947) is a French m...</td>\n    </tr>\n    <tr>\n      <th>4</th>\n      <td>352578</td>\n      <td>Ayn Rand (born Alisa Zinov'yevna Rosenbaum; Fe...</td>\n    </tr>\n    <tr>\n      <th>5</th>\n      <td>395447</td>\n      <td>Ayn Rand (born Alisa Zinov'yevna Rosenbaum; Fe...</td>\n    </tr>\n    <tr>\n      <th>6</th>\n      <td>27512</td>\n      <td>Ayn Rand (born Alisa Zinov'yevna Rosenbaum; Fe...</td>\n    </tr>\n    <tr>\n      <th>8</th>\n      <td>390846</td>\n      <td>Allan Dwan (April 3, 1885 – December 28, 1981)...</td>\n    </tr>\n  </tbody>\n</table>\n</div>"
          },
          "metadata": {}
        }
      ],
      "execution_count": 20,
      "metadata": {
        "collapsed": true,
        "jupyter": {
          "source_hidden": false,
          "outputs_hidden": false
        },
        "nteract": {
          "transient": {
            "deleting": false
          }
        },
        "gather": {
          "logged": 1618527254250
        }
      }
    },
    {
      "cell_type": "code",
      "source": [
        "#reset index - fast.ai dataloaders don't like a gap in index\r\n",
        "#to avoid -> TypeError: 'float' object is not iterable\r\n",
        "df_tidy.reset_index(drop=True, inplace=True)\r\n",
        "df_tidy.head(2)"
      ],
      "outputs": [
        {
          "output_type": "execute_result",
          "execution_count": 21,
          "data": {
            "text/plain": "   labels                                               text\n0  130762  Alain Connes (born 1 April 1947) is a French m...\n1  352578  Ayn Rand (born Alisa Zinov'yevna Rosenbaum; Fe...",
            "text/html": "<div>\n<style scoped>\n    .dataframe tbody tr th:only-of-type {\n        vertical-align: middle;\n    }\n\n    .dataframe tbody tr th {\n        vertical-align: top;\n    }\n\n    .dataframe thead th {\n        text-align: right;\n    }\n</style>\n<table border=\"1\" class=\"dataframe\">\n  <thead>\n    <tr style=\"text-align: right;\">\n      <th></th>\n      <th>labels</th>\n      <th>text</th>\n    </tr>\n  </thead>\n  <tbody>\n    <tr>\n      <th>0</th>\n      <td>130762</td>\n      <td>Alain Connes (born 1 April 1947) is a French m...</td>\n    </tr>\n    <tr>\n      <th>1</th>\n      <td>352578</td>\n      <td>Ayn Rand (born Alisa Zinov'yevna Rosenbaum; Fe...</td>\n    </tr>\n  </tbody>\n</table>\n</div>"
          },
          "metadata": {}
        }
      ],
      "execution_count": 21,
      "metadata": {
        "collapsed": true,
        "jupyter": {
          "source_hidden": false,
          "outputs_hidden": false
        },
        "nteract": {
          "transient": {
            "deleting": false
          }
        },
        "gather": {
          "logged": 1618527254308
        }
      }
    },
    {
      "cell_type": "code",
      "source": [
        "#save file prepped for sentiment analysis\r\n",
        "dump(df_tidy, 'data/lshtc3_wikipedia_med_df_train_tidy.pkl')"
      ],
      "outputs": [
        {
          "output_type": "execute_result",
          "execution_count": 22,
          "data": {
            "text/plain": "['data/lshtc3_wikipedia_med_df_train_tidy.pkl']"
          },
          "metadata": {}
        }
      ],
      "execution_count": 22,
      "metadata": {
        "collapsed": true,
        "jupyter": {
          "source_hidden": false,
          "outputs_hidden": false
        },
        "nteract": {
          "transient": {
            "deleting": false
          }
        },
        "gather": {
          "logged": 1618527256184
        }
      }
    },
    {
      "cell_type": "code",
      "source": [
        "mystop"
      ],
      "outputs": [
        {
          "output_type": "error",
          "ename": "NameError",
          "evalue": "name 'mystop' is not defined",
          "traceback": [
            "\u001b[0;31m---------------------------------------------------------------------------\u001b[0m",
            "\u001b[0;31mNameError\u001b[0m                                 Traceback (most recent call last)",
            "\u001b[0;32m<ipython-input-23-255d8eb4da7e>\u001b[0m in \u001b[0;36m<module>\u001b[0;34m\u001b[0m\n\u001b[0;32m----> 1\u001b[0;31m \u001b[0mmystop\u001b[0m\u001b[0;34m\u001b[0m\u001b[0;34m\u001b[0m\u001b[0m\n\u001b[0m",
            "\u001b[0;31mNameError\u001b[0m: name 'mystop' is not defined"
          ]
        }
      ],
      "execution_count": 23,
      "metadata": {
        "collapsed": true,
        "jupyter": {
          "source_hidden": false,
          "outputs_hidden": false
        },
        "nteract": {
          "transient": {
            "deleting": false
          }
        }
      }
    },
    {
      "cell_type": "markdown",
      "source": [
        "##### Xtra"
      ],
      "metadata": {
        "nteract": {
          "transient": {
            "deleting": false
          }
        }
      }
    },
    {
      "cell_type": "code",
      "source": [
        "#clean df\r\n",
        "df_tidy.rename_axis(index = None, inplace=True)\r\n",
        "df_tidy.head(2)"
      ],
      "outputs": [],
      "execution_count": null,
      "metadata": {
        "collapsed": true,
        "jupyter": {
          "source_hidden": false,
          "outputs_hidden": false
        },
        "nteract": {
          "transient": {
            "deleting": false
          }
        },
        "gather": {
          "logged": 1607970938661
        }
      }
    }
  ],
  "metadata": {
    "kernelspec": {
      "name": "fastai",
      "language": "python",
      "display_name": "Python (fastai)"
    },
    "language_info": {
      "name": "python",
      "version": "3.8.3",
      "mimetype": "text/x-python",
      "codemirror_mode": {
        "name": "ipython",
        "version": 3
      },
      "pygments_lexer": "ipython3",
      "nbconvert_exporter": "python",
      "file_extension": ".py"
    },
    "kernel_info": {
      "name": "fastai"
    },
    "nteract": {
      "version": "nteract-front-end@1.0.0"
    },
    "microsoft": {
      "host": {
        "AzureML": {
          "notebookHasBeenCompleted": true
        }
      }
    }
  },
  "nbformat": 4,
  "nbformat_minor": 2
}