{
 "cells": [
  {
   "cell_type": "code",
   "execution_count": 1,
   "metadata": {},
   "outputs": [],
   "source": [
    "#meta 4/5/2021 How to read a markup file\n",
    "#NLP, LSHTC (large scale hierarchical text classification)\n",
    "#src data http://lshtc.iit.demokritos.gr/ LSHTC3\n",
    "#src code based on https://github.com/Arf4t/Lshtc3_fasttext/blob/master/LSHTC3.ipynb\n",
    "\n",
    "#input: LSHTC3 wikipediaMediumOriginalLSHTCv3-train.txt (variations) markup file\n",
    "#output: df.pkl with documents and labels\n",
    "\n",
    "#history\n",
    "#4/5/2021 READ FILE\n",
    "#      OOP class read markup file\n",
    "#4/14/2021 READ MARKUP FILE AND RETURN TIDY DF\n",
    "#      Explore labels\n",
    "#      Prep data - df, one label per df row\n",
    "\n",
    "#4/15/2021 READ MARKUP FILE AND RETURN TIDY DF WITH LESS LABELS\n",
    "#      N_LOW_COUNT = 500\n",
    "#      Smaller df_tidy, with less than 200 labels\n",
    "\n",
    "#4/15/2021 TIDY DF WITH LESS LABELS, REINDEXED\n",
    "#      pandas df.explode lists to rows, ignore index - requires pandas 1.1.0+\n",
    "#      update pandas in env nlp_lshtc\n",
    "\n",
    "#4/21/2021 DF FINAL - DOCNO, TEXT and HANDLE MULTI-LABELS\n",
    "#      Encode target - multi-labels per document\n",
    "\n",
    "#4/23/2021 REDO DF W/ MULTI-LABELS\n",
    "#      Org and clean creation of Imploded df subset w/ multi-labels\n",
    "#      Full df\n",
    "#      456886 documents x 3 fields docno, labels, text\n",
    "#      (1 rec = 1 doc -> many labels)\n",
    "#      confirmed: 36504 unique labels\n",
    "\n",
    "#      Full Exploded df -> explode each doc into records with 1 label per doc\n",
    "#      842792 records x 3 fields docno, label, text\n",
    "#      (1 rec -> many docs, 1 rec = 1 label)\n",
    "#      confirmed: 36504 unique labels\n",
    "\n",
    "#      Subset Exploded df -> remove docs with low count labels\n",
    "#      151800 records x 3 fields docno, label, text\n",
    "#      (1 rec -> many docs, 1 rec = 1 label)\n",
    "#      confirmed: 139 unique labels\n",
    "\n",
    "#      Subset Imploded df -> implode labels from each record into docs with multi labels per doc\n",
    "#      127043 imploded documents x 3 fields docno, text, labels\n",
    "#      (1 rec = 1 doc -> many labels)\n",
    "#      confirmed: 139 unique labels\n",
    "#          \n",
    "#      $kaggle diff"
   ]
  },
  {
   "cell_type": "code",
   "execution_count": 2,
   "metadata": {},
   "outputs": [],
   "source": [
    "#$kaggle\n",
    "#! conda install -c anaconda beautifulsoup4 -y "
   ]
  },
  {
   "cell_type": "code",
   "execution_count": 3,
   "metadata": {},
   "outputs": [],
   "source": [
    "import time as time #to track performance time\n",
    "import numpy as np\n",
    "import pandas as pd\n",
    "import matplotlib.pyplot as plt\n",
    "plt.rcParams[\"figure.figsize\"] = (10,6)\n",
    "\n",
    "from bs4 import BeautifulSoup\n",
    "from scipy import stats\n",
    "\n",
    "from joblib import load, dump"
   ]
  },
  {
   "cell_type": "code",
   "execution_count": 4,
   "metadata": {},
   "outputs": [],
   "source": [
    "#global vars\n",
    "\n",
    "#$kaggle\n",
    "#TRAIN_FILE = '../input/mylshtc3train/wikipediaMediumOriginalLSHTCv3-train.txt'\n",
    "#TEST_FILE = '../input/mylshtc3train/wikipediaMediumOriginalLSHTCv3-test.txt'\n",
    "\n",
    "TRAIN_FILE = 'data/wikipediaMediumOriginalLSHTCv3-train.txt'\n",
    "TEST_FILE = 'data/wikipediaMediumOriginalLSHTCv3-test.txt'\n",
    "\n",
    "DOC_LABEL = 1\n",
    "N_LOW_COUNT = 1\n",
    "N_BINS = 50"
   ]
  },
  {
   "cell_type": "code",
   "execution_count": 5,
   "metadata": {},
   "outputs": [],
   "source": [
    "#define a class to read a markup file and extract its elements\n",
    "class myTextReader:\n",
    "    \"\"\"\n",
    "    docstring for myTextReader\n",
    "    read a markup file and return index, text, and labels\n",
    "    input: specifically formattted file, i.e. LSHTCv3 markup text file\n",
    "    output: lists of docs index, text, and labels\n",
    "    \"\"\"\n",
    "    def __init__(self, file_path):\n",
    "        self.file_path = file_path\n",
    "        self.docno=[]\n",
    "        self.labels=[]                      #parsing the required data about labels and documents\n",
    "        self.data=[]\n",
    "        \n",
    "        soup=BeautifulSoup(open(self.file_path,'r',encoding='utf8'),'html.parser')\n",
    "        \n",
    "        for x in list(soup.find_all('docno')):\n",
    "            self.docno.append(x.get_text())\n",
    "\n",
    "        for x in list(soup.find_all('labels')):\n",
    "            self.labels.append([ int(lab) for lab in x.get_text().split()])\n",
    "            self.data.append(x.next_sibling.strip('\\n'))"
   ]
  },
  {
   "cell_type": "markdown",
   "metadata": {},
   "source": [
    "# LSHTC3\n",
    "\n",
    "## 0.  Load Train Data\n",
    "Read a Markup File - input and multiple labels\n",
    "\n",
    "Full train ds:  \n",
    "456886 documents x 3 fields `docno`, `labels`, `text`  \n",
    "842792 transformed labels -> 36504 unique labels  \n",
    "(1 rec = 1 doc ->  many labels)    \n"
   ]
  },
  {
   "cell_type": "code",
   "execution_count": 6,
   "metadata": {},
   "outputs": [
    {
     "name": "stdout",
     "output_type": "stream",
     "text": [
      "Processing time (in minutes):  1.1494065046310424\n"
     ]
    }
   ],
   "source": [
    "#track time\n",
    "t0 = time.time()\n",
    "\n",
    "#read file\n",
    "train_data = myTextReader(TRAIN_FILE) #class __main__.myTextReader\n",
    "\n",
    "#display a couple of entities\n",
    "train_data.docno[1:3], train_data.labels[1:3], train_data.data[1:3]\n",
    "\n",
    "print(\"Processing time (in minutes): \", (time.time() - t0)/60)"
   ]
  },
  {
   "cell_type": "code",
   "execution_count": 7,
   "metadata": {},
   "outputs": [
    {
     "data": {
      "text/plain": [
       "('456886',\n",
       " [49901],\n",
       " 'The Christie Harris Illustrated Children\\\\u2019s Literature Prize is awarded annually as the BC Book Prize for the author and illustrator of the best picture books, picture story books, and illustrated non-fiction books. The prize is shared by the author and the illustrator, who must be a resident of British Columbia or the Yukon, Canada. It was first awarded in 2002.')"
      ]
     },
     "execution_count": 7,
     "metadata": {},
     "output_type": "execute_result"
    }
   ],
   "source": [
    "#explore text - number of documents\n",
    "train_data.docno[-1], train_data.labels[-1], train_data.data[-1]"
   ]
  },
  {
   "cell_type": "markdown",
   "metadata": {},
   "source": [
    "### 0.1 EDA"
   ]
  },
  {
   "cell_type": "markdown",
   "metadata": {},
   "source": [
    "#### Explore Labels\n",
    "Flatten labels - convert a nD list into a 1D list by un-nesting each list item stored in the list of lists\n",
    "\n",
    "> Note: run into a nb limitation.  To change this limit, set the config variable `--NotebookApp.iopub_data_rate_limit`.  \n",
    "jupyter notebook --NotebookApp.iopub_data_rate_limit=1.0e10"
   ]
  },
  {
   "cell_type": "code",
   "execution_count": 8,
   "metadata": {},
   "outputs": [
    {
     "name": "stdout",
     "output_type": "stream",
     "text": [
      "Transformed list preview:  [33692, 13402, 393382, 130762, 352578, 395447, 27512, 157031, 390846, 395447, 276114, 14661, 71999, 292915, 188756, 131368, 106615, 228092, 420589, 228506, 307963, 207086, 119558, 159586, 188582]\n",
      "Transformed list count:  842792\n"
     ]
    }
   ],
   "source": [
    "#flatten labels\n",
    "labels_list = [item for sublist in train_data.labels for item in sublist]\n",
    "print('Transformed list preview: ', labels_list[:25])\n",
    "print('Transformed list count: ', len(labels_list))"
   ]
  },
  {
   "cell_type": "code",
   "execution_count": 9,
   "metadata": {},
   "outputs": [
    {
     "name": "stdout",
     "output_type": "stream",
     "text": [
      "[ 1 14 19 24 33 40 47 53 61 79] [26 13  1 12  4  4 39  3  8  9]\n",
      "[ 2791  1095 32252 10689 28858 32423  2270 12879 32029 32423] [ 33692  13402 393382 130762 352578 395447  27512 157031 390846 395447]\n"
     ]
    },
    {
     "data": {
      "text/plain": [
       "((36504,), 445729, 11400)"
      ]
     },
     "execution_count": 9,
     "metadata": {},
     "output_type": "execute_result"
    }
   ],
   "source": [
    "#unique labels with counts\n",
    "#src https://numpy.org/doc/stable/reference/generated/numpy.unique.html\n",
    "labels_unique, labels_indices, labels_counts = np.unique(np.array(labels_list), return_inverse=True, return_counts = True)\n",
    "print(labels_unique[:10], labels_counts[:10]) \n",
    "#print(labels_unique[-10:], labels_counts[-10:])\n",
    "print(labels_indices[:10], labels_unique[labels_indices[:10]])\n",
    "\n",
    "labels_unique.shape, labels_unique.max(), labels_counts.max()"
   ]
  },
  {
   "cell_type": "markdown",
   "metadata": {},
   "source": [
    "Confirm count of labels"
   ]
  },
  {
   "cell_type": "code",
   "execution_count": 10,
   "metadata": {},
   "outputs": [
    {
     "data": {
      "text/plain": [
       "DescribeResult(nobs=36504, minmax=(1, 11400), mean=23.087661626123165, variance=10044.76940204357, skewness=50.073420200053654, kurtosis=4793.583431118063)"
      ]
     },
     "execution_count": 10,
     "metadata": {},
     "output_type": "execute_result"
    }
   ],
   "source": [
    "stats.describe(labels_counts)"
   ]
  },
  {
   "cell_type": "code",
   "execution_count": 11,
   "metadata": {},
   "outputs": [
    {
     "data": {
      "text/plain": [
       "(1, 23.087661626123165, 8.0, 11400)"
      ]
     },
     "execution_count": 11,
     "metadata": {},
     "output_type": "execute_result"
    }
   ],
   "source": [
    "labels_counts.min(), labels_counts.mean(), np.median(labels_counts), labels_counts.max()"
   ]
  },
  {
   "cell_type": "code",
   "execution_count": 12,
   "metadata": {},
   "outputs": [],
   "source": [
    "#set N_LOW_COUNT\n",
    "#N_LOW_COUNT = int(np.median(labels_counts))"
   ]
  },
  {
   "cell_type": "markdown",
   "metadata": {},
   "source": [
    "#### Explore Labels Visually"
   ]
  },
  {
   "cell_type": "code",
   "execution_count": 13,
   "metadata": {},
   "outputs": [
    {
     "name": "stdout",
     "output_type": "stream",
     "text": [
      "(array([36113,   240,    52,    41,    21,    13,     7,     5,     2,\n",
      "           2,     0,     3,     1,     2,     0,     0,     0,     0,\n",
      "           1,     0,     0,     0,     0,     0,     0,     0,     0,\n",
      "           0,     0,     0,     0,     0,     0,     0,     0,     0,\n",
      "           0,     0,     0,     0,     0,     0,     0,     0,     0,\n",
      "           0,     0,     0,     0,     1], dtype=int64), array([1.000000e+00, 2.289800e+02, 4.569600e+02, 6.849400e+02,\n",
      "       9.129200e+02, 1.140900e+03, 1.368880e+03, 1.596860e+03,\n",
      "       1.824840e+03, 2.052820e+03, 2.280800e+03, 2.508780e+03,\n",
      "       2.736760e+03, 2.964740e+03, 3.192720e+03, 3.420700e+03,\n",
      "       3.648680e+03, 3.876660e+03, 4.104640e+03, 4.332620e+03,\n",
      "       4.560600e+03, 4.788580e+03, 5.016560e+03, 5.244540e+03,\n",
      "       5.472520e+03, 5.700500e+03, 5.928480e+03, 6.156460e+03,\n",
      "       6.384440e+03, 6.612420e+03, 6.840400e+03, 7.068380e+03,\n",
      "       7.296360e+03, 7.524340e+03, 7.752320e+03, 7.980300e+03,\n",
      "       8.208280e+03, 8.436260e+03, 8.664240e+03, 8.892220e+03,\n",
      "       9.120200e+03, 9.348180e+03, 9.576160e+03, 9.804140e+03,\n",
      "       1.003212e+04, 1.026010e+04, 1.048808e+04, 1.071606e+04,\n",
      "       1.094404e+04, 1.117202e+04, 1.140000e+04]))\n"
     ]
    },
    {
     "data": {
      "image/png": "[encoded data removed]",
      "text/plain": [
       "<Figure size 720x432 with 1 Axes>"
      ]
     },
     "metadata": {
      "needs_background": "light"
     },
     "output_type": "display_data"
    }
   ],
   "source": [
    "#visualize labels shape - so many ones\n",
    "print(np.histogram(labels_counts, bins = N_BINS))\n",
    "plt.hist(labels_counts, bins = N_BINS)\n",
    "plt.title(\"Label Counts Histogram\")\n",
    "plt.ylabel(\"Count\")\n",
    "plt.show()"
   ]
  },
  {
   "cell_type": "code",
   "execution_count": 14,
   "metadata": {},
   "outputs": [
    {
     "data": {
      "image/png": "[encoded data removed]",
      "text/plain": [
       "<Figure size 720x432 with 1 Axes>"
      ]
     },
     "metadata": {
      "needs_background": "light"
     },
     "output_type": "display_data"
    }
   ],
   "source": [
    "#visualize labels shape\n",
    "plt.hist(np.log(labels_counts), bins = N_BINS)\n",
    "plt.title(\"Log Label Counts Histogram\")\n",
    "plt.ylabel(\"Count\")\n",
    "plt.show()"
   ]
  },
  {
   "cell_type": "markdown",
   "metadata": {},
   "source": [
    "#### Explore a Specific Label\n",
    "How many labels 1? Label 1 indices"
   ]
  },
  {
   "cell_type": "code",
   "execution_count": 15,
   "metadata": {},
   "outputs": [
    {
     "name": "stdout",
     "output_type": "stream",
     "text": [
      "26\n"
     ]
    },
    {
     "data": {
      "text/plain": [
       "array([ 87198, 104236, 116699, 126074, 173758, 173763, 185136, 224772,\n",
       "       243313, 268117, 337477, 347188, 461050, 501496, 521941, 530044,\n",
       "       560621, 563316, 579411, 608222, 626176, 626540, 626918, 737877,\n",
       "       796029, 836061], dtype=int64)"
      ]
     },
     "execution_count": 15,
     "metadata": {},
     "output_type": "execute_result"
    }
   ],
   "source": [
    "print(labels_list.count(DOC_LABEL))\n",
    "\n",
    "#first index with label 1?\n",
    "labels_list.index(DOC_LABEL)\n",
    "\n",
    "#all indices with label 1\n",
    "np.where(labels_indices == 0)[0]\n",
    "#labels_list[104236]\n"
   ]
  },
  {
   "cell_type": "markdown",
   "metadata": {},
   "source": [
    "#### Explore Labels with Low Count\n",
    "How many labels with count 1? Count 1 indices, count 1 labels"
   ]
  },
  {
   "cell_type": "code",
   "execution_count": 16,
   "metadata": {},
   "outputs": [
    {
     "name": "stdout",
     "output_type": "stream",
     "text": [
      "4107\n"
     ]
    },
    {
     "data": {
      "text/plain": [
       "(array([    2,    21,    22, ..., 36496, 36501, 36503], dtype=int64),\n",
       " array([    19,    270,    280, ..., 445637, 445683, 445729]))"
      ]
     },
     "execution_count": 16,
     "metadata": {},
     "output_type": "execute_result"
    }
   ],
   "source": [
    "print(labels_counts.tolist().count(1))\n",
    "#all indices with label count=1, all labels with count=1\n",
    "np.where(labels_counts == 1)[0], labels_unique[np.where(labels_counts == 1)[0]]"
   ]
  },
  {
   "cell_type": "markdown",
   "metadata": {},
   "source": [
    "Consider rolling up one level\n",
    "\n",
    "#### Explore Most frequent Labels (with Highest Count)"
   ]
  },
  {
   "cell_type": "code",
   "execution_count": 17,
   "metadata": {},
   "outputs": [
    {
     "name": "stdout",
     "output_type": "stream",
     "text": [
      "[2242, 2253, 2527, 2538, 2723, 2826, 3009, 3067, 4289, 11400]\n"
     ]
    },
    {
     "data": {
      "text/plain": [
       "(array([13739], dtype=int64), array([167593]))"
      ]
     },
     "execution_count": 17,
     "metadata": {},
     "output_type": "execute_result"
    }
   ],
   "source": [
    "#most frequent labels counts\n",
    "print((sorted(labels_counts))[-10:])\n",
    "\n",
    "#which label most frequent?\n",
    "idx_label_most_frequent, = np.where(labels_counts == 11400) #tuple\n",
    "label_most_frequent = labels_unique[idx_label_most_frequent]\n",
    "idx_label_most_frequent, label_most_frequent"
   ]
  },
  {
   "cell_type": "markdown",
   "metadata": {},
   "source": [
    "\n",
    "## 0.  Load Test Data\n",
    "Read a Markup File - with input only"
   ]
  },
  {
   "cell_type": "code",
   "execution_count": 18,
   "metadata": {},
   "outputs": [
    {
     "name": "stdout",
     "output_type": "stream",
     "text": [
      "Processing time (in minutes):  0.3382618069648743\n"
     ]
    }
   ],
   "source": [
    "#track time\n",
    "t0 = time.time()\n",
    "\n",
    "#read file\n",
    "test_data = myTextReader(TEST_FILE) #class __main__.myTextReader\n",
    "\n",
    "#display a couple of entities\n",
    "test_data.docno[1:3], test_data.labels[1:3], test_data.data[1:3]\n",
    "\n",
    "print(\"Processing time (in minutes): \", (time.time() - t0)/60)"
   ]
  },
  {
   "cell_type": "code",
   "execution_count": 19,
   "metadata": {},
   "outputs": [
    {
     "data": {
      "text/plain": [
       "('81262',\n",
       " [0],\n",
       " 'Rancho Ca\\\\u00F1ada de la Segunda was a 4,367-acre (17.67 km) Mexican land grant in present day Monterey County, California given in 1839 by Governor Jos\\\\u00E9 Castro to Lazaro Soto. The grant extended along the north bank of the Carmel River, from the Pacific coast and present day Carmel-by-the-Sea up into the Carmel Valley.')"
      ]
     },
     "execution_count": 19,
     "metadata": {},
     "output_type": "execute_result"
    }
   ],
   "source": [
    "#explore text - number of documents\n",
    "test_data.docno[-1], test_data.labels[-1], test_data.data[-1]"
   ]
  },
  {
   "cell_type": "code",
   "execution_count": 20,
   "metadata": {},
   "outputs": [
    {
     "name": "stdout",
     "output_type": "stream",
     "text": [
      "Transformed list preview:  [0, 0, 0, 0, 0, 0, 0, 0, 0, 0, 0, 0, 0, 0, 0, 0, 0, 0, 0, 0, 0, 0, 0, 0, 0]\n",
      "Transformed list count:  81262\n"
     ]
    }
   ],
   "source": [
    "#flatten labels - confirm no labels\n",
    "labels_test_list = [item for sublist in test_data.labels for item in sublist]\n",
    "print('Transformed list preview: ', labels_test_list[:25])\n",
    "print('Transformed list count: ', len(labels_test_list))"
   ]
  },
  {
   "cell_type": "code",
   "execution_count": 21,
   "metadata": {},
   "outputs": [
    {
     "name": "stdout",
     "output_type": "stream",
     "text": [
      "[0] [81262]\n"
     ]
    }
   ],
   "source": [
    "#unique labels with counts\n",
    "labels_test_unique, labels_test_counts = np.unique(np.array(labels_test_list), return_counts = True)\n",
    "print(labels_test_unique, labels_test_counts) \n"
   ]
  },
  {
   "cell_type": "markdown",
   "metadata": {},
   "source": [
    "## 1. Prep Data\n",
    "\n",
    "### 1.0 Full Dataset\n",
    "- Full df    \n",
    "456886 documents x 3 fields `docno`, `labels`, `text`  \n",
    "(1 rec = 1 doc ->  many labels)    \n",
    "confirmed: 36504 unique labels"
   ]
  },
  {
   "cell_type": "code",
   "execution_count": 22,
   "metadata": {
    "scrolled": true
   },
   "outputs": [
    {
     "name": "stdout",
     "output_type": "stream",
     "text": [
      "(456886, 3)\n",
      "docno     object\n",
      "labels    object\n",
      "text      object\n",
      "dtype: object\n"
     ]
    },
    {
     "data": {
      "text/html": [
       "<div>\n",
       "<style scoped>\n",
       "    .dataframe tbody tr th:only-of-type {\n",
       "        vertical-align: middle;\n",
       "    }\n",
       "\n",
       "    .dataframe tbody tr th {\n",
       "        vertical-align: top;\n",
       "    }\n",
       "\n",
       "    .dataframe thead th {\n",
       "        text-align: right;\n",
       "    }\n",
       "</style>\n",
       "<table border=\"1\" class=\"dataframe\">\n",
       "  <thead>\n",
       "    <tr style=\"text-align: right;\">\n",
       "      <th></th>\n",
       "      <th>docno</th>\n",
       "      <th>labels</th>\n",
       "      <th>text</th>\n",
       "    </tr>\n",
       "  </thead>\n",
       "  <tbody>\n",
       "    <tr>\n",
       "      <th>0</th>\n",
       "      <td>1</td>\n",
       "      <td>[33692, 13402, 393382]</td>\n",
       "      <td>Alabama /\\u02CC\\u00E6l\\u0259\\u02C8b\\u00E6m\\u02...</td>\n",
       "    </tr>\n",
       "    <tr>\n",
       "      <th>1</th>\n",
       "      <td>2</td>\n",
       "      <td>[130762]</td>\n",
       "      <td>Alain Connes (born 1 April 1947) is a French m...</td>\n",
       "    </tr>\n",
       "    <tr>\n",
       "      <th>2</th>\n",
       "      <td>3</td>\n",
       "      <td>[352578, 395447, 27512, 157031]</td>\n",
       "      <td>Ayn Rand (born Alisa Zinov'yevna Rosenbaum; Fe...</td>\n",
       "    </tr>\n",
       "    <tr>\n",
       "      <th>3</th>\n",
       "      <td>4</td>\n",
       "      <td>[390846, 395447, 276114]</td>\n",
       "      <td>Allan Dwan (April 3, 1885 – December 28, 1981)...</td>\n",
       "    </tr>\n",
       "    <tr>\n",
       "      <th>4</th>\n",
       "      <td>5</td>\n",
       "      <td>[14661, 71999, 292915, 188756, 131368]</td>\n",
       "      <td>Andre Kirk Agassi (born April 29, 1970) is an ...</td>\n",
       "    </tr>\n",
       "  </tbody>\n",
       "</table>\n",
       "</div>"
      ],
      "text/plain": [
       "  docno                                  labels  \\\n",
       "0     1                  [33692, 13402, 393382]   \n",
       "1     2                                [130762]   \n",
       "2     3         [352578, 395447, 27512, 157031]   \n",
       "3     4                [390846, 395447, 276114]   \n",
       "4     5  [14661, 71999, 292915, 188756, 131368]   \n",
       "\n",
       "                                                text  \n",
       "0  Alabama /\\u02CC\\u00E6l\\u0259\\u02C8b\\u00E6m\\u02...  \n",
       "1  Alain Connes (born 1 April 1947) is a French m...  \n",
       "2  Ayn Rand (born Alisa Zinov'yevna Rosenbaum; Fe...  \n",
       "3  Allan Dwan (April 3, 1885 – December 28, 1981)...  \n",
       "4  Andre Kirk Agassi (born April 29, 1970) is an ...  "
      ]
     },
     "execution_count": 22,
     "metadata": {},
     "output_type": "execute_result"
    }
   ],
   "source": [
    "df = pd.DataFrame([train_data.docno, train_data.labels, train_data.data]).T\n",
    "df.columns = ['docno', 'labels', 'text']\n",
    "#df.set_index('docno', inplace=True)\n",
    "\n",
    "print(df.shape)\n",
    "print(df.dtypes)\n",
    "df.head()"
   ]
  },
  {
   "cell_type": "code",
   "execution_count": 23,
   "metadata": {},
   "outputs": [
    {
     "name": "stdout",
     "output_type": "stream",
     "text": [
      "<class 'pandas.core.frame.DataFrame'>\n",
      "RangeIndex: 456886 entries, 0 to 456885\n",
      "Data columns (total 3 columns):\n",
      " #   Column  Non-Null Count   Dtype \n",
      "---  ------  --------------   ----- \n",
      " 0   docno   456886 non-null  object\n",
      " 1   labels  456886 non-null  object\n",
      " 2   text    456886 non-null  object\n",
      "dtypes: object(3)\n",
      "memory usage: 10.5+ MB\n"
     ]
    }
   ],
   "source": [
    "df.info()"
   ]
  },
  {
   "cell_type": "code",
   "execution_count": 24,
   "metadata": {},
   "outputs": [
    {
     "data": {
      "text/plain": [
       "['output/lshtc3_wikipedia_med_df_train_full.pkl']"
      ]
     },
     "execution_count": 24,
     "metadata": {},
     "output_type": "execute_result"
    }
   ],
   "source": [
    "#save df\n",
    "#$kaggle\n",
    "#dump(df, 'lshtc3_wikipedia_med_df_train_full.pkl')\n",
    "dump(df, 'output/lshtc3_wikipedia_med_df_train_full.pkl')"
   ]
  },
  {
   "cell_type": "markdown",
   "metadata": {},
   "source": [
    "### 1.1 Explode Labels - one label per df row\n",
    "Exploded lists to rows of the subset columns; index will be duplicated for these rows  \n",
    "https://pandas.pydata.org/pandas-docs/stable/reference/api/pandas.DataFrame.explode.html\n",
    "\n",
    "#### 1.1.0 Exploded df - one label per df row \n",
    "\n",
    "- Full Exploded df -> explode each doc into records with 1 label per doc  \n",
    "842792 records x 3 fields `docno`, `label`, `text`  \n",
    "(1 rec -> many docs, 1 rec = 1 label)    \n",
    "confirmed: 36504 unique labels"
   ]
  },
  {
   "cell_type": "code",
   "execution_count": 25,
   "metadata": {},
   "outputs": [
    {
     "name": "stdout",
     "output_type": "stream",
     "text": [
      "(842792, 3)\n"
     ]
    },
    {
     "data": {
      "text/html": [
       "<div>\n",
       "<style scoped>\n",
       "    .dataframe tbody tr th:only-of-type {\n",
       "        vertical-align: middle;\n",
       "    }\n",
       "\n",
       "    .dataframe tbody tr th {\n",
       "        vertical-align: top;\n",
       "    }\n",
       "\n",
       "    .dataframe thead th {\n",
       "        text-align: right;\n",
       "    }\n",
       "</style>\n",
       "<table border=\"1\" class=\"dataframe\">\n",
       "  <thead>\n",
       "    <tr style=\"text-align: right;\">\n",
       "      <th></th>\n",
       "      <th>docno</th>\n",
       "      <th>label</th>\n",
       "      <th>text</th>\n",
       "    </tr>\n",
       "  </thead>\n",
       "  <tbody>\n",
       "    <tr>\n",
       "      <th>0</th>\n",
       "      <td>1</td>\n",
       "      <td>33692</td>\n",
       "      <td>Alabama /\\u02CC\\u00E6l\\u0259\\u02C8b\\u00E6m\\u02...</td>\n",
       "    </tr>\n",
       "    <tr>\n",
       "      <th>1</th>\n",
       "      <td>1</td>\n",
       "      <td>13402</td>\n",
       "      <td>Alabama /\\u02CC\\u00E6l\\u0259\\u02C8b\\u00E6m\\u02...</td>\n",
       "    </tr>\n",
       "    <tr>\n",
       "      <th>2</th>\n",
       "      <td>1</td>\n",
       "      <td>393382</td>\n",
       "      <td>Alabama /\\u02CC\\u00E6l\\u0259\\u02C8b\\u00E6m\\u02...</td>\n",
       "    </tr>\n",
       "    <tr>\n",
       "      <th>3</th>\n",
       "      <td>2</td>\n",
       "      <td>130762</td>\n",
       "      <td>Alain Connes (born 1 April 1947) is a French m...</td>\n",
       "    </tr>\n",
       "    <tr>\n",
       "      <th>4</th>\n",
       "      <td>3</td>\n",
       "      <td>352578</td>\n",
       "      <td>Ayn Rand (born Alisa Zinov'yevna Rosenbaum; Fe...</td>\n",
       "    </tr>\n",
       "    <tr>\n",
       "      <th>5</th>\n",
       "      <td>3</td>\n",
       "      <td>395447</td>\n",
       "      <td>Ayn Rand (born Alisa Zinov'yevna Rosenbaum; Fe...</td>\n",
       "    </tr>\n",
       "    <tr>\n",
       "      <th>6</th>\n",
       "      <td>3</td>\n",
       "      <td>27512</td>\n",
       "      <td>Ayn Rand (born Alisa Zinov'yevna Rosenbaum; Fe...</td>\n",
       "    </tr>\n",
       "    <tr>\n",
       "      <th>7</th>\n",
       "      <td>3</td>\n",
       "      <td>157031</td>\n",
       "      <td>Ayn Rand (born Alisa Zinov'yevna Rosenbaum; Fe...</td>\n",
       "    </tr>\n",
       "    <tr>\n",
       "      <th>8</th>\n",
       "      <td>4</td>\n",
       "      <td>390846</td>\n",
       "      <td>Allan Dwan (April 3, 1885 – December 28, 1981)...</td>\n",
       "    </tr>\n",
       "    <tr>\n",
       "      <th>9</th>\n",
       "      <td>4</td>\n",
       "      <td>395447</td>\n",
       "      <td>Allan Dwan (April 3, 1885 – December 28, 1981)...</td>\n",
       "    </tr>\n",
       "  </tbody>\n",
       "</table>\n",
       "</div>"
      ],
      "text/plain": [
       "  docno   label                                               text\n",
       "0     1   33692  Alabama /\\u02CC\\u00E6l\\u0259\\u02C8b\\u00E6m\\u02...\n",
       "1     1   13402  Alabama /\\u02CC\\u00E6l\\u0259\\u02C8b\\u00E6m\\u02...\n",
       "2     1  393382  Alabama /\\u02CC\\u00E6l\\u0259\\u02C8b\\u00E6m\\u02...\n",
       "3     2  130762  Alain Connes (born 1 April 1947) is a French m...\n",
       "4     3  352578  Ayn Rand (born Alisa Zinov'yevna Rosenbaum; Fe...\n",
       "5     3  395447  Ayn Rand (born Alisa Zinov'yevna Rosenbaum; Fe...\n",
       "6     3   27512  Ayn Rand (born Alisa Zinov'yevna Rosenbaum; Fe...\n",
       "7     3  157031  Ayn Rand (born Alisa Zinov'yevna Rosenbaum; Fe...\n",
       "8     4  390846  Allan Dwan (April 3, 1885 – December 28, 1981)...\n",
       "9     4  395447  Allan Dwan (April 3, 1885 – December 28, 1981)..."
      ]
     },
     "execution_count": 25,
     "metadata": {},
     "output_type": "execute_result"
    }
   ],
   "source": [
    "#explode labels lists to rows, ignore index - requires pandas 1.1.0+\n",
    "df_full_unilabel = df.explode('labels', ignore_index=True)\n",
    "df_full_unilabel.columns = ['docno', 'label', 'text']\n",
    "\n",
    "print(df_full_unilabel.shape)\n",
    "df_full_unilabel.head(10)"
   ]
  },
  {
   "cell_type": "code",
   "execution_count": 26,
   "metadata": {},
   "outputs": [
    {
     "data": {
      "text/plain": [
       "count     842792\n",
       "unique     36504\n",
       "top       167593\n",
       "freq       11400\n",
       "Name: label, dtype: int64"
      ]
     },
     "execution_count": 26,
     "metadata": {},
     "output_type": "execute_result"
    }
   ],
   "source": [
    "#confirm unique labels count\n",
    "df_full_unilabel['label'].describe()"
   ]
  },
  {
   "cell_type": "markdown",
   "metadata": {},
   "source": [
    "### 1.2 Remove Low Count Labels\n",
    "\n",
    "#### 1.2.0 Exploded df subset - one label per df row \n",
    "\n",
    "- Subset Exploded df -> remove docs with low count labels  \n",
    "151800 records x 3 fields `docno`, `label`, `text`  \n",
    "(1 rec -> many docs, 1 rec = 1 label)    \n",
    "confirmed: 139 unique labels"
   ]
  },
  {
   "cell_type": "code",
   "execution_count": 27,
   "metadata": {},
   "outputs": [],
   "source": [
    "N_LOW_COUNT = 500"
   ]
  },
  {
   "cell_type": "code",
   "execution_count": 28,
   "metadata": {},
   "outputs": [
    {
     "name": "stdout",
     "output_type": "stream",
     "text": [
      "1\n"
     ]
    },
    {
     "data": {
      "text/plain": [
       "(array([27512], dtype=int64), array([335454]))"
      ]
     },
     "execution_count": 28,
     "metadata": {},
     "output_type": "execute_result"
    }
   ],
   "source": [
    "#repeat from above\n",
    "print(labels_counts.tolist().count(N_LOW_COUNT))\n",
    "#all indices with label count=1, all labels with count=1\n",
    "np.where(labels_counts == N_LOW_COUNT)[0], labels_unique[np.where(labels_counts ==N_LOW_COUNT)[0]]"
   ]
  },
  {
   "cell_type": "code",
   "execution_count": 29,
   "metadata": {},
   "outputs": [
    {
     "data": {
      "text/plain": [
       "(1, 1)"
      ]
     },
     "execution_count": 29,
     "metadata": {},
     "output_type": "execute_result"
    }
   ],
   "source": [
    "#ie. in full train ds - know that labels 19, 445729 only happened once\n",
    "labels_list.count(19), labels_list.count(445729)"
   ]
  },
  {
   "cell_type": "code",
   "execution_count": 30,
   "metadata": {},
   "outputs": [
    {
     "data": {
      "text/plain": [
       "array([     1,     14,     19, ..., 445683, 445705, 445729])"
      ]
     },
     "execution_count": 30,
     "metadata": {},
     "output_type": "execute_result"
    }
   ],
   "source": [
    "labels_low_count = labels_unique[np.where(labels_counts < N_LOW_COUNT)[0]]\n",
    "labels_low_count"
   ]
  },
  {
   "cell_type": "code",
   "execution_count": 31,
   "metadata": {},
   "outputs": [
    {
     "name": "stdout",
     "output_type": "stream",
     "text": [
      "(151800, 3)\n"
     ]
    },
    {
     "data": {
      "text/html": [
       "<div>\n",
       "<style scoped>\n",
       "    .dataframe tbody tr th:only-of-type {\n",
       "        vertical-align: middle;\n",
       "    }\n",
       "\n",
       "    .dataframe tbody tr th {\n",
       "        vertical-align: top;\n",
       "    }\n",
       "\n",
       "    .dataframe thead th {\n",
       "        text-align: right;\n",
       "    }\n",
       "</style>\n",
       "<table border=\"1\" class=\"dataframe\">\n",
       "  <thead>\n",
       "    <tr style=\"text-align: right;\">\n",
       "      <th></th>\n",
       "      <th>docno</th>\n",
       "      <th>label</th>\n",
       "      <th>text</th>\n",
       "    </tr>\n",
       "  </thead>\n",
       "  <tbody>\n",
       "    <tr>\n",
       "      <th>3</th>\n",
       "      <td>2</td>\n",
       "      <td>130762</td>\n",
       "      <td>Alain Connes (born 1 April 1947) is a French m...</td>\n",
       "    </tr>\n",
       "    <tr>\n",
       "      <th>4</th>\n",
       "      <td>3</td>\n",
       "      <td>352578</td>\n",
       "      <td>Ayn Rand (born Alisa Zinov'yevna Rosenbaum; Fe...</td>\n",
       "    </tr>\n",
       "    <tr>\n",
       "      <th>5</th>\n",
       "      <td>3</td>\n",
       "      <td>395447</td>\n",
       "      <td>Ayn Rand (born Alisa Zinov'yevna Rosenbaum; Fe...</td>\n",
       "    </tr>\n",
       "    <tr>\n",
       "      <th>6</th>\n",
       "      <td>3</td>\n",
       "      <td>27512</td>\n",
       "      <td>Ayn Rand (born Alisa Zinov'yevna Rosenbaum; Fe...</td>\n",
       "    </tr>\n",
       "    <tr>\n",
       "      <th>8</th>\n",
       "      <td>4</td>\n",
       "      <td>390846</td>\n",
       "      <td>Allan Dwan (April 3, 1885 – December 28, 1981)...</td>\n",
       "    </tr>\n",
       "    <tr>\n",
       "      <th>9</th>\n",
       "      <td>4</td>\n",
       "      <td>395447</td>\n",
       "      <td>Allan Dwan (April 3, 1885 – December 28, 1981)...</td>\n",
       "    </tr>\n",
       "    <tr>\n",
       "      <th>11</th>\n",
       "      <td>5</td>\n",
       "      <td>14661</td>\n",
       "      <td>Andre Kirk Agassi (born April 29, 1970) is an ...</td>\n",
       "    </tr>\n",
       "    <tr>\n",
       "      <th>16</th>\n",
       "      <td>6</td>\n",
       "      <td>106615</td>\n",
       "      <td>Aldous Leonard Huxley (26 July 1894 \\u2013 22 ...</td>\n",
       "    </tr>\n",
       "    <tr>\n",
       "      <th>30</th>\n",
       "      <td>11</td>\n",
       "      <td>27512</td>\n",
       "      <td>Albert Einstein (14 March 1879\\u201318 April 1...</td>\n",
       "    </tr>\n",
       "    <tr>\n",
       "      <th>36</th>\n",
       "      <td>13</td>\n",
       "      <td>303577</td>\n",
       "      <td>Alfred Habdank Skarbek Korzybski (July 3, 1879...</td>\n",
       "    </tr>\n",
       "  </tbody>\n",
       "</table>\n",
       "</div>"
      ],
      "text/plain": [
       "   docno   label                                               text\n",
       "3      2  130762  Alain Connes (born 1 April 1947) is a French m...\n",
       "4      3  352578  Ayn Rand (born Alisa Zinov'yevna Rosenbaum; Fe...\n",
       "5      3  395447  Ayn Rand (born Alisa Zinov'yevna Rosenbaum; Fe...\n",
       "6      3   27512  Ayn Rand (born Alisa Zinov'yevna Rosenbaum; Fe...\n",
       "8      4  390846  Allan Dwan (April 3, 1885 – December 28, 1981)...\n",
       "9      4  395447  Allan Dwan (April 3, 1885 – December 28, 1981)...\n",
       "11     5   14661  Andre Kirk Agassi (born April 29, 1970) is an ...\n",
       "16     6  106615  Aldous Leonard Huxley (26 July 1894 \\u2013 22 ...\n",
       "30    11   27512  Albert Einstein (14 March 1879\\u201318 April 1...\n",
       "36    13  303577  Alfred Habdank Skarbek Korzybski (July 3, 1879..."
      ]
     },
     "execution_count": 31,
     "metadata": {},
     "output_type": "execute_result"
    }
   ],
   "source": [
    "#confirm (manually) counts before and after match \n",
    "df_sub_unilabel = df_full_unilabel[~df_full_unilabel['label'].isin(labels_low_count)]\n",
    "print(df_sub_unilabel.shape)\n",
    "df_sub_unilabel.head(10)"
   ]
  },
  {
   "cell_type": "code",
   "execution_count": 32,
   "metadata": {},
   "outputs": [
    {
     "data": {
      "text/plain": [
       "(1, 500)"
      ]
     },
     "execution_count": 32,
     "metadata": {},
     "output_type": "execute_result"
    }
   ],
   "source": [
    "#confirm that removed label 393382 had only 1 count, label 335454 500 count\n",
    "labels_list.count(393382), labels_list.count(335454)"
   ]
  },
  {
   "cell_type": "code",
   "execution_count": 33,
   "metadata": {
    "scrolled": true
   },
   "outputs": [
    {
     "name": "stdout",
     "output_type": "stream",
     "text": [
      "<class 'pandas.core.frame.DataFrame'>\n",
      "Int64Index: 151800 entries, 3 to 842771\n",
      "Data columns (total 3 columns):\n",
      " #   Column  Non-Null Count   Dtype \n",
      "---  ------  --------------   ----- \n",
      " 0   docno   151800 non-null  object\n",
      " 1   label   151800 non-null  object\n",
      " 2   text    151800 non-null  object\n",
      "dtypes: object(3)\n",
      "memory usage: 4.6+ MB\n"
     ]
    }
   ],
   "source": [
    "df_sub_unilabel.info()"
   ]
  },
  {
   "cell_type": "markdown",
   "metadata": {},
   "source": [
    "#### 1.2.1 Post EDA of Exploded Subset\n",
    "w/ no low count labels \n",
    "##### Explore Labels in Subset\n",
    "Confirm count of labels in exploded subset"
   ]
  },
  {
   "cell_type": "code",
   "execution_count": 34,
   "metadata": {
    "scrolled": true
   },
   "outputs": [
    {
     "data": {
      "text/plain": [
       "167593    11400\n",
       "347803     4289\n",
       "352578     3067\n",
       "284433     3009\n",
       "283823     2826\n",
       "          ...  \n",
       "335156      508\n",
       "10307       508\n",
       "239004      503\n",
       "131503      502\n",
       "335454      500\n",
       "Name: label, Length: 139, dtype: int64"
      ]
     },
     "execution_count": 34,
     "metadata": {},
     "output_type": "execute_result"
    }
   ],
   "source": [
    "df_sub_unilabel['label'].value_counts()"
   ]
  },
  {
   "cell_type": "code",
   "execution_count": 35,
   "metadata": {},
   "outputs": [
    {
     "data": {
      "text/plain": [
       "count     151800\n",
       "unique       139\n",
       "top       167593\n",
       "freq       11400\n",
       "Name: label, dtype: int64"
      ]
     },
     "execution_count": 35,
     "metadata": {},
     "output_type": "execute_result"
    }
   ],
   "source": [
    "df_sub_unilabel['label'].describe()"
   ]
  },
  {
   "cell_type": "markdown",
   "metadata": {},
   "source": [
    "##### Explore Docs in Subset\n",
    "Confirm count of docs in exploded subset"
   ]
  },
  {
   "cell_type": "code",
   "execution_count": 36,
   "metadata": {},
   "outputs": [
    {
     "name": "stdout",
     "output_type": "stream",
     "text": [
      "['2' '3' '4' ... '456869' '456870' '456871']\n",
      "127043\n"
     ]
    },
    {
     "data": {
      "text/plain": [
       "count     151800\n",
       "unique    127043\n",
       "top        31173\n",
       "freq           9\n",
       "Name: docno, dtype: object"
      ]
     },
     "execution_count": 36,
     "metadata": {},
     "output_type": "execute_result"
    }
   ],
   "source": [
    "print(df_sub_unilabel['docno'].unique())\n",
    "print(len(df_sub_unilabel['docno'].unique()))\n",
    "df_sub_unilabel['docno'].describe()"
   ]
  },
  {
   "cell_type": "code",
   "execution_count": 37,
   "metadata": {},
   "outputs": [
    {
     "data": {
      "text/plain": [
       "['output/lshtc3_wikipedia_med_df_train_sub_unilabel.pkl']"
      ]
     },
     "execution_count": 37,
     "metadata": {},
     "output_type": "execute_result"
    }
   ],
   "source": [
    "#save df\n",
    "#$kaggle\n",
    "#dump(df_full_unilabel, 'lshtc3_wikipedia_med_df_train_high_count.pkl')\n",
    "#dump(df_sub_unilabel, 'lshtc3_wikipedia_med_df_train_high_count.pkl')\n",
    "dump(df_full_unilabel, 'output/lshtc3_wikipedia_med_df_train_full_unilabel.pkl')\n",
    "dump(df_sub_unilabel, 'output/lshtc3_wikipedia_med_df_train_sub_unilabel.pkl')"
   ]
  },
  {
   "cell_type": "markdown",
   "metadata": {},
   "source": [
    "### 1.3 Implode Labels - multi labels for subset\n",
    "Concatenate strings from several rows using Pandas groupby\n",
    "https://www.geeksforgeeks.org/concatenate-strings-from-several-rows-using-pandas-groupby/"
   ]
  },
  {
   "cell_type": "code",
   "execution_count": 38,
   "metadata": {},
   "outputs": [
    {
     "name": "stdout",
     "output_type": "stream",
     "text": [
      "(151800, 3)\n",
      "docno    object\n",
      "label    object\n",
      "text     object\n",
      "dtype: object\n"
     ]
    },
    {
     "data": {
      "text/html": [
       "<div>\n",
       "<style scoped>\n",
       "    .dataframe tbody tr th:only-of-type {\n",
       "        vertical-align: middle;\n",
       "    }\n",
       "\n",
       "    .dataframe tbody tr th {\n",
       "        vertical-align: top;\n",
       "    }\n",
       "\n",
       "    .dataframe thead th {\n",
       "        text-align: right;\n",
       "    }\n",
       "</style>\n",
       "<table border=\"1\" class=\"dataframe\">\n",
       "  <thead>\n",
       "    <tr style=\"text-align: right;\">\n",
       "      <th></th>\n",
       "      <th>docno</th>\n",
       "      <th>label</th>\n",
       "      <th>text</th>\n",
       "    </tr>\n",
       "  </thead>\n",
       "  <tbody>\n",
       "    <tr>\n",
       "      <th>3</th>\n",
       "      <td>2</td>\n",
       "      <td>130762</td>\n",
       "      <td>Alain Connes (born 1 April 1947) is a French m...</td>\n",
       "    </tr>\n",
       "    <tr>\n",
       "      <th>4</th>\n",
       "      <td>3</td>\n",
       "      <td>352578</td>\n",
       "      <td>Ayn Rand (born Alisa Zinov'yevna Rosenbaum; Fe...</td>\n",
       "    </tr>\n",
       "    <tr>\n",
       "      <th>5</th>\n",
       "      <td>3</td>\n",
       "      <td>395447</td>\n",
       "      <td>Ayn Rand (born Alisa Zinov'yevna Rosenbaum; Fe...</td>\n",
       "    </tr>\n",
       "    <tr>\n",
       "      <th>6</th>\n",
       "      <td>3</td>\n",
       "      <td>27512</td>\n",
       "      <td>Ayn Rand (born Alisa Zinov'yevna Rosenbaum; Fe...</td>\n",
       "    </tr>\n",
       "    <tr>\n",
       "      <th>8</th>\n",
       "      <td>4</td>\n",
       "      <td>390846</td>\n",
       "      <td>Allan Dwan (April 3, 1885 – December 28, 1981)...</td>\n",
       "    </tr>\n",
       "    <tr>\n",
       "      <th>9</th>\n",
       "      <td>4</td>\n",
       "      <td>395447</td>\n",
       "      <td>Allan Dwan (April 3, 1885 – December 28, 1981)...</td>\n",
       "    </tr>\n",
       "    <tr>\n",
       "      <th>11</th>\n",
       "      <td>5</td>\n",
       "      <td>14661</td>\n",
       "      <td>Andre Kirk Agassi (born April 29, 1970) is an ...</td>\n",
       "    </tr>\n",
       "    <tr>\n",
       "      <th>16</th>\n",
       "      <td>6</td>\n",
       "      <td>106615</td>\n",
       "      <td>Aldous Leonard Huxley (26 July 1894 \\u2013 22 ...</td>\n",
       "    </tr>\n",
       "    <tr>\n",
       "      <th>30</th>\n",
       "      <td>11</td>\n",
       "      <td>27512</td>\n",
       "      <td>Albert Einstein (14 March 1879\\u201318 April 1...</td>\n",
       "    </tr>\n",
       "    <tr>\n",
       "      <th>36</th>\n",
       "      <td>13</td>\n",
       "      <td>303577</td>\n",
       "      <td>Alfred Habdank Skarbek Korzybski (July 3, 1879...</td>\n",
       "    </tr>\n",
       "  </tbody>\n",
       "</table>\n",
       "</div>"
      ],
      "text/plain": [
       "   docno   label                                               text\n",
       "3      2  130762  Alain Connes (born 1 April 1947) is a French m...\n",
       "4      3  352578  Ayn Rand (born Alisa Zinov'yevna Rosenbaum; Fe...\n",
       "5      3  395447  Ayn Rand (born Alisa Zinov'yevna Rosenbaum; Fe...\n",
       "6      3   27512  Ayn Rand (born Alisa Zinov'yevna Rosenbaum; Fe...\n",
       "8      4  390846  Allan Dwan (April 3, 1885 – December 28, 1981)...\n",
       "9      4  395447  Allan Dwan (April 3, 1885 – December 28, 1981)...\n",
       "11     5   14661  Andre Kirk Agassi (born April 29, 1970) is an ...\n",
       "16     6  106615  Aldous Leonard Huxley (26 July 1894 \\u2013 22 ...\n",
       "30    11   27512  Albert Einstein (14 March 1879\\u201318 April 1...\n",
       "36    13  303577  Alfred Habdank Skarbek Korzybski (July 3, 1879..."
      ]
     },
     "execution_count": 38,
     "metadata": {},
     "output_type": "execute_result"
    }
   ],
   "source": [
    "df_sub_multilabel = df_sub_unilabel.copy()\n",
    "print(df_sub_multilabel.shape)\n",
    "df_sub_multilabel['label'] = df_sub_multilabel['label'].astype('str')\n",
    "print(df_sub_multilabel.dtypes)\n",
    "df_sub_multilabel.head(10)"
   ]
  },
  {
   "cell_type": "code",
   "execution_count": 39,
   "metadata": {},
   "outputs": [
    {
     "name": "stdout",
     "output_type": "stream",
     "text": [
      "(151800,)\n",
      "Int64Index([3, 4, 5, 6, 8, 9, 11, 16, 30, 36], dtype='int64')\n"
     ]
    },
    {
     "data": {
      "text/plain": [
       "3                  130762\n",
       "4     352578 395447 27512\n",
       "5     352578 395447 27512\n",
       "6     352578 395447 27512\n",
       "8           390846 395447\n",
       "9           390846 395447\n",
       "11                  14661\n",
       "16                 106615\n",
       "30                  27512\n",
       "36                 303577\n",
       "Name: labels, dtype: object"
      ]
     },
     "execution_count": 39,
     "metadata": {},
     "output_type": "execute_result"
    }
   ],
   "source": [
    "df_sub_multilabel_temp = df_sub_multilabel.groupby('docno')['label'].transform(lambda x: ' '.join(x)) #.reset_index()\n",
    "#not the right place to drop duplicates\n",
    "#df_sub_multilabel_temp = df_sub_multilabel_temp.drop_duplicates() \n",
    "df_sub_multilabel_temp.name = 'labels'\n",
    "\n",
    "print(df_sub_multilabel_temp.shape)\n",
    "print(df_sub_multilabel_temp.index.unique()[:10])\n",
    "df_sub_multilabel_temp.head(10)"
   ]
  },
  {
   "cell_type": "markdown",
   "metadata": {},
   "source": [
    "#### 1.3.0 Imploded df subset - multi label per document (=df row)\n",
    "\n",
    "- Subset Imploded df -> implode labels from each record into docs with multi labels per doc  \n",
    "127043 imploded documents x 3 fields `docno`, `text`, `labels`  \n",
    "(1 rec = 1 doc ->  many labels)   \n",
    "confirmed: 139 unique labels "
   ]
  },
  {
   "cell_type": "code",
   "execution_count": 40,
   "metadata": {},
   "outputs": [
    {
     "name": "stdout",
     "output_type": "stream",
     "text": [
      "(127043, 3)\n"
     ]
    },
    {
     "data": {
      "text/html": [
       "<div>\n",
       "<style scoped>\n",
       "    .dataframe tbody tr th:only-of-type {\n",
       "        vertical-align: middle;\n",
       "    }\n",
       "\n",
       "    .dataframe tbody tr th {\n",
       "        vertical-align: top;\n",
       "    }\n",
       "\n",
       "    .dataframe thead th {\n",
       "        text-align: right;\n",
       "    }\n",
       "</style>\n",
       "<table border=\"1\" class=\"dataframe\">\n",
       "  <thead>\n",
       "    <tr style=\"text-align: right;\">\n",
       "      <th></th>\n",
       "      <th>docno</th>\n",
       "      <th>text</th>\n",
       "      <th>labels</th>\n",
       "    </tr>\n",
       "  </thead>\n",
       "  <tbody>\n",
       "    <tr>\n",
       "      <th>3</th>\n",
       "      <td>2</td>\n",
       "      <td>Alain Connes (born 1 April 1947) is a French m...</td>\n",
       "      <td>130762</td>\n",
       "    </tr>\n",
       "    <tr>\n",
       "      <th>4</th>\n",
       "      <td>3</td>\n",
       "      <td>Ayn Rand (born Alisa Zinov'yevna Rosenbaum; Fe...</td>\n",
       "      <td>352578 395447 27512</td>\n",
       "    </tr>\n",
       "    <tr>\n",
       "      <th>8</th>\n",
       "      <td>4</td>\n",
       "      <td>Allan Dwan (April 3, 1885 – December 28, 1981)...</td>\n",
       "      <td>390846 395447</td>\n",
       "    </tr>\n",
       "    <tr>\n",
       "      <th>11</th>\n",
       "      <td>5</td>\n",
       "      <td>Andre Kirk Agassi (born April 29, 1970) is an ...</td>\n",
       "      <td>14661</td>\n",
       "    </tr>\n",
       "    <tr>\n",
       "      <th>16</th>\n",
       "      <td>6</td>\n",
       "      <td>Aldous Leonard Huxley (26 July 1894 \\u2013 22 ...</td>\n",
       "      <td>106615</td>\n",
       "    </tr>\n",
       "  </tbody>\n",
       "</table>\n",
       "</div>"
      ],
      "text/plain": [
       "   docno                                               text  \\\n",
       "3      2  Alain Connes (born 1 April 1947) is a French m...   \n",
       "4      3  Ayn Rand (born Alisa Zinov'yevna Rosenbaum; Fe...   \n",
       "8      4  Allan Dwan (April 3, 1885 – December 28, 1981)...   \n",
       "11     5  Andre Kirk Agassi (born April 29, 1970) is an ...   \n",
       "16     6  Aldous Leonard Huxley (26 July 1894 \\u2013 22 ...   \n",
       "\n",
       "                 labels  \n",
       "3                130762  \n",
       "4   352578 395447 27512  \n",
       "8         390846 395447  \n",
       "11                14661  \n",
       "16               106615  "
      ]
     },
     "execution_count": 40,
     "metadata": {},
     "output_type": "execute_result"
    }
   ],
   "source": [
    "#Combine subset df with `text` field and subset series with imploded `labels` :  \n",
    "df_sub_multilabel = pd.merge(df_sub_multilabel, df_sub_multilabel_temp, how='inner', left_index=True, right_index=True)\n",
    "df_sub_multilabel.drop('label', axis=1, inplace=True)\n",
    "#drop docs with same `docno`\n",
    "df_sub_multilabel.drop_duplicates(inplace=True) \n",
    "\n",
    "print(df_sub_multilabel.shape)\n",
    "df_sub_multilabel.head()"
   ]
  },
  {
   "cell_type": "code",
   "execution_count": 41,
   "metadata": {},
   "outputs": [
    {
     "data": {
      "text/plain": [
       "['output/lshtc3_wikipedia_med_df_train_sub_multilabel.pkl']"
      ]
     },
     "execution_count": 41,
     "metadata": {},
     "output_type": "execute_result"
    }
   ],
   "source": [
    "#save df\n",
    "#$kaggle\n",
    "#dump(df_sub_multilabel, 'lshtc3_wikipedia_med_df_train_sub_multilabel.pkl')\n",
    "dump(df_sub_multilabel, 'output/lshtc3_wikipedia_med_df_train_sub_multilabel.pkl')"
   ]
  },
  {
   "cell_type": "markdown",
   "metadata": {},
   "source": [
    "#### Summary of arriving to the final `train` subset with limited # of labels\n",
    "\n",
    "1. Full df    \n",
    "456886 documents x 3 fields `docno`, `labels`, `text`  \n",
    "(1 rec = 1 doc ->  many labels)    \n",
    "confirmed: 36504 unique labels\n",
    "\n",
    "2. Full Exploded df -> explode each doc into records with 1 label per doc  \n",
    "842792 records x 3 fields `docno`, `label`, `text`  \n",
    "(1 rec -> many docs, 1 rec = 1 label)    \n",
    "confirmed: 36504 unique labels\n",
    "\n",
    "3. Subset Exploded df -> remove docs with low count labels  \n",
    "151800 records x 3 fields `docno`, `label`, `text`  \n",
    "(1 rec -> many docs, 1 rec = 1 label)    \n",
    "confirmed: 139 unique labels\n",
    "\n",
    "4. Subset Imploded df -> implode labels from each record into docs with multi labels per doc  \n",
    "127043 imploded documents x 3 fields `docno`, `text`, `labels`  \n",
    "(1 rec = 1 doc ->  many labels)   \n",
    "confirmed: 139 unique labels  \n"
   ]
  },
  {
   "cell_type": "code",
   "execution_count": 42,
   "metadata": {},
   "outputs": [
    {
     "ename": "NameError",
     "evalue": "name 'mystop' is not defined",
     "output_type": "error",
     "traceback": [
      "\u001b[1;31m---------------------------------------------------------------------------\u001b[0m",
      "\u001b[1;31mNameError\u001b[0m                                 Traceback (most recent call last)",
      "\u001b[1;32m<ipython-input-42-255d8eb4da7e>\u001b[0m in \u001b[0;36m<module>\u001b[1;34m\u001b[0m\n\u001b[1;32m----> 1\u001b[1;33m \u001b[0mmystop\u001b[0m\u001b[1;33m\u001b[0m\u001b[1;33m\u001b[0m\u001b[0m\n\u001b[0m",
      "\u001b[1;31mNameError\u001b[0m: name 'mystop' is not defined"
     ]
    }
   ],
   "source": [
    "mystop"
   ]
  },
  {
   "cell_type": "markdown",
   "metadata": {},
   "source": [
    "## Xtra"
   ]
  },
  {
   "cell_type": "markdown",
   "metadata": {},
   "source": [
    "### Xtra Encode target - multi-labels per document\n",
    "\n",
    "Given a dataset with two features, we let the encoder find the unique values per feature and transform the data to a binary one-hot encoding.  \n",
    "https://stackabuse.com/one-hot-encoding-in-python-with-pandas-and-scikit-learn/\n",
    "\n",
    "\n",
    "Imploded subset ds shape:  \n",
    "127043 docs x 139 unique labels"
   ]
  },
  {
   "cell_type": "code",
   "execution_count": null,
   "metadata": {},
   "outputs": [],
   "source": [
    "#$xtra no need for OHE label encoding\n",
    "ohe = pd.get_dummies(df_sub_unilabel['label'], prefix='label')\n",
    "print(ohe.shape)\n",
    "ohe.head()"
   ]
  },
  {
   "cell_type": "code",
   "execution_count": null,
   "metadata": {},
   "outputs": [],
   "source": [
    "#add ohe labels to df_sub_unilabel\n",
    "df_sub_ohe_multilabel = pd.concat([df_sub_unilabel, ohe], axis=1)\n",
    "print(df_sub_ohe_multilabel.shape)\n",
    "df_sub_ohe_multilabel.head()"
   ]
  },
  {
   "cell_type": "markdown",
   "metadata": {},
   "source": [
    "Get to matrix shape:  \n",
    "n docs x m unique labels"
   ]
  },
  {
   "cell_type": "code",
   "execution_count": null,
   "metadata": {},
   "outputs": [],
   "source": [
    "df_y = df_sub_ohe_multilabel.groupby('docno').sum()\n",
    "print(df_y.shape)\n",
    "df_y.head()"
   ]
  },
  {
   "cell_type": "markdown",
   "metadata": {},
   "source": [
    "Combine X&y:  \n",
    "127403 docs x 139 unique labels + original `labels` and `text` fields"
   ]
  },
  {
   "cell_type": "code",
   "execution_count": null,
   "metadata": {},
   "outputs": [],
   "source": [
    "#revisit full df\n",
    "df.set_index('docno', inplace=True)\n",
    "print(df.shape)\n",
    "df.head()"
   ]
  },
  {
   "cell_type": "code",
   "execution_count": null,
   "metadata": {},
   "outputs": [],
   "source": [
    "df_sub_ohe_multilabel = pd.merge(df, df_y, how='inner', left_index=True, right_index=True)\n",
    "print(df_sub_ohe_multilabel.shape)\n",
    "df_sub_ohe_multilabel.head()"
   ]
  },
  {
   "cell_type": "code",
   "execution_count": null,
   "metadata": {},
   "outputs": [],
   "source": [
    "#verify right labels for a sample doc\n",
    "print(df.loc['3'])\n",
    "df_sub_ohe_multilabel.loc['3'][['text', 'label_106615','label_352578', 'label_395447','label_27512']]"
   ]
  },
  {
   "cell_type": "code",
   "execution_count": null,
   "metadata": {},
   "outputs": [],
   "source": [
    "#save df\n",
    "#$kaggle\n",
    "#dump(df_sub_ohe_multilabel, 'lshtc3_wikipedia_med_df_train_ohe_multilabel.pkl') \n",
    "dump(df_sub_ohe_multilabel, 'output/lshtc3_wikipedia_med_df_train_ohe_multilabel.pkl') "
   ]
  },
  {
   "cell_type": "code",
   "execution_count": null,
   "metadata": {},
   "outputs": [],
   "source": [
    "mystop"
   ]
  },
  {
   "cell_type": "code",
   "execution_count": null,
   "metadata": {},
   "outputs": [],
   "source": [
    "#xtra manually, replicate Class - read an html file\n",
    "tiny_docno=[]\n",
    "tiny_labels=[]                      #parsing the required data about labels and documents\n",
    "tiny_data=[]\n",
    "        \n",
    "soup=BeautifulSoup(open('input/wikipediaMediumOriginalLSHTCv3-train_tiny.txt','r',encoding='utf8'),'html.parser')\n",
    "\n",
    "for x in list(soup.find_all('docno')):\n",
    "    tiny_docno.append([ int(lab) for lab in x.get_text().split()])\n",
    "\n",
    "for x in list(soup.find_all('labels')):\n",
    "    tiny_labels.append([ int(lab) for lab in x.get_text().split()])\n",
    "    tiny_data.append(x.next_sibling.strip('\\n'))\n",
    "    \n",
    "#results after reading file\n",
    "tiny_docno[1:3], tiny_labels[1:3], tiny_data[1:3]"
   ]
  },
  {
   "cell_type": "code",
   "execution_count": null,
   "metadata": {},
   "outputs": [],
   "source": [
    "#xtra flatten list of lists example\n",
    "#src https://stackabuse.com/python-how-to-flatten-list-of-lists/\n",
    "#may run into nb limiation -  To change this limit, set the config variable `--NotebookApp.iopub_data_rate_limit`.  \n",
    "#jupyter notebook --NotebookApp.iopub_data_rate_limit=1.0e10\n",
    "\n",
    "regular_list = [[1, 2, 3, 4], [5, 6, 7], [8, 9]]\n",
    "flat_list = [item for sublist in regular_list for item in sublist]\n",
    "print('Original list', regular_list)\n",
    "print('Transformed list', flat_list)"
   ]
  },
  {
   "cell_type": "code",
   "execution_count": null,
   "metadata": {},
   "outputs": [],
   "source": [
    "#xtra find indices in array of values (not used here)\n",
    "#Create a numpy array from a list of numbers\n",
    "print([[11, 19, 18], [14, 15, 11], [19, 21, 46], [29, 21, 19]].__class__)\n",
    "arr = np.array([[11, 19, 18], [14, 15, 11], [19, 21, 46], [29, 21, 19]])\n",
    "print(arr)\n",
    "\n",
    "result = np.where(arr == 19)\n",
    "print(result)\n",
    "\n",
    "listOfIndices= list(zip(result[0], result[1]))\n",
    "\n",
    "for indice in listOfIndices:\n",
    "    print(indice)"
   ]
  },
  {
   "cell_type": "code",
   "execution_count": null,
   "metadata": {},
   "outputs": [],
   "source": [
    "#index of where most frequent label $acrevisit\n",
    "idx2_label_most_frequent = []\n",
    "for idx_most in train_data.labels:\n",
    "    if label_most_frequent in idx_most:\n",
    "        idx2_label_most_frequent.append(idx_most)\n",
    "\n",
    "#confirm counts       \n",
    "print(len(idx2_label_most_frequent))\n",
    "#preview\n",
    "idx2_label_most_frequent[:5]"
   ]
  },
  {
   "cell_type": "code",
   "execution_count": null,
   "metadata": {},
   "outputs": [],
   "source": []
  }
 ],
 "metadata": {
  "hide_input": false,
  "kernelspec": {
   "display_name": "nlp_lshtc",
   "language": "python",
   "name": "nlp_lshtc"
  },
  "language_info": {
   "codemirror_mode": {
    "name": "ipython",
    "version": 3
   },
   "file_extension": ".py",
   "mimetype": "text/x-python",
   "name": "python",
   "nbconvert_exporter": "python",
   "pygments_lexer": "ipython3",
   "version": "3.7.6"
  },
  "toc": {
   "base_numbering": 1,
   "nav_menu": {},
   "number_sections": true,
   "sideBar": true,
   "skip_h1_title": false,
   "title_cell": "Table of Contents",
   "title_sidebar": "Contents",
   "toc_cell": false,
   "toc_position": {
    "height": "calc(100% - 180px)",
    "left": "10px",
    "top": "150px",
    "width": "270.498px"
   },
   "toc_section_display": true,
   "toc_window_display": true
  }
 },
 "nbformat": 4,
 "nbformat_minor": 4
}
