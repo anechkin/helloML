{
 "cells": [
  {
   "cell_type": "code",
   "execution_count": 1,
   "metadata": {
    "gather": {
     "logged": 1618545514907
    }
   },
   "outputs": [],
   "source": [
    "#meta 4/15/2021 myClassify (multiclass) for LSHTC - Train model with fast.ai\n",
    "# task: classify text (multiclass) \n",
    "# input: data/lshtc3_wikipedia_med_df_train_tidy.pkl\n",
    "#      LSHTC3 reduced ds with less labels\n",
    "#      Important reset index - fast.ai dataloaders don't like a gap in index\n",
    "#      to avoid -> TypeError: 'float' object is not iterable\n",
    "\n",
    "#task: Multi-category text classification - supervise\n",
    "#based on 1_classify_sentiment_spacy_multi.ipynb\n",
    "\n",
    "\n",
    "#history\n",
    "#      4/15/2021 FAST.AI in AML\n",
    "#      Accuracy ~61% \n",
    "#      4/19/2021 TRY FAST.AI in Kaggle \n",
    "#      Accuracyimproves by ~1%\n"
   ]
  },
  {
   "cell_type": "code",
   "execution_count": 2,
   "metadata": {
    "gather": {
     "logged": 1618545515476
    },
    "nteract": {
     "transient": {
      "deleting": false
     }
    }
   },
   "outputs": [],
   "source": [
    "%matplotlib inline\n",
    "#import time as time #to track performance time\n",
    "import pandas as pd\n",
    "import numpy as np\n",
    "import matplotlib.pyplot as plt\n",
    "from joblib import load, dump\n"
   ]
  },
  {
   "cell_type": "code",
   "execution_count": 3,
   "metadata": {
    "gather": {
     "logged": 1618545516769
    },
    "nteract": {
     "transient": {
      "deleting": false
     }
    }
   },
   "outputs": [],
   "source": [
    "from fastai.text.all import *"
   ]
  },
  {
   "cell_type": "code",
   "execution_count": 4,
   "metadata": {
    "gather": {
     "logged": 1618545517013
    },
    "nteract": {
     "transient": {
      "deleting": false
     }
    }
   },
   "outputs": [],
   "source": [
    "#declare vars\n",
    "SEED = 24"
   ]
  },
  {
   "cell_type": "markdown",
   "metadata": {
    "nteract": {
     "transient": {
      "deleting": false
     }
    }
   },
   "source": [
    "# LSHTC: Classify Text \n",
    "Train text classifier using Transfer Learning.  2 steps:  \n",
    "1. fine-tune our language model pretrained on Wikipedia to the corpus of Expeditors survey  \n",
    "2. use that model to train a classifier  \n",
    "\n",
    "\n",
    "\n",
    "## 0. Load Data\n",
    "input: a prepared pickle with pre-selected relevant fields."
   ]
  },
  {
   "cell_type": "code",
   "execution_count": 5,
   "metadata": {
    "gather": {
     "logged": 1618545519814
    },
    "nteract": {
     "transient": {
      "deleting": false
     }
    }
   },
   "outputs": [
    {
     "name": "stdout",
     "output_type": "stream",
     "text": [
      "(151800, 2)\n",
      "Index(['labels', 'text'], dtype='object')\n",
      "labels    category\n",
      "text        object\n",
      "dtype: object\n"
     ]
    },
    {
     "data": {
      "text/html": [
       "<div>\n",
       "<style scoped>\n",
       "    .dataframe tbody tr th:only-of-type {\n",
       "        vertical-align: middle;\n",
       "    }\n",
       "\n",
       "    .dataframe tbody tr th {\n",
       "        vertical-align: top;\n",
       "    }\n",
       "\n",
       "    .dataframe thead th {\n",
       "        text-align: right;\n",
       "    }\n",
       "</style>\n",
       "<table border=\"1\" class=\"dataframe\">\n",
       "  <thead>\n",
       "    <tr style=\"text-align: right;\">\n",
       "      <th></th>\n",
       "      <th>labels</th>\n",
       "      <th>text</th>\n",
       "    </tr>\n",
       "  </thead>\n",
       "  <tbody>\n",
       "    <tr>\n",
       "      <th>0</th>\n",
       "      <td>130762</td>\n",
       "      <td>Alain Connes (born 1 April 1947) is a French mathematician, currently Professor at the Coll\\u00E8ge de France, IH\\u00C9S and Vanderbilt University.</td>\n",
       "    </tr>\n",
       "    <tr>\n",
       "      <th>1</th>\n",
       "      <td>352578</td>\n",
       "      <td>Ayn Rand (born Alisa Zinov'yevna Rosenbaum; February 2 1905 – March 6, 1982), was a Russian-American novelist, philosopher, playwright, and screenwriter. She is known for her two best-selling novels and for developing a philosophical system she called Objectivism. Born and educated in Russia, Rand immigrated to the United States in 1926. She worked as a screenwriter in Hollywood and had a play produced on Broadway in 1935\\u20131936. She first achieved fame in 1943 with her novel The Fountainhead, which in 1957 was followed by her best-known work, the philosophical novel Atlas Shrugged. Ran...</td>\n",
       "    </tr>\n",
       "    <tr>\n",
       "      <th>2</th>\n",
       "      <td>395447</td>\n",
       "      <td>Ayn Rand (born Alisa Zinov'yevna Rosenbaum; February 2 1905 – March 6, 1982), was a Russian-American novelist, philosopher, playwright, and screenwriter. She is known for her two best-selling novels and for developing a philosophical system she called Objectivism. Born and educated in Russia, Rand immigrated to the United States in 1926. She worked as a screenwriter in Hollywood and had a play produced on Broadway in 1935\\u20131936. She first achieved fame in 1943 with her novel The Fountainhead, which in 1957 was followed by her best-known work, the philosophical novel Atlas Shrugged. Ran...</td>\n",
       "    </tr>\n",
       "    <tr>\n",
       "      <th>3</th>\n",
       "      <td>27512</td>\n",
       "      <td>Ayn Rand (born Alisa Zinov'yevna Rosenbaum; February 2 1905 – March 6, 1982), was a Russian-American novelist, philosopher, playwright, and screenwriter. She is known for her two best-selling novels and for developing a philosophical system she called Objectivism. Born and educated in Russia, Rand immigrated to the United States in 1926. She worked as a screenwriter in Hollywood and had a play produced on Broadway in 1935\\u20131936. She first achieved fame in 1943 with her novel The Fountainhead, which in 1957 was followed by her best-known work, the philosophical novel Atlas Shrugged. Ran...</td>\n",
       "    </tr>\n",
       "    <tr>\n",
       "      <th>4</th>\n",
       "      <td>390846</td>\n",
       "      <td>Allan Dwan (April 3, 1885 – December 28, 1981) was a pioneering Canadian-born American motion picture director, producer and screenwriter.</td>\n",
       "    </tr>\n",
       "  </tbody>\n",
       "</table>\n",
       "</div>"
      ],
      "text/plain": [
       "   labels  \\\n",
       "0  130762   \n",
       "1  352578   \n",
       "2  395447   \n",
       "3   27512   \n",
       "4  390846   \n",
       "\n",
       "                                                                                                                                                                                                                                                                                                                                                                                                                                                                                                                                                                                                                      text  \n",
       "0                                                                                                                                                                                                                                                                                                                                                                                                                                                                      Alain Connes (born 1 April 1947) is a French mathematician, currently Professor at the Coll\\u00E8ge de France, IH\\u00C9S and Vanderbilt University.  \n",
       "1  Ayn Rand (born Alisa Zinov'yevna Rosenbaum; February 2 1905 – March 6, 1982), was a Russian-American novelist, philosopher, playwright, and screenwriter. She is known for her two best-selling novels and for developing a philosophical system she called Objectivism. Born and educated in Russia, Rand immigrated to the United States in 1926. She worked as a screenwriter in Hollywood and had a play produced on Broadway in 1935\\u20131936. She first achieved fame in 1943 with her novel The Fountainhead, which in 1957 was followed by her best-known work, the philosophical novel Atlas Shrugged. Ran...  \n",
       "2  Ayn Rand (born Alisa Zinov'yevna Rosenbaum; February 2 1905 – March 6, 1982), was a Russian-American novelist, philosopher, playwright, and screenwriter. She is known for her two best-selling novels and for developing a philosophical system she called Objectivism. Born and educated in Russia, Rand immigrated to the United States in 1926. She worked as a screenwriter in Hollywood and had a play produced on Broadway in 1935\\u20131936. She first achieved fame in 1943 with her novel The Fountainhead, which in 1957 was followed by her best-known work, the philosophical novel Atlas Shrugged. Ran...  \n",
       "3  Ayn Rand (born Alisa Zinov'yevna Rosenbaum; February 2 1905 – March 6, 1982), was a Russian-American novelist, philosopher, playwright, and screenwriter. She is known for her two best-selling novels and for developing a philosophical system she called Objectivism. Born and educated in Russia, Rand immigrated to the United States in 1926. She worked as a screenwriter in Hollywood and had a play produced on Broadway in 1935\\u20131936. She first achieved fame in 1943 with her novel The Fountainhead, which in 1957 was followed by her best-known work, the philosophical novel Atlas Shrugged. Ran...  \n",
       "4                                                                                                                                                                                                                                                                                                                                                                                                                                                                               Allan Dwan (April 3, 1885 – December 28, 1981) was a pioneering Canadian-born American motion picture director, producer and screenwriter.  "
      ]
     },
     "execution_count": 5,
     "metadata": {},
     "output_type": "execute_result"
    }
   ],
   "source": [
    "df_tidy = load('/kaggle/input/mylshtc3train/lshtc3_wikipedia_med_df_train_tidy.pkl') \n",
    "print(df_tidy.shape)\n",
    "print(df_tidy.columns)\n",
    "print(df_tidy.dtypes)\n",
    "df_tidy.head()\n"
   ]
  },
  {
   "cell_type": "code",
   "execution_count": 6,
   "metadata": {
    "gather": {
     "logged": 1618545520091
    },
    "nteract": {
     "transient": {
      "deleting": false
     }
    }
   },
   "outputs": [
    {
     "data": {
      "text/html": [
       "<div>\n",
       "<style scoped>\n",
       "    .dataframe tbody tr th:only-of-type {\n",
       "        vertical-align: middle;\n",
       "    }\n",
       "\n",
       "    .dataframe tbody tr th {\n",
       "        vertical-align: top;\n",
       "    }\n",
       "\n",
       "    .dataframe thead th {\n",
       "        text-align: right;\n",
       "    }\n",
       "</style>\n",
       "<table border=\"1\" class=\"dataframe\">\n",
       "  <thead>\n",
       "    <tr style=\"text-align: right;\">\n",
       "      <th></th>\n",
       "      <th>text</th>\n",
       "      <th>label</th>\n",
       "    </tr>\n",
       "  </thead>\n",
       "  <tbody>\n",
       "    <tr>\n",
       "      <th>0</th>\n",
       "      <td>Alain Connes (born 1 April 1947) is a French mathematician, currently Professor at the Coll\\u00E8ge de France, IH\\u00C9S and Vanderbilt University.</td>\n",
       "      <td>130762</td>\n",
       "    </tr>\n",
       "    <tr>\n",
       "      <th>1</th>\n",
       "      <td>Ayn Rand (born Alisa Zinov'yevna Rosenbaum; February 2 1905 – March 6, 1982), was a Russian-American novelist, philosopher, playwright, and screenwriter. She is known for her two best-selling novels and for developing a philosophical system she called Objectivism. Born and educated in Russia, Rand immigrated to the United States in 1926. She worked as a screenwriter in Hollywood and had a play produced on Broadway in 1935\\u20131936. She first achieved fame in 1943 with her novel The Fountainhead, which in 1957 was followed by her best-known work, the philosophical novel Atlas Shrugged. Ran...</td>\n",
       "      <td>352578</td>\n",
       "    </tr>\n",
       "  </tbody>\n",
       "</table>\n",
       "</div>"
      ],
      "text/plain": [
       "                                                                                                                                                                                                                                                                                                                                                                                                                                                                                                                                                                                                                      text  \\\n",
       "0                                                                                                                                                                                                                                                                                                                                                                                                                                                                      Alain Connes (born 1 April 1947) is a French mathematician, currently Professor at the Coll\\u00E8ge de France, IH\\u00C9S and Vanderbilt University.   \n",
       "1  Ayn Rand (born Alisa Zinov'yevna Rosenbaum; February 2 1905 – March 6, 1982), was a Russian-American novelist, philosopher, playwright, and screenwriter. She is known for her two best-selling novels and for developing a philosophical system she called Objectivism. Born and educated in Russia, Rand immigrated to the United States in 1926. She worked as a screenwriter in Hollywood and had a play produced on Broadway in 1935\\u20131936. She first achieved fame in 1943 with her novel The Fountainhead, which in 1957 was followed by her best-known work, the philosophical novel Atlas Shrugged. Ran...   \n",
       "\n",
       "    label  \n",
       "0  130762  \n",
       "1  352578  "
      ]
     },
     "execution_count": 6,
     "metadata": {},
     "output_type": "execute_result"
    }
   ],
   "source": [
    "#clean df\n",
    "df = df_tidy[['text', 'labels']].copy()\n",
    "df.columns = ['text', 'label']\n",
    "\n",
    "#reset index - dataloaders don't like a gap in index\n",
    "#to fix error in next cell: TypeError: 'float' object is not iterable\n",
    "#df.reset_index(drop=True, inplace=True)\n",
    "\n",
    "df.head(2)"
   ]
  },
  {
   "cell_type": "markdown",
   "metadata": {
    "nteract": {
     "transient": {
      "deleting": false
     }
    }
   },
   "source": [
    "## 1. Data Prep for fast.ai\n",
    "Prepare our data for the language model and for the classification model separately, using fast.ai library."
   ]
  },
  {
   "cell_type": "markdown",
   "metadata": {
    "nteract": {
     "transient": {
      "deleting": false
     }
    }
   },
   "source": [
    "### 1.1 Data Prep for Language Model Using DataBlock\n",
    "fastai handles tokenization and numericalization automatically when `TextBlock` is passed to `DataBlock`. `DataBlock`'s handy `summary` method is useful for debugging data issues.\n"
   ]
  },
  {
   "cell_type": "markdown",
   "metadata": {
    "nteract": {
     "transient": {
      "deleting": false
     }
    }
   },
   "source": [
    "Putting Our Texts into Batches for a Language Model"
   ]
  },
  {
   "cell_type": "code",
   "execution_count": 7,
   "metadata": {
    "gather": {
     "logged": 1618545688653
    },
    "nteract": {
     "transient": {
      "deleting": false
     }
    }
   },
   "outputs": [
    {
     "data": {
      "text/html": [],
      "text/plain": [
       "<IPython.core.display.HTML object>"
      ]
     },
     "metadata": {},
     "output_type": "display_data"
    },
    {
     "name": "stderr",
     "output_type": "stream",
     "text": [
      "/opt/conda/lib/python3.7/site-packages/numpy/core/_asarray.py:83: VisibleDeprecationWarning: Creating an ndarray from ragged nested sequences (which is a list-or-tuple of lists-or-tuples-or ndarrays with different lengths or shapes) is deprecated. If you meant to do this, you must specify 'dtype=object' when creating the ndarray\n",
      "  return array(a, dtype, copy=False, order=order)\n"
     ]
    },
    {
     "data": {
      "text/html": [
       "<table border=\"1\" class=\"dataframe\">\n",
       "  <thead>\n",
       "    <tr style=\"text-align: right;\">\n",
       "      <th></th>\n",
       "      <th>text</th>\n",
       "      <th>text_</th>\n",
       "    </tr>\n",
       "  </thead>\n",
       "  <tbody>\n",
       "    <tr>\n",
       "      <th>0</th>\n",
       "      <td>xxbos xxmaj tinley xxmaj park is a village located primarily in xxmaj cook xxmaj county , xxmaj illinois , xxmaj united xxmaj states with a small portion in xxmaj will xxmaj county . xxmaj the population was xxunk at the 2 xxrep 3 0 census , and xxunk in the 2007 census . xxmaj it is one of the fastest growing suburbs south of xxmaj chicago . xxmaj in 2009 , xxmaj</td>\n",
       "      <td>xxmaj tinley xxmaj park is a village located primarily in xxmaj cook xxmaj county , xxmaj illinois , xxmaj united xxmaj states with a small portion in xxmaj will xxmaj county . xxmaj the population was xxunk at the 2 xxrep 3 0 census , and xxunk in the 2007 census . xxmaj it is one of the fastest growing suburbs south of xxmaj chicago . xxmaj in 2009 , xxmaj tinley</td>\n",
       "    </tr>\n",
       "    <tr>\n",
       "      <th>1</th>\n",
       "      <td>states until age thirteen when he was sent to a breeding operation in xxmaj argentina . xxmaj he was not successful as a sire . xxbos xxmaj merlin xxmaj jay xxmaj olsen ( september 15 , 1940 \\ u2013 xxmaj march 11 , 2010 ) was a former xxmaj american football player in the xxmaj national xxmaj football xxmaj league and an actor . xxmaj he played his entire 15-year career with</td>\n",
       "      <td>until age thirteen when he was sent to a breeding operation in xxmaj argentina . xxmaj he was not successful as a sire . xxbos xxmaj merlin xxmaj jay xxmaj olsen ( september 15 , 1940 \\ u2013 xxmaj march 11 , 2010 ) was a former xxmaj american football player in the xxmaj national xxmaj football xxmaj league and an actor . xxmaj he played his entire 15-year career with the</td>\n",
       "    </tr>\n",
       "    <tr>\n",
       "      <th>2</th>\n",
       "      <td>- old - feuds - die - hard 2 http : / / query . nytimes . com / gst / xxunk . xxunk 3 http : / / xxunk . xxunk . com / ? s = devine 4 http : / / xxunk . xxunk . com 5 http : / / xxrep 3 w . xxunk . com / matt - friedman / xxunk / elizabeth - old -</td>\n",
       "      <td>old - feuds - die - hard 2 http : / / query . nytimes . com / gst / xxunk . xxunk 3 http : / / xxunk . xxunk . com / ? s = devine 4 http : / / xxunk . xxunk . com 5 http : / / xxrep 3 w . xxunk . com / matt - friedman / xxunk / elizabeth - old - feuds</td>\n",
       "    </tr>\n",
       "  </tbody>\n",
       "</table>"
      ],
      "text/plain": [
       "<IPython.core.display.HTML object>"
      ]
     },
     "metadata": {},
     "output_type": "display_data"
    }
   ],
   "source": [
    "#src https://docs.fast.ai/text.data.html#TextDataLoaders.from_df\n",
    "#dls_lm = TextDataLoaders.from_df(df, path=path, text_col='text', is_lm=True, valid_col='is_valid')\n",
    "dls_lm = TextDataLoaders.from_df(df, text_col='text', is_lm=True, valid_pct = 0.15, splitter=RandomSplitter(valid_pct = 0.15, seed = SEED)) \n",
    "dls_lm.show_batch(max_n=3)"
   ]
  },
  {
   "cell_type": "code",
   "execution_count": 8,
   "metadata": {
    "gather": {
     "logged": 1618545689136
    },
    "nteract": {
     "transient": {
      "deleting": false
     }
    }
   },
   "outputs": [
    {
     "data": {
      "text/plain": [
       "(129030, 22770)"
      ]
     },
     "execution_count": 8,
     "metadata": {},
     "output_type": "execute_result"
    }
   ],
   "source": [
    "#dataset dims\n",
    "len(dls_lm.train_ds), len(dls_lm.valid_ds)"
   ]
  },
  {
   "cell_type": "code",
   "execution_count": 12,
   "metadata": {
    "gather": {
     "logged": 1618545689448
    },
    "nteract": {
     "transient": {
      "deleting": false
     }
    }
   },
   "outputs": [
    {
     "name": "stdout",
     "output_type": "stream",
     "text": [
      "LM vocab size:  60008\n"
     ]
    },
    {
     "data": {
      "text/plain": [
       "['xxrep',\n",
       " 'xxwrep',\n",
       " 'xxup',\n",
       " 'xxmaj',\n",
       " ',',\n",
       " 'the',\n",
       " '.',\n",
       " 'in',\n",
       " 'and',\n",
       " 'of',\n",
       " 'a',\n",
       " 'was',\n",
       " 'he',\n",
       " 'is',\n",
       " 'to',\n",
       " '-',\n",
       " ')',\n",
       " '(',\n",
       " 'for',\n",
       " '\"',\n",
       " 'his',\n",
       " 'as',\n",
       " 'on',\n",
       " 'an',\n",
       " 'at',\n",
       " 'with',\n",
       " \"'s\",\n",
       " 'by',\n",
       " 'american',\n",
       " 'from',\n",
       " 'born',\n",
       " '\\\\',\n",
       " 'she',\n",
       " 'new',\n",
       " 'film',\n",
       " 'also',\n",
       " 'has',\n",
       " 'her',\n",
       " 'it',\n",
       " 'who',\n",
       " 'that',\n",
       " '3',\n",
       " 'first',\n",
       " 'york',\n",
       " 'known',\n",
       " 'which',\n",
       " 'one',\n",
       " 'university',\n",
       " 'united',\n",
       " 'states',\n",
       " 'after',\n",
       " 'played',\n",
       " 'national',\n",
       " 'county',\n",
       " '2',\n",
       " 'best',\n",
       " 'city',\n",
       " '0',\n",
       " 'two',\n",
       " 'had',\n",
       " 'league',\n",
       " 'during',\n",
       " \"'\",\n",
       " 'hockey',\n",
       " 'school',\n",
       " 'years',\n",
       " 'career',\n",
       " 'world',\n",
       " 'california',\n",
       " ';',\n",
       " 'time',\n",
       " 'where',\n",
       " 'been',\n",
       " 'work',\n",
       " 'professional',\n",
       " ':',\n",
       " 'member',\n",
       " 'john',\n",
       " 'this',\n",
       " 'but',\n",
       " 'most',\n",
       " '1',\n",
       " 'canadian',\n",
       " 'won',\n",
       " 'television',\n",
       " 'series',\n",
       " 'were',\n",
       " '/',\n",
       " 'including',\n",
       " 'became',\n",
       " 'former',\n",
       " 'football',\n",
       " 'award',\n",
       " 'when',\n",
       " 'year']"
      ]
     },
     "execution_count": 12,
     "metadata": {},
     "output_type": "execute_result"
    }
   ],
   "source": [
    "#view vocab, class list\n",
    "print(\"LM vocab size: \", len(dls_lm.vocab))\n",
    "dls_lm.vocab[5:100]"
   ]
  },
  {
   "cell_type": "code",
   "execution_count": 10,
   "metadata": {
    "nteract": {
     "transient": {
      "deleting": false
     }
    }
   },
   "outputs": [
    {
     "ename": "NameError",
     "evalue": "name 'mystop' is not defined",
     "output_type": "error",
     "traceback": [
      "\u001b[0;31m---------------------------------------------------------------------------\u001b[0m",
      "\u001b[0;31mNameError\u001b[0m                                 Traceback (most recent call last)",
      "\u001b[0;32m<ipython-input-10-255d8eb4da7e>\u001b[0m in \u001b[0;36m<module>\u001b[0;34m\u001b[0m\n\u001b[0;32m----> 1\u001b[0;31m \u001b[0mmystop\u001b[0m\u001b[0;34m\u001b[0m\u001b[0;34m\u001b[0m\u001b[0m\n\u001b[0m",
      "\u001b[0;31mNameError\u001b[0m: name 'mystop' is not defined"
     ]
    }
   ],
   "source": [
    "mystop"
   ]
  },
  {
   "cell_type": "markdown",
   "metadata": {
    "nteract": {
     "transient": {
      "deleting": false
     }
    }
   },
   "source": [
    "Data is ready, we can fine-tune the pretrained language model.\n",
    "\n",
    "## 2. Model\n",
    "The LM was pretrained on Wikipedia.  Fine-tune this LM to Expeditors survey corpus, and then use that as the base for our classifier.  \n",
    "![ULMFiT Process](my-images/ch10_ULMFIT_process.png)\n",
    "### 2.1 Fine-Tuning the Language Model\n"
   ]
  },
  {
   "cell_type": "markdown",
   "metadata": {
    "nteract": {
     "transient": {
      "deleting": false
     }
    }
   },
   "source": []
  },
  {
   "cell_type": "code",
   "execution_count": 13,
   "metadata": {
    "gather": {
     "logged": 1618545746199
    },
    "nteract": {
     "transient": {
      "deleting": false
     }
    }
   },
   "outputs": [
    {
     "data": {
      "text/html": [],
      "text/plain": [
       "<IPython.core.display.HTML object>"
      ]
     },
     "metadata": {},
     "output_type": "display_data"
    }
   ],
   "source": [
    "#class fastai.text.learner.LMLearner\n",
    "learn = language_model_learner(\n",
    "    dls_lm, AWD_LSTM, drop_mult=0.3, \n",
    "    metrics=[accuracy, Perplexity()]).to_fp16()"
   ]
  },
  {
   "cell_type": "code",
   "execution_count": 14,
   "metadata": {
    "gather": {
     "logged": 1618526964883
    },
    "nteract": {
     "transient": {
      "deleting": false
     }
    }
   },
   "outputs": [
    {
     "data": {
      "text/html": [],
      "text/plain": [
       "<IPython.core.display.HTML object>"
      ]
     },
     "metadata": {},
     "output_type": "display_data"
    },
    {
     "name": "stdout",
     "output_type": "stream",
     "text": [
      "0.005754 1e-06\n"
     ]
    },
    {
     "data": {
      "image/png": "[encoded data removed]",
      "text/plain": [
       "<Figure size 432x288 with 1 Axes>"
      ]
     },
     "metadata": {
      "needs_background": "light"
     },
     "output_type": "display_data"
    }
   ],
   "source": [
    "#select the appropriate lr\n",
    "#learn.lr_find()\n",
    "lr1, lr2 = learn.lr_find()\n",
    "print(round(lr1, 6), round(lr2, 6))"
   ]
  },
  {
   "cell_type": "code",
   "execution_count": 15,
   "metadata": {
    "gather": {
     "logged": 1618532638971
    },
    "nteract": {
     "transient": {
      "deleting": false
     }
    }
   },
   "outputs": [
    {
     "data": {
      "text/html": [
       "<table border=\"1\" class=\"dataframe\">\n",
       "  <thead>\n",
       "    <tr style=\"text-align: left;\">\n",
       "      <th>epoch</th>\n",
       "      <th>train_loss</th>\n",
       "      <th>valid_loss</th>\n",
       "      <th>accuracy</th>\n",
       "      <th>perplexity</th>\n",
       "      <th>time</th>\n",
       "    </tr>\n",
       "  </thead>\n",
       "  <tbody>\n",
       "    <tr>\n",
       "      <td>0</td>\n",
       "      <td>2.885147</td>\n",
       "      <td>2.762524</td>\n",
       "      <td>0.477897</td>\n",
       "      <td>15.839778</td>\n",
       "      <td>25:47</td>\n",
       "    </tr>\n",
       "  </tbody>\n",
       "</table>"
      ],
      "text/plain": [
       "<IPython.core.display.HTML object>"
      ]
     },
     "metadata": {},
     "output_type": "display_data"
    }
   ],
   "source": [
    "learn.fit_one_cycle(1, 4e-2)"
   ]
  },
  {
   "cell_type": "code",
   "execution_count": 16,
   "metadata": {
    "gather": {
     "logged": 1618532643528
    },
    "nteract": {
     "transient": {
      "deleting": false
     }
    }
   },
   "outputs": [
    {
     "data": {
      "text/plain": [
       "Path('models/1epoch.pth')"
      ]
     },
     "execution_count": 16,
     "metadata": {},
     "output_type": "execute_result"
    }
   ],
   "source": [
    "#save and load models\n",
    "learn.save('1epoch')\n",
    "#learn = learn.load('1epoch')"
   ]
  },
  {
   "cell_type": "code",
   "execution_count": 17,
   "metadata": {
    "gather": {
     "logged": 1618545759934
    },
    "nteract": {
     "transient": {
      "deleting": false
     }
    }
   },
   "outputs": [],
   "source": [
    "learn = learn.load('1epoch')"
   ]
  },
  {
   "cell_type": "markdown",
   "metadata": {
    "nteract": {
     "transient": {
      "deleting": false
     }
    }
   },
   "source": [
    "Once the initial training has completed, continue fine-tuning the model after unfreezing"
   ]
  },
  {
   "cell_type": "code",
   "execution_count": 18,
   "metadata": {
    "gather": {
     "logged": 1618588918124
    },
    "nteract": {
     "transient": {
      "deleting": false
     }
    }
   },
   "outputs": [
    {
     "data": {
      "text/html": [
       "<table border=\"1\" class=\"dataframe\">\n",
       "  <thead>\n",
       "    <tr style=\"text-align: left;\">\n",
       "      <th>epoch</th>\n",
       "      <th>train_loss</th>\n",
       "      <th>valid_loss</th>\n",
       "      <th>accuracy</th>\n",
       "      <th>perplexity</th>\n",
       "      <th>time</th>\n",
       "    </tr>\n",
       "  </thead>\n",
       "  <tbody>\n",
       "    <tr>\n",
       "      <td>0</td>\n",
       "      <td>2.711045</td>\n",
       "      <td>2.747078</td>\n",
       "      <td>0.477900</td>\n",
       "      <td>15.596990</td>\n",
       "      <td>27:55</td>\n",
       "    </tr>\n",
       "    <tr>\n",
       "      <td>1</td>\n",
       "      <td>2.648863</td>\n",
       "      <td>2.652518</td>\n",
       "      <td>0.491781</td>\n",
       "      <td>14.189717</td>\n",
       "      <td>28:34</td>\n",
       "    </tr>\n",
       "    <tr>\n",
       "      <td>2</td>\n",
       "      <td>2.464705</td>\n",
       "      <td>2.538101</td>\n",
       "      <td>0.507217</td>\n",
       "      <td>12.655621</td>\n",
       "      <td>28:41</td>\n",
       "    </tr>\n",
       "    <tr>\n",
       "      <td>3</td>\n",
       "      <td>2.301499</td>\n",
       "      <td>2.449042</td>\n",
       "      <td>0.520628</td>\n",
       "      <td>11.577254</td>\n",
       "      <td>28:37</td>\n",
       "    </tr>\n",
       "    <tr>\n",
       "      <td>4</td>\n",
       "      <td>2.138474</td>\n",
       "      <td>2.435082</td>\n",
       "      <td>0.524448</td>\n",
       "      <td>11.416759</td>\n",
       "      <td>28:39</td>\n",
       "    </tr>\n",
       "  </tbody>\n",
       "</table>"
      ],
      "text/plain": [
       "<IPython.core.display.HTML object>"
      ]
     },
     "metadata": {},
     "output_type": "display_data"
    }
   ],
   "source": [
    "learn.unfreeze()\n",
    "learn.fit_one_cycle(5, 4e-3) "
   ]
  },
  {
   "cell_type": "code",
   "execution_count": 19,
   "metadata": {
    "gather": {
     "logged": 1618588918791
    },
    "nteract": {
     "transient": {
      "deleting": false
     }
    }
   },
   "outputs": [],
   "source": [
    "#save model encoder\n",
    "learn.save_encoder('finetuned')"
   ]
  },
  {
   "cell_type": "code",
   "execution_count": 20,
   "metadata": {
    "gather": {
     "logged": 1618588919383
    },
    "nteract": {
     "transient": {
      "deleting": false
     }
    }
   },
   "outputs": [],
   "source": [
    "#class fastai.text.learner.LMLearner\n",
    "#learn.summary()"
   ]
  },
  {
   "cell_type": "markdown",
   "metadata": {
    "nteract": {
     "transient": {
      "deleting": false
     }
    }
   },
   "source": [
    "##### Text generation"
   ]
  },
  {
   "cell_type": "code",
   "execution_count": 21,
   "metadata": {
    "gather": {
     "logged": 1618588920628
    },
    "nteract": {
     "transient": {
      "deleting": false
     }
    }
   },
   "outputs": [
    {
     "data": {
      "text/html": [],
      "text/plain": [
       "<IPython.core.display.HTML object>"
      ]
     },
     "metadata": {},
     "output_type": "display_data"
    },
    {
     "data": {
      "text/html": [],
      "text/plain": [
       "<IPython.core.display.HTML object>"
      ]
     },
     "metadata": {},
     "output_type": "display_data"
    }
   ],
   "source": [
    "TEXT = \"I would recommend Expeditors because\"\n",
    "N_WORDS = 40\n",
    "N_SENTENCES = 2\n",
    "#to predict, must be of class fastai.text.learner.LMLearner\n",
    "preds = [learn.predict(TEXT, N_WORDS, temperature=0.75) for _ in range(N_SENTENCES)]"
   ]
  },
  {
   "cell_type": "code",
   "execution_count": 22,
   "metadata": {
    "gather": {
     "logged": 1618588921014
    },
    "nteract": {
     "transient": {
      "deleting": false
     }
    }
   },
   "outputs": [
    {
     "name": "stdout",
     "output_type": "stream",
     "text": [
      "i would recommend Xxunk because it was the first American film to be filmed . It was the first film for Warner Brothers . It starred Edward Everett Horton , Anne Bancroft , Paul\n",
      "i would recommend Xxunk because of the fact that it was the only time it saw I 'm not known to be involved in the relationship between the American public and the Vatican . Jay Marshall ( born\n"
     ]
    }
   ],
   "source": [
    "print(\"\\n\".join(preds))"
   ]
  },
  {
   "cell_type": "markdown",
   "metadata": {
    "nteract": {
     "transient": {
      "deleting": false
     }
    }
   },
   "source": [
    "This completes the second stage of the text classification process: fine-tuning the language model. We can now use it to fine-tune a classifier using the IMDb sentiment labels.\n",
    "\n",
    "### 1.2 Data Prep for Classifier Model Using DataBlock\n",
    "Creating the Classifier DataLoaders"
   ]
  },
  {
   "cell_type": "code",
   "execution_count": 23,
   "metadata": {
    "gather": {
     "logged": 1618588939050
    },
    "nteract": {
     "transient": {
      "deleting": false
     }
    }
   },
   "outputs": [
    {
     "data": {
      "text/html": [],
      "text/plain": [
       "<IPython.core.display.HTML object>"
      ]
     },
     "metadata": {},
     "output_type": "display_data"
    },
    {
     "name": "stderr",
     "output_type": "stream",
     "text": [
      "/opt/conda/lib/python3.7/site-packages/numpy/core/_asarray.py:83: VisibleDeprecationWarning: Creating an ndarray from ragged nested sequences (which is a list-or-tuple of lists-or-tuples-or ndarrays with different lengths or shapes) is deprecated. If you meant to do this, you must specify 'dtype=object' when creating the ndarray\n",
      "  return array(a, dtype, copy=False, order=order)\n"
     ]
    },
    {
     "data": {
      "text/html": [
       "<table border=\"1\" class=\"dataframe\">\n",
       "  <thead>\n",
       "    <tr style=\"text-align: right;\">\n",
       "      <th></th>\n",
       "      <th>text</th>\n",
       "      <th>category</th>\n",
       "    </tr>\n",
       "  </thead>\n",
       "  <tbody>\n",
       "    <tr>\n",
       "      <th>0</th>\n",
       "      <td>xxbos xxmaj aristides xxmaj burton xxmaj demetrios ( born 1932 ) was born and raised in xxmaj massachusetts . xxmaj his father , xxmaj george xxmaj demetrios , was a classical sculptor , trained by xxmaj xxunk , a student of xxmaj rodin . xxmaj his mother , xxmaj virginia xxmaj lee xxmaj burton was the renowned author and illustrator of children 's books , including xxmaj mike xxmaj mulligan and xxmaj his xxmaj steam xxmaj shovel , and xxmaj the xxmaj little xxmaj house , for which she won the prestigious xxmaj caldecott prize . xxmaj after graduating from xxmaj harvard xxmaj college , xxmaj mr . xxmaj demetrios spent three years as an officer in the xxmaj navy and then studied at the xxmaj george xxmaj demetrios xxmaj school for three years . xxmaj in 1963 , he won his first national sculpture competition when his proposed design</td>\n",
       "      <td>135508</td>\n",
       "    </tr>\n",
       "    <tr>\n",
       "      <th>1</th>\n",
       "      <td>xxbos xxmaj john xxmaj henry xxmaj tunstall ( 6 xxmaj march 1853 – 18 xxmaj february 1878 ) was a xxmaj new xxmaj mexican rancher and prominent figure in the xxmaj lincoln xxmaj county xxmaj war . xxmaj born in xxmaj xxunk , xxmaj london , xxmaj england . xxmaj tunstall emigrated to xxmaj victoria , xxmaj british xxmaj columbia , xxmaj canada in 1872 where he spent his time working at xxmaj turner , xxmaj xxunk &amp; xxmaj tunstall , a store in which his father was a partner . xxmaj tunstall left xxmaj canada for the xxmaj united xxmaj states in xxmaj february 1876 . xxmaj he spent six months investigating the possibility of becoming a sheep rancher in xxmaj california , but decided instead to try xxmaj new xxmaj mexico , where land was cheaper and more abundant for ranching . xxmaj soon after his arrival in</td>\n",
       "      <td>333275</td>\n",
       "    </tr>\n",
       "    <tr>\n",
       "      <th>2</th>\n",
       "      <td>xxbos xxmaj charles xxmaj hazlitt xxmaj cahan , xxup k.c . , xxup p.c . ( october 31 , xxunk 15 , 1944 ) was a prominent xxmaj canadian lawyer , newspaper editor , businessman , and provincial and federal politician . a xxmaj presbyterian of xxmaj irish descent and born in xxmaj hebron , xxmaj nova xxmaj scotia , son of xxmaj charles xxmaj cahan xxmaj jr . ( 1838 - 1908 ; irish - scottish ancestry , who was the son of xxmaj charles xxmaj cahan xxmaj sr . and xxmaj jennie xxmaj hazlitt ) , and xxmaj theresa ( flint ) xxmaj cahan ( 1838 - 1918 ; xxmaj new xxmaj england ancestry ) . xxmaj siblings included xxmaj frank xxup d. xxmaj cahan ( 1863 - 1936 ) , xxmaj jennie xxup m. xxmaj cahan ( 1866 - 1918 ) and xxmaj xxunk xxup s. xxmaj</td>\n",
       "      <td>242897</td>\n",
       "    </tr>\n",
       "  </tbody>\n",
       "</table>"
      ],
      "text/plain": [
       "<IPython.core.display.HTML object>"
      ]
     },
     "metadata": {},
     "output_type": "display_data"
    }
   ],
   "source": [
    "dls_clf = TextDataLoaders.from_df(df, text_col='text', label_col='label', vocab=dls_lm.vocab, valid_pct = 0.25, splitter=RandomSplitter(0.25, seed = SEED))\n",
    "dls_clf.show_batch(max_n=3)"
   ]
  },
  {
   "cell_type": "code",
   "execution_count": 24,
   "metadata": {
    "gather": {
     "logged": 1618588939636
    },
    "nteract": {
     "transient": {
      "deleting": false
     }
    }
   },
   "outputs": [
    {
     "data": {
      "text/plain": [
       "(113850, 37950)"
      ]
     },
     "execution_count": 24,
     "metadata": {},
     "output_type": "execute_result"
    }
   ],
   "source": [
    "len(dls_clf.train_ds), len(dls_clf.valid_ds)"
   ]
  },
  {
   "cell_type": "markdown",
   "metadata": {
    "nteract": {
     "transient": {
      "deleting": false
     }
    }
   },
   "source": [
    "### 2.2 Model Classifier"
   ]
  },
  {
   "cell_type": "code",
   "execution_count": 25,
   "metadata": {
    "gather": {
     "logged": 1618588940174
    },
    "nteract": {
     "transient": {
      "deleting": false
     }
    }
   },
   "outputs": [],
   "source": [
    "#class fastai.text.learner.TextLearner\n",
    "learn = text_classifier_learner(dls_clf, AWD_LSTM, drop_mult=0.5, metrics=accuracy).to_fp16()"
   ]
  },
  {
   "cell_type": "markdown",
   "metadata": {
    "nteract": {
     "transient": {
      "deleting": false
     }
    }
   },
   "source": [
    "Prior to training the classifier, load the encoder from our fine-tuned language model. We use `load_encoder` instead of `load` because we only have pretrained weights available for the encoder; `load` by default raises an exception if an incomplete model is loaded"
   ]
  },
  {
   "cell_type": "code",
   "execution_count": 26,
   "metadata": {
    "gather": {
     "logged": 1618588940782
    },
    "nteract": {
     "transient": {
      "deleting": false
     }
    }
   },
   "outputs": [],
   "source": [
    "learn = learn.load_encoder('finetuned')"
   ]
  },
  {
   "cell_type": "markdown",
   "metadata": {
    "nteract": {
     "transient": {
      "deleting": false
     }
    }
   },
   "source": [
    "##### Fine-tune classifier\n",
    "The last step is to train with discriminative learning rates and *gradual unfreezing*. In computer vision we often unfreeze the model all at once, but for NLP classifiers, we find that unfreezing a few layers at a time makes a real difference"
   ]
  },
  {
   "cell_type": "code",
   "execution_count": 27,
   "metadata": {
    "gather": {
     "logged": 1618588944297
    },
    "nteract": {
     "transient": {
      "deleting": false
     }
    }
   },
   "outputs": [
    {
     "data": {
      "text/html": [],
      "text/plain": [
       "<IPython.core.display.HTML object>"
      ]
     },
     "metadata": {},
     "output_type": "display_data"
    },
    {
     "name": "stdout",
     "output_type": "stream",
     "text": [
      "0.036308 0.069183\n"
     ]
    },
    {
     "data": {
      "image/png": "[encoded data removed]",
      "text/plain": [
       "<Figure size 432x288 with 1 Axes>"
      ]
     },
     "metadata": {
      "needs_background": "light"
     },
     "output_type": "display_data"
    }
   ],
   "source": [
    "#select the appropriate lr\n",
    "#learn.lr_find()\n",
    "lr1, lr2 = learn.lr_find()\n",
    "print(round(lr1, 6), round(lr2, 6))"
   ]
  },
  {
   "cell_type": "code",
   "execution_count": 28,
   "metadata": {
    "gather": {
     "logged": 1608015783931
    },
    "nteract": {
     "transient": {
      "deleting": false
     }
    }
   },
   "outputs": [
    {
     "data": {
      "text/html": [
       "<table border=\"1\" class=\"dataframe\">\n",
       "  <thead>\n",
       "    <tr style=\"text-align: left;\">\n",
       "      <th>epoch</th>\n",
       "      <th>train_loss</th>\n",
       "      <th>valid_loss</th>\n",
       "      <th>accuracy</th>\n",
       "      <th>time</th>\n",
       "    </tr>\n",
       "  </thead>\n",
       "  <tbody>\n",
       "    <tr>\n",
       "      <td>0</td>\n",
       "      <td>1.691185</td>\n",
       "      <td>1.508438</td>\n",
       "      <td>0.579552</td>\n",
       "      <td>05:51</td>\n",
       "    </tr>\n",
       "  </tbody>\n",
       "</table>"
      ],
      "text/plain": [
       "<IPython.core.display.HTML object>"
      ]
     },
     "metadata": {},
     "output_type": "display_data"
    }
   ],
   "source": [
    "learn.fit_one_cycle(1, 4e-2)"
   ]
  },
  {
   "cell_type": "markdown",
   "metadata": {
    "nteract": {
     "transient": {
      "deleting": false
     }
    }
   },
   "source": [
    "In just one epoch we get the same result as our training in <<chapter_intro>>: not too bad! We can pass `-2` to `freeze_to` to freeze all except the last two parameter groups:"
   ]
  },
  {
   "cell_type": "code",
   "execution_count": 29,
   "metadata": {
    "gather": {
     "logged": 1608015810146
    },
    "nteract": {
     "transient": {
      "deleting": false
     }
    }
   },
   "outputs": [
    {
     "data": {
      "text/html": [
       "<table border=\"1\" class=\"dataframe\">\n",
       "  <thead>\n",
       "    <tr style=\"text-align: left;\">\n",
       "      <th>epoch</th>\n",
       "      <th>train_loss</th>\n",
       "      <th>valid_loss</th>\n",
       "      <th>accuracy</th>\n",
       "      <th>time</th>\n",
       "    </tr>\n",
       "  </thead>\n",
       "  <tbody>\n",
       "    <tr>\n",
       "      <td>0</td>\n",
       "      <td>1.503214</td>\n",
       "      <td>1.386722</td>\n",
       "      <td>0.606614</td>\n",
       "      <td>06:20</td>\n",
       "    </tr>\n",
       "  </tbody>\n",
       "</table>"
      ],
      "text/plain": [
       "<IPython.core.display.HTML object>"
      ]
     },
     "metadata": {},
     "output_type": "display_data"
    }
   ],
   "source": [
    "learn.freeze_to(-2)\n",
    "learn.fit_one_cycle(1, slice(4e-3/(2.6**4),4e-3))"
   ]
  },
  {
   "cell_type": "markdown",
   "metadata": {
    "nteract": {
     "transient": {
      "deleting": false
     }
    }
   },
   "source": [
    "Unfreeze more and train"
   ]
  },
  {
   "cell_type": "code",
   "execution_count": 30,
   "metadata": {
    "gather": {
     "logged": 1608015607957
    },
    "nteract": {
     "transient": {
      "deleting": false
     }
    }
   },
   "outputs": [
    {
     "data": {
      "text/html": [
       "<table border=\"1\" class=\"dataframe\">\n",
       "  <thead>\n",
       "    <tr style=\"text-align: left;\">\n",
       "      <th>epoch</th>\n",
       "      <th>train_loss</th>\n",
       "      <th>valid_loss</th>\n",
       "      <th>accuracy</th>\n",
       "      <th>time</th>\n",
       "    </tr>\n",
       "  </thead>\n",
       "  <tbody>\n",
       "    <tr>\n",
       "      <td>0</td>\n",
       "      <td>1.444235</td>\n",
       "      <td>1.344448</td>\n",
       "      <td>0.617049</td>\n",
       "      <td>07:53</td>\n",
       "    </tr>\n",
       "  </tbody>\n",
       "</table>"
      ],
      "text/plain": [
       "<IPython.core.display.HTML object>"
      ]
     },
     "metadata": {},
     "output_type": "display_data"
    }
   ],
   "source": [
    "learn.freeze_to(-3)\n",
    "learn.fit_one_cycle(1, slice(5e-4/(2.6**4),5e-4))"
   ]
  },
  {
   "cell_type": "markdown",
   "metadata": {
    "nteract": {
     "transient": {
      "deleting": false
     }
    }
   },
   "source": [
    "Finally, the whole model"
   ]
  },
  {
   "cell_type": "code",
   "execution_count": 31,
   "metadata": {
    "gather": {
     "logged": 1608015695745
    },
    "nteract": {
     "transient": {
      "deleting": false
     }
    }
   },
   "outputs": [
    {
     "data": {
      "text/html": [
       "<table border=\"1\" class=\"dataframe\">\n",
       "  <thead>\n",
       "    <tr style=\"text-align: left;\">\n",
       "      <th>epoch</th>\n",
       "      <th>train_loss</th>\n",
       "      <th>valid_loss</th>\n",
       "      <th>accuracy</th>\n",
       "      <th>time</th>\n",
       "    </tr>\n",
       "  </thead>\n",
       "  <tbody>\n",
       "    <tr>\n",
       "      <td>0</td>\n",
       "      <td>1.466698</td>\n",
       "      <td>1.335658</td>\n",
       "      <td>0.618946</td>\n",
       "      <td>09:27</td>\n",
       "    </tr>\n",
       "    <tr>\n",
       "      <td>1</td>\n",
       "      <td>1.369687</td>\n",
       "      <td>1.331409</td>\n",
       "      <td>0.620026</td>\n",
       "      <td>09:26</td>\n",
       "    </tr>\n",
       "  </tbody>\n",
       "</table>"
      ],
      "text/plain": [
       "<IPython.core.display.HTML object>"
      ]
     },
     "metadata": {},
     "output_type": "display_data"
    }
   ],
   "source": [
    "learn.unfreeze()\n",
    "learn.fit_one_cycle(2, slice(1e-4/(2.6**4),1e-4))"
   ]
  },
  {
   "cell_type": "markdown",
   "metadata": {
    "nteract": {
     "transient": {
      "deleting": false
     }
    }
   },
   "source": [
    "We reached 69% accuracy. \n",
    "\n",
    "Using a pretrained model let us build a fine-tuned language model that was pretty powerful, to either generate fake reviews or help classify them. This is exciting stuff!"
   ]
  },
  {
   "cell_type": "code",
   "execution_count": 32,
   "metadata": {
    "gather": {
     "logged": 1608011550509
    },
    "nteract": {
     "transient": {
      "deleting": false
     }
    }
   },
   "outputs": [
    {
     "data": {
      "text/html": [],
      "text/plain": [
       "<IPython.core.display.HTML object>"
      ]
     },
     "metadata": {},
     "output_type": "display_data"
    },
    {
     "data": {
      "text/html": [
       "<table border=\"1\" class=\"dataframe\">\n",
       "  <thead>\n",
       "    <tr style=\"text-align: right;\">\n",
       "      <th></th>\n",
       "      <th>text</th>\n",
       "      <th>category</th>\n",
       "      <th>category_</th>\n",
       "    </tr>\n",
       "  </thead>\n",
       "  <tbody>\n",
       "    <tr>\n",
       "      <th>0</th>\n",
       "      <td>xxbos xxmaj richard xxmaj wright xxmaj nowels xxmaj jr . xxmaj rick xxmaj nowels is a xxmaj grammy / xxmaj ivor xxmaj novello award winning songwriter / producer who has worked with many of the most vibrant artists in contemporary music . xxmaj beginning with his number one worldwide hit single , \\ xxunk xxmaj is a xxmaj place on xxmaj earth \\ u201d by xxmaj belinda xxmaj carlisle in 1987 xxmaj rick has since co - written over 60 top 20 singles . xxmaj his songs have appeared on over 200 million albums . xxmaj he is a multi - instrumentalist ( guitar , keyboards , bass ) who incorporates contemporary sounds and rhythms within classic songwriting . xxmaj rick has written with or had his songs recorded by the following artists : xxmaj madonna , xxmaj dido , xxmaj john xxmaj legend / xxmaj andre 3 xxrep 3</td>\n",
       "      <td>78599</td>\n",
       "      <td>78599</td>\n",
       "    </tr>\n",
       "    <tr>\n",
       "      <th>1</th>\n",
       "      <td>xxbos xxmaj the xxmaj show of xxmaj shows is a lavish revue film which cost $ 850 , xxrep 3 0 and featured most of the contemporary xxmaj warner xxmaj bros . film stars . xxmaj it was styled in the same format as the earlier xxup mgm film xxmaj the xxmaj hollywood xxmaj revue of 1929 . xxmaj photographed almost entirely in xxmaj technicolor , the cost of the film meant that although it performed well at the box office , it did not return as much profit as the xxup mgm film . xxmaj seen today in incomplete black and white xxunk prints , it remains of historical interest , showing the talent working at xxmaj warner xxmaj bros . in the early talkie period . xxmaj the film features all the stars then working at xxmaj warner xxmaj bros . except for xxmaj dorothy xxmaj mackaill and</td>\n",
       "      <td>167593</td>\n",
       "      <td>167593</td>\n",
       "    </tr>\n",
       "    <tr>\n",
       "      <th>2</th>\n",
       "      <td>xxbos xxmaj robert xxmaj keith xxmaj leavitt ( xxunk ) was a xxmaj harvard - educated xxmaj new xxmaj york xxmaj city advertising copywriter who turned to non - fiction writing . xxmaj he was the author of many books , including a history of xxmaj webster 's xxmaj dictionary and \" the xxmaj chip on xxmaj grandma 's xxmaj shoulder \" ( 1954 . ) ' bob ' xxmaj leavitt was also the longtime historian of the original xxmaj baker xxmaj street xxmaj irregulars , devoted to all things xxmaj xxunk , about which he wrote in his \" the xxmaj origins of xxunk xxmaj worship . \" xxmaj leavitt was born on xxmaj august 20 , 1895 , in xxmaj cambridge , xxmaj massachusetts , to xxmaj dr . xxmaj robert xxmaj greenleaf xxmaj leavitt , a xxmaj harvard - trained botanist , researcher , author and later</td>\n",
       "      <td>283823</td>\n",
       "      <td>289056</td>\n",
       "    </tr>\n",
       "    <tr>\n",
       "      <th>3</th>\n",
       "      <td>xxbos xxmaj charlie xxmaj van xxmaj dyke ( born xxmaj charles xxmaj leo xxmaj xxunk , on xxmaj december 19 , 1947 ) is a former radio disc jockey who is better known for the voice work he has done for numerous radio and television stations . xxmaj his deep , booming voice has been described by some as \" god - like \" . a native of xxmaj dallas , xxmaj texas , he was already one of xxmaj america 's most respected radio personalities at xxup klif - am in xxmaj dallas when he was only 19 years old . xxmaj during the 1970s , xxmaj van xxmaj dyke was the morning xxup dj at several legendary xxmaj top 40 stations , including xxup cklw in xxmaj windsor / xxmaj detroit , xxup khj xxmaj los xxmaj angeles , xxup kfrc xxmaj san xxmaj francisco , xxup wls</td>\n",
       "      <td>286463</td>\n",
       "      <td>286463</td>\n",
       "    </tr>\n",
       "    <tr>\n",
       "      <th>4</th>\n",
       "      <td>xxbos xxmaj emily xxmaj cissy xxmaj drinkard xxmaj houston ( born xxmaj september 30 , 1933 ) , better known as xxmaj cissy xxmaj houston , is a xxmaj grammy xxmaj award winning xxmaj american soul and gospel singer . xxmaj she led a very successful career as a backup singer for such artists as xxmaj elvis xxmaj presley , xxmaj mahalia xxmaj jackson , and xxmaj aretha xxmaj franklin , and is now primarily a solo artist . xxmaj she is the mother of singer and actress xxmaj whitney xxmaj houston and aunt of xxmaj dionne xxmaj warwick and the late xxmaj dee xxmaj dee xxmaj warwick . xxmaj born in xxmaj newark , xxmaj new xxmaj jersey , xxmaj houston was the youngest of eight children of parents xxmaj nicholas ( aka xxmaj xxunk ) and xxmaj delia xxmaj drinkard . xxmaj in 1938 when xxmaj houston was</td>\n",
       "      <td>269785</td>\n",
       "      <td>269785</td>\n",
       "    </tr>\n",
       "    <tr>\n",
       "      <th>5</th>\n",
       "      <td>xxbos ' uss xxmaj bebas ( xxunk / xxup xxunk ) was an xxmaj evarts - class short - hull destroyer escort in the service of the xxmaj united xxmaj states xxmaj navy . xxmaj she was named for xxmaj ensign xxmaj gus xxmaj george xxmaj bebas . xxmaj originally allocated to the xxmaj royal xxmaj navy under lend lease , xxup xxunk was laid down on 27 xxmaj november 1942 at the xxmaj boston xxmaj navy xxmaj yard ; launched on 9 xxmaj january 1943 ; xxunk to the xxmaj united xxmaj states xxmaj navy on 25 xxmaj january 1943 ; named xxmaj bebas ( xxunk ) on 19 xxmaj february 1943 ; sponsored by xxmaj mrs . xxmaj angeline xxup m. xxmaj bebas , xxmaj ens . xxmaj bebas 's mother , in a special xxunk ceremony just before commissioning ; and commissioned at xxmaj boston , xxmaj</td>\n",
       "      <td>305313</td>\n",
       "      <td>305313</td>\n",
       "    </tr>\n",
       "    <tr>\n",
       "      <th>6</th>\n",
       "      <td>xxbos xxmaj giovanni de xxmaj silvio or xxmaj jimmy xxmaj kelly ( fl . 1900 - 1914 ) was an xxmaj american saloon keeper , political organizer and underworld figure in xxmaj new xxmaj york xxmaj city during the turn of the century . xxmaj he was the owner the xxmaj fourteenth xxmaj street saloon xxmaj the xxmaj folly as well as the popular xxmaj mandarin xxmaj cafe in xxmaj chinatown , located in the notorious \" bloody xxmaj angle \" along xxmaj xxunk xxmaj street , and was a hangout for politicians , gang leaders and other noted criminals of the era . xxmaj his cafe was also the scene of several violent incidents , especially during the xxmaj tong xxmaj war , which included , in 1910 , the fourth attempted suicide of xxmaj chinatown character xxmaj john \" xxunk \" xxmaj rice and the 1912 murder of</td>\n",
       "      <td>321123</td>\n",
       "      <td>118798</td>\n",
       "    </tr>\n",
       "    <tr>\n",
       "      <th>7</th>\n",
       "      <td>xxbos xxmaj eldora xxmaj marie xxmaj bolyard xxmaj nuzum ( 1926 - 2004 ) was the first female editor of a daily newspaper in xxmaj west xxmaj virginia and during her career interviewed several xxmaj united xxmaj states presidents . xxmaj she was born in xxmaj grafton , xxmaj west xxmaj virginia to xxmaj roy xxmaj everett xxmaj bolyard ( 1901 - 1983 ) and xxmaj georgia xxmaj ellen xxmaj xxunk xxmaj bolyard ( 1909 - 1994 ) . xxmaj she started her newspaper career in the 1940 's at the former daily newspaper , xxmaj the xxmaj grafton xxmaj sentinel . xxmaj in 1946 she became xxmaj editor at a young age of 20 years and served in that capacity for six years . xxmaj it was in 1953 when xxmaj nuzum arrived at xxmaj the inter - mountain , also a daily newspaper produced in xxmaj elkins ,</td>\n",
       "      <td>284433</td>\n",
       "      <td>284433</td>\n",
       "    </tr>\n",
       "    <tr>\n",
       "      <th>8</th>\n",
       "      <td>xxbos xxmaj frank ( xxunk ) xxmaj matsura ( 1873 - 1913 ) was an early twentieth - century xxmaj japanese photographer who travelled from xxmaj japan to xxmaj america in 1901 where he lived until his early death . xxmaj more than 1,800 of his frontier - era photographs and glass plate negatives have been preserved by the xxmaj okanogan xxmaj county xxmaj historical xxmaj society and xxmaj washington xxmaj state xxmaj university . xxmaj he was born xxmaj xxunk xxmaj xxunk in 1873 , a descendant of xxmaj emperor xxmaj saga , the 52nd emperor of xxmaj japan , through the xxmaj xxunk , lords of xxmaj xxunk xxmaj island . xxmaj for unknown reasons , xxmaj matsura led his friends and acquaintances to believe he was seven years younger than he actually was . xxmaj for example , the xxup us xxmaj census sheet for 1910 lists</td>\n",
       "      <td>221836</td>\n",
       "      <td>221836</td>\n",
       "    </tr>\n",
       "  </tbody>\n",
       "</table>"
      ],
      "text/plain": [
       "<IPython.core.display.HTML object>"
      ]
     },
     "metadata": {},
     "output_type": "display_data"
    }
   ],
   "source": [
    "#learn.summary()\n",
    "learn.show_results()"
   ]
  },
  {
   "cell_type": "code",
   "execution_count": 33,
   "metadata": {
    "gather": {
     "logged": 1608011553520
    },
    "nteract": {
     "transient": {
      "deleting": false
     }
    }
   },
   "outputs": [],
   "source": [
    "#save final model\n",
    "learn.save('clf_final')\n",
    "#export model as pkl\n",
    "learn.export()"
   ]
  },
  {
   "cell_type": "markdown",
   "metadata": {
    "nteract": {
     "transient": {
      "deleting": false
     }
    }
   },
   "source": [
    "## 3. Model Evaluation\n",
    "src https://docs.fast.ai/interpret.html#ClassificationInterpretation  \n",
    "src code https://github.com/fastai/fastai/blob/master/fastai/interpret.py#L51\n",
    "### 3.1 Report and Confusion Matrix"
   ]
  },
  {
   "cell_type": "code",
   "execution_count": 34,
   "metadata": {
    "gather": {
     "logged": 1608011557103
    },
    "nteract": {
     "transient": {
      "deleting": false
     }
    }
   },
   "outputs": [
    {
     "data": {
      "text/html": [],
      "text/plain": [
       "<IPython.core.display.HTML object>"
      ]
     },
     "metadata": {},
     "output_type": "display_data"
    },
    {
     "name": "stdout",
     "output_type": "stream",
     "text": [
      "              precision    recall  f1-score   support\n",
      "\n",
      "       10088       0.76      0.88      0.81       250\n",
      "       10307       0.46      0.26      0.33       115\n",
      "       10590       0.44      0.18      0.26       212\n",
      "       13139       0.79      0.18      0.29       167\n",
      "       14661       0.47      0.29      0.35       263\n",
      "       14902       0.99      1.00      0.99       225\n",
      "       16954       1.00      0.99      1.00       128\n",
      "       21411       0.99      1.00      1.00       171\n",
      "       23214       0.99      0.98      0.99       185\n",
      "       27512       0.59      0.80      0.68       127\n",
      "       29931       0.33      0.46      0.38       181\n",
      "       37462       0.41      0.23      0.30       125\n",
      "       38982       0.29      0.51      0.37       197\n",
      "       43724       0.50      0.61      0.55       205\n",
      "       47471       0.79      0.96      0.87       232\n",
      "       47886       0.53      0.06      0.11       258\n",
      "       48448       0.94      0.97      0.95       289\n",
      "       51347       1.00      0.99      1.00       353\n",
      "       51353       0.95      1.00      0.97       132\n",
      "       59600       0.22      0.04      0.07       221\n",
      "       65566       0.00      0.00      0.00       186\n",
      "       65831       0.21      0.03      0.06       172\n",
      "       73367       0.96      1.00      0.98       237\n",
      "       78599       0.58      0.68      0.62       374\n",
      "       82093       0.48      0.68      0.56       451\n",
      "       82220       0.99      0.99      0.99       166\n",
      "       85048       0.66      0.87      0.75       142\n",
      "       87256       0.99      0.98      0.99       250\n",
      "       88179       0.45      0.43      0.44       263\n",
      "       92007       0.40      0.68      0.50       201\n",
      "       93043       0.55      0.72      0.62       502\n",
      "      104651       0.35      0.36      0.36       369\n",
      "      106409       0.61      0.31      0.41       236\n",
      "      106615       0.22      0.31      0.26       231\n",
      "      114538       0.92      0.92      0.92       351\n",
      "      114873       1.00      1.00      1.00       376\n",
      "      115269       0.99      1.00      1.00       215\n",
      "      117362       0.53      0.22      0.31       304\n",
      "      118798       0.22      0.18      0.20       463\n",
      "      118947       0.42      0.71      0.52       149\n",
      "      122859       0.99      0.98      0.99       133\n",
      "      125243       0.80      0.75      0.77       177\n",
      "      126647       0.37      0.08      0.13       123\n",
      "      130762       0.61      0.90      0.73       195\n",
      "      131503       1.00      1.00      1.00       124\n",
      "      135508       0.70      0.56      0.62       208\n",
      "      142366       0.46      0.08      0.14       164\n",
      "      143074       1.00      1.00      1.00       213\n",
      "      143545       0.56      0.62      0.59       160\n",
      "      150880       0.99      1.00      1.00       183\n",
      "      156147       0.38      0.02      0.03       169\n",
      "      156349       0.46      0.71      0.56       288\n",
      "      157144       0.51      0.23      0.32       193\n",
      "      162010       1.00      1.00      1.00       234\n",
      "      167593       0.78      0.92      0.84      2862\n",
      "      169463       0.50      0.09      0.15       199\n",
      "      173922       0.64      0.82      0.72       137\n",
      "      175178       0.28      0.07      0.12       110\n",
      "      177784       0.83      0.97      0.90       198\n",
      "      184027       0.74      0.78      0.76       195\n",
      "      187944       0.94      0.62      0.75       166\n",
      "      191597       0.98      0.92      0.95       131\n",
      "      195307       0.52      0.28      0.36       221\n",
      "      195321       0.50      0.13      0.21       262\n",
      "      195696       0.62      0.45      0.52       205\n",
      "      196360       0.34      0.12      0.18       185\n",
      "      199981       0.51      0.14      0.22       153\n",
      "      206589       0.99      0.99      0.99       167\n",
      "      207342       1.00      0.98      0.99       252\n",
      "      214602       0.99      1.00      1.00       145\n",
      "      218487       0.70      0.89      0.79       155\n",
      "      219680       0.54      0.76      0.63       212\n",
      "      221836       0.75      0.80      0.77       312\n",
      "      224092       1.00      1.00      1.00       365\n",
      "      228803       0.47      0.65      0.55       223\n",
      "      228857       0.55      0.79      0.65       125\n",
      "      229071       0.79      0.95      0.86       265\n",
      "      229110       0.27      0.33      0.30       167\n",
      "      229765       0.59      0.66      0.62       256\n",
      "      231362       0.51      0.07      0.12       307\n",
      "      237392       0.24      0.44      0.31       317\n",
      "      238882       0.18      0.38      0.24       272\n",
      "      239004       1.00      0.98      0.99       111\n",
      "      242897       0.79      0.90      0.84       268\n",
      "      243459       0.60      0.82      0.69       182\n",
      "      256667       0.45      0.66      0.53       172\n",
      "      257731       0.92      0.98      0.95       351\n",
      "      258850       0.35      0.42      0.38       453\n",
      "      260663       0.28      0.07      0.11       177\n",
      "      269117       0.71      0.98      0.82       192\n",
      "      269785       0.46      0.73      0.56       594\n",
      "      272741       0.36      0.33      0.34       611\n",
      "      275465       0.85      0.87      0.86       365\n",
      "      276597       0.64      0.96      0.77       161\n",
      "      276713       0.00      0.00      0.00       175\n",
      "      283023       0.37      0.36      0.36       216\n",
      "      283823       0.31      0.24      0.27       672\n",
      "      284433       0.54      0.73      0.62       750\n",
      "      286463       0.53      0.62      0.57       259\n",
      "      288266       0.98      0.99      0.99       179\n",
      "      289056       0.46      0.22      0.29       358\n",
      "      297190       0.53      0.61      0.57       231\n",
      "      302125       0.52      0.12      0.19       138\n",
      "      303577       0.32      0.05      0.08       191\n",
      "      304661       0.44      0.32      0.37       675\n",
      "      305313       0.98      0.88      0.93       135\n",
      "      307819       0.90      0.95      0.93       300\n",
      "      308993       0.45      0.39      0.42       430\n",
      "      321123       0.38      0.07      0.12       308\n",
      "      324660       0.94      0.85      0.90       625\n",
      "      332072       0.99      1.00      0.99       471\n",
      "      333275       0.49      0.35      0.41       312\n",
      "      335156       0.54      0.32      0.40       138\n",
      "      335454       0.46      0.18      0.25       119\n",
      "      335885       0.68      0.81      0.74       126\n",
      "      337673       0.62      0.61      0.61       180\n",
      "      340177       0.84      0.98      0.91       142\n",
      "      344126       0.28      0.22      0.24       175\n",
      "      347803       0.52      0.71      0.60      1069\n",
      "      352578       0.45      0.77      0.57       793\n",
      "      354078       0.69      0.39      0.50       229\n",
      "      354187       0.19      0.20      0.20       290\n",
      "      357512       0.48      0.61      0.53       148\n",
      "      364348       0.58      0.76      0.66       171\n",
      "      368878       1.00      0.98      0.99       305\n",
      "      372441       1.00      1.00      1.00       218\n",
      "      377436       0.14      0.01      0.01       142\n",
      "      378762       0.53      0.41      0.46       180\n",
      "      387254       0.99      0.98      0.98       143\n",
      "      389174       0.33      0.13      0.19       176\n",
      "      390846       0.49      0.50      0.50       464\n",
      "      395447       0.50      0.69      0.58       651\n",
      "      403289       0.55      0.39      0.46       174\n",
      "      417577       0.55      0.90      0.68       168\n",
      "      427995       0.15      0.02      0.04       187\n",
      "      428198       0.00      0.00      0.00       154\n",
      "      429649       0.68      0.86      0.76       132\n",
      "      437070       0.33      0.42      0.37       226\n",
      "      443106       0.36      0.44      0.40       186\n",
      "\n",
      "    accuracy                           0.62     37950\n",
      "   macro avg       0.60      0.59      0.57     37950\n",
      "weighted avg       0.60      0.62      0.59     37950\n",
      "\n"
     ]
    },
    {
     "name": "stderr",
     "output_type": "stream",
     "text": [
      "/opt/conda/lib/python3.7/site-packages/sklearn/metrics/_classification.py:1245: UndefinedMetricWarning: Precision and F-score are ill-defined and being set to 0.0 in labels with no predicted samples. Use `zero_division` parameter to control this behavior.\n",
      "  _warn_prf(average, modifier, msg_start, len(result))\n",
      "/opt/conda/lib/python3.7/site-packages/sklearn/metrics/_classification.py:1245: UndefinedMetricWarning: Precision and F-score are ill-defined and being set to 0.0 in labels with no predicted samples. Use `zero_division` parameter to control this behavior.\n",
      "  _warn_prf(average, modifier, msg_start, len(result))\n",
      "/opt/conda/lib/python3.7/site-packages/sklearn/metrics/_classification.py:1245: UndefinedMetricWarning: Precision and F-score are ill-defined and being set to 0.0 in labels with no predicted samples. Use `zero_division` parameter to control this behavior.\n",
      "  _warn_prf(average, modifier, msg_start, len(result))\n"
     ]
    }
   ],
   "source": [
    "interp = ClassificationInterpretation.from_learner(learn)\n",
    "interp.print_classification_report()"
   ]
  },
  {
   "cell_type": "code",
   "execution_count": 35,
   "metadata": {
    "gather": {
     "logged": 1608011561003
    },
    "nteract": {
     "transient": {
      "deleting": false
     }
    }
   },
   "outputs": [
    {
     "data": {
      "text/html": [],
      "text/plain": [
       "<IPython.core.display.HTML object>"
      ]
     },
     "metadata": {},
     "output_type": "display_data"
    },
    {
     "data": {
      "image/png": "[encoded data removed]",
      "text/plain": [
       "<Figure size 432x288 with 1 Axes>"
      ]
     },
     "metadata": {
      "needs_background": "light"
     },
     "output_type": "display_data"
    }
   ],
   "source": [
    "interp = ClassificationInterpretation.from_learner(learn)\n",
    "interp.plot_confusion_matrix()"
   ]
  },
  {
   "cell_type": "code",
   "execution_count": 42,
   "metadata": {
    "gather": {
     "logged": 1608011561419
    },
    "nteract": {
     "transient": {
      "deleting": false
     }
    }
   },
   "outputs": [
    {
     "data": {
      "text/plain": [
       "[(231362, 167593, 245),\n",
       " (47886, 167593, 222),\n",
       " (283823, 352578, 196),\n",
       " (169463, 352578, 146),\n",
       " (308993, 93043, 142),\n",
       " (88179, 167593, 139),\n",
       " (390846, 395447, 127),\n",
       " (14661, 347803, 119),\n",
       " (167593, 229765, 111),\n",
       " (126647, 417577, 110),\n",
       " (403289, 219680, 106)]"
      ]
     },
     "execution_count": 42,
     "metadata": {},
     "output_type": "execute_result"
    }
   ],
   "source": [
    "interp.most_confused(min_val = 100)"
   ]
  },
  {
   "cell_type": "code",
   "execution_count": 37,
   "metadata": {
    "gather": {
     "logged": 1608011561766
    },
    "nteract": {
     "transient": {
      "deleting": false
     }
    }
   },
   "outputs": [
    {
     "data": {
      "text/html": [
       "<table border=\"1\" class=\"dataframe\">\n",
       "  <thead>\n",
       "    <tr style=\"text-align: right;\">\n",
       "      <th></th>\n",
       "      <th>input</th>\n",
       "      <th>target</th>\n",
       "      <th>predicted</th>\n",
       "      <th>probability</th>\n",
       "      <th>loss</th>\n",
       "    </tr>\n",
       "  </thead>\n",
       "  <tbody>\n",
       "    <tr>\n",
       "      <th>0</th>\n",
       "      <td>xxbos xxmaj jeffrey \" jeff \" xxmaj nero xxmaj hardy ( born xxmaj august 31 , 1977 ) is an xxmaj american professional wrestler , currently signed to xxmaj total xxmaj nonstop xxmaj action xxmaj wrestling ( tna ) . xxmaj he is best known for his time in the xxmaj world xxmaj wrestling xxmaj federation / xxmaj entertainment ( wwe ) . xxmaj before gaining prominence in xxup wwe , xxmaj hardy performed for the xxmaj organization of xxmaj modern xxmaj extreme xxmaj grappling xxmaj arts ( omega ) , a promotion he ran with his brother xxmaj matt . xxmaj after being signed by xxup wwe , the brothers worked as xxunk , before gaining notoriety in the tag team division , partly due to their participation in xxmaj tables , xxmaj ladders , and xxmaj chairs matches . xxmaj with the addition of xxmaj lita , the</td>\n",
       "      <td>135508</td>\n",
       "      <td>229071</td>\n",
       "      <td>0.7470338940620422</td>\n",
       "      <td>13.486957550048828</td>\n",
       "    </tr>\n",
       "    <tr>\n",
       "      <th>1</th>\n",
       "      <td>xxbos xxmaj kenneth xxmaj wallace ( born xxmaj august 23 , 1963 ) is a xxup nascar xxmaj sprint xxmaj cup xxmaj series and xxmaj nationwide xxmaj series driver who currently drives the # 28 xxmaj united xxmaj states xxmaj border xxmaj patrol xxmaj chevrolet xxmaj impala xxup ss for xxmaj jay xxmaj robinson xxmaj racing in the xxup nascar xxmaj nationwide xxmaj series . xxmaj he also works as an on - air personality for xxmaj speed xxmaj channel , on shows such as xxup nascar raceday and xxup nascar xxmaj victory xxmaj lane . xxmaj he was also featured on the show on xxup fx . xxmaj he has two brothers who are also xxup nascar drivers : now retired older brother xxmaj rusty xxmaj wallace and superspeedway specialist xxmaj mike xxmaj wallace , as well as a nephew xxmaj steve xxmaj wallace who races in the xxmaj</td>\n",
       "      <td>195307</td>\n",
       "      <td>257731</td>\n",
       "      <td>0.9983820915222168</td>\n",
       "      <td>12.442537307739258</td>\n",
       "    </tr>\n",
       "    <tr>\n",
       "      <th>2</th>\n",
       "      <td>xxbos xxmaj pinky xxmaj mitchell was an xxmaj american boxer who was the first champion in the light welterweight division .</td>\n",
       "      <td>13139</td>\n",
       "      <td>177784</td>\n",
       "      <td>0.9992708563804626</td>\n",
       "      <td>12.23412799835205</td>\n",
       "    </tr>\n",
       "    <tr>\n",
       "      <th>3</th>\n",
       "      <td>xxbos xxmaj michael xxmaj oates xxmaj palmer ( born in 1974 ) is an xxmaj american screenwriter , television writer , and producer . xxmaj he wrote on xxmaj the xxmaj west xxmaj wing , xxmaj army xxmaj wives , xxmaj blind xxmaj justice , and xxmaj shark , and most recently was a writer - producer on xxmaj cupid .</td>\n",
       "      <td>297190</td>\n",
       "      <td>395447</td>\n",
       "      <td>0.8650602102279663</td>\n",
       "      <td>12.004819869995117</td>\n",
       "    </tr>\n",
       "    <tr>\n",
       "      <th>4</th>\n",
       "      <td>xxbos xxmaj edward xxmaj andrew xxmaj schultz ( born xxmaj january 27 , 1954 ) is an xxmaj american television and radio host and political pundit . xxmaj he is the host of xxmaj the xxmaj ed xxmaj show , a daily news program on xxup msnbc , and xxmaj the xxmaj ed xxmaj schultz xxmaj show , a nationally syndicated talk radio show promising \" straight talk . \"</td>\n",
       "      <td>184027</td>\n",
       "      <td>286463</td>\n",
       "      <td>0.49454209208488464</td>\n",
       "      <td>11.938497543334961</td>\n",
       "    </tr>\n",
       "    <tr>\n",
       "      <th>5</th>\n",
       "      <td>xxbos xxmaj richard xxmaj fiske ( november 20 , 1915 - xxmaj august 10 , 1944 ) was an xxmaj american film actor . xxmaj he appeared in over 80 films between 1938 and 1942 .</td>\n",
       "      <td>335885</td>\n",
       "      <td>106615</td>\n",
       "      <td>0.3207279443740845</td>\n",
       "      <td>11.871537208557129</td>\n",
       "    </tr>\n",
       "    <tr>\n",
       "      <th>6</th>\n",
       "      <td>xxbos xxmaj al xxmaj xxunk ( born 1932 ) is an xxmaj american journalist , award - winning author , editor , lecturer , historian and golfer .</td>\n",
       "      <td>219680</td>\n",
       "      <td>284433</td>\n",
       "      <td>0.7452427744865417</td>\n",
       "      <td>11.745217323303223</td>\n",
       "    </tr>\n",
       "    <tr>\n",
       "      <th>7</th>\n",
       "      <td>xxbos xxmaj joseph xxmaj xxunk xxmaj xxunk ( 30 xxmaj july 1896 – 1982 ) was a xxmaj liberal party member of the xxmaj canadian xxmaj house of xxmaj commons . xxmaj he was born in xxmaj chicago , xxmaj illinois , xxmaj united xxmaj states and moved to xxmaj canada in 1907 . xxmaj xxunk attended school at xxmaj watson , xxmaj saskatchewan then studied at the xxmaj agricultural xxmaj college in xxmaj fargo , xxmaj north xxmaj dakota . xxmaj he became a farmer by career , a municipal councillor from 1929 to 1932 and a school trustee from 1931 to 1943 . xxmaj he was first elected to xxmaj parliament at the xxmaj humboldt riding in the 1949 general election . xxmaj after serving one term in the xxmaj house of xxmaj commons , the xxmaj humboldt riding had been disbanded and xxmaj xxunk campaigned at the</td>\n",
       "      <td>304661</td>\n",
       "      <td>114538</td>\n",
       "      <td>0.8700234889984131</td>\n",
       "      <td>11.715163230895996</td>\n",
       "    </tr>\n",
       "    <tr>\n",
       "      <th>8</th>\n",
       "      <td>xxbos \" baby \" xxmaj joe xxmaj mesi ( born xxmaj november 27 , 1973 ) is an xxmaj american boxer and former # 1 contender to the xxup wbc heavyweight title .</td>\n",
       "      <td>302125</td>\n",
       "      <td>177784</td>\n",
       "      <td>0.9988393187522888</td>\n",
       "      <td>11.686708450317383</td>\n",
       "    </tr>\n",
       "    <tr>\n",
       "      <th>9</th>\n",
       "      <td>xxbos xxmaj chris xxmaj sharp ( born xxmaj asheville , xxmaj north xxmaj carolina , in 1973 ) is a singer and musician who participated in the xxmaj grammy xxmaj award - winning soundtrack of xxmaj oh xxmaj brother xxmaj where xxmaj art xxmaj thou . xxmaj around age 11 , xxmaj sharp took up the fiddle and banjo . xxmaj as a teenager he met xxmaj george xxmaj buckner and joined his band , xxmaj the xxmaj xxunk xxmaj bluegrass xxmaj boys , and in 1995 moved to xxmaj nashville with xxmaj buckner and xxmaj kevin xxmaj xxunk . xxmaj after two years , xxmaj sharp returned to xxmaj north xxmaj carolina where he started a band called the xxmaj tipton xxmaj hill xxmaj boys . xxmaj in 1997 , xxmaj sharp landed a job touring with xxmaj john xxmaj hartford and played on the o xxmaj brother xxmaj</td>\n",
       "      <td>47886</td>\n",
       "      <td>104651</td>\n",
       "      <td>0.3924160897731781</td>\n",
       "      <td>11.507698059082031</td>\n",
       "    </tr>\n",
       "  </tbody>\n",
       "</table>"
      ],
      "text/plain": [
       "<IPython.core.display.HTML object>"
      ]
     },
     "metadata": {},
     "output_type": "display_data"
    }
   ],
   "source": [
    "interp.plot_top_losses(10)"
   ]
  },
  {
   "cell_type": "markdown",
   "metadata": {
    "nteract": {
     "transient": {
      "deleting": false
     }
    }
   },
   "source": [
    "#### 4. Predict"
   ]
  },
  {
   "cell_type": "code",
   "execution_count": 54,
   "metadata": {
    "gather": {
     "logged": 1608011565148
    },
    "nteract": {
     "transient": {
      "deleting": false
     }
    }
   },
   "outputs": [
    {
     "ename": "ModuleAttributeError",
     "evalue": "'SequentialRNN' object has no attribute 'predic'",
     "output_type": "error",
     "traceback": [
      "\u001b[0;31m---------------------------------------------------------------------------\u001b[0m",
      "\u001b[0;31mModuleAttributeError\u001b[0m                      Traceback (most recent call last)",
      "\u001b[0;32m<ipython-input-54-be58dddb7148>\u001b[0m in \u001b[0;36m<module>\u001b[0;34m\u001b[0m\n\u001b[1;32m      1\u001b[0m \u001b[0mlearn_inf\u001b[0m \u001b[0;34m=\u001b[0m \u001b[0mload_learner\u001b[0m\u001b[0;34m(\u001b[0m\u001b[0;34m'/kaggle/working/export.pkl'\u001b[0m\u001b[0;34m)\u001b[0m\u001b[0;34m\u001b[0m\u001b[0;34m\u001b[0m\u001b[0m\n\u001b[0;32m----> 2\u001b[0;31m \u001b[0mlearn_inf\u001b[0m\u001b[0;34m.\u001b[0m\u001b[0mpredic\u001b[0m\u001b[0;34m(\u001b[0m\u001b[0;34m\"text goes here\"\u001b[0m\u001b[0;34m)\u001b[0m\u001b[0;34m\u001b[0m\u001b[0;34m\u001b[0m\u001b[0m\n\u001b[0m",
      "\u001b[0;32m/opt/conda/lib/python3.7/site-packages/fastcore/basics.py\u001b[0m in \u001b[0;36m__getattr__\u001b[0;34m(self, k)\u001b[0m\n\u001b[1;32m    386\u001b[0m         \u001b[0;32mif\u001b[0m \u001b[0mself\u001b[0m\u001b[0;34m.\u001b[0m\u001b[0m_component_attr_filter\u001b[0m\u001b[0;34m(\u001b[0m\u001b[0mk\u001b[0m\u001b[0;34m)\u001b[0m\u001b[0;34m:\u001b[0m\u001b[0;34m\u001b[0m\u001b[0;34m\u001b[0m\u001b[0m\n\u001b[1;32m    387\u001b[0m             \u001b[0mattr\u001b[0m \u001b[0;34m=\u001b[0m \u001b[0mgetattr\u001b[0m\u001b[0;34m(\u001b[0m\u001b[0mself\u001b[0m\u001b[0;34m,\u001b[0m\u001b[0mself\u001b[0m\u001b[0;34m.\u001b[0m\u001b[0m_default\u001b[0m\u001b[0;34m,\u001b[0m\u001b[0;32mNone\u001b[0m\u001b[0;34m)\u001b[0m\u001b[0;34m\u001b[0m\u001b[0;34m\u001b[0m\u001b[0m\n\u001b[0;32m--> 388\u001b[0;31m             \u001b[0;32mif\u001b[0m \u001b[0mattr\u001b[0m \u001b[0;32mis\u001b[0m \u001b[0;32mnot\u001b[0m \u001b[0;32mNone\u001b[0m\u001b[0;34m:\u001b[0m \u001b[0;32mreturn\u001b[0m \u001b[0mgetattr\u001b[0m\u001b[0;34m(\u001b[0m\u001b[0mattr\u001b[0m\u001b[0;34m,\u001b[0m\u001b[0mk\u001b[0m\u001b[0;34m)\u001b[0m\u001b[0;34m\u001b[0m\u001b[0;34m\u001b[0m\u001b[0m\n\u001b[0m\u001b[1;32m    389\u001b[0m         \u001b[0;32mraise\u001b[0m \u001b[0mAttributeError\u001b[0m\u001b[0;34m(\u001b[0m\u001b[0mk\u001b[0m\u001b[0;34m)\u001b[0m\u001b[0;34m\u001b[0m\u001b[0;34m\u001b[0m\u001b[0m\n\u001b[1;32m    390\u001b[0m     \u001b[0;32mdef\u001b[0m \u001b[0m__dir__\u001b[0m\u001b[0;34m(\u001b[0m\u001b[0mself\u001b[0m\u001b[0;34m)\u001b[0m\u001b[0;34m:\u001b[0m \u001b[0;32mreturn\u001b[0m \u001b[0mcustom_dir\u001b[0m\u001b[0;34m(\u001b[0m\u001b[0mself\u001b[0m\u001b[0;34m,\u001b[0m\u001b[0mself\u001b[0m\u001b[0;34m.\u001b[0m\u001b[0m_dir\u001b[0m\u001b[0;34m(\u001b[0m\u001b[0;34m)\u001b[0m\u001b[0;34m)\u001b[0m\u001b[0;34m\u001b[0m\u001b[0;34m\u001b[0m\u001b[0m\n",
      "\u001b[0;32m/opt/conda/lib/python3.7/site-packages/torch/nn/modules/module.py\u001b[0m in \u001b[0;36m__getattr__\u001b[0;34m(self, name)\u001b[0m\n\u001b[1;32m    777\u001b[0m                 \u001b[0;32mreturn\u001b[0m \u001b[0mmodules\u001b[0m\u001b[0;34m[\u001b[0m\u001b[0mname\u001b[0m\u001b[0;34m]\u001b[0m\u001b[0;34m\u001b[0m\u001b[0;34m\u001b[0m\u001b[0m\n\u001b[1;32m    778\u001b[0m         raise ModuleAttributeError(\"'{}' object has no attribute '{}'\".format(\n\u001b[0;32m--> 779\u001b[0;31m             type(self).__name__, name))\n\u001b[0m\u001b[1;32m    780\u001b[0m \u001b[0;34m\u001b[0m\u001b[0m\n\u001b[1;32m    781\u001b[0m     \u001b[0;32mdef\u001b[0m \u001b[0m__setattr__\u001b[0m\u001b[0;34m(\u001b[0m\u001b[0mself\u001b[0m\u001b[0;34m,\u001b[0m \u001b[0mname\u001b[0m\u001b[0;34m:\u001b[0m \u001b[0mstr\u001b[0m\u001b[0;34m,\u001b[0m \u001b[0mvalue\u001b[0m\u001b[0;34m:\u001b[0m \u001b[0mUnion\u001b[0m\u001b[0;34m[\u001b[0m\u001b[0mTensor\u001b[0m\u001b[0;34m,\u001b[0m \u001b[0;34m'Module'\u001b[0m\u001b[0;34m]\u001b[0m\u001b[0;34m)\u001b[0m \u001b[0;34m->\u001b[0m \u001b[0;32mNone\u001b[0m\u001b[0;34m:\u001b[0m\u001b[0;34m\u001b[0m\u001b[0;34m\u001b[0m\u001b[0m\n",
      "\u001b[0;31mModuleAttributeError\u001b[0m: 'SequentialRNN' object has no attribute 'predic'"
     ]
    }
   ],
   "source": [
    "learn_inf = load_learner('/kaggle/working/export.pkl')\n",
    "learn_inf.predic(\"text goes here\"))"
   ]
  },
  {
   "cell_type": "code",
   "execution_count": null,
   "metadata": {
    "nteract": {
     "transient": {
      "deleting": false
     }
    }
   },
   "outputs": [],
   "source": [
    "mystop"
   ]
  },
  {
   "cell_type": "markdown",
   "metadata": {
    "nteract": {
     "transient": {
      "deleting": false
     }
    }
   },
   "source": [
    "## $Xtra. Data Prep for ML\n"
   ]
  },
  {
   "cell_type": "code",
   "execution_count": null,
   "metadata": {
    "gather": {
     "logged": 1607454041362
    },
    "nteract": {
     "transient": {
      "deleting": false
     }
    }
   },
   "outputs": [],
   "source": [
    "#interested in words in all rows, column 0\n",
    "#this text_train\n",
    "X = df['FINAL_COMMENT'].copy()\n",
    "X.shape\n"
   ]
  },
  {
   "cell_type": "code",
   "execution_count": null,
   "metadata": {
    "gather": {
     "logged": 1607454071297
    },
    "nteract": {
     "transient": {
      "deleting": false
     }
    }
   },
   "outputs": [],
   "source": [
    "#for supervised learning\n",
    "y = df['Q_NPS_CAT'].copy()\n",
    "print(y.shape)\n",
    "y.head()\n"
   ]
  },
  {
   "cell_type": "code",
   "execution_count": null,
   "metadata": {
    "gather": {
     "logged": 1607454091163
    },
    "nteract": {
     "transient": {
      "deleting": false
     }
    }
   },
   "outputs": [],
   "source": [
    "print(y.value_counts().sort_index())\n",
    "y.value_counts().sort_index().plot(kind=\"bar\")"
   ]
  },
  {
   "cell_type": "code",
   "execution_count": null,
   "metadata": {
    "gather": {
     "logged": 1607643585685
    },
    "nteract": {
     "transient": {
      "deleting": false
     }
    }
   },
   "outputs": [],
   "source": [
    "import fastai\n",
    "from fastai import *\n",
    "from fastai.text import *\n",
    "\n",
    "#from IPython.display import display,HTML "
   ]
  },
  {
   "cell_type": "code",
   "execution_count": null,
   "metadata": {
    "nteract": {
     "transient": {
      "deleting": false
     }
    }
   },
   "outputs": [],
   "source": [
    "#$was\n",
    "# use TextBlock to create a language model, pass TextBlock to DataBlock\n",
    "#es_lm = DataBlock(\n",
    "#    blocks=TextBlock.from_df('text', seq_len=72, is_lm=True),\n",
    "##    #get_x=ColReader('text'), \n",
    "#    splitter=RandomSplitter(0.2, seed = SEED)) \n",
    "\n",
    "#dataloaders\n",
    "#dls_lm = es_lm.dataloaders(df['text'], bs=64)\n",
    "#dls_lm.show_batch(max_n=2)"
   ]
  },
  {
   "cell_type": "code",
   "execution_count": null,
   "metadata": {
    "nteract": {
     "transient": {
      "deleting": false
     }
    }
   },
   "outputs": [],
   "source": [
    "#src https://forums.fast.ai/t/the-interpretation-of-text-classification-throws-an-error-when-used-on-a-pretrained-network/39471\n",
    "def show_piece_attn(*args, **kwargs):\n",
    "    from IPython.display import display, HTML\n",
    "    display(HTML(piece_attn_html(*args, **kwargs)))\n",
    "\n",
    "def _eval_dropouts(mod):\n",
    "        module_name =  mod.__class__.__name__\n",
    "        if 'Dropout' in module_name or 'BatchNorm' in module_name: mod.training = False\n",
    "        for module in mod.children(): _eval_dropouts(module)\n",
    "            \n",
    "class TextClassificationInterpretation(ClassificationInterpretation):\n",
    "    \"\"\"Provides an interpretation of classification based on input sensitivity.\n",
    "    This was designed for AWD-LSTM only for the moment, because Transformer already has its own attentional model.\n",
    "    \"\"\"\n",
    "\n",
    "    def __init__(self, learn: Learner, preds: Tensor, y_true: Tensor, losses: Tensor, ds_type: DatasetType = DatasetType.Valid):\n",
    "        super(TextClassificationInterpretation, self).__init__(learn,preds,y_true,losses,ds_type)\n",
    "        self.model = learn.model\n",
    "\n",
    "    def intrinsic_attention(self, text:str, class_id:int=None):\n",
    "        \"\"\"Calculate the intrinsic attention of the input w.r.t to an output `class_id`, or the classification given by the model if `None`. \"\"\""
   ]
  },
  {
   "cell_type": "code",
   "execution_count": null,
   "metadata": {
    "nteract": {
     "transient": {
      "deleting": false
     }
    }
   },
   "outputs": [],
   "source": [
    "#https://github.com/fastai/fastai/pull/2115/files\n",
    "#from fastai.train import ClassificationInterpretation\n",
    "\n",
    "#from fastai.data.all import *\n",
    "from fastai.basic_train import Learner #fastai v1 is not compatible vith v2\n",
    "from fastai.vision import DatasetType\n",
    "\n",
    "\n",
    "__all__ = ['TextClassificationInterpretation']\n",
    "\n",
    "print(fastai.DatasetType.valid)\n",
    "\n",
    "class TextClassificationInterpretation(ClassificationInterpretation):\n",
    "    \"\"\"Provides an interpretation of classification based on input sensitivity.\n",
    "    This was designed for AWD-LSTM only for the moment, because Transformer already has its own attentional model.\n",
    "    \"\"\"\n",
    "\n",
    "    def __init__(self, learn: Learner, preds: Tensor, y_true: Tensor, losses: Tensor, ds_type: DatasetType = DatasetType.Valid):\n",
    "        super(TextClassificationInterpretation, self).__init__(learn,preds,y_true,losses,ds_type)\n",
    "        self.model = learn.model\n",
    "\n",
    "    def intrinsic_attention(self, text:str, class_id:int=None):\n",
    "        \"\"\"Calculate the intrinsic attention of the input w.r.t to an output `class_id`, or the classification given by the model if `None`.\n",
    "        For reference, see the Sequential Jacobian session at https://www.cs.toronto.edu/~graves/preprint.pdf\n",
    "        \"\"\"\n",
    "        self.model.train()\n",
    "        _eval_dropouts(self.model)\n",
    "        self.model.zero_grad()\n",
    "        self.model.reset()\n",
    "        ids = self.data.one_item(text)[0]\n",
    "        emb = self.model[0].module.encoder(ids).detach().requires_grad_(True)\n",
    "        lstm_output = self.model[0].module(emb, from_embeddings=True)\n",
    "        self.model.eval()\n",
    "        cl = self.model[1](lstm_output + (torch.zeros_like(ids).byte(),))[0].softmax(dim=-1)\n",
    "        if class_id is None: class_id = cl.argmax()\n",
    "        cl[0][class_id].backward()\n",
    "        attn = emb.grad.squeeze().abs().sum(dim=-1)\n",
    "        attn /= attn.max()\n",
    "        tokens = self.data.single_ds.reconstruct(ids[0])\n",
    "        return tokens, attn\n",
    "\n",
    "    def html_intrinsic_attention(self, text:str, class_id:int=None, **kwargs)->str:\n",
    "        text, attn = self.intrinsic_attention(text, class_id)\n",
    "        return piece_attn_html(text.text.split(), to_np(attn), **kwargs)\n",
    "\n",
    "    def show_intrinsic_attention(self, text:str, class_id:int=None, **kwargs)->None:\n",
    "        text, attn = self.intrinsic_attention(text, class_id)\n",
    "        show_piece_attn(text.text.split(), to_np(attn), **kwargs)\n",
    "\n",
    "    def show_top_losses(self, k:int, max_len:int=70)->None:\n",
    "        \"\"\"\n",
    "        Create a tabulation showing the first `k` texts in top_losses along with their prediction, actual,loss, and probability of\n",
    "        actual class. `max_len` is the maximum number of tokens displayed.\n",
    "        \"\"\"\n",
    "        from IPython.display import display, HTML\n",
    "        items = []\n",
    "        tl_val,tl_idx = self.top_losses()\n",
    "        for i,idx in enumerate(tl_idx):\n",
    "            if k <= 0: break\n",
    "            k -= 1\n",
    "            tx,cl = self.data.dl(self.ds_type).dataset[idx]\n",
    "            cl = cl.data\n",
    "            classes = self.data.classes\n",
    "            txt = ' '.join(tx.text.split(' ')[:max_len]) if max_len is not None else tx.text\n",
    "            tmp = [txt, f'{classes[self.pred_class[idx]]}', f'{classes[cl]}', f'{self.losses[idx]:.2f}',\n",
    "                   f'{self.preds[idx][cl]:.2f}']\n",
    "            items.append(tmp)\n",
    "        items = np.array(items)\n",
    "        names = ['Text', 'Prediction', 'Actual', 'Loss', 'Probability']\n",
    "        df = pd.DataFrame({n:items[:,i] for i,n in enumerate(names)}, columns=names)\n",
    "        with pd.option_context('display.max_colwidth', -1):\n",
    "            display(HTML(df.to_html(index=False))) "
   ]
  },
  {
   "cell_type": "code",
   "execution_count": null,
   "metadata": {
    "gather": {
     "logged": 1607649602780
    },
    "nteract": {
     "transient": {
      "deleting": false
     }
    }
   },
   "outputs": [],
   "source": [
    "learn.model"
   ]
  },
  {
   "cell_type": "code",
   "execution_count": null,
   "metadata": {
    "gather": {
     "logged": 1607651272137
    },
    "nteract": {
     "transient": {
      "deleting": false
     }
    }
   },
   "outputs": [],
   "source": [
    "for m in learn.model.modules():\n",
    "    print('--')\n",
    "    print(m)"
   ]
  },
  {
   "cell_type": "code",
   "execution_count": null,
   "metadata": {
    "nteract": {
     "transient": {
      "deleting": false
     }
    }
   },
   "outputs": [],
   "source": []
  }
 ],
 "metadata": {
  "kernel_info": {
   "name": "fastai"
  },
  "kernelspec": {
   "display_name": "Python 3",
   "language": "python",
   "name": "python3"
  },
  "language_info": {
   "codemirror_mode": {
    "name": "ipython",
    "version": 3
   },
   "file_extension": ".py",
   "mimetype": "text/x-python",
   "name": "python",
   "nbconvert_exporter": "python",
   "pygments_lexer": "ipython3",
   "version": "3.8.3"
  },
  "microsoft": {
   "host": {
    "AzureML": {
     "notebookHasBeenCompleted": true
    }
   }
  },
  "nteract": {
   "version": "nteract-front-end@1.0.0"
  }
 },
 "nbformat": 4,
 "nbformat_minor": 4
}
