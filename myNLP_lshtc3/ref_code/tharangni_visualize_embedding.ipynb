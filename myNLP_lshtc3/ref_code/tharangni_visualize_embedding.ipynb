{
 "cells": [
  {
   "cell_type": "code",
   "execution_count": 3,
   "metadata": {},
   "outputs": [],
   "source": [
    "import warnings\n",
    "warnings.simplefilter(\"ignore\")\n",
    "\n",
    "import re\n",
    "import os\n",
    "import pexpect\n",
    "import numpy as np\n",
    "import pandas as pd\n",
    "import networkx as nx\n",
    "#import starwrap as sw\n",
    "import matplotlib.cm as cm\n",
    "import matplotlib.pyplot as plt\n",
    "\n",
    "from enum import Enum\n",
    "from sklearn.manifold import TSNE\n",
    "from scipy.spatial import distance"
   ]
  },
  {
   "cell_type": "code",
   "execution_count": 4,
   "metadata": {},
   "outputs": [],
   "source": [
    "class Mode(Enum):\n",
    "    PREDICT = 1\n",
    "    EMBEDDING = 2\n",
    "    SIMILAR_N = 3\n",
    "\n",
    "class StarSpaceInterface(object): \n",
    "    \n",
    "    def __init__(self, mode, **kwarg):\n",
    "        self.mode = mode\n",
    "        if self.mode == Mode.PREDICT:\n",
    "            cmd = '{} {} {} {}'.format(kwarg[\"starspace_path\"] + \"query_predict\", kwarg[\"model_path\"], kwarg[\"k\"] if \"k\" in kwarg else 1, kwarg[\"baseDocs\"] if \"baseDocs\" in kwarg else \"\")\n",
    "            self.child = pexpect.spawn(cmd)\n",
    "            self.child.expect('Enter some text: ', timeout=120)\n",
    "        elif self.mode == Mode.EMBEDDING:\n",
    "            cmd = '{} {}'.format(kwarg[\"starspace_path\"] + 'embed_doc', kwarg[\"model_path\"])\n",
    "            self.child = pexpect.spawn(cmd)\n",
    "            self.child.expect('Input your sentence / document now:', timeout=120)\n",
    "        elif self.mode == Mode.SIMILAR_N:\n",
    "            cmd = '{} {} {}'.format(kwarg[\"starspace_path\"] + 'query_nn', kwarg[\"model_path\"], kwarg[\"k\"] if \"k\" in kwarg else 5)\n",
    "            self.child = pexpect.spawn(cmd)\n",
    "            self.child.expect('Enter some text: ', timeout=120)\n",
    "            \n",
    "    def predict(self, text):\n",
    "        if self.mode == Mode.PREDICT:\n",
    "            self.child.sendline(text)\n",
    "            self.child.expect('Enter some text: ')\n",
    "            stdout = self.child.before.decode('utf-8')\n",
    "            lines = stdout.split('\\n')\n",
    "            results = []\n",
    "            for line in lines:\n",
    "                search = re.search(r'(\\d)\\[(\\d+\\.\\d+)\\]:\\s(.*)\\s+', line)\n",
    "                if search:\n",
    "                    label = search.group(3).strip()\n",
    "                    proba = float(search.group(2).strip())\n",
    "                    results.append(dict(label=label, proba=proba))\n",
    "            return results\n",
    "        \n",
    "        elif self.mode == Mode.EMBEDDING:\n",
    "            self.child.sendline(text)\n",
    "            self.child.expect(text + r\"\\r\\n\")\n",
    "            self.child.expect(text + r\"\\r\\n\")\n",
    "            self.child.expect(r\" \\r\\n\")\n",
    "            return [dict(word=text.strip(), embedding=self.child.before.decode(\"utf-8\").split(\" \"))]\n",
    "        \n",
    "        elif self.mode == Mode.SIMILAR_N:\n",
    "            self.child.sendline(text)\n",
    "            self.child.expect('Enter some text: ')\n",
    "            lines = self.child.before.decode(\"utf-8\").split('\\n')\n",
    "            results = []\n",
    "            for line in lines[1:-1]:\n",
    "                line = line.split(\" \")\n",
    "                results.append(dict(word=line[0].strip(), proba=float(line[1].strip())))\n",
    "            return results"
   ]
  },
  {
   "cell_type": "code",
   "execution_count": null,
   "metadata": {},
   "outputs": [],
   "source": [
    "arg = sw.args()"
   ]
  },
  {
   "cell_type": "code",
   "execution_count": null,
   "metadata": {},
   "outputs": [],
   "source": [
    "arg.trainFile = '../../../sspace/data/oms/oms-rel_joint.txt'\n",
    "arg.trainMode = 4\n",
    "arg.similarity='cosine'\n",
    "arg.verbose = True\n",
    "arg.initRandSd = 0.01\n",
    "arg.ngrams = 1\n",
    "arg.lr = 0.01\n",
    "arg.epoch = 10\n",
    "arg.thread = 10\n",
    "arg.dim = 300\n",
    "arg.margin = 0.05\n",
    "arg.batchSize = 5\n",
    "arg.negSearchLimit = 5\n",
    "arg.maxNegSamples = 10\n",
    "arg.shareEmb = False\n",
    "arg.label = \"__label__\"\n",
    "arg.dropoutRHS = 0.2\n",
    "\n",
    "sp = sw.starSpace(arg)\n",
    "sp.init()\n",
    "sp.train()\n",
    "\n",
    "sp.saveModel('../../../sspace/model/oms/oms-d300-init-h-doc')\n",
    "sp.saveModelTsv('../../../sspace/model/oms/oms-d300-init-h-doc.tsv')\n",
    "\n",
    "# sp.initFromSavedModel('../../../sspace/model/oms/oms-d300-init-h')\n",
    "# sp.initFromTsv('../../../sspace/model/oms/oms-d300-init-h.tsv')"
   ]
  },
  {
   "cell_type": "code",
   "execution_count": null,
   "metadata": {},
   "outputs": [],
   "source": [
    "interface = StarSpaceInterface(Mode.SIMILAR_N, starspace_path=\"../../../StarSpace/\", model_path=\"../../../sspace/model/oms/oms-d300-init-h-doc\")"
   ]
  },
  {
   "cell_type": "code",
   "execution_count": null,
   "metadata": {},
   "outputs": [],
   "source": [
    "labels = pd.read_csv(\"../../../sspace/model/oms/oms-d300-init-h.tsv\", sep=\"\\t\", encoding=\"utf-8\", header=None, index_col=0)"
   ]
  },
  {
   "cell_type": "code",
   "execution_count": null,
   "metadata": {},
   "outputs": [],
   "source": [
    "store = interface.predict(\"__label__cell-biology\")"
   ]
  },
  {
   "cell_type": "code",
   "execution_count": null,
   "metadata": {},
   "outputs": [],
   "source": [
    "for k in store:\n",
    "    emb_p = np.array(labels.loc[[k['word']]]).squeeze()\n",
    "    print(k)"
   ]
  },
  {
   "cell_type": "code",
   "execution_count": null,
   "metadata": {},
   "outputs": [],
   "source": [
    "graph = nx.read_edgelist(\"../../../sspace/data/oms/cat_hier_inplace.txt\", nodetype=str, create_using=nx.DiGraph)"
   ]
  },
  {
   "cell_type": "code",
   "execution_count": null,
   "metadata": {},
   "outputs": [],
   "source": [
    "keys = [\"__label__bioengineering\", \"__label__earth-history\", \"__label__civics\", \"__label__cell-biology\", \"__label__historiography\"]"
   ]
  },
  {
   "cell_type": "code",
   "execution_count": null,
   "metadata": {},
   "outputs": [],
   "source": [
    "embedding_clusters, word_clusters = [], []\n",
    "\n",
    "for word in keys:\n",
    "    embeddings = []\n",
    "    words = []\n",
    "    for pred in interface.predict(word):\n",
    "        if pred[\"word\"] not in words:\n",
    "            words.append(pred[\"word\"])\n",
    "            emb_p = np.array(labels.loc[[pred[\"word\"]]]).squeeze()\n",
    "            embeddings.append(emb_p)\n",
    "    \n",
    "    for parent in graph.successors(word):\n",
    "        words.append(parent)\n",
    "        emb_t = np.array(labels.loc[[parent]]).squeeze()\n",
    "        embeddings.append(emb_t)\n",
    "    embedding_clusters.append(embeddings)\n",
    "    word_clusters.append(words)"
   ]
  },
  {
   "cell_type": "code",
   "execution_count": null,
   "metadata": {},
   "outputs": [],
   "source": [
    "embedding_clusters = np.array(embedding_clusters)"
   ]
  },
  {
   "cell_type": "code",
   "execution_count": null,
   "metadata": {},
   "outputs": [],
   "source": [
    "n, m, k = embedding_clusters.shape\n",
    "tsne_model_en_2d = TSNE(perplexity=15, n_components=2, init='pca', n_iter=3500, random_state=32)\n",
    "embeddings_en_2d = np.array(tsne_model_en_2d.fit_transform(embedding_clusters.reshape(n * m, k))).reshape(n, m, 2)"
   ]
  },
  {
   "cell_type": "code",
   "execution_count": null,
   "metadata": {},
   "outputs": [],
   "source": [
    "embeddings_en_2d.shape"
   ]
  },
  {
   "cell_type": "code",
   "execution_count": null,
   "metadata": {},
   "outputs": [],
   "source": [
    "def tsne_plot_similar_words(title, labels, embedding_clusters, word_clusters, a, filename=None):\n",
    "    plt.figure(figsize=(16, 9))\n",
    "    colors = cm.rainbow(np.linspace(0, 1, len(labels)))\n",
    "    for label, embeddings, words, color in zip(labels, embedding_clusters, word_clusters, colors):\n",
    "        x = embeddings[:, 0]\n",
    "        y = embeddings[:, 1]\n",
    "        plt.plot(x, y, c=color, alpha=a, label=label, marker='o', linestyle='None')\n",
    "        for i, word in enumerate(words):\n",
    "            plt.annotate(word, alpha=1, xy=(x[i], y[i]), xytext=(5, 2),\n",
    "                         textcoords='offset points', ha='right', va='bottom', size=10)\n",
    "#     plt.legend(loc=4)\n",
    "    plt.title(title)\n",
    "    plt.grid(False)\n",
    "    if filename:\n",
    "        plt.savefig(filename, format='png', dpi=150, bbox_inches='tight')\n",
    "    plt.show()\n",
    "\n",
    "\n",
    "tsne_plot_similar_words('Sample of Omniscience Hierarchy', keys, embeddings_en_2d, word_clusters, 0.9, 'oms_hier_text.png')"
   ]
  },
  {
   "cell_type": "code",
   "execution_count": null,
   "metadata": {},
   "outputs": [],
   "source": []
  },
  {
   "cell_type": "code",
   "execution_count": null,
   "metadata": {},
   "outputs": [],
   "source": []
  }
 ],
 "metadata": {
  "hide_input": false,
  "kernelspec": {
   "display_name": "Python 3",
   "language": "python",
   "name": "python3"
  },
  "language_info": {
   "codemirror_mode": {
    "name": "ipython",
    "version": 3
   },
   "file_extension": ".py",
   "mimetype": "text/x-python",
   "name": "python",
   "nbconvert_exporter": "python",
   "pygments_lexer": "ipython3",
   "version": "3.7.6"
  },
  "toc": {
   "base_numbering": 1,
   "nav_menu": {},
   "number_sections": true,
   "sideBar": true,
   "skip_h1_title": false,
   "title_cell": "Table of Contents",
   "title_sidebar": "Contents",
   "toc_cell": false,
   "toc_position": {},
   "toc_section_display": true,
   "toc_window_display": false
  }
 },
 "nbformat": 4,
 "nbformat_minor": 2
}
