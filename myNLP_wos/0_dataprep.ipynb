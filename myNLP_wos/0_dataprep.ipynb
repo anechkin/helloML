{
 "cells": [
  {
   "cell_type": "code",
   "execution_count": 2,
   "metadata": {
    "gather": {
     "logged": 1618527248731
    },
    "jupyter": {
     "source_hidden": false
    }
   },
   "outputs": [],
   "source": [
    "#meta 4/21/2021 myClassify (multiclass) for LSHTC - Data prep\n",
    "# task: classify text (multiclass) \n",
    "# input: my-input/lshtc3_wikipedia_med_df_train_multilabel.pkl\n",
    "\n",
    "#task: Multi-category text classification - supervised\n",
    "#based on aml_0_dataprep.ipynb\n",
    "#      4/15/2021 DATA PREP \n",
    "#      LSHTC3 reduced ds with less labels\n",
    "#      Important reset index - fast.ai dataloaders don't like a gap in index\n",
    "#      to avoid -> TypeError: 'float' object is not iterable\n",
    "\n",
    "#history\n",
    "#4/21/2021 INPUT DF W/ MULTI-LABELS\n",
    "#      multi-labels per document\n",
    "#      requires pandas 1.1.0+ (myTrainBox env nlp_lshtc)\n",
    "\n",
    "#4/23/2021 REDO INPUT DF W/ MULTI-LABELS\n",
    "#      Imploded df subset w/ multi-labels\n",
    "#      Reverted to one field `labels` with strings separated by space (per book Ch.6)\n",
    "#      Subset Imploded df -> implode labels from each record into docs with multi labels per doc\n",
    "#      127043 imploded documents x 3 fields docno, text, labels\n",
    "#      (1 rec = 1 doc -> many labels)\n",
    "#      confirmed: 139 unique labels\n",
    "\n",
    "\n",
    "#meta 5/1/2021 Web of Sciences Data - Data prep\n",
    "#NLP, hierarchical text classification\n",
    "#src data https://data.mendeley.com/datasets/9rw3vkcfy4/2\n",
    "#citation: Kowsari, Kamran (2017), “Web of Science”, Mendeley Data, V2, doi: 10.17632/9rw3vkcfy4.2\n",
    "\n",
    "#input: WOS5736 X and y files\n",
    "#output: WOS5736_df.pkl with X input and y output (3 levels)\n",
    "\n",
    "#history\n",
    "#5/1/2021 READ INPUT FILES AND BUILD A LEARNING SET\n",
    "#      Prep data - X, y (plus level 1 and level 2 target vars)"
   ]
  },
  {
   "cell_type": "code",
   "execution_count": 3,
   "metadata": {
    "gather": {
     "logged": 1618527248911
    },
    "jupyter": {
     "outputs_hidden": false,
     "source_hidden": false
    },
    "nteract": {
     "transient": {
      "deleting": false
     }
    }
   },
   "outputs": [],
   "source": [
    "%matplotlib inline\n",
    "#import time as time #to track performance time\n",
    "import pandas as pd\n",
    "import numpy as np\n",
    "import matplotlib.pyplot as plt\n",
    "plt.rcParams[\"figure.figsize\"] = (10,6)\n",
    "from joblib import load, dump\n"
   ]
  },
  {
   "cell_type": "markdown",
   "metadata": {
    "nteract": {
     "transient": {
      "deleting": false
     }
    }
   },
   "source": [
    "# LSHTC: Data Prep for Classifying Text\n",
    "\n",
    "## 0. Load Data\n",
    "input: a prepared pickle with less labels (~)."
   ]
  },
  {
   "cell_type": "code",
   "execution_count": 4,
   "metadata": {
    "gather": {
     "logged": 1618527251988
    },
    "jupyter": {
     "outputs_hidden": false,
     "source_hidden": false
    },
    "nteract": {
     "transient": {
      "deleting": false
     }
    }
   },
   "outputs": [
    {
     "name": "stdout",
     "output_type": "stream",
     "text": [
      "(5736, 4)\n",
      "Index(['X', 'y_l1', 'y_l2', 'y'], dtype='object')\n"
     ]
    },
    {
     "data": {
      "text/html": [
       "<div>\n",
       "<style scoped>\n",
       "    .dataframe tbody tr th:only-of-type {\n",
       "        vertical-align: middle;\n",
       "    }\n",
       "\n",
       "    .dataframe tbody tr th {\n",
       "        vertical-align: top;\n",
       "    }\n",
       "\n",
       "    .dataframe thead th {\n",
       "        text-align: right;\n",
       "    }\n",
       "</style>\n",
       "<table border=\"1\" class=\"dataframe\">\n",
       "  <thead>\n",
       "    <tr style=\"text-align: right;\">\n",
       "      <th></th>\n",
       "      <th>X</th>\n",
       "      <th>y_l1</th>\n",
       "      <th>y_l2</th>\n",
       "      <th>y</th>\n",
       "    </tr>\n",
       "  </thead>\n",
       "  <tbody>\n",
       "    <tr>\n",
       "      <th>0</th>\n",
       "      <td>Phytoplasmas are insect-vectored bacteria that...</td>\n",
       "      <td>2</td>\n",
       "      <td>2</td>\n",
       "      <td>9</td>\n",
       "    </tr>\n",
       "    <tr>\n",
       "      <th>1</th>\n",
       "      <td>Background: (-)-alpha-Bisabolol, also known as...</td>\n",
       "      <td>2</td>\n",
       "      <td>0</td>\n",
       "      <td>7</td>\n",
       "    </tr>\n",
       "    <tr>\n",
       "      <th>2</th>\n",
       "      <td>A universal feature of the replication of posi...</td>\n",
       "      <td>2</td>\n",
       "      <td>0</td>\n",
       "      <td>7</td>\n",
       "    </tr>\n",
       "    <tr>\n",
       "      <th>3</th>\n",
       "      <td>1,2-Dichloropropane (1,2-DCP) and dichlorometh...</td>\n",
       "      <td>2</td>\n",
       "      <td>2</td>\n",
       "      <td>9</td>\n",
       "    </tr>\n",
       "    <tr>\n",
       "      <th>4</th>\n",
       "      <td>This paper presents the simulation results of ...</td>\n",
       "      <td>0</td>\n",
       "      <td>1</td>\n",
       "      <td>1</td>\n",
       "    </tr>\n",
       "  </tbody>\n",
       "</table>\n",
       "</div>"
      ],
      "text/plain": [
       "                                                   X  y_l1  y_l2  y\n",
       "0  Phytoplasmas are insect-vectored bacteria that...     2     2  9\n",
       "1  Background: (-)-alpha-Bisabolol, also known as...     2     0  7\n",
       "2  A universal feature of the replication of posi...     2     0  7\n",
       "3  1,2-Dichloropropane (1,2-DCP) and dichlorometh...     2     2  9\n",
       "4  This paper presents the simulation results of ...     0     1  1"
      ]
     },
     "execution_count": 4,
     "metadata": {},
     "output_type": "execute_result"
    }
   ],
   "source": [
    "df = load('myData/WOS5736_df.pkl') \n",
    "print(df.shape)\n",
    "print(df.columns)\n",
    "df.head()\n"
   ]
  },
  {
   "cell_type": "markdown",
   "metadata": {
    "nteract": {
     "transient": {
      "deleting": false
     }
    }
   },
   "source": [
    "## 1. Data Prep\n",
    "Tidy data - pick relevant columns"
   ]
  },
  {
   "cell_type": "code",
   "execution_count": 7,
   "metadata": {},
   "outputs": [
    {
     "data": {
      "text/plain": [
       "text        object\n",
       "labels    category\n",
       "dtype: object"
      ]
     },
     "execution_count": 7,
     "metadata": {},
     "output_type": "execute_result"
    }
   ],
   "source": [
    "df_tidy = df[['X', 'y']].copy()\n",
    "df_tidy.columns = ['text', 'labels']\n",
    "df_tidy['labels'] = df_tidy['labels'].astype('category')\n",
    "df_tidy.dtypes"
   ]
  },
  {
   "cell_type": "markdown",
   "metadata": {
    "nteract": {
     "transient": {
      "deleting": false
     }
    }
   },
   "source": [
    "ML Expected Format: input features X(matrix) and target variable y(categorical).  \n",
    "X - column 'text'  \n",
    "y - columns with 'label' "
   ]
  },
  {
   "cell_type": "code",
   "execution_count": 8,
   "metadata": {
    "gather": {
     "logged": 1618527254250
    },
    "jupyter": {
     "outputs_hidden": false,
     "source_hidden": false
    },
    "nteract": {
     "transient": {
      "deleting": false
     }
    },
    "scrolled": true
   },
   "outputs": [
    {
     "data": {
      "text/html": [
       "<div>\n",
       "<style scoped>\n",
       "    .dataframe tbody tr th:only-of-type {\n",
       "        vertical-align: middle;\n",
       "    }\n",
       "\n",
       "    .dataframe tbody tr th {\n",
       "        vertical-align: top;\n",
       "    }\n",
       "\n",
       "    .dataframe thead th {\n",
       "        text-align: right;\n",
       "    }\n",
       "</style>\n",
       "<table border=\"1\" class=\"dataframe\">\n",
       "  <thead>\n",
       "    <tr style=\"text-align: right;\">\n",
       "      <th></th>\n",
       "      <th>text</th>\n",
       "      <th>labels</th>\n",
       "    </tr>\n",
       "  </thead>\n",
       "  <tbody>\n",
       "    <tr>\n",
       "      <th>0</th>\n",
       "      <td>Phytoplasmas are insect-vectored bacteria that...</td>\n",
       "      <td>9</td>\n",
       "    </tr>\n",
       "    <tr>\n",
       "      <th>1</th>\n",
       "      <td>Background: (-)-alpha-Bisabolol, also known as...</td>\n",
       "      <td>7</td>\n",
       "    </tr>\n",
       "    <tr>\n",
       "      <th>2</th>\n",
       "      <td>A universal feature of the replication of posi...</td>\n",
       "      <td>7</td>\n",
       "    </tr>\n",
       "    <tr>\n",
       "      <th>3</th>\n",
       "      <td>1,2-Dichloropropane (1,2-DCP) and dichlorometh...</td>\n",
       "      <td>9</td>\n",
       "    </tr>\n",
       "    <tr>\n",
       "      <th>4</th>\n",
       "      <td>This paper presents the simulation results of ...</td>\n",
       "      <td>1</td>\n",
       "    </tr>\n",
       "  </tbody>\n",
       "</table>\n",
       "</div>"
      ],
      "text/plain": [
       "                                                text labels\n",
       "0  Phytoplasmas are insect-vectored bacteria that...      9\n",
       "1  Background: (-)-alpha-Bisabolol, also known as...      7\n",
       "2  A universal feature of the replication of posi...      7\n",
       "3  1,2-Dichloropropane (1,2-DCP) and dichlorometh...      9\n",
       "4  This paper presents the simulation results of ...      1"
      ]
     },
     "execution_count": 8,
     "metadata": {},
     "output_type": "execute_result"
    }
   ],
   "source": [
    "#preview ready dataset\n",
    "df_tidy.head()"
   ]
  },
  {
   "cell_type": "code",
   "execution_count": null,
   "metadata": {
    "gather": {
     "logged": 1618527254308
    },
    "jupyter": {
     "outputs_hidden": false,
     "source_hidden": false
    },
    "nteract": {
     "transient": {
      "deleting": false
     }
    },
    "scrolled": true
   },
   "outputs": [],
   "source": [
    "#reset index - fast.ai dataloaders don't like a gap in index\n",
    "#to avoid -> TypeError: 'float' object is not iterable\n",
    "#$note: if need to preserve 'docno', set drop = False\n",
    "##df_tidy.reset_index(drop=True, inplace=True)\n",
    "##df_tidy.head(2)\n"
   ]
  },
  {
   "cell_type": "code",
   "execution_count": 10,
   "metadata": {
    "gather": {
     "logged": 1618527256184
    },
    "jupyter": {
     "outputs_hidden": false,
     "source_hidden": false
    },
    "nteract": {
     "transient": {
      "deleting": false
     }
    }
   },
   "outputs": [
    {
     "data": {
      "text/plain": [
       "['myOutput/WOS5736_df_tidy.pkl']"
      ]
     },
     "execution_count": 10,
     "metadata": {},
     "output_type": "execute_result"
    }
   ],
   "source": [
    "#save file prepped for sentiment analysis\n",
    "dump(df_tidy, 'myOutput/WOS5736_df_tidy.pkl')"
   ]
  },
  {
   "cell_type": "code",
   "execution_count": null,
   "metadata": {
    "jupyter": {
     "outputs_hidden": false,
     "source_hidden": false
    },
    "nteract": {
     "transient": {
      "deleting": false
     }
    }
   },
   "outputs": [],
   "source": [
    "mystop"
   ]
  },
  {
   "cell_type": "markdown",
   "metadata": {
    "nteract": {
     "transient": {
      "deleting": false
     }
    }
   },
   "source": [
    "##### Xtra"
   ]
  },
  {
   "cell_type": "code",
   "execution_count": null,
   "metadata": {
    "gather": {
     "logged": 1607970938661
    },
    "jupyter": {
     "outputs_hidden": false,
     "source_hidden": false
    },
    "nteract": {
     "transient": {
      "deleting": false
     }
    }
   },
   "outputs": [],
   "source": []
  }
 ],
 "metadata": {
  "hide_input": false,
  "kernel_info": {
   "name": "fastai"
  },
  "kernelspec": {
   "display_name": "Python 3",
   "language": "python",
   "name": "python3"
  },
  "language_info": {
   "codemirror_mode": {
    "name": "ipython",
    "version": 3
   },
   "file_extension": ".py",
   "mimetype": "text/x-python",
   "name": "python",
   "nbconvert_exporter": "python",
   "pygments_lexer": "ipython3",
   "version": "3.8.3"
  },
  "microsoft": {
   "host": {
    "AzureML": {
     "notebookHasBeenCompleted": true
    }
   }
  },
  "nteract": {
   "version": "nteract-front-end@1.0.0"
  },
  "toc": {
   "base_numbering": 1,
   "nav_menu": {},
   "number_sections": true,
   "sideBar": true,
   "skip_h1_title": false,
   "title_cell": "Table of Contents",
   "title_sidebar": "Contents",
   "toc_cell": false,
   "toc_position": {},
   "toc_section_display": true,
   "toc_window_display": false
  }
 },
 "nbformat": 4,
 "nbformat_minor": 2
}
