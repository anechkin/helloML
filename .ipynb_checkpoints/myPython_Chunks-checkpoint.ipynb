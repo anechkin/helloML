{
 "cells": [
  {
   "cell_type": "markdown",
   "metadata": {},
   "source": [
    "# Python Chunks\n",
    "\n",
    "Useful code chunks:\n",
    "\n",
    "- Regex\n",
    "- Loading files"
   ]
  },
  {
   "cell_type": "code",
   "execution_count": 7,
   "metadata": {
    "collapsed": true
   },
   "outputs": [],
   "source": [
    "import re\n",
    "import pandas as pd"
   ]
  },
  {
   "cell_type": "markdown",
   "metadata": {},
   "source": [
    "## Regex"
   ]
  },
  {
   "cell_type": "code",
   "execution_count": 3,
   "metadata": {},
   "outputs": [
    {
     "name": "stdout",
     "output_type": "stream",
     "text": [
      "matchObj.group() :  Cats are smarter than dogs\n",
      "matchObj.group(1) :  Cats\n",
      "matchObj.group(2) :  smarter\n"
     ]
    }
   ],
   "source": [
    "#Regex\n",
    "line = \"Cats are smarter than dogs\"\n",
    "\n",
    "matchObj = re.match( r'(.*) are (.*?) .*', line, re.M|re.I)\n",
    "\n",
    "if matchObj:\n",
    "   print \"matchObj.group() : \", matchObj.group()\n",
    "   print \"matchObj.group(1) : \", matchObj.group(1)\n",
    "   print \"matchObj.group(2) : \", matchObj.group(2)\n",
    "else:\n",
    "   print \"No match!!\""
   ]
  },
  {
   "cell_type": "code",
   "execution_count": 5,
   "metadata": {},
   "outputs": [
    {
     "name": "stdout",
     "output_type": "stream",
     "text": [
      "abcabc3abc3\n",
      "abc;def;ghi;jkl;mno;pqr;stu;\n"
     ]
    }
   ],
   "source": [
    "#my play with Regex\n",
    "\n",
    "line='fabcabc3abc3abc4aaa'\n",
    "#line='abccc'\n",
    "\n",
    "match=re.search(r'(abc.*)3{1,2}',line,flags=0)\n",
    "if match:\n",
    "    print match.group()\n",
    "else:\n",
    "    print \"no match\"\n",
    "    \n",
    "line='abc;def;ghi;jkl;mno;pqr;stu;kak dela'\n",
    "match=re.search(r'.*;{1,2}',line,flags=0)\n",
    "if match:\n",
    "    print match.group()\n",
    "else:\n",
    "    print \"no match\""
   ]
  },
  {
   "cell_type": "code",
   "execution_count": 6,
   "metadata": {},
   "outputs": [
    {
     "data": {
      "text/plain": [
       "\"Hello.   vendor BLOSSOM FABRICS LTD can't find PO 8656069 and can't make booking in OMB okeas left this PO available to them.a\""
      ]
     },
     "execution_count": 6,
     "metadata": {},
     "output_type": "execute_result"
    }
   ],
   "source": [
    "#from - project classifyEDI\n",
    "\n",
    "#removing control characthers\n",
    "re.sub(r'[\\x00-\\x1f\\x7f-\\x9f]', '', 'abc\\02de')\n",
    "string=\"Hello.   vendor BLOSSOM FABRICS LTD\u001a can't find PO 8656069 and can't make booking in OMB okeas left this PO available to them.a\"\n",
    "re.sub(r'[\\x00-\\x1f\\x7f-\\x9f]', '', string)"
   ]
  },
  {
   "cell_type": "markdown",
   "metadata": {},
   "source": [
    "## Load files\n",
    "with pandas"
   ]
  },
  {
   "cell_type": "code",
   "execution_count": 9,
   "metadata": {},
   "outputs": [
    {
     "name": "stdout",
     "output_type": "stream",
     "text": [
      "All data:  (105980, 11)\n"
     ]
    },
    {
     "name": "stderr",
     "output_type": "stream",
     "text": [
      "C:\\Users\\chq-anyac.CHQ-ANYACH-L7\\Anaconda2\\lib\\site-packages\\IPython\\core\\interactiveshell.py:2717: DtypeWarning: Columns (0) have mixed types. Specify dtype option on import or set low_memory=False.\n",
      "  interactivity=interactivity, compiler=compiler, result=result)\n"
     ]
    },
    {
     "data": {
      "text/html": [
       "<div>\n",
       "<style>\n",
       "    .dataframe thead tr:only-child th {\n",
       "        text-align: right;\n",
       "    }\n",
       "\n",
       "    .dataframe thead th {\n",
       "        text-align: left;\n",
       "    }\n",
       "\n",
       "    .dataframe tbody tr th {\n",
       "        vertical-align: top;\n",
       "    }\n",
       "</style>\n",
       "<table border=\"1\" class=\"dataframe\">\n",
       "  <thead>\n",
       "    <tr style=\"text-align: right;\">\n",
       "      <th></th>\n",
       "      <th>Open Date</th>\n",
       "      <th>Resolved Date</th>\n",
       "      <th>Customer</th>\n",
       "      <th>Tier</th>\n",
       "      <th>Category</th>\n",
       "      <th>Impact</th>\n",
       "      <th>Priority</th>\n",
       "      <th>Urgency</th>\n",
       "      <th>Affected Service</th>\n",
       "      <th>Reason for Urgency</th>\n",
       "      <th>Description</th>\n",
       "    </tr>\n",
       "    <tr>\n",
       "      <th>Incident #</th>\n",
       "      <th></th>\n",
       "      <th></th>\n",
       "      <th></th>\n",
       "      <th></th>\n",
       "      <th></th>\n",
       "      <th></th>\n",
       "      <th></th>\n",
       "      <th></th>\n",
       "      <th></th>\n",
       "      <th></th>\n",
       "      <th></th>\n",
       "    </tr>\n",
       "  </thead>\n",
       "  <tbody>\n",
       "    <tr>\n",
       "      <th>478465</th>\n",
       "      <td>2015-05-20 13:21:09</td>\n",
       "      <td>2015-05-20 14:37:51</td>\n",
       "      <td>Rez-1 (formerly IAS)</td>\n",
       "      <td>(null)</td>\n",
       "      <td>Applications &amp; Systems.Air Carrier EDI</td>\n",
       "      <td>5-One person</td>\n",
       "      <td>5-Minimal</td>\n",
       "      <td>2-Medium</td>\n",
       "      <td>EDI</td>\n",
       "      <td>(null)</td>\n",
       "      <td>This message is to request you enable the EDI ...</td>\n",
       "    </tr>\n",
       "    <tr>\n",
       "      <th>490804</th>\n",
       "      <td>2015-05-29 09:17:27</td>\n",
       "      <td>2015-06-02 18:50:53</td>\n",
       "      <td>LUFTHANSA</td>\n",
       "      <td>(null)</td>\n",
       "      <td>Applications &amp; Systems.Air Carrier EDI</td>\n",
       "      <td>3-Entire Branch</td>\n",
       "      <td>4-Low</td>\n",
       "      <td>1-Low</td>\n",
       "      <td>Transportation</td>\n",
       "      <td>(null)</td>\n",
       "      <td>MAWB information related for MAWB ( via EDI fo...</td>\n",
       "    </tr>\n",
       "    <tr>\n",
       "      <th>493655</th>\n",
       "      <td>2015-06-01 14:18:39</td>\n",
       "      <td>2015-06-01 17:43:34</td>\n",
       "      <td>IAG CARGO</td>\n",
       "      <td>(null)</td>\n",
       "      <td>Applications &amp; Systems.Air Carrier EDI</td>\n",
       "      <td>None</td>\n",
       "      <td>None</td>\n",
       "      <td>3-Urgent</td>\n",
       "      <td>Transportation</td>\n",
       "      <td>(null)</td>\n",
       "      <td>EDIIAGJ JOB HAS NOT RECEIVED AIR CARRIER EDI D...</td>\n",
       "    </tr>\n",
       "    <tr>\n",
       "      <th>494805</th>\n",
       "      <td>2015-06-01 23:53:45</td>\n",
       "      <td>2015-06-02 22:59:21</td>\n",
       "      <td>DESCARTES</td>\n",
       "      <td>(null)</td>\n",
       "      <td>Applications &amp; Systems.Air Carrier EDI</td>\n",
       "      <td>None</td>\n",
       "      <td>None</td>\n",
       "      <td>1-Low</td>\n",
       "      <td>Transportation</td>\n",
       "      <td>(null)</td>\n",
       "      <td>Attention,  The file(s) referenced below are i...</td>\n",
       "    </tr>\n",
       "    <tr>\n",
       "      <th>502192</th>\n",
       "      <td>2015-06-05 19:05:14</td>\n",
       "      <td>2015-06-05 21:16:32</td>\n",
       "      <td>DESCARTES</td>\n",
       "      <td>(null)</td>\n",
       "      <td>Applications &amp; Systems.Air Carrier EDI</td>\n",
       "      <td>None</td>\n",
       "      <td>None</td>\n",
       "      <td>1-Low</td>\n",
       "      <td>Transportation</td>\n",
       "      <td>(null)</td>\n",
       "      <td>Attention,  The file(s) referenced below are i...</td>\n",
       "    </tr>\n",
       "  </tbody>\n",
       "</table>\n",
       "</div>"
      ],
      "text/plain": [
       "                      Open Date        Resolved Date              Customer  \\\n",
       "Incident #                                                                   \n",
       "478465      2015-05-20 13:21:09  2015-05-20 14:37:51  Rez-1 (formerly IAS)   \n",
       "490804      2015-05-29 09:17:27  2015-06-02 18:50:53             LUFTHANSA   \n",
       "493655      2015-06-01 14:18:39  2015-06-01 17:43:34             IAG CARGO   \n",
       "494805      2015-06-01 23:53:45  2015-06-02 22:59:21             DESCARTES   \n",
       "502192      2015-06-05 19:05:14  2015-06-05 21:16:32             DESCARTES   \n",
       "\n",
       "              Tier                                Category           Impact  \\\n",
       "Incident #                                                                    \n",
       "478465      (null)  Applications & Systems.Air Carrier EDI     5-One person   \n",
       "490804      (null)  Applications & Systems.Air Carrier EDI  3-Entire Branch   \n",
       "493655      (null)  Applications & Systems.Air Carrier EDI             None   \n",
       "494805      (null)  Applications & Systems.Air Carrier EDI             None   \n",
       "502192      (null)  Applications & Systems.Air Carrier EDI             None   \n",
       "\n",
       "              Priority   Urgency Affected Service Reason for Urgency  \\\n",
       "Incident #                                                             \n",
       "478465      5-Minimal   2-Medium              EDI             (null)   \n",
       "490804           4-Low     1-Low   Transportation             (null)   \n",
       "493655            None  3-Urgent   Transportation             (null)   \n",
       "494805            None     1-Low   Transportation             (null)   \n",
       "502192            None     1-Low   Transportation             (null)   \n",
       "\n",
       "                                                  Description  \n",
       "Incident #                                                     \n",
       "478465      This message is to request you enable the EDI ...  \n",
       "490804      MAWB information related for MAWB ( via EDI fo...  \n",
       "493655      EDIIAGJ JOB HAS NOT RECEIVED AIR CARRIER EDI D...  \n",
       "494805      Attention,  The file(s) referenced below are i...  \n",
       "502192      Attention,  The file(s) referenced below are i...  "
      ]
     },
     "execution_count": 9,
     "metadata": {},
     "output_type": "execute_result"
    }
   ],
   "source": [
    "#load .csv files with pandas\n",
    "data_all=pd.read_csv('myData/large.csv',index_col=0, delimiter=\";\")\n",
    "print \"All data: \", data_all.shape\n",
    "data_all.head()"
   ]
  },
  {
   "cell_type": "code",
   "execution_count": null,
   "metadata": {
    "collapsed": true
   },
   "outputs": [],
   "source": [
    "#load tab separated .csv file\n",
    "#todo: provide a tab separated file\n",
    "data_all=pd.read_csv('myData/file_name.csv',index_col=0, delimiter=\"\\t\")\n",
    "print \"All data: \", data_all.shape\n",
    "data_all.head()"
   ]
  },
  {
   "cell_type": "code",
   "execution_count": null,
   "metadata": {
    "collapsed": true
   },
   "outputs": [],
   "source": [
    "#alternative syntax\n",
    "#works with correctly delimeted file\n",
    "#errors out with unintended delimiters\n",
    "#ParserError: Error tokenizing data. C error: EOF inside string starting at line 27628\n",
    "#looked at line 27628, a single quote\n",
    "data=pd.DataFrame.from_csv('myData/file_name.csv', sep='\\t', header=0)\n",
    "data.head()"
   ]
  }
 ],
 "metadata": {
  "kernelspec": {
   "display_name": "Python 2",
   "language": "python",
   "name": "python2"
  },
  "language_info": {
   "codemirror_mode": {
    "name": "ipython",
    "version": 2
   },
   "file_extension": ".py",
   "mimetype": "text/x-python",
   "name": "python",
   "nbconvert_exporter": "python",
   "pygments_lexer": "ipython2",
   "version": "2.7.13"
  }
 },
 "nbformat": 4,
 "nbformat_minor": 2
}
